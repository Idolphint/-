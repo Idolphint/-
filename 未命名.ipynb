{
 "cells": [
  {
   "cell_type": "code",
   "execution_count": 3,
   "id": "73e3ce71",
   "metadata": {},
   "outputs": [
    {
     "name": "stdout",
     "output_type": "stream",
     "text": [
      "扫描结束\n"
     ]
    }
   ],
   "source": [
    "import os\n",
    "import pandas as pd\n",
    "\n",
    "info_list = ['numAccess', 'numLLCHit', 'numLLCShadowHit', 'numLLCMiss', 'numDramAccess', 'numDramHit', 'numDramMiss']\n",
    "def get_info(f):\n",
    "    name = f\n",
    "    out_info = {}\n",
    "    with open(f, 'r') as fin:\n",
    "        for line in fin.readlines():\n",
    "            for info in info_list:\n",
    "                if info in line:\n",
    "                    line = line.strip('\\n').split('#')[0].split(':')\n",
    "                    print(\"debug:\", line)\n",
    "                    assert line[0] == info, '输出这样的格式才能被识别：info: value [# ...]'\n",
    "                    out_info[info] = line[1].strip()\n",
    "    return out_info\n",
    "                \n",
    "input_dir = \"./\"\n",
    "useful_file_name = \"123\"\n",
    "all_data = []\n",
    "for f in os.listdir(input_dir):\n",
    "    if useful_file_name in f:\n",
    "        item = get_info(f)\n",
    "        item['file_name'] = f\n",
    "        all_data.append(item)\n",
    "print(\"扫描结束\")\n",
    "df = pd.DataFrame(all_data)\n",
    "df.to_csv('ltt.csv')"
   ]
  },
  {
   "cell_type": "code",
   "execution_count": null,
   "id": "ee2ce465",
   "metadata": {},
   "outputs": [],
   "source": []
  }
 ],
 "metadata": {
  "kernelspec": {
   "display_name": "Python 3 (ipykernel)",
   "language": "python",
   "name": "python3"
  },
  "language_info": {
   "codemirror_mode": {
    "name": "ipython",
    "version": 3
   },
   "file_extension": ".py",
   "mimetype": "text/x-python",
   "name": "python",
   "nbconvert_exporter": "python",
   "pygments_lexer": "ipython3",
   "version": "3.9.7"
  }
 },
 "nbformat": 4,
 "nbformat_minor": 5
}
