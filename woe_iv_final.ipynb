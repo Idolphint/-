{
 "cells": [
  {
   "cell_type": "code",
   "execution_count": 1,
   "id": "db021a89",
   "metadata": {},
   "outputs": [],
   "source": [
    "from math import log\n",
    "from sklearn.linear_model import LogisticRegression\n",
    "from sklearn.metrics import roc_curve, auc, mean_squared_error\n",
    "from sklearn.model_selection import train_test_split\n",
    "import time\n",
    "import numpy as np\n",
    "from sklearn.tree import DecisionTreeClassifier\n",
    "import pandas as pd\n",
    "import math\n",
    "import matplotlib.pyplot as plt\n",
    "import matplotlib\n",
    "from scipy.stats import chi2\n",
    "matplotlib.rcParams['font.sans-serif'] = ['SimHei']\n",
    "plt.rcParams['axes.unicode_minus'] = False\n"
   ]
  },
  {
   "cell_type": "code",
   "execution_count": 2,
   "id": "574c8e2b",
   "metadata": {},
   "outputs": [],
   "source": [
    "def make_feature(df):\n",
    "    for i in range(11):  # 11个商品项目 32个月的税务总和\n",
    "        fea_name = ['fea_%d' % (j * 11 + i) for j in range(32)]\n",
    "        df['item%d_sum' % i] = df[fea_name].sum(axis=1)\n",
    "    # 32个月内全部商品，交税，纳税信息的和\n",
    "    df['sum_ratal_32month'] = df[['fea_%d' % j for j in range(352)]].sum(axis=1)\n",
    "    # print(list(df))\n",
    "    df['sum_tax_ret'] = df.apply(lambda x:\n",
    "                                 x['item0_sum'] + x['item1_sum'] + x['item2_sum'] +\n",
    "                                 x['item3_sum'] + x['item4_sum'], axis=1)\n",
    "    df['sum_tax_pay'] = df.apply(\n",
    "        lambda x: x['item5_sum'] + x['item6_sum'] + x['item7_sum'] + x['item8_sum'] + x['item9_sum'] + x['item10_sum'],\n",
    "        axis=1)\n",
    "    # 交税/报税的比例\n",
    "    df['ratal_rate'] = df.apply(\n",
    "        lambda x: min(x['sum_tax_pay'] / (x['sum_tax_ret'] + 1), 1), axis=1\n",
    "    )\n",
    "    # 以4个月为一阶段计算这段时间交税，报税占的比例\n",
    "    for i in range(32 // 4):\n",
    "        buf_ret = df[['fea_%d' % (j * 11 + k) for j in range(\n",
    "            i * 4, (i + 1) * 4) for k in range(0, 5)]].sum(axis=1)\n",
    "        buf_pay = df[['fea_%d' % (j * 11 + k) for j in range(\n",
    "            i * 4, (i + 1) * 4) for k in range(5, 11)]].sum(axis=1)\n",
    "        df['stage_%d_ret_rate' % i] = buf_ret / df['sum_tax_ret']\n",
    "        df['stage_%d_pay_rate' % i] = buf_pay / df['sum_tax_pay']\n",
    "    # 每个月的交税总额\n",
    "    for i in range(32):\n",
    "        df['month%d_ret' % i] = df[['fea_%d' % (i * 11 + j) for j in range(0, 5)]].sum(axis=1)\n",
    "        df['month%d_pay' % i] = df[['fea_%d' % (i * 11 + j) for j in range(5, 11)]].sum(axis=1)\n",
    "    # 交/报税数据不为0的月数\n",
    "    # df.apply(lambda x: print([df['month%d_ret' % i] > 0 for i in range(32)]), axis=1)\n",
    "    ret_non0_month = []\n",
    "    df_buf = df[['month%d_ret' % i for i in range(32)]]\n",
    "    df['ret_non0_month'] = (df_buf > 0).astype(int).sum(axis=1)\n",
    "    df_buf = df[['month%d_pay' % i for i in range(32)]]\n",
    "    df['pay_non0_month'] = (df_buf > 0).astype(int).sum(axis=1)\n",
    "    # 平均投资金额, 投资人数量\n",
    "    # 已经在数据源头解决\n",
    "    # 最大交税额和最小交税额\n",
    "    df['min_tax_pay'] = df[['month%d_pay' % i for i in range(32)]].min(axis=1)\n",
    "    df['max_tax_pay'] = df[['month%d_pay' % i for i in range(32)]].max(axis=1)\n",
    "    return df\n",
    "\n",
    "\n",
    "def from_pkl2_csv(data_dir):\n",
    "    data_dir = \"../data_final/all_data.pkl\"\n",
    "    fea_list = ['fea_%d' % i for i in range(352)]\n",
    "    fea_list.extend(['sum_inv', 'sum_sales', 'sum_ratal', 'inv_mean', 'inv_n'])\n",
    "    # eval_data = SVMDataSet(data_dir)\n",
    "    # print(eval_data.svm_train_x.shape, len(fea_list))\n",
    "    # df = pd.DataFrame(eval_data.svm_train_x, columns=fea_list)\n",
    "    df = pd.read_csv('../data_final/all_data2.csv')\n",
    "    # df2.insert(df2.shape[1], 'inv_mean', df['inv_mean'])\n",
    "    # df2.insert(df2.shape[1], 'inv_n', df['inv_n'])\n",
    "    # df2.to_csv('../data_final/all_data2.csv')\n",
    "    df = make_feature(df)\n",
    "    df.to_csv('../data_final/all_data.csv')\n"
   ]
  },
  {
   "cell_type": "code",
   "execution_count": 3,
   "id": "1cd54161",
   "metadata": {},
   "outputs": [],
   "source": [
    "def optimal_binning_boundary(x: pd.Series, y: pd.Series, nan: float = -999.) -> list:\n",
    "    '''\n",
    "        利用决策树获得最优分箱的边界值列表\n",
    "    '''\n",
    "    boundary = []  # 待return的分箱边界值列表\n",
    "\n",
    "    x = x.fillna(nan).values  # 填充缺失值\n",
    "    y = y.values\n",
    "\n",
    "    clf = DecisionTreeClassifier(criterion='entropy',  # “信息熵”最小化准则划分\n",
    "                                 max_leaf_nodes=10,  # 最大叶子节点数\n",
    "                                 min_samples_leaf=0.05)  # 叶子节点样本数量最小占比\n",
    "\n",
    "    clf.fit(x.reshape(-1, 1), y)  # 训练决策树\n",
    "\n",
    "    n_nodes = clf.tree_.node_count\n",
    "    children_left = clf.tree_.children_left\n",
    "    children_right = clf.tree_.children_right\n",
    "    threshold = clf.tree_.threshold\n",
    "\n",
    "    for i in range(n_nodes):\n",
    "        if children_left[i] != children_right[i]:  # 获得决策树节点上的划分边界值\n",
    "            boundary.append(threshold[i])\n",
    "\n",
    "    boundary.sort()\n",
    "\n",
    "    min_x = min(x)\n",
    "    max_x = max(x) + 0.1  # +0.1是为了考虑后续groupby操作时，能包含特征最大值的样本\n",
    "    boundary = [min_x] + boundary + [max_x]\n",
    "    # print(boundary)\n",
    "    return boundary\n",
    "\n",
    "\n",
    "# 基于CART的最优分箱，也就是选择基尼指数下降最大的点\n",
    "def get_var_median(data, var):\n",
    "    \"\"\" 得到指定连续变量的所有元素的中位数列表\n",
    "    Args:\n",
    "        data: DataFrame，拟操作的数据集\n",
    "        var: String，拟分箱的连续型变量名称\n",
    "    Returns:\n",
    "        关于连续变量的所有元素的中位列表，List\n",
    "    \"\"\"\n",
    "    var_value_list = sorted(list(np.unique(data[var])))\n",
    "    var_median_list = []\n",
    "    # 可以假设这里data长度最少100,否则低于了划分条件\n",
    "    if len(data[var]) < 100:\n",
    "        return [var_value_list[int(len(var_value_list) * 0.5)]]\n",
    "    idx = [0.5, 0.25, 0.75, 0.125, 0.375, 0.625, 0.875]\n",
    "    for i in idx:\n",
    "        var_median = var_value_list[int(len(var_value_list) * i)]\n",
    "        var_median_list.append(var_median)\n",
    "    return var_median_list\n",
    "\n"
   ]
  },
  {
   "cell_type": "code",
   "execution_count": 4,
   "id": "98d27f8e",
   "metadata": {},
   "outputs": [],
   "source": [
    "def calculate_gini(y):\n",
    "    \"\"\" 计算基尼指数\n",
    "    Args:\n",
    "        y: Array，待计算数据的target，即0和1的数组\n",
    "    Returns:\n",
    "        基尼指数，float\n",
    "    \"\"\"\n",
    "    # 将数组转化为列表\n",
    "    y = y.tolist()\n",
    "    probs = [y.count(i) / len(y) for i in np.unique(y)]\n",
    "    gini = sum([p * (1 - p) for p in probs])\n",
    "    return gini\n",
    "\n",
    "\n",
    "def get_cart_split_point(data, var, target, min_sample):\n",
    "    \"\"\" 获得最优的二值划分点（即基尼指数下降最大的点）\n",
    "    Args:\n",
    "        data: DataFrame，拟操作的数据集\n",
    "        var: String，拟分箱的连续型变量名称\n",
    "        target: String，Y列名称\n",
    "        min_sample: int，分箱的最小数据样本，也就是数据量至少达到多少才需要去分箱，一般作用在开头或者结尾处的分箱点\n",
    "\n",
    "    Returns:\n",
    "        BestSplit_Point: 返回本次迭代的最优划分点，float\n",
    "        BestSplit_Position: 返回最优划分点的位置，最左边为0，最右边为1，float\n",
    "    \"\"\"\n",
    "\n",
    "    # 初始化\n",
    "    Gini = calculate_gini(data[target].values)\n",
    "    Best_Gini = 0.0\n",
    "    BestSplit_Point = -99999\n",
    "    BestSplit_Position = 0.0\n",
    "    median_list = get_var_median(data, var)  # 获取当前数据集指定元素的所有中位数列表\n",
    "\n",
    "    for i in range(len(median_list)):\n",
    "        left = data[data[var] < median_list[i]]\n",
    "        right = data[data[var] > median_list[i]]\n",
    "\n",
    "        # 如果切分后的数据量少于指定阈值，跳出本次分箱计算\n",
    "        if len(left) < min_sample or len(right) < min_sample:\n",
    "            continue\n",
    "\n",
    "        Left_Gini = calculate_gini(left[target].values)\n",
    "        Right_Gini = calculate_gini(right[target].values)\n",
    "        Left_Ratio = len(left) / len(data)\n",
    "        Right_Ratio = len(right) / len(data)\n",
    "\n",
    "        Temp_Gini = Gini - (Left_Gini * Left_Ratio + Right_Gini * Right_Ratio)\n",
    "        if Temp_Gini > Best_Gini:\n",
    "            Best_Gini = Temp_Gini\n",
    "            BestSplit_Point = median_list[i]\n",
    "            # 获取切分点的位置，最左边为0，最右边为1\n",
    "            if len(median_list) > 1:\n",
    "                BestSplit_Position = i / (len(median_list) - 1)\n",
    "            else:\n",
    "                BestSplit_Position = i / len(len(median_list))\n",
    "        else:\n",
    "            continue\n",
    "    Gini = Gini - Best_Gini\n",
    "    # print(\"最优切分点：\", BestSplit_Point)\n",
    "    return BestSplit_Point, BestSplit_Position\n",
    "\n",
    "\n",
    "def get_cart_bincut(data, var, target, leaf_stop_percent=0.05):\n",
    "    \"\"\" 计算最优分箱切分点\n",
    "    Args:\n",
    "        data: DataFrame，拟操作的数据集\n",
    "        var: String，拟分箱的连续型变量名称\n",
    "        target: String，Y列名称\n",
    "        leaf_stop_percent: 叶子节点占比，作为停止条件，默认5%\n",
    "\n",
    "    Returns:\n",
    "        best_bincut: 最优的切分点列表，List\n",
    "    \"\"\"\n",
    "    if var not in list(data):\n",
    "        print(\"var not in data\", var)\n",
    "        return [0, 1]\n",
    "    min_sample = len(data) * leaf_stop_percent\n",
    "    best_bincut = []\n",
    "\n",
    "    def cutting_data(data, var, target, min_sample, best_bincut):\n",
    "        split_point, position = get_cart_split_point(data, var, target, min_sample)\n",
    "        if split_point != -99999:\n",
    "            best_bincut.append(split_point)\n",
    "\n",
    "        # 根据最优切分点切分数据集，并对切分后的数据集递归计算切分点，直到满足停止条件\n",
    "        # print(\"本次分箱的值域范围为{0} ~ {1}\".format(data[var].min(), data[var].max()))\n",
    "        left = data[data[var] < split_point]\n",
    "        right = data[data[var] > split_point]\n",
    "\n",
    "        # 当切分后的数据集仍大于最小数据样本要求，则继续切分\n",
    "        if len(left) >= min_sample and position not in [0.0, 1.0]:\n",
    "            cutting_data(left, var, target, min_sample, best_bincut)\n",
    "        else:\n",
    "            pass\n",
    "        if len(right) >= min_sample and position not in [0.0, 1.0]:\n",
    "            cutting_data(right, var, target, min_sample, best_bincut)\n",
    "        else:\n",
    "            pass\n",
    "        return best_bincut\n",
    "\n",
    "    best_bincut = cutting_data(data, var, target, min_sample, best_bincut)\n",
    "\n",
    "    # 把切分点补上头尾\n",
    "    best_bincut.append(data[var].min())\n",
    "    best_bincut.append(data[var].max())\n",
    "    best_bincut_set = set(best_bincut)\n",
    "    best_bincut = list(best_bincut_set)\n",
    "\n",
    "    best_bincut.remove(data[var].min())\n",
    "    best_bincut.append(data[var].min() - 1)\n",
    "    # 排序切分点\n",
    "    best_bincut.sort()\n",
    "\n",
    "    return best_bincut\n",
    "\n"
   ]
  },
  {
   "cell_type": "code",
   "execution_count": 5,
   "id": "14a12896",
   "metadata": {},
   "outputs": [],
   "source": [
    "# 基于卡方检验的最优化分\n",
    "def calculate_chi(freq_array):\n",
    "    \"\"\" 计算卡方值\n",
    "    Args:\n",
    "        freq_array: Array，待计算卡方值的二维数组，频数统计结果\n",
    "    Returns:\n",
    "        卡方值，float\n",
    "    \"\"\"\n",
    "    # 检查是否为二维数组\n",
    "    assert (freq_array.ndim == 2)\n",
    "\n",
    "    # 计算每列的频数之和\n",
    "    col_nums = freq_array.sum(axis=0)\n",
    "    # 计算每行的频数之和\n",
    "    row_nums = freq_array.sum(axis=1)\n",
    "    # 计算总频数\n",
    "    nums = freq_array.sum()\n",
    "    # 计算期望频数\n",
    "    E_nums = np.ones(freq_array.shape) * col_nums / nums\n",
    "    E_nums = (E_nums.T * row_nums).T\n",
    "    # 计算卡方值\n",
    "    tmp_v = (freq_array - E_nums) ** 2 / E_nums\n",
    "    # 如果期望频数为0，则计算结果记为0\n",
    "    tmp_v[E_nums == 0] = 0\n",
    "    chi_v = tmp_v.sum()\n",
    "    return chi_v\n",
    "\n",
    "\n",
    "def get_chimerge_bincut(data, var, target, max_group=None, chi_threshold=None):\n",
    "    \"\"\" 计算卡方分箱的最优分箱点\n",
    "    Args:\n",
    "        data: DataFrame，待计算卡方分箱最优切分点列表的数据集\n",
    "        var: 待计算的连续型变量名称\n",
    "        target: 待计算的目标列Y的名称\n",
    "        max_group: 最大的分箱数量（因为卡方分箱实际上是合并箱体的过程，需要限制下最大可以保留的分箱数量）\n",
    "        chi_threshold: 卡方阈值，如果没有指定max_group，我们默认选择类别数量-1，置信度95%来设置阈值\n",
    "        如果不知道卡方阈值怎么取，可以生成卡方表来看看，代码如下：\n",
    "        import pandas as pd\n",
    "        import numpy as np\n",
    "        from scipy.stats import chi2\n",
    "        p = [0.995, 0.99, 0.975, 0.95, 0.9, 0.5, 0.1, 0.05, 0.025, 0.01, 0.005]\n",
    "        pd.DataFrame(np.array([chi2.isf(p, df=i) for i in range(1,10)]), columns=p, index=list(range(1,10)))\n",
    "    Returns:\n",
    "        最优切分点列表，List\n",
    "    \"\"\"\n",
    "    df_buf = sorted(data[var])\n",
    "    tmp_bin = np.unique([df_buf[i * 20] for i in range(len(df_buf) // 20)])\n",
    "    tmp_bin = tmp_bin[np.isfinite(tmp_bin)]\n",
    "    sel = pd.cut(data[var], tmp_bin, duplicates='drop', labels=tmp_bin[1:], right=False)\n",
    "    freq_df = pd.crosstab(index=sel, columns=data[target])\n",
    "    # 转化为二维数组\n",
    "    freq_array = freq_df.values\n",
    "\n",
    "    # 初始化箱体，每个元素单独一组\n",
    "    best_bincut = freq_df.index.values\n",
    "\n",
    "    # 初始化阈值 chi_threshold，如果没有指定 chi_threshold，则默认选择target数量-1，置信度95%来设置阈值\n",
    "    if max_group is None:\n",
    "        if chi_threshold is None:\n",
    "            chi_threshold = chi2.isf(0.05, df=freq_array.shape[-1])\n",
    "\n",
    "    # 开始迭代\n",
    "    while True:\n",
    "        min_chi = None\n",
    "        min_idx = None\n",
    "        for i in range(len(freq_array) - 1):\n",
    "            # 两两计算相邻两组的卡方值，得到最小卡方值的两组\n",
    "            v = calculate_chi(freq_array[i: i + 2])\n",
    "            if min_chi is None or min_chi > v:\n",
    "                min_chi = v\n",
    "                min_idx = i\n",
    "\n",
    "        # 是否继续迭代条件判断\n",
    "        # 条件1：当前箱体数仍大于 最大分箱数量阈值\n",
    "        # 条件2：当前最小卡方值仍小于制定卡方阈值\n",
    "        if (max_group is not None and max_group < len(freq_array)) or (\n",
    "                chi_threshold is not None and min_chi < chi_threshold):\n",
    "            tmp = freq_array[min_idx] + freq_array[min_idx + 1]\n",
    "            freq_array[min_idx] = tmp\n",
    "            freq_array = np.delete(freq_array, min_idx + 1, 0)\n",
    "            best_bincut = np.delete(best_bincut, min_idx + 1, 0)\n",
    "        else:\n",
    "            break\n",
    "\n",
    "    # 把切分点补上头尾\n",
    "    best_bincut = best_bincut.tolist()\n",
    "    best_bincut.append(data[var].min())\n",
    "    best_bincut.append(data[var].max())\n",
    "    best_bincut_set = set(best_bincut)\n",
    "    best_bincut = list(best_bincut_set)\n",
    "\n",
    "    best_bincut.remove(data[var].min())\n",
    "    best_bincut.append(data[var].min() - 1)\n",
    "    # 排序切分点\n",
    "    best_bincut.sort()\n",
    "\n",
    "    return best_bincut\n"
   ]
  },
  {
   "cell_type": "code",
   "execution_count": 6,
   "id": "98fef1c4",
   "metadata": {},
   "outputs": [],
   "source": [
    "import random\n",
    "def woe_iv(df, fea, fea_bins=None, fea_label=None, draw=None):\n",
    "    '''\n",
    "    计算分箱后的iv值，如不指定分箱方式，则采用最高iv法分箱\n",
    "    :param df:\n",
    "    :param fea:\n",
    "    :param good_T:\n",
    "    :param bad_T:\n",
    "    :param fea_bins:\n",
    "    :param fea_label:\n",
    "    :return:\n",
    "    '''\n",
    "    if fea_bins is None:\n",
    "        fea_bins = optimal_binning_boundary(df[fea], df['label'])\n",
    "        fea_label = ['%.3e' % (fea_bins[i]) for i in range(1, len(fea_bins))]\n",
    "        if len(fea_bins) < 5:\n",
    "            return -1\n",
    "    else:\n",
    "        fea_bins[0]-=1e-3\n",
    "    totalG_B = df.groupby(['label'])['label'].count()  # 计算正负样本多少个\n",
    "    good_T, bad_T = totalG_B[0], totalG_B[1]\n",
    "    sel = pd.cut(df[fea],\n",
    "                 fea_bins,\n",
    "                 labels=fea_label)\n",
    "    if fea + '_cut' in list(df):\n",
    "        df.pop(fea + '_cut')\n",
    "    df.insert(df.shape[1], '%s_cut' % fea, sel)\n",
    "    var1 = df.groupby(['%s_cut' % fea, 'label'])['label'].count()\n",
    "    iv = 0\n",
    "    woe_inv = [0] * len(fea_label)\n",
    "    sample_rate = [0] * len(fea_label)\n",
    "    bad_rate = [0] * len(fea_label)\n",
    "    for i, invl in enumerate(fea_label):\n",
    "        woe_inv[i] = math.log((var1[invl, 1] + 0.5 / bad_T) / (var1[invl, 0] + 0.5 / good_T), math.e)\n",
    "        sample_rate[i] = (var1[invl,1] + var1[invl,0]) / 5000\n",
    "        bad_rate[i] = var1[invl,1] / (var1[invl,1] + var1[invl,0])\n",
    "        iv += woe_inv[i] * ((var1[invl,1] / bad_T) - (var1[invl,0] / good_T))\n",
    "        woe_inv[i] += random.random()*1e-5 #加入随机干扰避免label重复\n",
    "    if draw:\n",
    "        fig = plt.figure(figsize=(8, 5))\n",
    "        ax1 = fig.add_subplot(111)\n",
    "        ax1.bar(fea_label, sample_rate)\n",
    "        ax1.set_xticklabels(labels=fea_label, rotation=30)\n",
    "        ax1.set_ylabel('箱内样本数量占比')\n",
    "        ax2 = ax1.twinx()\n",
    "        ax2.plot(fea_label, bad_rate, linewidth=2, color='red')\n",
    "        ax2.scatter(fea_label, bad_rate, color='red')\n",
    "        ax2.set_ylabel('箱内坏样本占比')\n",
    "        plt.title('特征%s箱线图iv%.2f' % (fea, iv))\n",
    "        plt.legend(['箱内样本数量占比', '箱内坏样本占比'])\n",
    "        plt.savefig('箱线图%d份_%s_划分%s.jpg' % (len(fea_label), fea, draw))\n",
    "        # plt.show()\n",
    "    \n",
    "    woe_encode_fea = pd.cut(df[fea], fea_bins, labels=woe_inv, ordered=True)\n",
    "    \n",
    "    return iv, woe_encode_fea\n",
    "\n",
    "\n",
    "def format_print_list(out):\n",
    "    for line in out:\n",
    "        line = [str(e) for e in line]\n",
    "        print(', '.join(line))\n",
    "\n",
    "\n",
    "# 实现一个向前逐步选择\n",
    "def cal_aic(model, x, y, y_hat):\n",
    "    num_params = len(model.coef_) + 1\n",
    "    mse = mean_squared_error(y, y_hat)\n",
    "    aic = len(y) * log(mse) + 2 * num_params\n",
    "    return aic\n"
   ]
  },
  {
   "cell_type": "code",
   "execution_count": 7,
   "id": "37105424",
   "metadata": {},
   "outputs": [],
   "source": [
    "def bi_select_auc(data, fea, target, test_data=None):\n",
    "    \"\"\"\n",
    "    向前逐步回归\n",
    "    :param data: 数据\n",
    "    :param target:目标值\n",
    "    :return:\n",
    "    \"\"\"\n",
    "    if test_data is None:\n",
    "        data, test_data = train_test_split(data, test_size=0.3)  #, random_state=20220801\n",
    "    variate = list(set(fea))\n",
    "    # 参数\n",
    "    selected = []  # 储存挑选的变量\n",
    "    # 初始化\n",
    "    # 初始化决定系数auc, 越大越好\n",
    "    best_score, score_h = 0, 0\n",
    "    # 循环删选变量,直至对所有变量进行了选择\n",
    "    while variate:\n",
    "        variate_r2 = []\n",
    "\n",
    "        for var in variate:\n",
    "            selected.append(var)\n",
    "            # if len(selected) == 1:\n",
    "            #     model = net.fit(train_data[selected[0]].values.reshape(-1, 1), y_train)\n",
    "            #     y_pred = model.predict(test_data[selected[0]].values.reshape(-1, 1))\n",
    "            # else:\n",
    "            # y_pred = model.predict(test_data[selected])\n",
    "            ks, auc, psi = cal_ks_psi_auc(data, selected, target, test_data)\n",
    "            aic = auc\n",
    "            variate_r2.append((aic, var))\n",
    "            selected.remove(var)\n",
    "            # 逐个添加变量，看看添加哪个变量可以使aic最小\n",
    "        variate_r2.sort()\n",
    "        print(variate_r2)\n",
    "        score_f, var_f = variate_r2.pop()  # pop用于移除列表中的一个元素（默认最后一个元素），并且返回该元素的值\n",
    "        if (best_score+1e-4) < score_f:  # 说明了加了该变量更好了就不移除了,否则就移除\n",
    "            selected.append(var_f)\n",
    "            best_score = score_f\n",
    "            variate.remove(var_f)  # 在纯前向里，删掉避免了重复计算，关键看后向用不用到\n",
    "            # 在后向里会判断移除它好不好，所以暂时不能remove\n",
    "            print(\"R2_f={},continue!\".format(best_score))\n",
    "        else:\n",
    "            break\n",
    "    print(selected)\n",
    "    return selected\n",
    "\n",
    "def bi_select_ks(data, fea, target, test_data=None):\n",
    "    \"\"\"\n",
    "    向前逐步回归\n",
    "    :param data: 数据\n",
    "    :param target:目标值\n",
    "    :return:\n",
    "    \"\"\"\n",
    "    if test_data is None:\n",
    "        data, test_data = train_test_split(data, test_size=0.3)  #, random_state=20220801\n",
    "    variate = list(set(fea))\n",
    "    # 参数\n",
    "    selected = []  # 储存挑选的变量\n",
    "    # 初始化\n",
    "    # 初始化决定系数auc, 越大越好\n",
    "    best_score, score_h = 0, 0\n",
    "    # 循环删选变量,直至对所有变量进行了选择\n",
    "    while variate:\n",
    "        variate_r2 = []\n",
    "\n",
    "        for var in variate:\n",
    "            selected.append(var)\n",
    "            # if len(selected) == 1:\n",
    "            #     model = net.fit(train_data[selected[0]].values.reshape(-1, 1), y_train)\n",
    "            #     y_pred = model.predict(test_data[selected[0]].values.reshape(-1, 1))\n",
    "            # else:\n",
    "            # y_pred = model.predict(test_data[selected])\n",
    "            ks, auc, psi = cal_ks_psi_auc(data, selected, target, test_data)\n",
    "            aic = ks\n",
    "            variate_r2.append((aic, var))\n",
    "            selected.remove(var)\n",
    "            # 逐个添加变量，看看添加哪个变量可以使aic最小\n",
    "        variate_r2.sort()\n",
    "        print(variate_r2)\n",
    "        score_f, var_f = variate_r2.pop()  # pop用于移除列表中的一个元素（默认最后一个元素），并且返回该元素的值\n",
    "        if (best_score+1e-4) < score_f:  # 说明了加了该变量更好了就不移除了,否则就移除\n",
    "            selected.append(var_f)\n",
    "            best_score = score_f\n",
    "            variate.remove(var_f)  # 在纯前向里，删掉避免了重复计算，关键看后向用不用到\n",
    "            # 在后向里会判断移除它好不好，所以暂时不能remove\n",
    "            print(\"R2_f={},continue!\".format(best_score))\n",
    "        else:\n",
    "            break\n",
    "    print(selected)\n",
    "    return selected\n",
    "\n",
    "def back_selection_psi(data, fea, target, test_data=None):\n",
    "    if test_data is None:\n",
    "        data, test_data = train_test_split(data, test_size=0.3)\n",
    "    variate = list(set(fea))\n",
    "    # 参数\n",
    "    selected = []  # 储存挑选的变量\n",
    "    # 初始化决定系数psi, 越小越好\n",
    "    best_score = 100\n",
    "    # 循环删选变量,直至对所有变量进行了选择\n",
    "    while variate:\n",
    "        variate_r2 = []\n",
    "        # 找到局部最优\n",
    "        for var in variate:\n",
    "            variate.remove(var)\n",
    "            ks, auc, psi = cal_ks_psi_auc(data, variate, target, test_data)\n",
    "            aic = psi\n",
    "            variate_r2.append((aic, var))\n",
    "            variate.append(var)\n",
    "                \n",
    "        variate_r2.sort(reverse=True)  # 降序排序r2，默认升序\n",
    "        score, var = variate_r2.pop()  # pop用于移除列表中的一个元素（默认最后一个元素），并且返回该元素的值\n",
    "        if best_score > score:  # 说明了移除了该变量更好了\n",
    "            variate.remove(var)  # 判断过了，不管是好是坏，就删了\n",
    "            selected.append(var)\n",
    "            best_score = score\n",
    "            print(\"R2={},continue!\".format(best_score), var)\n",
    "        else:\n",
    "            print('for selection over!')\n",
    "            break\n",
    "    selected = [var for var in set(fea) if var not in selected]\n",
    "    print(selected)\n",
    "    return selected\n",
    "\n",
    "def back_selection_ks(data, fea, target, test_data=None):\n",
    "    if test_data is None:\n",
    "        data, test_data = train_test_split(data, test_size=0.3)\n",
    "    variate = list(set(fea))\n",
    "    # 参数\n",
    "    selected = []  # 储存挑选的变量\n",
    "    # 初始化决定系数ks, 越大越好\n",
    "    best_score = -1\n",
    "    # 循环删选变量,直至对所有变量进行了选择\n",
    "    while variate:\n",
    "        variate_r2 = []\n",
    "        # 找到局部最优\n",
    "        for var in variate:\n",
    "            variate.remove(var)\n",
    "            ks, auc, psi = cal_ks_psi_auc(data, variate, target, test_data)\n",
    "            aic = ks\n",
    "            variate_r2.append((aic, var))\n",
    "            variate.append(var)\n",
    "                \n",
    "        variate_r2.sort(reverse=False)  # 降序排序r2，默认升序\n",
    "        score, var = variate_r2.pop()  # pop用于移除列表中的一个元素（默认最后一个元素），并且返回该元素的值\n",
    "        if (best_score+1e-4) < score:  # 说明了移除了该变量更好了\n",
    "            variate.remove(var)  # 判断过了，不管是好是坏，就删了\n",
    "            selected.append(var)\n",
    "            best_score = score\n",
    "            print(\"R2={},continue!\".format(best_score), var)\n",
    "        else:\n",
    "            print('for selection over!')\n",
    "            break\n",
    "    selected = [var for var in set(fea) if var not in selected]\n",
    "    print(selected)\n",
    "    return selected\n",
    "\n",
    "def back_selection_auc(data, fea, target, test_data=None):\n",
    "    if test_data is None:\n",
    "        data, test_data = train_test_split(data, test_size=0.3)\n",
    "    variate = list(set(fea))\n",
    "    # 参数\n",
    "    selected = []  # 储存挑选的变量\n",
    "    # 初始化决定系数psi, 越小越好\n",
    "    best_score = -1\n",
    "    # 循环删选变量,直至对所有变量进行了选择\n",
    "    while variate:\n",
    "        variate_r2 = []\n",
    "        # 找到局部最优\n",
    "        for var in variate:\n",
    "            variate.remove(var)\n",
    "            ks, auc, psi = cal_ks_psi_auc(data, variate, target, test_data)\n",
    "            aic = auc\n",
    "            variate_r2.append((aic, var))\n",
    "            variate.append(var)\n",
    "                \n",
    "        variate_r2.sort(reverse=False)  # 降序排序r2，默认升序\n",
    "        score, var = variate_r2.pop()  # pop用于移除列表中的一个元素（默认最后一个元素），并且返回该元素的值\n",
    "        if (best_score+1e-4) < score:  # 说明了移除了该变量更好了\n",
    "            variate.remove(var)  # 判断过了，不管是好是坏，就删了\n",
    "            selected.append(var)\n",
    "            best_score = score\n",
    "            print(\"R2={},continue!\".format(best_score), var)\n",
    "        else:\n",
    "            print('for selection over!')\n",
    "            break\n",
    "    selected = [var for var in set(fea) if var not in selected]\n",
    "    print(selected)\n",
    "    return selected\n",
    "\n",
    "# 目前获得了100个iv值较大的特征，现在需要用forward selection选择最好的20个，并送入线性预测模型预测\n",
    "# 计算模型的psi，衡量预测的稳定性，选择psi小的\n",
    "# ks取值越大越好，但最好不要超过75%\n",
    "def cal_auc(data, fea, target, draw=False, test_data=None):\n",
    "    net = LogisticRegression(penalty=\"l2\", C=1.5, solver='liblinear', max_iter=30000)\n",
    "    net.fit(data[fea], data[target])\n",
    "    if test_data is not None:\n",
    "        y_pred = net.predict_proba(test_data[fea])\n",
    "        fpr, tpr, thresholds = roc_curve(test_data[target], y_pred[:, 1])\n",
    "        ks = max(tpr-fpr)\n",
    "    else:\n",
    "        y_pred = net.predict_proba(data[fea])\n",
    "        fpr, tpr, thresholds = roc_curve(data[target], y_pred[:, 1])\n",
    "        ks = max(tpr-fpr)\n",
    "    roc_auc_0 = auc(fpr, tpr)\n",
    "    if draw:\n",
    "        plt.plot(fpr, tpr)\n",
    "    else:\n",
    "        return roc_auc_0, ks, fpr, tpr\n",
    "    return roc_auc_0, ks\n",
    "\n",
    "# 还需要画出ks曲线，也就是按照分箱画出tpr-fpr-ks\n",
    "def cal_ks_psi_auc(data, fea, target, test_data, draw=False):\n",
    "    net = LogisticRegression(penalty=\"l2\", C=1, solver='liblinear', max_iter=30000)\n",
    "    net.fit(data[fea], data[target])\n",
    "    test_pred = net.predict_proba(test_data[fea])[:, 1]\n",
    "    test_fpr, test_tpr, thresholds = roc_curve(test_data[target], test_pred)\n",
    "    test_ks = max(test_tpr-test_fpr)\n",
    "    test_auc = auc(test_fpr, test_tpr)\n",
    "    \n",
    "    \n",
    "    train_pred = net.predict_proba(data[fea])[:, 1]\n",
    "    train_fpr, train_tpr, thresholds = roc_curve(data[target], train_pred)\n",
    "    train_ks = max(train_tpr-train_fpr)\n",
    "    train_auc = auc(train_fpr, train_tpr)\n",
    "    # 计算psi\n",
    "    actual_min = train_pred.min()  # 实际中的最小概率\n",
    "    actual_max = train_pred.max()  # 实际中的最大概率\n",
    "    binlen = (actual_max - actual_min) / 10 #分10箱\n",
    "    cuts = [actual_min + i * binlen for i in range(1, 10)]#设定分组\n",
    "    cuts[0] = -(float(\"inf\"))\n",
    "    cuts.append(float(\"inf\"))\n",
    "    actual_cuts = np.histogram(train_pred, bins=cuts)#将actual等宽分箱\n",
    "    predict_cuts = np.histogram(test_pred, bins=cuts)#将predict按actual的分组等宽分箱\n",
    "    \n",
    "    actual_df = pd.DataFrame(actual_cuts[0],columns=['actual'])\n",
    "    predict_df = pd.DataFrame(predict_cuts[0], columns=['predict'])\n",
    "    # 计算数值为某个区间的训练集样本数和测试集样本数\n",
    "    psi_df = pd.merge(actual_df,predict_df,right_index=True,left_index=True)\n",
    "    psi_df['actual_rate'] = (psi_df['actual'] + 0.1) / psi_df['actual'].sum()#计算占比，分子加1，防止计算PSI时分子分母为0\n",
    "    psi_df['predict_rate'] = (psi_df['predict'] + 0.1) / psi_df['predict'].sum()\n",
    "    psi_df['psi'] = (psi_df['actual_rate'] - psi_df['predict_rate']) * np.log(\n",
    "        psi_df['actual_rate'] / psi_df['predict_rate'])\n",
    "    psi = psi_df['psi'].sum()\n",
    "    \n",
    "    if draw:\n",
    "        # 画出 ks-auc图像\n",
    "        p1 = plt.figure(figsize=(8,6) ,dpi=80)\n",
    "        ax1 = p1.add_subplot(2,2,1)\n",
    "        plt.title('roc曲线')\n",
    "        plt.xlabel('fpr')  #设置x轴名称\n",
    "        plt.ylabel('tpr')  #设置y轴名称\n",
    "        plt.plot(train_fpr, train_tpr)\n",
    "        plt.plot(test_fpr, test_tpr)\n",
    "        plt.legend( ['train_roc' , 'test_roc'])  #添加注解\n",
    "\n",
    "        ax2 = p1.add_subplot(2,2,2)\n",
    "        plt.title('train ks曲线')\n",
    "        plt.plot(range(len(train_tpr)), train_tpr)\n",
    "        plt.plot(range(len(train_fpr)), train_fpr)\n",
    "        plt.plot(range(len(train_fpr)), train_tpr-train_fpr)\n",
    "        plt.legend( ['tpr' , 'fpr', 'ks'])  #添加注解\n",
    "\n",
    "        ax3 = p1.add_subplot(2,2,3)\n",
    "        plt.title('test ks曲线')\n",
    "        plt.plot(range(len(test_tpr)), test_tpr)\n",
    "        plt.plot(range(len(test_fpr)), test_fpr)\n",
    "        plt.plot(range(len(test_tpr)), test_tpr-test_fpr)\n",
    "        plt.legend( ['tpr' , 'fpr', 'ks'])  #添加注解\n",
    "        ax4 = p1.add_subplot(2,2,4)\n",
    "        plt.title('psi 对比')\n",
    "        plt.plot(range(len(psi_df['actual_rate'])), psi_df['actual_rate'])\n",
    "        plt.plot(range(len(psi_df['actual_rate'])), psi_df['predict_rate'])\n",
    "        plt.legend( ['actual_rate' , 'predict_rate'])  #添加注解\n",
    "        plt.savefig('./ks_auc_psi.jpg')\n",
    "        plt.show()\n",
    "        print(psi_df)\n",
    "    return (train_ks+test_ks)/2, (train_auc+test_auc)/2, psi"
   ]
  },
  {
   "cell_type": "code",
   "execution_count": 10,
   "id": "649edb5e",
   "metadata": {},
   "outputs": [],
   "source": [
    "def get_good_fea_list(df, fea_list=None, draw=False):\n",
    "    \n",
    "    # print(fea_list)\n",
    "    useful_fea = []\n",
    "    now = time.time()\n",
    "    for fea in fea_list:\n",
    "        if fea not in list(df):\n",
    "            continue\n",
    "        totalG_B = df.groupby(['label'])['label'].count()  # 计算正负样本多少个\n",
    "        good_T, bad_T = totalG_B[0], totalG_B[1]\n",
    "        bin_gini = get_cart_bincut(df, fea, 'label')\n",
    "        label_gini = ['%.3e' % (bin_gini[i]) for i in range(1, len(bin_gini))]\n",
    "        print(\"gini use time: \", time.time() - now)\n",
    "        now = time.time()\n",
    "        bin_iv = optimal_binning_boundary(df[fea], df['label'])\n",
    "        label_iv = ['%.3e' % (bin_iv[i]) for i in range(1, len(bin_iv))]\n",
    "        print(\"iv 用时：\", time.time() - now)\n",
    "        now = time.time()\n",
    "        bin_kf = get_chimerge_bincut(df, fea, 'label', 10)\n",
    "        label_kf = ['%.5e' % (bin_kf[i]) for i in range(1, len(bin_kf))]\n",
    "        print(\"kf use time: \", time.time() - now)\n",
    "        now = time.time()\n",
    "\n",
    "        iv1, _ = woe_iv(df, fea, bin_gini, label_gini, draw='gini' if draw else None)\n",
    "        iv2, _ = woe_iv(df, fea, bin_iv, label_iv, draw='iv' if draw else None)\n",
    "        iv3, _ = woe_iv(df, fea, bin_kf, label_kf, draw='kf' if draw else None)\n",
    "        # if iv1>0.3 or iv2>0.3 or iv3>0.3:\n",
    "        print(\"fea: %s\\tiv_gini: %.3f\\t iv_iv: %.3f\\t iv_kf: %.3f\\n\" % (fea, iv1, iv2, iv3))\n",
    "        if iv1 > 0.5 or iv1 < 0:\n",
    "            iv1 = 0\n",
    "        if iv2 > 0.5 or iv2 < 0:\n",
    "            iv2 = 0\n",
    "        if iv3 > 0.5 or iv3 < 0:\n",
    "            iv3 = 0\n",
    "        if iv1>=iv2 and iv1>=iv3 and iv1>0:\n",
    "            useful_fea.append([fea, iv1, bin_gini])\n",
    "        elif iv2>=iv1 and iv2>=iv3 and iv2>0:\n",
    "            useful_fea.append([fea, iv2, bin_iv])\n",
    "        elif iv3>=iv2 and iv3>=iv1 and iv3>0:\n",
    "            useful_fea.append([fea, iv3, bin_kf])\n",
    "\n",
    "        # if iv > 0.02 and iv<0.6:\n",
    "        #     good_fea.append([fea, iv])\n",
    "    print(\"iv0.02-0.5 fea:\", useful_fea)\n",
    "    # format_print_list(useful_fea)\n",
    "    # print(\"0.02-0.6 fea:\", good_fea)\n",
    "    return useful_fea\n",
    "\n",
    "\n",
    "def draw_and_conclu(df):\n",
    "    fea_list = fea_list_gini = fea_list_kf = '''fea_275\n",
    "    lgb_pred'''.split('\\n')\n",
    "    # fea_list = list(df) 'lgb_pred', 'rf_pred',\n",
    "    form_raw_fea = ['fea_88', 'fea_16', 'fea_176', 'fea_23', 'fea_72', 'fea_331', 'fea_175', 'fea_151', 'fea_3',\n",
    "                    'fea_167', 'fea_174',\n",
    "                    'fea_192', 'fea_80', 'fea_18', 'fea_59', 'fea_62', 'fea_75', 'fea_48', 'fea_208', 'fea_230']\n",
    "    first_select = ['stage_2_ret_rate', 'stage_0_pay_rate', 'stage_3_pay_rate',\n",
    "                    'fea_88', 'fea_16', 'fea_176', 'stage_1_ret_rate']\n",
    "    second_select = ['fea_99', 'month1_pay', 'fea_77', 'fea_0', 'fea_55', 'month6_ret', 'fea_11',\n",
    "                     'fea_38', 'fea_165', 'month2_ret', 'fea_132', 'ret_non0_month']\n",
    "    fea_yty = ['fea_0', 'fea_66', 'fea_69', 'fea_142', 'fea_11']\n",
    "    # for i in first_select:\n",
    "    #     fea_list.remove(i)\n",
    "    df.fillna(0.0, inplace=True)\n",
    "    # model_train(df, fea_list, 'label')\n",
    "    # bi_select(df, fea_list, 'label')\n",
    "    final_fea = first_select\n",
    "    dir_sele = ['fea_88', 'fea_16', 'fea_176', 'fea_23', 'ret_non0_month', 'fea_86', 'fea_174', 'fea_7', 'fea_187',\n",
    "                'fea_59',\n",
    "                'fea_225', 'month20_pay', 'fea_163', 'stage_2_ret_rate', 'stage_0_ret_rate', 'stage_5_ret_rate']\n",
    "    final_fea.extend(second_select)\n",
    "    # 画出箱线图\n",
    "    # get_good_fea_list(df, final_fea, draw=True)\n",
    "    # plt.cla()\n",
    "    # plt.clf()\n",
    "    # print(\"几个特征的箱线图画完了\\n\\n\")\n",
    "    # 用特征预测\n",
    "    roc0,_ = cal_auc(df, first_select, 'label', True)\n",
    "    roc1,_ = cal_auc(df, ['lgb_pred', 'rf_pred'], 'label', True)\n",
    "    ori_fea = ['fea_%d' % i for i in range(352)]\n",
    "    ori_fea.extend(['sum_inv', 'sum_sales', 'sum_ratal', 'inv_mean', 'inv_n'])\n",
    "    roc2,_ = cal_auc(df, form_raw_fea, 'label', True)\n",
    "    roc3,_ = cal_auc(df, second_select, 'label', True)\n",
    "    roc4,_ = cal_auc(df, dir_sele, 'label', True)\n",
    "    roc5,_ = cal_auc(df, fea_yty, 'label', True)\n",
    "    plt.legend(['first_fea%.3f' % roc0, 'lgb+rf_pred%.3f' % roc1, 'from_raw_fea%.3f' % roc2,\n",
    "                'sec_fea%.3f' % roc3, 'dir_sele%.3f' % roc4, 'yty%.3f' % roc5])\n",
    "    plt.title('ROC')\n",
    "    plt.savefig('roc_using_diff_fea.jpg')\n",
    "    # plt.show()\n",
    "\n"
   ]
  },
  {
   "cell_type": "code",
   "execution_count": 9,
   "id": "9f511ef7",
   "metadata": {},
   "outputs": [],
   "source": [
    "df = pd.read_csv('../data_final/all_data.csv')\n",
    "df.pop('id')\n",
    "df.fillna(0.0, inplace=True)\n",
    "data_train, data_test = train_test_split(df, test_size=0.3)\n",
    "df = data_train"
   ]
  },
  {
   "cell_type": "code",
   "execution_count": 11,
   "id": "7849a542",
   "metadata": {
    "scrolled": true
   },
   "outputs": [
    {
     "name": "stdout",
     "output_type": "stream",
     "text": [
      "gini use time:  0.36898255348205566\n",
      "iv 用时： 0.006511211395263672\n"
     ]
    },
    {
     "name": "stderr",
     "output_type": "stream",
     "text": [
      "C:\\Users\\litia\\AppData\\Local\\Temp/ipykernel_19404/941026484.py:22: RuntimeWarning: invalid value encountered in true_divide\n",
      "  tmp_v = (freq_array - E_nums) ** 2 / E_nums\n"
     ]
    },
    {
     "name": "stdout",
     "output_type": "stream",
     "text": [
      "kf use time:  0.4023613929748535\n",
      "fea: fea_0\tiv_gini: 0.776\t iv_iv: 0.871\t iv_kf: 0.787\n",
      "\n",
      "gini use time:  0.11467099189758301\n",
      "iv 用时： 0.0029914379119873047\n"
     ]
    },
    {
     "name": "stderr",
     "output_type": "stream",
     "text": [
      "C:\\Users\\litia\\AppData\\Local\\Temp/ipykernel_19404/941026484.py:22: RuntimeWarning: invalid value encountered in true_divide\n",
      "  tmp_v = (freq_array - E_nums) ** 2 / E_nums\n"
     ]
    },
    {
     "name": "stdout",
     "output_type": "stream",
     "text": [
      "kf use time:  0.4201350212097168\n",
      "fea: fea_1\tiv_gini: 0.152\t iv_iv: 0.363\t iv_kf: 0.309\n",
      "\n",
      "gini use time:  0.09873485565185547\n",
      "iv 用时： 0.001994609832763672\n",
      "kf use time:  0.00797891616821289\n",
      "fea: fea_2\tiv_gini: 0.000\t iv_iv: 0.000\t iv_kf: 0.030\n",
      "\n",
      "gini use time:  0.10571885108947754\n",
      "iv 用时： 0.0009965896606445312\n",
      "kf use time:  0.008975982666015625\n",
      "fea: fea_3\tiv_gini: 0.000\t iv_iv: 0.000\t iv_kf: 0.062\n",
      "\n",
      "gini use time:  0.09374880790710449\n",
      "iv 用时： 0.000997781753540039\n",
      "kf use time:  0.008975744247436523\n",
      "fea: fea_4\tiv_gini: 0.000\t iv_iv: 0.000\t iv_kf: 0.000\n",
      "\n",
      "gini use time:  0.2812612056732178\n",
      "iv 用时： 0.0030057430267333984\n",
      "kf use time:  0.1829991340637207\n"
     ]
    },
    {
     "name": "stderr",
     "output_type": "stream",
     "text": [
      "C:\\Users\\litia\\AppData\\Local\\Temp/ipykernel_19404/941026484.py:22: RuntimeWarning: invalid value encountered in true_divide\n",
      "  tmp_v = (freq_array - E_nums) ** 2 / E_nums\n"
     ]
    },
    {
     "name": "stdout",
     "output_type": "stream",
     "text": [
      "fea: fea_5\tiv_gini: 0.287\t iv_iv: 0.360\t iv_kf: 0.321\n",
      "\n",
      "gini use time:  0.2592766284942627\n",
      "iv 用时： 0.000997304916381836\n",
      "kf use time:  0.042885541915893555\n",
      "fea: fea_6\tiv_gini: 0.099\t iv_iv: 0.114\t iv_kf: 0.138\n",
      "\n",
      "gini use time:  0.09175491333007812\n",
      "iv 用时： 0.0009975433349609375\n",
      "kf use time:  0.008008956909179688\n",
      "fea: fea_7\tiv_gini: 0.000\t iv_iv: 0.000\t iv_kf: 0.000\n",
      "\n"
     ]
    },
    {
     "name": "stderr",
     "output_type": "stream",
     "text": [
      "C:\\Users\\litia\\AppData\\Local\\Temp/ipykernel_19404/941026484.py:22: RuntimeWarning: invalid value encountered in true_divide\n",
      "  tmp_v = (freq_array - E_nums) ** 2 / E_nums\n"
     ]
    },
    {
     "name": "stdout",
     "output_type": "stream",
     "text": [
      "gini use time:  0.09671139717102051\n",
      "iv 用时： 0.001994609832763672\n",
      "kf use time:  0.009973526000976562\n",
      "fea: fea_8\tiv_gini: 0.000\t iv_iv: 0.000\t iv_kf: 0.093\n",
      "\n",
      "gini use time:  0.08879494667053223\n",
      "iv 用时： 0.001961946487426758\n",
      "kf use time:  0.008976221084594727\n",
      "fea: fea_9\tiv_gini: 0.000\t iv_iv: 0.000\t iv_kf: 0.000\n",
      "\n"
     ]
    },
    {
     "name": "stderr",
     "output_type": "stream",
     "text": [
      "C:\\Users\\litia\\AppData\\Local\\Temp/ipykernel_19404/941026484.py:22: RuntimeWarning: invalid value encountered in true_divide\n",
      "  tmp_v = (freq_array - E_nums) ** 2 / E_nums\n"
     ]
    },
    {
     "name": "stdout",
     "output_type": "stream",
     "text": [
      "gini use time:  0.08976078033447266\n",
      "iv 用时： 0.0019941329956054688\n",
      "kf use time:  0.009974002838134766\n",
      "fea: fea_10\tiv_gini: 0.000\t iv_iv: 0.000\t iv_kf: 0.002\n",
      "\n",
      "gini use time:  0.3836045265197754\n",
      "iv 用时： 0.004018306732177734\n"
     ]
    },
    {
     "name": "stderr",
     "output_type": "stream",
     "text": [
      "C:\\Users\\litia\\AppData\\Local\\Temp/ipykernel_19404/941026484.py:22: RuntimeWarning: invalid value encountered in true_divide\n",
      "  tmp_v = (freq_array - E_nums) ** 2 / E_nums\n"
     ]
    },
    {
     "name": "stdout",
     "output_type": "stream",
     "text": [
      "kf use time:  0.4607701301574707\n",
      "fea: fea_11\tiv_gini: 0.716\t iv_iv: 0.785\t iv_kf: 0.745\n",
      "\n",
      "gini use time:  0.11266684532165527\n",
      "iv 用时： 0.004021167755126953\n"
     ]
    },
    {
     "name": "stderr",
     "output_type": "stream",
     "text": [
      "C:\\Users\\litia\\AppData\\Local\\Temp/ipykernel_19404/941026484.py:22: RuntimeWarning: invalid value encountered in true_divide\n",
      "  tmp_v = (freq_array - E_nums) ** 2 / E_nums\n"
     ]
    },
    {
     "name": "stdout",
     "output_type": "stream",
     "text": [
      "kf use time:  0.4259202480316162\n",
      "fea: fea_12\tiv_gini: 0.133\t iv_iv: 0.301\t iv_kf: 0.282\n",
      "\n",
      "gini use time:  0.09374713897705078\n",
      "iv 用时： 0.0019659996032714844\n",
      "kf use time:  0.009011268615722656\n",
      "fea: fea_13\tiv_gini: 0.000\t iv_iv: 0.000\t iv_kf: 0.031\n",
      "\n",
      "gini use time:  0.08975768089294434\n",
      "iv 用时： 0.002958536148071289\n",
      "kf use time:  0.010005474090576172\n",
      "fea: fea_14\tiv_gini: 0.000\t iv_iv: 0.000\t iv_kf: 0.063\n",
      "\n",
      "gini use time:  0.08972811698913574\n",
      "iv 用时： 0.001994609832763672\n",
      "kf use time:  0.006981372833251953\n",
      "fea: fea_15\tiv_gini: 0.000\t iv_iv: 0.000\t iv_kf: 0.000\n",
      "\n",
      "gini use time:  0.4328422546386719\n",
      "iv 用时： 0.003989458084106445\n"
     ]
    },
    {
     "name": "stderr",
     "output_type": "stream",
     "text": [
      "C:\\Users\\litia\\AppData\\Local\\Temp/ipykernel_19404/941026484.py:22: RuntimeWarning: invalid value encountered in true_divide\n",
      "  tmp_v = (freq_array - E_nums) ** 2 / E_nums\n"
     ]
    },
    {
     "name": "stdout",
     "output_type": "stream",
     "text": [
      "kf use time:  0.32097816467285156\n",
      "fea: fea_16\tiv_gini: 0.392\t iv_iv: 0.437\t iv_kf: 0.459\n",
      "\n",
      "gini use time:  0.2901937961578369\n",
      "iv 用时： 0.001993417739868164\n",
      "kf use time:  0.04092550277709961\n",
      "fea: fea_17\tiv_gini: 0.089\t iv_iv: 0.104\t iv_kf: 0.156\n",
      "\n",
      "gini use time:  0.09471249580383301\n",
      "iv 用时： 0.0019943714141845703\n",
      "kf use time:  0.007979154586791992\n",
      "fea: fea_18\tiv_gini: 0.000\t iv_iv: 0.000\t iv_kf: 0.000\n",
      "\n"
     ]
    },
    {
     "name": "stderr",
     "output_type": "stream",
     "text": [
      "C:\\Users\\litia\\AppData\\Local\\Temp/ipykernel_19404/941026484.py:22: RuntimeWarning: invalid value encountered in true_divide\n",
      "  tmp_v = (freq_array - E_nums) ** 2 / E_nums\n"
     ]
    },
    {
     "name": "stdout",
     "output_type": "stream",
     "text": [
      "gini use time:  0.09677290916442871\n",
      "iv 用时： 0.0019631385803222656\n",
      "kf use time:  0.010006904602050781\n",
      "fea: fea_19\tiv_gini: 0.000\t iv_iv: 0.000\t iv_kf: 0.095\n",
      "\n",
      "gini use time:  0.09271812438964844\n",
      "iv 用时： 0.000997781753540039\n",
      "kf use time:  0.008975982666015625\n",
      "fea: fea_20\tiv_gini: 0.000\t iv_iv: 0.000\t iv_kf: 0.009\n",
      "\n",
      "gini use time:  0.09278368949890137\n",
      "iv 用时： 0.0019631385803222656\n",
      "kf use time:  0.010134696960449219\n",
      "fea: fea_21\tiv_gini: 0.000\t iv_iv: 0.000\t iv_kf: 0.032\n",
      "\n",
      "gini use time:  0.5165872573852539\n",
      "iv 用时： 0.005014181137084961\n"
     ]
    },
    {
     "name": "stderr",
     "output_type": "stream",
     "text": [
      "C:\\Users\\litia\\AppData\\Local\\Temp/ipykernel_19404/941026484.py:22: RuntimeWarning: invalid value encountered in true_divide\n",
      "  tmp_v = (freq_array - E_nums) ** 2 / E_nums\n"
     ]
    },
    {
     "name": "stdout",
     "output_type": "stream",
     "text": [
      "kf use time:  0.4378349781036377\n",
      "fea: fea_22\tiv_gini: 0.616\t iv_iv: 0.679\t iv_kf: 0.606\n",
      "\n",
      "gini use time:  0.11669635772705078\n",
      "iv 用时： 0.0019936561584472656\n",
      "kf use time:  0.00900888442993164\n",
      "fea: fea_23\tiv_gini: 0.000\t iv_iv: 0.052\t iv_kf: 0.072\n",
      "\n",
      "gini use time:  0.09870457649230957\n",
      "iv 用时： 0.001993417739868164\n",
      "kf use time:  0.008011817932128906\n",
      "fea: fea_24\tiv_gini: 0.000\t iv_iv: 0.000\t iv_kf: 0.001\n",
      "\n",
      "gini use time:  0.09636402130126953\n",
      "iv 用时： 0.000997781753540039\n",
      "kf use time:  0.009011268615722656\n",
      "fea: fea_25\tiv_gini: 0.000\t iv_iv: 0.000\t iv_kf: 0.065\n",
      "\n",
      "gini use time:  0.0947115421295166\n",
      "iv 用时： 0.0019941329956054688\n",
      "kf use time:  0.007979154586791992\n",
      "fea: fea_26\tiv_gini: 0.000\t iv_iv: 0.000\t iv_kf: 0.000\n",
      "\n",
      "gini use time:  0.27587413787841797\n",
      "iv 用时： 0.003990650177001953\n"
     ]
    },
    {
     "name": "stderr",
     "output_type": "stream",
     "text": [
      "C:\\Users\\litia\\AppData\\Local\\Temp/ipykernel_19404/941026484.py:22: RuntimeWarning: invalid value encountered in true_divide\n",
      "  tmp_v = (freq_array - E_nums) ** 2 / E_nums\n"
     ]
    },
    {
     "name": "stdout",
     "output_type": "stream",
     "text": [
      "kf use time:  0.3031885623931885\n",
      "fea: fea_27\tiv_gini: 0.296\t iv_iv: 0.374\t iv_kf: 0.365\n",
      "\n",
      "gini use time:  0.10631322860717773\n",
      "iv 用时： 0.0009980201721191406\n",
      "kf use time:  0.007978439331054688\n",
      "fea: fea_28\tiv_gini: 0.000\t iv_iv: 0.000\t iv_kf: 0.093\n",
      "\n",
      "gini use time:  0.09676837921142578\n",
      "iv 用时： 0.0019676685333251953\n",
      "kf use time:  0.007978677749633789\n",
      "fea: fea_29\tiv_gini: 0.000\t iv_iv: 0.000\t iv_kf: 0.000\n",
      "\n",
      "gini use time:  0.09773850440979004\n",
      "iv 用时： 0.0009975433349609375\n",
      "kf use time:  0.008976459503173828\n",
      "fea: fea_30\tiv_gini: 0.000\t iv_iv: 0.000\t iv_kf: 0.036\n",
      "\n",
      "gini use time:  0.09773826599121094\n",
      "iv 用时： 0.0009980201721191406\n",
      "kf use time:  0.008975744247436523\n",
      "fea: fea_31\tiv_gini: 0.000\t iv_iv: 0.000\t iv_kf: 0.008\n",
      "\n",
      "gini use time:  0.09973311424255371\n",
      "iv 用时： 0.0009975433349609375\n",
      "kf use time:  0.008976221084594727\n",
      "fea: fea_32\tiv_gini: 0.000\t iv_iv: 0.000\t iv_kf: 0.002\n",
      "\n",
      "gini use time:  0.5302295684814453\n",
      "iv 用时： 0.004021167755126953\n"
     ]
    },
    {
     "name": "stderr",
     "output_type": "stream",
     "text": [
      "C:\\Users\\litia\\AppData\\Local\\Temp/ipykernel_19404/941026484.py:22: RuntimeWarning: invalid value encountered in true_divide\n",
      "  tmp_v = (freq_array - E_nums) ** 2 / E_nums\n"
     ]
    },
    {
     "name": "stdout",
     "output_type": "stream",
     "text": [
      "kf use time:  0.4983482360839844\n",
      "fea: fea_33\tiv_gini: 0.654\t iv_iv: 0.741\t iv_kf: 0.677\n",
      "\n",
      "gini use time:  0.391920804977417\n",
      "iv 用时： 0.004986763000488281\n"
     ]
    },
    {
     "name": "stderr",
     "output_type": "stream",
     "text": [
      "C:\\Users\\litia\\AppData\\Local\\Temp/ipykernel_19404/941026484.py:22: RuntimeWarning: invalid value encountered in true_divide\n",
      "  tmp_v = (freq_array - E_nums) ** 2 / E_nums\n"
     ]
    },
    {
     "name": "stdout",
     "output_type": "stream",
     "text": [
      "kf use time:  0.37775588035583496\n",
      "fea: fea_34\tiv_gini: 0.202\t iv_iv: 0.245\t iv_kf: 0.275\n",
      "\n",
      "gini use time:  0.10471963882446289\n",
      "iv 用时： 0.001994609832763672\n",
      "kf use time:  0.0079803466796875\n",
      "fea: fea_35\tiv_gini: 0.000\t iv_iv: 0.000\t iv_kf: 0.002\n",
      "\n",
      "gini use time:  0.10273909568786621\n",
      "iv 用时： 0.000982522964477539\n",
      "kf use time:  0.010970115661621094\n",
      "fea: fea_36\tiv_gini: 0.000\t iv_iv: 0.000\t iv_kf: 0.065\n",
      "\n",
      "gini use time:  0.09873604774475098\n",
      "iv 用时： 0.0009982585906982422\n",
      "kf use time:  0.007978200912475586\n",
      "fea: fea_37\tiv_gini: 0.000\t iv_iv: 0.000\t iv_kf: 0.000\n",
      "\n"
     ]
    },
    {
     "name": "stderr",
     "output_type": "stream",
     "text": [
      "C:\\Users\\litia\\AppData\\Local\\Temp/ipykernel_19404/941026484.py:22: RuntimeWarning: invalid value encountered in true_divide\n",
      "  tmp_v = (freq_array - E_nums) ** 2 / E_nums\n"
     ]
    },
    {
     "name": "stdout",
     "output_type": "stream",
     "text": [
      "gini use time:  0.6220479011535645\n",
      "iv 用时： 0.00501704216003418\n"
     ]
    },
    {
     "name": "stderr",
     "output_type": "stream",
     "text": [
      "C:\\Users\\litia\\AppData\\Local\\Temp/ipykernel_19404/941026484.py:22: RuntimeWarning: invalid value encountered in true_divide\n",
      "  tmp_v = (freq_array - E_nums) ** 2 / E_nums\n"
     ]
    },
    {
     "name": "stdout",
     "output_type": "stream",
     "text": [
      "kf use time:  0.310166597366333\n",
      "fea: fea_38\tiv_gini: 0.340\t iv_iv: 0.421\t iv_kf: 0.358\n",
      "\n",
      "gini use time:  0.36001086235046387\n",
      "iv 用时： 0.0019943714141845703\n",
      "kf use time:  0.052021026611328125\n",
      "fea: fea_39\tiv_gini: 0.081\t iv_iv: 0.104\t iv_kf: 0.100\n",
      "\n",
      "gini use time:  0.10918736457824707\n",
      "iv 用时： 0.0019941329956054688\n",
      "kf use time:  0.008976936340332031\n"
     ]
    },
    {
     "name": "stderr",
     "output_type": "stream",
     "text": [
      "C:\\Users\\litia\\AppData\\Local\\Temp/ipykernel_19404/941026484.py:22: RuntimeWarning: invalid value encountered in true_divide\n",
      "  tmp_v = (freq_array - E_nums) ** 2 / E_nums\n"
     ]
    },
    {
     "name": "stdout",
     "output_type": "stream",
     "text": [
      "fea: fea_40\tiv_gini: 0.000\t iv_iv: 0.000\t iv_kf: 0.000\n",
      "\n",
      "gini use time:  0.11635327339172363\n",
      "iv 用时： 0.001993894577026367\n",
      "kf use time:  0.009973764419555664\n",
      "fea: fea_41\tiv_gini: 0.000\t iv_iv: 0.000\t iv_kf: 0.066\n",
      "\n",
      "gini use time:  0.10440254211425781\n",
      "iv 用时： 0.0009968280792236328\n",
      "kf use time:  0.009008407592773438\n",
      "fea: fea_42\tiv_gini: 0.000\t iv_iv: 0.000\t iv_kf: 0.007\n",
      "\n",
      "gini use time:  0.1077120304107666\n",
      "iv 用时： 0.0019621849060058594\n",
      "kf use time:  0.007979154586791992\n",
      "fea: fea_43\tiv_gini: 0.000\t iv_iv: 0.000\t iv_kf: 0.030\n",
      "\n",
      "gini use time:  0.6854305267333984\n",
      "iv 用时： 0.00402069091796875\n"
     ]
    },
    {
     "name": "stderr",
     "output_type": "stream",
     "text": [
      "C:\\Users\\litia\\AppData\\Local\\Temp/ipykernel_19404/941026484.py:22: RuntimeWarning: invalid value encountered in true_divide\n",
      "  tmp_v = (freq_array - E_nums) ** 2 / E_nums\n"
     ]
    },
    {
     "name": "stdout",
     "output_type": "stream",
     "text": [
      "kf use time:  0.4957139492034912\n",
      "fea: fea_44\tiv_gini: 0.661\t iv_iv: 0.710\t iv_kf: 0.700\n",
      "\n",
      "gini use time:  0.6214199066162109\n",
      "iv 用时： 0.0040187835693359375\n"
     ]
    },
    {
     "name": "stderr",
     "output_type": "stream",
     "text": [
      "C:\\Users\\litia\\AppData\\Local\\Temp/ipykernel_19404/941026484.py:22: RuntimeWarning: invalid value encountered in true_divide\n",
      "  tmp_v = (freq_array - E_nums) ** 2 / E_nums\n"
     ]
    },
    {
     "name": "stdout",
     "output_type": "stream",
     "text": [
      "kf use time:  0.36969947814941406\n",
      "fea: fea_45\tiv_gini: 0.298\t iv_iv: 0.348\t iv_kf: 0.308\n",
      "\n",
      "gini use time:  0.10871171951293945\n",
      "iv 用时： 0.001992464065551758\n",
      "kf use time:  0.008976221084594727\n",
      "fea: fea_46\tiv_gini: 0.000\t iv_iv: 0.000\t iv_kf: 0.032\n",
      "\n",
      "gini use time:  0.1186823844909668\n",
      "iv 用时： 0.0019953250885009766\n",
      "kf use time:  0.009973526000976562\n",
      "fea: fea_47\tiv_gini: 0.000\t iv_iv: 0.000\t iv_kf: 0.034\n",
      "\n",
      "gini use time:  0.10939240455627441\n",
      "iv 用时： 0.0009965896606445312\n",
      "kf use time:  0.00797891616821289\n",
      "fea: fea_48\tiv_gini: 0.000\t iv_iv: 0.000\t iv_kf: 0.000\n",
      "\n"
     ]
    },
    {
     "name": "stderr",
     "output_type": "stream",
     "text": [
      "C:\\Users\\litia\\AppData\\Local\\Temp/ipykernel_19404/1116350120.py:6: PerformanceWarning: DataFrame is highly fragmented.  This is usually the result of calling `frame.insert` many times, which has poor performance.  Consider joining all columns at once using pd.concat(axis=1) instead.  To get a de-fragmented frame, use `newframe = frame.copy()`\n",
      "  iv_ok_fea = get_good_fea_list(df, full_fea, False)\n",
      "C:\\Users\\litia\\AppData\\Local\\Temp/ipykernel_19404/1116350120.py:6: PerformanceWarning: DataFrame is highly fragmented.  This is usually the result of calling `frame.insert` many times, which has poor performance.  Consider joining all columns at once using pd.concat(axis=1) instead.  To get a de-fragmented frame, use `newframe = frame.copy()`\n",
      "  iv_ok_fea = get_good_fea_list(df, full_fea, False)\n"
     ]
    },
    {
     "name": "stdout",
     "output_type": "stream",
     "text": [
      "gini use time:  0.5257377624511719\n",
      "iv 用时： 0.002991199493408203\n"
     ]
    },
    {
     "name": "stderr",
     "output_type": "stream",
     "text": [
      "C:\\Users\\litia\\AppData\\Local\\Temp/ipykernel_19404/941026484.py:22: RuntimeWarning: invalid value encountered in true_divide\n",
      "  tmp_v = (freq_array - E_nums) ** 2 / E_nums\n"
     ]
    },
    {
     "name": "stdout",
     "output_type": "stream",
     "text": [
      "kf use time:  0.32117438316345215\n",
      "fea: fea_49\tiv_gini: 0.424\t iv_iv: 0.514\t iv_kf: 0.461\n",
      "\n"
     ]
    },
    {
     "name": "stderr",
     "output_type": "stream",
     "text": [
      "C:\\Users\\litia\\AppData\\Local\\Temp/ipykernel_19404/1116350120.py:6: PerformanceWarning: DataFrame is highly fragmented.  This is usually the result of calling `frame.insert` many times, which has poor performance.  Consider joining all columns at once using pd.concat(axis=1) instead.  To get a de-fragmented frame, use `newframe = frame.copy()`\n",
      "  iv_ok_fea = get_good_fea_list(df, full_fea, False)\n"
     ]
    },
    {
     "name": "stdout",
     "output_type": "stream",
     "text": [
      "gini use time:  0.25408434867858887\n",
      "iv 用时： 0.002991914749145508\n",
      "kf use time:  0.057848215103149414\n",
      "fea: fea_50\tiv_gini: 0.085\t iv_iv: 0.122\t iv_kf: 0.117\n",
      "\n",
      "gini use time:  0.12266993522644043\n",
      "iv 用时： 0.0010328292846679688\n",
      "kf use time:  0.007978677749633789\n"
     ]
    },
    {
     "name": "stderr",
     "output_type": "stream",
     "text": [
      "C:\\Users\\litia\\AppData\\Local\\Temp/ipykernel_19404/941026484.py:22: RuntimeWarning: invalid value encountered in true_divide\n",
      "  tmp_v = (freq_array - E_nums) ** 2 / E_nums\n",
      "C:\\Users\\litia\\AppData\\Local\\Temp/ipykernel_19404/1116350120.py:6: PerformanceWarning: DataFrame is highly fragmented.  This is usually the result of calling `frame.insert` many times, which has poor performance.  Consider joining all columns at once using pd.concat(axis=1) instead.  To get a de-fragmented frame, use `newframe = frame.copy()`\n",
      "  iv_ok_fea = get_good_fea_list(df, full_fea, False)\n",
      "C:\\Users\\litia\\AppData\\Local\\Temp/ipykernel_19404/1116350120.py:6: PerformanceWarning: DataFrame is highly fragmented.  This is usually the result of calling `frame.insert` many times, which has poor performance.  Consider joining all columns at once using pd.concat(axis=1) instead.  To get a de-fragmented frame, use `newframe = frame.copy()`\n",
      "  iv_ok_fea = get_good_fea_list(df, full_fea, False)\n"
     ]
    },
    {
     "name": "stdout",
     "output_type": "stream",
     "text": [
      "fea: fea_51\tiv_gini: 0.000\t iv_iv: 0.000\t iv_kf: 0.000\n",
      "\n",
      "gini use time:  0.10870933532714844\n",
      "iv 用时： 0.000997781753540039\n",
      "kf use time:  0.009972810745239258\n",
      "fea: fea_52\tiv_gini: 0.000\t iv_iv: 0.000\t iv_kf: 0.036\n",
      "\n"
     ]
    },
    {
     "name": "stderr",
     "output_type": "stream",
     "text": [
      "C:\\Users\\litia\\AppData\\Local\\Temp/ipykernel_19404/1116350120.py:6: PerformanceWarning: DataFrame is highly fragmented.  This is usually the result of calling `frame.insert` many times, which has poor performance.  Consider joining all columns at once using pd.concat(axis=1) instead.  To get a de-fragmented frame, use `newframe = frame.copy()`\n",
      "  iv_ok_fea = get_good_fea_list(df, full_fea, False)\n",
      "C:\\Users\\litia\\AppData\\Local\\Temp/ipykernel_19404/1116350120.py:6: PerformanceWarning: DataFrame is highly fragmented.  This is usually the result of calling `frame.insert` many times, which has poor performance.  Consider joining all columns at once using pd.concat(axis=1) instead.  To get a de-fragmented frame, use `newframe = frame.copy()`\n",
      "  iv_ok_fea = get_good_fea_list(df, full_fea, False)\n"
     ]
    },
    {
     "name": "stdout",
     "output_type": "stream",
     "text": [
      "gini use time:  0.10471987724304199\n",
      "iv 用时： 0.0019948482513427734\n",
      "kf use time:  0.008976459503173828\n",
      "fea: fea_53\tiv_gini: 0.000\t iv_iv: 0.000\t iv_kf: 0.009\n",
      "\n",
      "gini use time:  0.1077125072479248\n",
      "iv 用时： 0.0009968280792236328\n",
      "kf use time:  0.009009599685668945\n",
      "fea: fea_54\tiv_gini: 0.000\t iv_iv: 0.000\t iv_kf: 0.031\n",
      "\n"
     ]
    },
    {
     "name": "stderr",
     "output_type": "stream",
     "text": [
      "C:\\Users\\litia\\AppData\\Local\\Temp/ipykernel_19404/1116350120.py:6: PerformanceWarning: DataFrame is highly fragmented.  This is usually the result of calling `frame.insert` many times, which has poor performance.  Consider joining all columns at once using pd.concat(axis=1) instead.  To get a de-fragmented frame, use `newframe = frame.copy()`\n",
      "  iv_ok_fea = get_good_fea_list(df, full_fea, False)\n"
     ]
    },
    {
     "name": "stdout",
     "output_type": "stream",
     "text": [
      "gini use time:  0.7633726596832275\n",
      "iv 用时： 0.004954338073730469\n"
     ]
    },
    {
     "name": "stderr",
     "output_type": "stream",
     "text": [
      "C:\\Users\\litia\\AppData\\Local\\Temp/ipykernel_19404/941026484.py:22: RuntimeWarning: invalid value encountered in true_divide\n",
      "  tmp_v = (freq_array - E_nums) ** 2 / E_nums\n"
     ]
    },
    {
     "name": "stdout",
     "output_type": "stream",
     "text": [
      "kf use time:  0.5086731910705566\n",
      "fea: fea_55\tiv_gini: 0.713\t iv_iv: 0.788\t iv_kf: 0.741\n",
      "\n"
     ]
    },
    {
     "name": "stderr",
     "output_type": "stream",
     "text": [
      "C:\\Users\\litia\\AppData\\Local\\Temp/ipykernel_19404/1116350120.py:6: PerformanceWarning: DataFrame is highly fragmented.  This is usually the result of calling `frame.insert` many times, which has poor performance.  Consider joining all columns at once using pd.concat(axis=1) instead.  To get a de-fragmented frame, use `newframe = frame.copy()`\n",
      "  iv_ok_fea = get_good_fea_list(df, full_fea, False)\n"
     ]
    },
    {
     "name": "stdout",
     "output_type": "stream",
     "text": [
      "gini use time:  0.4495687484741211\n",
      "iv 用时： 0.002991914749145508\n"
     ]
    },
    {
     "name": "stderr",
     "output_type": "stream",
     "text": [
      "C:\\Users\\litia\\AppData\\Local\\Temp/ipykernel_19404/941026484.py:22: RuntimeWarning: invalid value encountered in true_divide\n",
      "  tmp_v = (freq_array - E_nums) ** 2 / E_nums\n"
     ]
    },
    {
     "name": "stdout",
     "output_type": "stream",
     "text": [
      "kf use time:  0.36007046699523926\n",
      "fea: fea_56\tiv_gini: 0.278\t iv_iv: 0.363\t iv_kf: 0.353\n",
      "\n",
      "gini use time:  0.10967445373535156\n",
      "iv 用时： 0.0019943714141845703\n",
      "kf use time:  0.009008407592773438\n",
      "fea: fea_57\tiv_gini: 0.000\t iv_iv: 0.000\t iv_kf: 0.032\n",
      "\n"
     ]
    },
    {
     "name": "stderr",
     "output_type": "stream",
     "text": [
      "C:\\Users\\litia\\AppData\\Local\\Temp/ipykernel_19404/1116350120.py:6: PerformanceWarning: DataFrame is highly fragmented.  This is usually the result of calling `frame.insert` many times, which has poor performance.  Consider joining all columns at once using pd.concat(axis=1) instead.  To get a de-fragmented frame, use `newframe = frame.copy()`\n",
      "  iv_ok_fea = get_good_fea_list(df, full_fea, False)\n",
      "C:\\Users\\litia\\AppData\\Local\\Temp/ipykernel_19404/1116350120.py:6: PerformanceWarning: DataFrame is highly fragmented.  This is usually the result of calling `frame.insert` many times, which has poor performance.  Consider joining all columns at once using pd.concat(axis=1) instead.  To get a de-fragmented frame, use `newframe = frame.copy()`\n",
      "  iv_ok_fea = get_good_fea_list(df, full_fea, False)\n"
     ]
    },
    {
     "name": "stdout",
     "output_type": "stream",
     "text": [
      "gini use time:  0.10867810249328613\n",
      "iv 用时： 0.001993894577026367\n",
      "kf use time:  0.008975982666015625\n",
      "fea: fea_58\tiv_gini: 0.000\t iv_iv: 0.000\t iv_kf: 0.065\n",
      "\n",
      "gini use time:  0.10571813583374023\n",
      "iv 用时： 0.0009970664978027344\n",
      "kf use time:  0.008976221084594727\n",
      "fea: fea_59\tiv_gini: 0.000\t iv_iv: 0.000\t iv_kf: 0.000\n",
      "\n"
     ]
    },
    {
     "name": "stderr",
     "output_type": "stream",
     "text": [
      "C:\\Users\\litia\\AppData\\Local\\Temp/ipykernel_19404/1116350120.py:6: PerformanceWarning: DataFrame is highly fragmented.  This is usually the result of calling `frame.insert` many times, which has poor performance.  Consider joining all columns at once using pd.concat(axis=1) instead.  To get a de-fragmented frame, use `newframe = frame.copy()`\n",
      "  iv_ok_fea = get_good_fea_list(df, full_fea, False)\n",
      "C:\\Users\\litia\\AppData\\Local\\Temp/ipykernel_19404/1116350120.py:6: PerformanceWarning: DataFrame is highly fragmented.  This is usually the result of calling `frame.insert` many times, which has poor performance.  Consider joining all columns at once using pd.concat(axis=1) instead.  To get a de-fragmented frame, use `newframe = frame.copy()`\n",
      "  iv_ok_fea = get_good_fea_list(df, full_fea, False)\n"
     ]
    },
    {
     "name": "stdout",
     "output_type": "stream",
     "text": [
      "gini use time:  0.6517543792724609\n",
      "iv 用时： 0.0029909610748291016\n"
     ]
    },
    {
     "name": "stderr",
     "output_type": "stream",
     "text": [
      "C:\\Users\\litia\\AppData\\Local\\Temp/ipykernel_19404/941026484.py:22: RuntimeWarning: invalid value encountered in true_divide\n",
      "  tmp_v = (freq_array - E_nums) ** 2 / E_nums\n"
     ]
    },
    {
     "name": "stdout",
     "output_type": "stream",
     "text": [
      "kf use time:  0.31914758682250977\n",
      "fea: fea_60\tiv_gini: 0.393\t iv_iv: 0.445\t iv_kf: 0.418\n",
      "\n",
      "gini use time:  0.1326460838317871\n",
      "iv 用时： 0.001993894577026367\n"
     ]
    },
    {
     "name": "stderr",
     "output_type": "stream",
     "text": [
      "C:\\Users\\litia\\AppData\\Local\\Temp/ipykernel_19404/1116350120.py:6: PerformanceWarning: DataFrame is highly fragmented.  This is usually the result of calling `frame.insert` many times, which has poor performance.  Consider joining all columns at once using pd.concat(axis=1) instead.  To get a de-fragmented frame, use `newframe = frame.copy()`\n",
      "  iv_ok_fea = get_good_fea_list(df, full_fea, False)\n",
      "C:\\Users\\litia\\AppData\\Local\\Temp/ipykernel_19404/941026484.py:22: RuntimeWarning: invalid value encountered in true_divide\n",
      "  tmp_v = (freq_array - E_nums) ** 2 / E_nums\n"
     ]
    },
    {
     "name": "stdout",
     "output_type": "stream",
     "text": [
      "kf use time:  0.09477829933166504\n",
      "fea: fea_61\tiv_gini: 0.105\t iv_iv: 0.152\t iv_kf: 0.159\n",
      "\n",
      "gini use time:  0.10967540740966797\n",
      "iv 用时： 0.0010340213775634766\n",
      "kf use time:  0.008975744247436523\n",
      "fea: fea_62\tiv_gini: 0.000\t iv_iv: 0.000\t iv_kf: 0.000\n",
      "\n"
     ]
    },
    {
     "name": "stderr",
     "output_type": "stream",
     "text": [
      "C:\\Users\\litia\\AppData\\Local\\Temp/ipykernel_19404/1116350120.py:6: PerformanceWarning: DataFrame is highly fragmented.  This is usually the result of calling `frame.insert` many times, which has poor performance.  Consider joining all columns at once using pd.concat(axis=1) instead.  To get a de-fragmented frame, use `newframe = frame.copy()`\n",
      "  iv_ok_fea = get_good_fea_list(df, full_fea, False)\n",
      "C:\\Users\\litia\\AppData\\Local\\Temp/ipykernel_19404/1116350120.py:6: PerformanceWarning: DataFrame is highly fragmented.  This is usually the result of calling `frame.insert` many times, which has poor performance.  Consider joining all columns at once using pd.concat(axis=1) instead.  To get a de-fragmented frame, use `newframe = frame.copy()`\n",
      "  iv_ok_fea = get_good_fea_list(df, full_fea, False)\n"
     ]
    },
    {
     "name": "stdout",
     "output_type": "stream",
     "text": [
      "gini use time:  0.11365962028503418\n",
      "iv 用时： 0.000997304916381836\n",
      "kf use time:  0.010003089904785156\n",
      "fea: fea_63\tiv_gini: 0.000\t iv_iv: 0.000\t iv_kf: 0.063\n",
      "\n",
      "gini use time:  0.10965800285339355\n",
      "iv 用时： 0.0010280609130859375\n",
      "kf use time:  0.008975028991699219\n",
      "fea: fea_64\tiv_gini: 0.000\t iv_iv: 0.000\t iv_kf: 0.003\n",
      "\n"
     ]
    },
    {
     "name": "stderr",
     "output_type": "stream",
     "text": [
      "C:\\Users\\litia\\AppData\\Local\\Temp/ipykernel_19404/1116350120.py:6: PerformanceWarning: DataFrame is highly fragmented.  This is usually the result of calling `frame.insert` many times, which has poor performance.  Consider joining all columns at once using pd.concat(axis=1) instead.  To get a de-fragmented frame, use `newframe = frame.copy()`\n",
      "  iv_ok_fea = get_good_fea_list(df, full_fea, False)\n",
      "C:\\Users\\litia\\AppData\\Local\\Temp/ipykernel_19404/1116350120.py:6: PerformanceWarning: DataFrame is highly fragmented.  This is usually the result of calling `frame.insert` many times, which has poor performance.  Consider joining all columns at once using pd.concat(axis=1) instead.  To get a de-fragmented frame, use `newframe = frame.copy()`\n",
      "  iv_ok_fea = get_good_fea_list(df, full_fea, False)\n"
     ]
    },
    {
     "name": "stdout",
     "output_type": "stream",
     "text": [
      "gini use time:  0.11170482635498047\n",
      "iv 用时： 0.000990152359008789\n",
      "kf use time:  0.007982254028320312\n",
      "fea: fea_65\tiv_gini: 0.000\t iv_iv: 0.000\t iv_kf: 0.031\n",
      "\n"
     ]
    },
    {
     "name": "stderr",
     "output_type": "stream",
     "text": [
      "C:\\Users\\litia\\AppData\\Local\\Temp/ipykernel_19404/1116350120.py:6: PerformanceWarning: DataFrame is highly fragmented.  This is usually the result of calling `frame.insert` many times, which has poor performance.  Consider joining all columns at once using pd.concat(axis=1) instead.  To get a de-fragmented frame, use `newframe = frame.copy()`\n",
      "  iv_ok_fea = get_good_fea_list(df, full_fea, False)\n"
     ]
    },
    {
     "name": "stdout",
     "output_type": "stream",
     "text": [
      "gini use time:  0.7693154811859131\n",
      "iv 用时： 0.004019021987915039\n"
     ]
    },
    {
     "name": "stderr",
     "output_type": "stream",
     "text": [
      "C:\\Users\\litia\\AppData\\Local\\Temp/ipykernel_19404/941026484.py:22: RuntimeWarning: invalid value encountered in true_divide\n",
      "  tmp_v = (freq_array - E_nums) ** 2 / E_nums\n"
     ]
    },
    {
     "name": "stdout",
     "output_type": "stream",
     "text": [
      "kf use time:  0.4956793785095215\n",
      "fea: fea_66\tiv_gini: 0.712\t iv_iv: 0.809\t iv_kf: 0.728\n",
      "\n",
      "gini use time:  0.12306571006774902\n",
      "iv 用时： 0.001993417739868164\n",
      "kf use time:  0.008975982666015625\n",
      "fea: fea_67\tiv_gini: 0.000\t iv_iv: 0.000\t iv_kf: 0.054\n",
      "\n"
     ]
    },
    {
     "name": "stderr",
     "output_type": "stream",
     "text": [
      "C:\\Users\\litia\\AppData\\Local\\Temp/ipykernel_19404/1116350120.py:6: PerformanceWarning: DataFrame is highly fragmented.  This is usually the result of calling `frame.insert` many times, which has poor performance.  Consider joining all columns at once using pd.concat(axis=1) instead.  To get a de-fragmented frame, use `newframe = frame.copy()`\n",
      "  iv_ok_fea = get_good_fea_list(df, full_fea, False)\n",
      "C:\\Users\\litia\\AppData\\Local\\Temp/ipykernel_19404/1116350120.py:6: PerformanceWarning: DataFrame is highly fragmented.  This is usually the result of calling `frame.insert` many times, which has poor performance.  Consider joining all columns at once using pd.concat(axis=1) instead.  To get a de-fragmented frame, use `newframe = frame.copy()`\n",
      "  iv_ok_fea = get_good_fea_list(df, full_fea, False)\n"
     ]
    },
    {
     "name": "stdout",
     "output_type": "stream",
     "text": [
      "gini use time:  0.11968207359313965\n",
      "iv 用时： 0.0009963512420654297\n",
      "kf use time:  0.009008407592773438\n",
      "fea: fea_68\tiv_gini: 0.000\t iv_iv: 0.000\t iv_kf: 0.001\n",
      "\n",
      "gini use time:  0.11269831657409668\n",
      "iv 用时： 0.001995086669921875\n",
      "kf use time:  0.00894474983215332\n",
      "fea: fea_69\tiv_gini: 0.000\t iv_iv: 0.000\t iv_kf: 0.065\n",
      "\n"
     ]
    },
    {
     "name": "stderr",
     "output_type": "stream",
     "text": [
      "C:\\Users\\litia\\AppData\\Local\\Temp/ipykernel_19404/1116350120.py:6: PerformanceWarning: DataFrame is highly fragmented.  This is usually the result of calling `frame.insert` many times, which has poor performance.  Consider joining all columns at once using pd.concat(axis=1) instead.  To get a de-fragmented frame, use `newframe = frame.copy()`\n",
      "  iv_ok_fea = get_good_fea_list(df, full_fea, False)\n",
      "C:\\Users\\litia\\AppData\\Local\\Temp/ipykernel_19404/1116350120.py:6: PerformanceWarning: DataFrame is highly fragmented.  This is usually the result of calling `frame.insert` many times, which has poor performance.  Consider joining all columns at once using pd.concat(axis=1) instead.  To get a de-fragmented frame, use `newframe = frame.copy()`\n",
      "  iv_ok_fea = get_good_fea_list(df, full_fea, False)\n"
     ]
    },
    {
     "name": "stdout",
     "output_type": "stream",
     "text": [
      "gini use time:  0.11572146415710449\n",
      "iv 用时： 0.0009944438934326172\n",
      "kf use time:  0.007978677749633789\n",
      "fea: fea_70\tiv_gini: 0.000\t iv_iv: 0.000\t iv_kf: 0.000\n",
      "\n"
     ]
    },
    {
     "name": "stderr",
     "output_type": "stream",
     "text": [
      "C:\\Users\\litia\\AppData\\Local\\Temp/ipykernel_19404/1116350120.py:6: PerformanceWarning: DataFrame is highly fragmented.  This is usually the result of calling `frame.insert` many times, which has poor performance.  Consider joining all columns at once using pd.concat(axis=1) instead.  To get a de-fragmented frame, use `newframe = frame.copy()`\n",
      "  iv_ok_fea = get_good_fea_list(df, full_fea, False)\n"
     ]
    },
    {
     "name": "stdout",
     "output_type": "stream",
     "text": [
      "gini use time:  0.7738866806030273\n",
      "iv 用时： 0.0029823780059814453\n"
     ]
    },
    {
     "name": "stderr",
     "output_type": "stream",
     "text": [
      "C:\\Users\\litia\\AppData\\Local\\Temp/ipykernel_19404/941026484.py:22: RuntimeWarning: invalid value encountered in true_divide\n",
      "  tmp_v = (freq_array - E_nums) ** 2 / E_nums\n"
     ]
    },
    {
     "name": "stdout",
     "output_type": "stream",
     "text": [
      "kf use time:  0.3201115131378174\n",
      "fea: fea_71\tiv_gini: 0.358\t iv_iv: 0.387\t iv_kf: 0.376\n",
      "\n",
      "gini use time:  0.1326754093170166\n",
      "iv 用时： 0.0009663105010986328\n",
      "kf use time:  0.03494119644165039\n"
     ]
    },
    {
     "name": "stderr",
     "output_type": "stream",
     "text": [
      "C:\\Users\\litia\\AppData\\Local\\Temp/ipykernel_19404/1116350120.py:6: PerformanceWarning: DataFrame is highly fragmented.  This is usually the result of calling `frame.insert` many times, which has poor performance.  Consider joining all columns at once using pd.concat(axis=1) instead.  To get a de-fragmented frame, use `newframe = frame.copy()`\n",
      "  iv_ok_fea = get_good_fea_list(df, full_fea, False)\n",
      "C:\\Users\\litia\\AppData\\Local\\Temp/ipykernel_19404/941026484.py:22: RuntimeWarning: invalid value encountered in true_divide\n",
      "  tmp_v = (freq_array - E_nums) ** 2 / E_nums\n",
      "C:\\Users\\litia\\AppData\\Local\\Temp/ipykernel_19404/1116350120.py:6: PerformanceWarning: DataFrame is highly fragmented.  This is usually the result of calling `frame.insert` many times, which has poor performance.  Consider joining all columns at once using pd.concat(axis=1) instead.  To get a de-fragmented frame, use `newframe = frame.copy()`\n",
      "  iv_ok_fea = get_good_fea_list(df, full_fea, False)\n"
     ]
    },
    {
     "name": "stdout",
     "output_type": "stream",
     "text": [
      "fea: fea_72\tiv_gini: 0.067\t iv_iv: 0.077\t iv_kf: 0.172\n",
      "\n",
      "gini use time:  0.12270712852478027\n",
      "iv 用时： 0.000995635986328125\n",
      "kf use time:  0.00797891616821289\n",
      "fea: fea_73\tiv_gini: 0.000\t iv_iv: 0.000\t iv_kf: 0.000\n",
      "\n"
     ]
    },
    {
     "name": "stderr",
     "output_type": "stream",
     "text": [
      "C:\\Users\\litia\\AppData\\Local\\Temp/ipykernel_19404/1116350120.py:6: PerformanceWarning: DataFrame is highly fragmented.  This is usually the result of calling `frame.insert` many times, which has poor performance.  Consider joining all columns at once using pd.concat(axis=1) instead.  To get a de-fragmented frame, use `newframe = frame.copy()`\n",
      "  iv_ok_fea = get_good_fea_list(df, full_fea, False)\n",
      "C:\\Users\\litia\\AppData\\Local\\Temp/ipykernel_19404/1116350120.py:6: PerformanceWarning: DataFrame is highly fragmented.  This is usually the result of calling `frame.insert` many times, which has poor performance.  Consider joining all columns at once using pd.concat(axis=1) instead.  To get a de-fragmented frame, use `newframe = frame.copy()`\n",
      "  iv_ok_fea = get_good_fea_list(df, full_fea, False)\n"
     ]
    },
    {
     "name": "stdout",
     "output_type": "stream",
     "text": [
      "gini use time:  0.11669015884399414\n",
      "iv 用时： 0.0009949207305908203\n",
      "kf use time:  0.009973526000976562\n",
      "fea: fea_74\tiv_gini: 0.000\t iv_iv: 0.000\t iv_kf: 0.070\n",
      "\n",
      "gini use time:  0.11822938919067383\n",
      "iv 用时： 0.001994609832763672\n",
      "kf use time:  0.007979631423950195\n",
      "fea: fea_75\tiv_gini: 0.000\t iv_iv: 0.000\t iv_kf: 0.036\n",
      "\n"
     ]
    },
    {
     "name": "stderr",
     "output_type": "stream",
     "text": [
      "C:\\Users\\litia\\AppData\\Local\\Temp/ipykernel_19404/1116350120.py:6: PerformanceWarning: DataFrame is highly fragmented.  This is usually the result of calling `frame.insert` many times, which has poor performance.  Consider joining all columns at once using pd.concat(axis=1) instead.  To get a de-fragmented frame, use `newframe = frame.copy()`\n",
      "  iv_ok_fea = get_good_fea_list(df, full_fea, False)\n",
      "C:\\Users\\litia\\AppData\\Local\\Temp/ipykernel_19404/1116350120.py:6: PerformanceWarning: DataFrame is highly fragmented.  This is usually the result of calling `frame.insert` many times, which has poor performance.  Consider joining all columns at once using pd.concat(axis=1) instead.  To get a de-fragmented frame, use `newframe = frame.copy()`\n",
      "  iv_ok_fea = get_good_fea_list(df, full_fea, False)\n"
     ]
    },
    {
     "name": "stdout",
     "output_type": "stream",
     "text": [
      "gini use time:  0.11668753623962402\n",
      "iv 用时： 0.0019943714141845703\n",
      "kf use time:  0.008011102676391602\n",
      "fea: fea_76\tiv_gini: 0.000\t iv_iv: 0.000\t iv_kf: 0.032\n",
      "\n",
      "gini use time:  0.6053504943847656\n",
      "iv 用时： 0.003989696502685547\n"
     ]
    },
    {
     "name": "stderr",
     "output_type": "stream",
     "text": [
      "C:\\Users\\litia\\AppData\\Local\\Temp/ipykernel_19404/941026484.py:22: RuntimeWarning: invalid value encountered in true_divide\n",
      "  tmp_v = (freq_array - E_nums) ** 2 / E_nums\n"
     ]
    },
    {
     "name": "stdout",
     "output_type": "stream",
     "text": [
      "kf use time:  0.48647475242614746\n",
      "fea: fea_77\tiv_gini: 0.645\t iv_iv: 0.707\t iv_kf: 0.642\n",
      "\n",
      "gini use time:  0.1206512451171875\n",
      "iv 用时： 0.0009965896606445312\n",
      "kf use time:  0.009008407592773438\n",
      "fea: fea_78\tiv_gini: 0.000\t iv_iv: 0.000\t iv_kf: 0.078\n",
      "\n"
     ]
    },
    {
     "name": "stderr",
     "output_type": "stream",
     "text": [
      "C:\\Users\\litia\\AppData\\Local\\Temp/ipykernel_19404/1116350120.py:6: PerformanceWarning: DataFrame is highly fragmented.  This is usually the result of calling `frame.insert` many times, which has poor performance.  Consider joining all columns at once using pd.concat(axis=1) instead.  To get a de-fragmented frame, use `newframe = frame.copy()`\n",
      "  iv_ok_fea = get_good_fea_list(df, full_fea, False)\n",
      "C:\\Users\\litia\\AppData\\Local\\Temp/ipykernel_19404/1116350120.py:6: PerformanceWarning: DataFrame is highly fragmented.  This is usually the result of calling `frame.insert` many times, which has poor performance.  Consider joining all columns at once using pd.concat(axis=1) instead.  To get a de-fragmented frame, use `newframe = frame.copy()`\n",
      "  iv_ok_fea = get_good_fea_list(df, full_fea, False)\n"
     ]
    },
    {
     "name": "stdout",
     "output_type": "stream",
     "text": [
      "gini use time:  0.11864948272705078\n",
      "iv 用时： 0.001995086669921875\n",
      "kf use time:  0.007978439331054688\n",
      "fea: fea_79\tiv_gini: 0.000\t iv_iv: 0.000\t iv_kf: 0.001\n",
      "\n",
      "gini use time:  0.11469411849975586\n",
      "iv 用时： 0.0019943714141845703\n",
      "kf use time:  0.007978439331054688\n",
      "fea: fea_80\tiv_gini: 0.000\t iv_iv: 0.000\t iv_kf: 0.034\n",
      "\n"
     ]
    },
    {
     "name": "stderr",
     "output_type": "stream",
     "text": [
      "C:\\Users\\litia\\AppData\\Local\\Temp/ipykernel_19404/1116350120.py:6: PerformanceWarning: DataFrame is highly fragmented.  This is usually the result of calling `frame.insert` many times, which has poor performance.  Consider joining all columns at once using pd.concat(axis=1) instead.  To get a de-fragmented frame, use `newframe = frame.copy()`\n",
      "  iv_ok_fea = get_good_fea_list(df, full_fea, False)\n",
      "C:\\Users\\litia\\AppData\\Local\\Temp/ipykernel_19404/1116350120.py:6: PerformanceWarning: DataFrame is highly fragmented.  This is usually the result of calling `frame.insert` many times, which has poor performance.  Consider joining all columns at once using pd.concat(axis=1) instead.  To get a de-fragmented frame, use `newframe = frame.copy()`\n",
      "  iv_ok_fea = get_good_fea_list(df, full_fea, False)\n"
     ]
    },
    {
     "name": "stdout",
     "output_type": "stream",
     "text": [
      "gini use time:  0.12167477607727051\n",
      "iv 用时： 0.000997304916381836\n",
      "kf use time:  0.007979154586791992\n",
      "fea: fea_81\tiv_gini: 0.000\t iv_iv: 0.000\t iv_kf: 0.000\n",
      "\n"
     ]
    },
    {
     "name": "stderr",
     "output_type": "stream",
     "text": [
      "C:\\Users\\litia\\AppData\\Local\\Temp/ipykernel_19404/1116350120.py:6: PerformanceWarning: DataFrame is highly fragmented.  This is usually the result of calling `frame.insert` many times, which has poor performance.  Consider joining all columns at once using pd.concat(axis=1) instead.  To get a de-fragmented frame, use `newframe = frame.copy()`\n",
      "  iv_ok_fea = get_good_fea_list(df, full_fea, False)\n"
     ]
    },
    {
     "name": "stdout",
     "output_type": "stream",
     "text": [
      "gini use time:  0.7305567264556885\n",
      "iv 用时： 0.00401759147644043\n"
     ]
    },
    {
     "name": "stderr",
     "output_type": "stream",
     "text": [
      "C:\\Users\\litia\\AppData\\Local\\Temp/ipykernel_19404/941026484.py:22: RuntimeWarning: invalid value encountered in true_divide\n",
      "  tmp_v = (freq_array - E_nums) ** 2 / E_nums\n"
     ]
    },
    {
     "name": "stdout",
     "output_type": "stream",
     "text": [
      "kf use time:  0.3310840129852295\n",
      "fea: fea_82\tiv_gini: 0.353\t iv_iv: 0.409\t iv_kf: 0.355\n",
      "\n"
     ]
    },
    {
     "name": "stderr",
     "output_type": "stream",
     "text": [
      "C:\\Users\\litia\\AppData\\Local\\Temp/ipykernel_19404/1116350120.py:6: PerformanceWarning: DataFrame is highly fragmented.  This is usually the result of calling `frame.insert` many times, which has poor performance.  Consider joining all columns at once using pd.concat(axis=1) instead.  To get a de-fragmented frame, use `newframe = frame.copy()`\n",
      "  iv_ok_fea = get_good_fea_list(df, full_fea, False)\n"
     ]
    },
    {
     "name": "stdout",
     "output_type": "stream",
     "text": [
      "gini use time:  0.3891422748565674\n",
      "iv 用时： 0.000995635986328125\n",
      "kf use time:  0.032911062240600586\n",
      "fea: fea_83\tiv_gini: 0.033\t iv_iv: 0.046\t iv_kf: 0.136\n",
      "\n",
      "gini use time:  0.11768722534179688\n",
      "iv 用时： 0.001995086669921875\n",
      "kf use time:  0.007008790969848633\n",
      "fea: fea_84\tiv_gini: 0.000\t iv_iv: 0.000\t iv_kf: 0.000\n",
      "\n"
     ]
    },
    {
     "name": "stderr",
     "output_type": "stream",
     "text": [
      "C:\\Users\\litia\\AppData\\Local\\Temp/ipykernel_19404/941026484.py:22: RuntimeWarning: invalid value encountered in true_divide\n",
      "  tmp_v = (freq_array - E_nums) ** 2 / E_nums\n",
      "C:\\Users\\litia\\AppData\\Local\\Temp/ipykernel_19404/1116350120.py:6: PerformanceWarning: DataFrame is highly fragmented.  This is usually the result of calling `frame.insert` many times, which has poor performance.  Consider joining all columns at once using pd.concat(axis=1) instead.  To get a de-fragmented frame, use `newframe = frame.copy()`\n",
      "  iv_ok_fea = get_good_fea_list(df, full_fea, False)\n",
      "C:\\Users\\litia\\AppData\\Local\\Temp/ipykernel_19404/1116350120.py:6: PerformanceWarning: DataFrame is highly fragmented.  This is usually the result of calling `frame.insert` many times, which has poor performance.  Consider joining all columns at once using pd.concat(axis=1) instead.  To get a de-fragmented frame, use `newframe = frame.copy()`\n",
      "  iv_ok_fea = get_good_fea_list(df, full_fea, False)\n"
     ]
    },
    {
     "name": "stdout",
     "output_type": "stream",
     "text": [
      "gini use time:  0.1206815242767334\n",
      "iv 用时： 0.0019621849060058594\n",
      "kf use time:  0.009007453918457031\n",
      "fea: fea_85\tiv_gini: 0.000\t iv_iv: 0.000\t iv_kf: 0.035\n",
      "\n",
      "gini use time:  0.1216428279876709\n",
      "iv 用时： 0.0008678436279296875\n",
      "kf use time:  0.00897836685180664\n",
      "fea: fea_86\tiv_gini: 0.000\t iv_iv: 0.000\t iv_kf: 0.030\n",
      "\n"
     ]
    },
    {
     "name": "stderr",
     "output_type": "stream",
     "text": [
      "C:\\Users\\litia\\AppData\\Local\\Temp/ipykernel_19404/1116350120.py:6: PerformanceWarning: DataFrame is highly fragmented.  This is usually the result of calling `frame.insert` many times, which has poor performance.  Consider joining all columns at once using pd.concat(axis=1) instead.  To get a de-fragmented frame, use `newframe = frame.copy()`\n",
      "  iv_ok_fea = get_good_fea_list(df, full_fea, False)\n",
      "C:\\Users\\litia\\AppData\\Local\\Temp/ipykernel_19404/1116350120.py:6: PerformanceWarning: DataFrame is highly fragmented.  This is usually the result of calling `frame.insert` many times, which has poor performance.  Consider joining all columns at once using pd.concat(axis=1) instead.  To get a de-fragmented frame, use `newframe = frame.copy()`\n",
      "  iv_ok_fea = get_good_fea_list(df, full_fea, False)\n"
     ]
    },
    {
     "name": "stdout",
     "output_type": "stream",
     "text": [
      "gini use time:  0.12267398834228516\n",
      "iv 用时： 0.0009953975677490234\n",
      "kf use time:  0.007978677749633789\n",
      "fea: fea_87\tiv_gini: 0.000\t iv_iv: 0.000\t iv_kf: 0.002\n",
      "\n"
     ]
    },
    {
     "name": "stderr",
     "output_type": "stream",
     "text": [
      "C:\\Users\\litia\\AppData\\Local\\Temp/ipykernel_19404/1116350120.py:6: PerformanceWarning: DataFrame is highly fragmented.  This is usually the result of calling `frame.insert` many times, which has poor performance.  Consider joining all columns at once using pd.concat(axis=1) instead.  To get a de-fragmented frame, use `newframe = frame.copy()`\n",
      "  iv_ok_fea = get_good_fea_list(df, full_fea, False)\n"
     ]
    },
    {
     "name": "stdout",
     "output_type": "stream",
     "text": [
      "gini use time:  0.8858718872070312\n",
      "iv 用时： 0.0039882659912109375\n"
     ]
    },
    {
     "name": "stderr",
     "output_type": "stream",
     "text": [
      "C:\\Users\\litia\\AppData\\Local\\Temp/ipykernel_19404/941026484.py:22: RuntimeWarning: invalid value encountered in true_divide\n",
      "  tmp_v = (freq_array - E_nums) ** 2 / E_nums\n"
     ]
    },
    {
     "name": "stdout",
     "output_type": "stream",
     "text": [
      "kf use time:  0.5106940269470215\n",
      "fea: fea_88\tiv_gini: 0.714\t iv_iv: 0.820\t iv_kf: 0.788\n",
      "\n",
      "gini use time:  0.14557909965515137\n",
      "iv 用时： 0.003988981246948242\n"
     ]
    },
    {
     "name": "stderr",
     "output_type": "stream",
     "text": [
      "C:\\Users\\litia\\AppData\\Local\\Temp/ipykernel_19404/1116350120.py:6: PerformanceWarning: DataFrame is highly fragmented.  This is usually the result of calling `frame.insert` many times, which has poor performance.  Consider joining all columns at once using pd.concat(axis=1) instead.  To get a de-fragmented frame, use `newframe = frame.copy()`\n",
      "  iv_ok_fea = get_good_fea_list(df, full_fea, False)\n",
      "C:\\Users\\litia\\AppData\\Local\\Temp/ipykernel_19404/941026484.py:22: RuntimeWarning: invalid value encountered in true_divide\n",
      "  tmp_v = (freq_array - E_nums) ** 2 / E_nums\n"
     ]
    },
    {
     "name": "stdout",
     "output_type": "stream",
     "text": [
      "kf use time:  0.3660573959350586\n",
      "fea: fea_89\tiv_gini: 0.213\t iv_iv: 0.366\t iv_kf: 0.296\n",
      "\n",
      "gini use time:  0.12164020538330078\n",
      "iv 用时： 0.0019941329956054688\n",
      "kf use time:  0.00797891616821289\n",
      "fea: fea_90\tiv_gini: 0.000\t iv_iv: 0.000\t iv_kf: 0.001\n",
      "\n"
     ]
    },
    {
     "name": "stderr",
     "output_type": "stream",
     "text": [
      "C:\\Users\\litia\\AppData\\Local\\Temp/ipykernel_19404/1116350120.py:6: PerformanceWarning: DataFrame is highly fragmented.  This is usually the result of calling `frame.insert` many times, which has poor performance.  Consider joining all columns at once using pd.concat(axis=1) instead.  To get a de-fragmented frame, use `newframe = frame.copy()`\n",
      "  iv_ok_fea = get_good_fea_list(df, full_fea, False)\n",
      "C:\\Users\\litia\\AppData\\Local\\Temp/ipykernel_19404/1116350120.py:6: PerformanceWarning: DataFrame is highly fragmented.  This is usually the result of calling `frame.insert` many times, which has poor performance.  Consider joining all columns at once using pd.concat(axis=1) instead.  To get a de-fragmented frame, use `newframe = frame.copy()`\n",
      "  iv_ok_fea = get_good_fea_list(df, full_fea, False)\n"
     ]
    },
    {
     "name": "stdout",
     "output_type": "stream",
     "text": [
      "gini use time:  0.12366914749145508\n",
      "iv 用时： 0.001994609832763672\n",
      "kf use time:  0.009007692337036133\n",
      "fea: fea_91\tiv_gini: 0.000\t iv_iv: 0.000\t iv_kf: 0.033\n",
      "\n",
      "gini use time:  0.11935281753540039\n",
      "iv 用时： 0.0009968280792236328\n",
      "kf use time:  0.007978439331054688\n",
      "fea: fea_92\tiv_gini: 0.000\t iv_iv: 0.000\t iv_kf: 0.000\n",
      "\n"
     ]
    },
    {
     "name": "stderr",
     "output_type": "stream",
     "text": [
      "C:\\Users\\litia\\AppData\\Local\\Temp/ipykernel_19404/1116350120.py:6: PerformanceWarning: DataFrame is highly fragmented.  This is usually the result of calling `frame.insert` many times, which has poor performance.  Consider joining all columns at once using pd.concat(axis=1) instead.  To get a de-fragmented frame, use `newframe = frame.copy()`\n",
      "  iv_ok_fea = get_good_fea_list(df, full_fea, False)\n",
      "C:\\Users\\litia\\AppData\\Local\\Temp/ipykernel_19404/1116350120.py:6: PerformanceWarning: DataFrame is highly fragmented.  This is usually the result of calling `frame.insert` many times, which has poor performance.  Consider joining all columns at once using pd.concat(axis=1) instead.  To get a de-fragmented frame, use `newframe = frame.copy()`\n",
      "  iv_ok_fea = get_good_fea_list(df, full_fea, False)\n"
     ]
    },
    {
     "name": "stdout",
     "output_type": "stream",
     "text": [
      "gini use time:  0.48769640922546387\n",
      "iv 用时： 0.003989219665527344\n"
     ]
    },
    {
     "name": "stderr",
     "output_type": "stream",
     "text": [
      "C:\\Users\\litia\\AppData\\Local\\Temp/ipykernel_19404/941026484.py:22: RuntimeWarning: invalid value encountered in true_divide\n",
      "  tmp_v = (freq_array - E_nums) ** 2 / E_nums\n"
     ]
    },
    {
     "name": "stdout",
     "output_type": "stream",
     "text": [
      "kf use time:  0.33011841773986816\n",
      "fea: fea_93\tiv_gini: 0.371\t iv_iv: 0.426\t iv_kf: 0.422\n",
      "\n"
     ]
    },
    {
     "name": "stderr",
     "output_type": "stream",
     "text": [
      "C:\\Users\\litia\\AppData\\Local\\Temp/ipykernel_19404/1116350120.py:6: PerformanceWarning: DataFrame is highly fragmented.  This is usually the result of calling `frame.insert` many times, which has poor performance.  Consider joining all columns at once using pd.concat(axis=1) instead.  To get a de-fragmented frame, use `newframe = frame.copy()`\n",
      "  iv_ok_fea = get_good_fea_list(df, full_fea, False)\n"
     ]
    },
    {
     "name": "stdout",
     "output_type": "stream",
     "text": [
      "gini use time:  0.2773728370666504\n",
      "iv 用时： 0.0019958019256591797\n",
      "kf use time:  0.03992509841918945\n",
      "fea: fea_94\tiv_gini: 0.114\t iv_iv: 0.117\t iv_kf: 0.189\n",
      "\n",
      "gini use time:  0.12096738815307617\n",
      "iv 用时： 0.001959562301635742\n",
      "kf use time:  0.007978677749633789\n"
     ]
    },
    {
     "name": "stderr",
     "output_type": "stream",
     "text": [
      "C:\\Users\\litia\\AppData\\Local\\Temp/ipykernel_19404/941026484.py:22: RuntimeWarning: invalid value encountered in true_divide\n",
      "  tmp_v = (freq_array - E_nums) ** 2 / E_nums\n",
      "C:\\Users\\litia\\AppData\\Local\\Temp/ipykernel_19404/1116350120.py:6: PerformanceWarning: DataFrame is highly fragmented.  This is usually the result of calling `frame.insert` many times, which has poor performance.  Consider joining all columns at once using pd.concat(axis=1) instead.  To get a de-fragmented frame, use `newframe = frame.copy()`\n",
      "  iv_ok_fea = get_good_fea_list(df, full_fea, False)\n",
      "C:\\Users\\litia\\AppData\\Local\\Temp/ipykernel_19404/1116350120.py:6: PerformanceWarning: DataFrame is highly fragmented.  This is usually the result of calling `frame.insert` many times, which has poor performance.  Consider joining all columns at once using pd.concat(axis=1) instead.  To get a de-fragmented frame, use `newframe = frame.copy()`\n",
      "  iv_ok_fea = get_good_fea_list(df, full_fea, False)\n"
     ]
    },
    {
     "name": "stdout",
     "output_type": "stream",
     "text": [
      "fea: fea_95\tiv_gini: 0.000\t iv_iv: 0.000\t iv_kf: 0.000\n",
      "\n",
      "gini use time:  0.125701904296875\n",
      "iv 用时： 0.0019893646240234375\n",
      "kf use time:  0.009978532791137695\n",
      "fea: fea_96\tiv_gini: 0.000\t iv_iv: 0.000\t iv_kf: 0.070\n",
      "\n"
     ]
    },
    {
     "name": "stderr",
     "output_type": "stream",
     "text": [
      "C:\\Users\\litia\\AppData\\Local\\Temp/ipykernel_19404/1116350120.py:6: PerformanceWarning: DataFrame is highly fragmented.  This is usually the result of calling `frame.insert` many times, which has poor performance.  Consider joining all columns at once using pd.concat(axis=1) instead.  To get a de-fragmented frame, use `newframe = frame.copy()`\n",
      "  iv_ok_fea = get_good_fea_list(df, full_fea, False)\n",
      "C:\\Users\\litia\\AppData\\Local\\Temp/ipykernel_19404/1116350120.py:6: PerformanceWarning: DataFrame is highly fragmented.  This is usually the result of calling `frame.insert` many times, which has poor performance.  Consider joining all columns at once using pd.concat(axis=1) instead.  To get a de-fragmented frame, use `newframe = frame.copy()`\n",
      "  iv_ok_fea = get_good_fea_list(df, full_fea, False)\n"
     ]
    },
    {
     "name": "stdout",
     "output_type": "stream",
     "text": [
      "gini use time:  0.1336371898651123\n",
      "iv 用时： 0.0009937286376953125\n",
      "kf use time:  0.007950067520141602\n",
      "fea: fea_97\tiv_gini: 0.000\t iv_iv: 0.000\t iv_kf: 0.023\n",
      "\n",
      "gini use time:  0.12470030784606934\n",
      "iv 用时： 0.0019702911376953125\n",
      "kf use time:  0.007970094680786133\n",
      "fea: fea_98\tiv_gini: 0.000\t iv_iv: 0.000\t iv_kf: 0.030\n",
      "\n"
     ]
    },
    {
     "name": "stderr",
     "output_type": "stream",
     "text": [
      "C:\\Users\\litia\\AppData\\Local\\Temp/ipykernel_19404/1116350120.py:6: PerformanceWarning: DataFrame is highly fragmented.  This is usually the result of calling `frame.insert` many times, which has poor performance.  Consider joining all columns at once using pd.concat(axis=1) instead.  To get a de-fragmented frame, use `newframe = frame.copy()`\n",
      "  iv_ok_fea = get_good_fea_list(df, full_fea, False)\n"
     ]
    },
    {
     "name": "stdout",
     "output_type": "stream",
     "text": [
      "gini use time:  1.1543612480163574\n",
      "iv 用时： 0.003988981246948242\n"
     ]
    },
    {
     "name": "stderr",
     "output_type": "stream",
     "text": [
      "C:\\Users\\litia\\AppData\\Local\\Temp/ipykernel_19404/941026484.py:22: RuntimeWarning: invalid value encountered in true_divide\n",
      "  tmp_v = (freq_array - E_nums) ** 2 / E_nums\n"
     ]
    },
    {
     "name": "stdout",
     "output_type": "stream",
     "text": [
      "kf use time:  0.49669861793518066\n",
      "fea: fea_99\tiv_gini: 0.687\t iv_iv: 0.749\t iv_kf: 0.710\n",
      "\n",
      "gini use time:  0.15056538581848145\n",
      "iv 用时： 0.0030193328857421875\n"
     ]
    },
    {
     "name": "stderr",
     "output_type": "stream",
     "text": [
      "C:\\Users\\litia\\AppData\\Local\\Temp/ipykernel_19404/1116350120.py:6: PerformanceWarning: DataFrame is highly fragmented.  This is usually the result of calling `frame.insert` many times, which has poor performance.  Consider joining all columns at once using pd.concat(axis=1) instead.  To get a de-fragmented frame, use `newframe = frame.copy()`\n",
      "  iv_ok_fea = get_good_fea_list(df, full_fea, False)\n",
      "C:\\Users\\litia\\AppData\\Local\\Temp/ipykernel_19404/941026484.py:22: RuntimeWarning: invalid value encountered in true_divide\n",
      "  tmp_v = (freq_array - E_nums) ** 2 / E_nums\n"
     ]
    },
    {
     "name": "stdout",
     "output_type": "stream",
     "text": [
      "kf use time:  0.3809816837310791\n",
      "fea: fea_100\tiv_gini: 0.222\t iv_iv: 0.364\t iv_kf: 0.297\n",
      "\n",
      "gini use time:  0.126633882522583\n",
      "iv 用时： 0.003011941909790039\n",
      "kf use time:  0.007564544677734375\n",
      "fea: fea_101\tiv_gini: 0.000\t iv_iv: 0.000\t iv_kf: 0.001\n",
      "\n"
     ]
    },
    {
     "name": "stderr",
     "output_type": "stream",
     "text": [
      "C:\\Users\\litia\\AppData\\Local\\Temp/ipykernel_19404/1116350120.py:6: PerformanceWarning: DataFrame is highly fragmented.  This is usually the result of calling `frame.insert` many times, which has poor performance.  Consider joining all columns at once using pd.concat(axis=1) instead.  To get a de-fragmented frame, use `newframe = frame.copy()`\n",
      "  iv_ok_fea = get_good_fea_list(df, full_fea, False)\n",
      "C:\\Users\\litia\\AppData\\Local\\Temp/ipykernel_19404/1116350120.py:6: PerformanceWarning: DataFrame is highly fragmented.  This is usually the result of calling `frame.insert` many times, which has poor performance.  Consider joining all columns at once using pd.concat(axis=1) instead.  To get a de-fragmented frame, use `newframe = frame.copy()`\n",
      "  iv_ok_fea = get_good_fea_list(df, full_fea, False)\n"
     ]
    },
    {
     "name": "stdout",
     "output_type": "stream",
     "text": [
      "gini use time:  0.1266639232635498\n",
      "iv 用时： 0.0009796619415283203\n",
      "kf use time:  0.007946968078613281\n",
      "fea: fea_102\tiv_gini: 0.000\t iv_iv: 0.000\t iv_kf: 0.003\n",
      "\n",
      "gini use time:  0.1237039566040039\n",
      "iv 用时： 0.0009942054748535156\n",
      "kf use time:  0.006987094879150391\n",
      "fea: fea_103\tiv_gini: 0.000\t iv_iv: 0.000\t iv_kf: 0.000\n",
      "\n"
     ]
    },
    {
     "name": "stderr",
     "output_type": "stream",
     "text": [
      "C:\\Users\\litia\\AppData\\Local\\Temp/ipykernel_19404/1116350120.py:6: PerformanceWarning: DataFrame is highly fragmented.  This is usually the result of calling `frame.insert` many times, which has poor performance.  Consider joining all columns at once using pd.concat(axis=1) instead.  To get a de-fragmented frame, use `newframe = frame.copy()`\n",
      "  iv_ok_fea = get_good_fea_list(df, full_fea, False)\n",
      "C:\\Users\\litia\\AppData\\Local\\Temp/ipykernel_19404/1116350120.py:6: PerformanceWarning: DataFrame is highly fragmented.  This is usually the result of calling `frame.insert` many times, which has poor performance.  Consider joining all columns at once using pd.concat(axis=1) instead.  To get a de-fragmented frame, use `newframe = frame.copy()`\n",
      "  iv_ok_fea = get_good_fea_list(df, full_fea, False)\n"
     ]
    },
    {
     "name": "stdout",
     "output_type": "stream",
     "text": [
      "gini use time:  0.7727866172790527\n",
      "iv 用时： 0.003022432327270508\n"
     ]
    },
    {
     "name": "stderr",
     "output_type": "stream",
     "text": [
      "C:\\Users\\litia\\AppData\\Local\\Temp/ipykernel_19404/941026484.py:22: RuntimeWarning: invalid value encountered in true_divide\n",
      "  tmp_v = (freq_array - E_nums) ** 2 / E_nums\n"
     ]
    },
    {
     "name": "stdout",
     "output_type": "stream",
     "text": [
      "kf use time:  0.32413387298583984\n",
      "fea: fea_104\tiv_gini: 0.349\t iv_iv: 0.389\t iv_kf: 0.391\n",
      "\n"
     ]
    },
    {
     "name": "stderr",
     "output_type": "stream",
     "text": [
      "C:\\Users\\litia\\AppData\\Local\\Temp/ipykernel_19404/1116350120.py:6: PerformanceWarning: DataFrame is highly fragmented.  This is usually the result of calling `frame.insert` many times, which has poor performance.  Consider joining all columns at once using pd.concat(axis=1) instead.  To get a de-fragmented frame, use `newframe = frame.copy()`\n",
      "  iv_ok_fea = get_good_fea_list(df, full_fea, False)\n"
     ]
    },
    {
     "name": "stdout",
     "output_type": "stream",
     "text": [
      "gini use time:  0.2872035503387451\n",
      "iv 用时： 0.002025604248046875\n",
      "kf use time:  0.038863420486450195\n",
      "fea: fea_105\tiv_gini: 0.094\t iv_iv: 0.108\t iv_kf: 0.133\n",
      "\n",
      "gini use time:  0.12770295143127441\n",
      "iv 用时： 0.0019817352294921875\n",
      "kf use time:  0.0069828033447265625\n",
      "fea: fea_106\tiv_gini: 0.000\t iv_iv: 0.000\t iv_kf: 0.000\n",
      "\n"
     ]
    },
    {
     "name": "stderr",
     "output_type": "stream",
     "text": [
      "C:\\Users\\litia\\AppData\\Local\\Temp/ipykernel_19404/941026484.py:22: RuntimeWarning: invalid value encountered in true_divide\n",
      "  tmp_v = (freq_array - E_nums) ** 2 / E_nums\n",
      "C:\\Users\\litia\\AppData\\Local\\Temp/ipykernel_19404/1116350120.py:6: PerformanceWarning: DataFrame is highly fragmented.  This is usually the result of calling `frame.insert` many times, which has poor performance.  Consider joining all columns at once using pd.concat(axis=1) instead.  To get a de-fragmented frame, use `newframe = frame.copy()`\n",
      "  iv_ok_fea = get_good_fea_list(df, full_fea, False)\n",
      "C:\\Users\\litia\\AppData\\Local\\Temp/ipykernel_19404/1116350120.py:6: PerformanceWarning: DataFrame is highly fragmented.  This is usually the result of calling `frame.insert` many times, which has poor performance.  Consider joining all columns at once using pd.concat(axis=1) instead.  To get a de-fragmented frame, use `newframe = frame.copy()`\n",
      "  iv_ok_fea = get_good_fea_list(df, full_fea, False)\n"
     ]
    },
    {
     "name": "stdout",
     "output_type": "stream",
     "text": [
      "gini use time:  0.13065123558044434\n",
      "iv 用时： 0.001961946487426758\n",
      "kf use time:  0.008976221084594727\n",
      "fea: fea_107\tiv_gini: 0.000\t iv_iv: 0.000\t iv_kf: 0.066\n",
      "\n",
      "gini use time:  0.12683749198913574\n",
      "iv 用时： 0.0010135173797607422\n",
      "kf use time:  0.007978439331054688\n",
      "fea: fea_108\tiv_gini: 0.000\t iv_iv: 0.000\t iv_kf: 0.036\n",
      "\n"
     ]
    },
    {
     "name": "stderr",
     "output_type": "stream",
     "text": [
      "C:\\Users\\litia\\AppData\\Local\\Temp/ipykernel_19404/1116350120.py:6: PerformanceWarning: DataFrame is highly fragmented.  This is usually the result of calling `frame.insert` many times, which has poor performance.  Consider joining all columns at once using pd.concat(axis=1) instead.  To get a de-fragmented frame, use `newframe = frame.copy()`\n",
      "  iv_ok_fea = get_good_fea_list(df, full_fea, False)\n",
      "C:\\Users\\litia\\AppData\\Local\\Temp/ipykernel_19404/1116350120.py:6: PerformanceWarning: DataFrame is highly fragmented.  This is usually the result of calling `frame.insert` many times, which has poor performance.  Consider joining all columns at once using pd.concat(axis=1) instead.  To get a de-fragmented frame, use `newframe = frame.copy()`\n",
      "  iv_ok_fea = get_good_fea_list(df, full_fea, False)\n"
     ]
    },
    {
     "name": "stdout",
     "output_type": "stream",
     "text": [
      "gini use time:  0.13065099716186523\n",
      "iv 用时： 0.0009558200836181641\n",
      "kf use time:  0.00801539421081543\n",
      "fea: fea_109\tiv_gini: 0.000\t iv_iv: 0.000\t iv_kf: 0.030\n",
      "\n"
     ]
    },
    {
     "name": "stderr",
     "output_type": "stream",
     "text": [
      "C:\\Users\\litia\\AppData\\Local\\Temp/ipykernel_19404/1116350120.py:6: PerformanceWarning: DataFrame is highly fragmented.  This is usually the result of calling `frame.insert` many times, which has poor performance.  Consider joining all columns at once using pd.concat(axis=1) instead.  To get a de-fragmented frame, use `newframe = frame.copy()`\n",
      "  iv_ok_fea = get_good_fea_list(df, full_fea, False)\n"
     ]
    },
    {
     "name": "stdout",
     "output_type": "stream",
     "text": [
      "gini use time:  0.7843554019927979\n",
      "iv 用时： 0.00601959228515625\n"
     ]
    },
    {
     "name": "stderr",
     "output_type": "stream",
     "text": [
      "C:\\Users\\litia\\AppData\\Local\\Temp/ipykernel_19404/941026484.py:22: RuntimeWarning: invalid value encountered in true_divide\n",
      "  tmp_v = (freq_array - E_nums) ** 2 / E_nums\n"
     ]
    },
    {
     "name": "stdout",
     "output_type": "stream",
     "text": [
      "kf use time:  0.4807124137878418\n",
      "fea: fea_110\tiv_gini: 0.617\t iv_iv: 0.716\t iv_kf: 0.616\n",
      "\n",
      "gini use time:  0.13460946083068848\n",
      "iv 用时： 0.0020232200622558594\n",
      "kf use time:  0.007947206497192383\n",
      "fea: fea_111\tiv_gini: 0.000\t iv_iv: 0.000\t iv_kf: 0.052\n",
      "\n"
     ]
    },
    {
     "name": "stderr",
     "output_type": "stream",
     "text": [
      "C:\\Users\\litia\\AppData\\Local\\Temp/ipykernel_19404/1116350120.py:6: PerformanceWarning: DataFrame is highly fragmented.  This is usually the result of calling `frame.insert` many times, which has poor performance.  Consider joining all columns at once using pd.concat(axis=1) instead.  To get a de-fragmented frame, use `newframe = frame.copy()`\n",
      "  iv_ok_fea = get_good_fea_list(df, full_fea, False)\n",
      "C:\\Users\\litia\\AppData\\Local\\Temp/ipykernel_19404/1116350120.py:6: PerformanceWarning: DataFrame is highly fragmented.  This is usually the result of calling `frame.insert` many times, which has poor performance.  Consider joining all columns at once using pd.concat(axis=1) instead.  To get a de-fragmented frame, use `newframe = frame.copy()`\n",
      "  iv_ok_fea = get_good_fea_list(df, full_fea, False)\n"
     ]
    },
    {
     "name": "stdout",
     "output_type": "stream",
     "text": [
      "gini use time:  0.13268208503723145\n",
      "iv 用时： 0.0009639263153076172\n",
      "kf use time:  0.008012533187866211\n",
      "fea: fea_112\tiv_gini: 0.000\t iv_iv: 0.000\t iv_kf: 0.001\n",
      "\n",
      "gini use time:  0.12765908241271973\n",
      "iv 用时： 0.001991748809814453\n",
      "kf use time:  0.008973121643066406\n",
      "fea: fea_113\tiv_gini: 0.000\t iv_iv: 0.000\t iv_kf: 0.034\n",
      "\n"
     ]
    },
    {
     "name": "stderr",
     "output_type": "stream",
     "text": [
      "C:\\Users\\litia\\AppData\\Local\\Temp/ipykernel_19404/1116350120.py:6: PerformanceWarning: DataFrame is highly fragmented.  This is usually the result of calling `frame.insert` many times, which has poor performance.  Consider joining all columns at once using pd.concat(axis=1) instead.  To get a de-fragmented frame, use `newframe = frame.copy()`\n",
      "  iv_ok_fea = get_good_fea_list(df, full_fea, False)\n",
      "C:\\Users\\litia\\AppData\\Local\\Temp/ipykernel_19404/1116350120.py:6: PerformanceWarning: DataFrame is highly fragmented.  This is usually the result of calling `frame.insert` many times, which has poor performance.  Consider joining all columns at once using pd.concat(axis=1) instead.  To get a de-fragmented frame, use `newframe = frame.copy()`\n",
      "  iv_ok_fea = get_good_fea_list(df, full_fea, False)\n"
     ]
    },
    {
     "name": "stdout",
     "output_type": "stream",
     "text": [
      "gini use time:  0.13160037994384766\n",
      "iv 用时： 0.001020669937133789\n",
      "kf use time:  0.007956504821777344\n",
      "fea: fea_114\tiv_gini: 0.000\t iv_iv: 0.000\t iv_kf: 0.000\n",
      "\n"
     ]
    },
    {
     "name": "stderr",
     "output_type": "stream",
     "text": [
      "C:\\Users\\litia\\AppData\\Local\\Temp/ipykernel_19404/1116350120.py:6: PerformanceWarning: DataFrame is highly fragmented.  This is usually the result of calling `frame.insert` many times, which has poor performance.  Consider joining all columns at once using pd.concat(axis=1) instead.  To get a de-fragmented frame, use `newframe = frame.copy()`\n",
      "  iv_ok_fea = get_good_fea_list(df, full_fea, False)\n"
     ]
    },
    {
     "name": "stdout",
     "output_type": "stream",
     "text": [
      "gini use time:  0.8328089714050293\n",
      "iv 用时： 0.002989053726196289\n"
     ]
    },
    {
     "name": "stderr",
     "output_type": "stream",
     "text": [
      "C:\\Users\\litia\\AppData\\Local\\Temp/ipykernel_19404/941026484.py:22: RuntimeWarning: invalid value encountered in true_divide\n",
      "  tmp_v = (freq_array - E_nums) ** 2 / E_nums\n"
     ]
    },
    {
     "name": "stdout",
     "output_type": "stream",
     "text": [
      "kf use time:  0.31603527069091797\n",
      "fea: fea_115\tiv_gini: 0.352\t iv_iv: 0.405\t iv_kf: 0.392\n",
      "\n",
      "gini use time:  0.13662433624267578\n",
      "iv 用时： 0.001008749008178711\n",
      "kf use time:  0.007977724075317383\n",
      "fea: fea_116\tiv_gini: 0.000\t iv_iv: 0.000\t iv_kf: 0.044\n",
      "\n"
     ]
    },
    {
     "name": "stderr",
     "output_type": "stream",
     "text": [
      "C:\\Users\\litia\\AppData\\Local\\Temp/ipykernel_19404/1116350120.py:6: PerformanceWarning: DataFrame is highly fragmented.  This is usually the result of calling `frame.insert` many times, which has poor performance.  Consider joining all columns at once using pd.concat(axis=1) instead.  To get a de-fragmented frame, use `newframe = frame.copy()`\n",
      "  iv_ok_fea = get_good_fea_list(df, full_fea, False)\n",
      "C:\\Users\\litia\\AppData\\Local\\Temp/ipykernel_19404/1116350120.py:6: PerformanceWarning: DataFrame is highly fragmented.  This is usually the result of calling `frame.insert` many times, which has poor performance.  Consider joining all columns at once using pd.concat(axis=1) instead.  To get a de-fragmented frame, use `newframe = frame.copy()`\n",
      "  iv_ok_fea = get_good_fea_list(df, full_fea, False)\n"
     ]
    },
    {
     "name": "stdout",
     "output_type": "stream",
     "text": [
      "gini use time:  0.1326150894165039\n",
      "iv 用时： 0.0020265579223632812\n",
      "kf use time:  0.00698089599609375\n",
      "fea: fea_117\tiv_gini: 0.000\t iv_iv: 0.000\t iv_kf: 0.000\n",
      "\n",
      "gini use time:  0.1296525001525879\n",
      "iv 用时： 0.0009999275207519531\n",
      "kf use time:  0.009972095489501953\n",
      "fea: fea_118\tiv_gini: 0.000\t iv_iv: 0.000\t iv_kf: 0.065\n",
      "\n"
     ]
    },
    {
     "name": "stderr",
     "output_type": "stream",
     "text": [
      "C:\\Users\\litia\\AppData\\Local\\Temp/ipykernel_19404/1116350120.py:6: PerformanceWarning: DataFrame is highly fragmented.  This is usually the result of calling `frame.insert` many times, which has poor performance.  Consider joining all columns at once using pd.concat(axis=1) instead.  To get a de-fragmented frame, use `newframe = frame.copy()`\n",
      "  iv_ok_fea = get_good_fea_list(df, full_fea, False)\n",
      "C:\\Users\\litia\\AppData\\Local\\Temp/ipykernel_19404/1116350120.py:6: PerformanceWarning: DataFrame is highly fragmented.  This is usually the result of calling `frame.insert` many times, which has poor performance.  Consider joining all columns at once using pd.concat(axis=1) instead.  To get a de-fragmented frame, use `newframe = frame.copy()`\n",
      "  iv_ok_fea = get_good_fea_list(df, full_fea, False)\n"
     ]
    },
    {
     "name": "stdout",
     "output_type": "stream",
     "text": [
      "gini use time:  0.13660717010498047\n",
      "iv 用时： 0.0019888877868652344\n",
      "kf use time:  0.007980585098266602\n",
      "fea: fea_119\tiv_gini: 0.000\t iv_iv: 0.000\t iv_kf: 0.033\n",
      "\n",
      "gini use time:  0.13068366050720215\n",
      "iv 用时： 0.0019609928131103516\n",
      "kf use time:  0.008011341094970703\n",
      "fea: fea_120\tiv_gini: 0.000\t iv_iv: 0.000\t iv_kf: 0.030\n",
      "\n"
     ]
    },
    {
     "name": "stderr",
     "output_type": "stream",
     "text": [
      "C:\\Users\\litia\\AppData\\Local\\Temp/ipykernel_19404/1116350120.py:6: PerformanceWarning: DataFrame is highly fragmented.  This is usually the result of calling `frame.insert` many times, which has poor performance.  Consider joining all columns at once using pd.concat(axis=1) instead.  To get a de-fragmented frame, use `newframe = frame.copy()`\n",
      "  iv_ok_fea = get_good_fea_list(df, full_fea, False)\n",
      "C:\\Users\\litia\\AppData\\Local\\Temp/ipykernel_19404/1116350120.py:6: PerformanceWarning: DataFrame is highly fragmented.  This is usually the result of calling `frame.insert` many times, which has poor performance.  Consider joining all columns at once using pd.concat(axis=1) instead.  To get a de-fragmented frame, use `newframe = frame.copy()`\n",
      "  iv_ok_fea = get_good_fea_list(df, full_fea, False)\n"
     ]
    },
    {
     "name": "stdout",
     "output_type": "stream",
     "text": [
      "gini use time:  0.8155405521392822\n",
      "iv 用时： 0.004022836685180664\n"
     ]
    },
    {
     "name": "stderr",
     "output_type": "stream",
     "text": [
      "C:\\Users\\litia\\AppData\\Local\\Temp/ipykernel_19404/941026484.py:22: RuntimeWarning: invalid value encountered in true_divide\n",
      "  tmp_v = (freq_array - E_nums) ** 2 / E_nums\n"
     ]
    },
    {
     "name": "stdout",
     "output_type": "stream",
     "text": [
      "kf use time:  0.48766469955444336\n",
      "fea: fea_121\tiv_gini: 0.575\t iv_iv: 0.632\t iv_kf: 0.615\n",
      "\n",
      "gini use time:  0.14059090614318848\n",
      "iv 用时： 0.0009963512420654297\n",
      "kf use time:  0.008976221084594727\n",
      "fea: fea_122\tiv_gini: 0.000\t iv_iv: 0.000\t iv_kf: 0.051\n",
      "\n"
     ]
    },
    {
     "name": "stderr",
     "output_type": "stream",
     "text": [
      "C:\\Users\\litia\\AppData\\Local\\Temp/ipykernel_19404/1116350120.py:6: PerformanceWarning: DataFrame is highly fragmented.  This is usually the result of calling `frame.insert` many times, which has poor performance.  Consider joining all columns at once using pd.concat(axis=1) instead.  To get a de-fragmented frame, use `newframe = frame.copy()`\n",
      "  iv_ok_fea = get_good_fea_list(df, full_fea, False)\n",
      "C:\\Users\\litia\\AppData\\Local\\Temp/ipykernel_19404/1116350120.py:6: PerformanceWarning: DataFrame is highly fragmented.  This is usually the result of calling `frame.insert` many times, which has poor performance.  Consider joining all columns at once using pd.concat(axis=1) instead.  To get a de-fragmented frame, use `newframe = frame.copy()`\n",
      "  iv_ok_fea = get_good_fea_list(df, full_fea, False)\n"
     ]
    },
    {
     "name": "stdout",
     "output_type": "stream",
     "text": [
      "gini use time:  0.13760113716125488\n",
      "iv 用时： 0.0009958744049072266\n",
      "kf use time:  0.008013248443603516\n",
      "fea: fea_123\tiv_gini: 0.000\t iv_iv: 0.000\t iv_kf: 0.030\n",
      "\n",
      "gini use time:  0.13364291191101074\n",
      "iv 用时： 0.0009627342224121094\n",
      "kf use time:  0.009974956512451172\n",
      "fea: fea_124\tiv_gini: 0.000\t iv_iv: 0.000\t iv_kf: 0.063\n",
      "\n"
     ]
    },
    {
     "name": "stderr",
     "output_type": "stream",
     "text": [
      "C:\\Users\\litia\\AppData\\Local\\Temp/ipykernel_19404/1116350120.py:6: PerformanceWarning: DataFrame is highly fragmented.  This is usually the result of calling `frame.insert` many times, which has poor performance.  Consider joining all columns at once using pd.concat(axis=1) instead.  To get a de-fragmented frame, use `newframe = frame.copy()`\n",
      "  iv_ok_fea = get_good_fea_list(df, full_fea, False)\n",
      "C:\\Users\\litia\\AppData\\Local\\Temp/ipykernel_19404/1116350120.py:6: PerformanceWarning: DataFrame is highly fragmented.  This is usually the result of calling `frame.insert` many times, which has poor performance.  Consider joining all columns at once using pd.concat(axis=1) instead.  To get a de-fragmented frame, use `newframe = frame.copy()`\n",
      "  iv_ok_fea = get_good_fea_list(df, full_fea, False)\n"
     ]
    },
    {
     "name": "stdout",
     "output_type": "stream",
     "text": [
      "gini use time:  0.1386277675628662\n",
      "iv 用时： 0.0010287761688232422\n",
      "kf use time:  0.007981538772583008\n",
      "fea: fea_125\tiv_gini: 0.000\t iv_iv: 0.000\t iv_kf: 0.000\n",
      "\n"
     ]
    },
    {
     "name": "stderr",
     "output_type": "stream",
     "text": [
      "C:\\Users\\litia\\AppData\\Local\\Temp/ipykernel_19404/1116350120.py:6: PerformanceWarning: DataFrame is highly fragmented.  This is usually the result of calling `frame.insert` many times, which has poor performance.  Consider joining all columns at once using pd.concat(axis=1) instead.  To get a de-fragmented frame, use `newframe = frame.copy()`\n",
      "  iv_ok_fea = get_good_fea_list(df, full_fea, False)\n"
     ]
    },
    {
     "name": "stdout",
     "output_type": "stream",
     "text": [
      "gini use time:  0.8745946884155273\n",
      "iv 用时： 0.004018068313598633\n"
     ]
    },
    {
     "name": "stderr",
     "output_type": "stream",
     "text": [
      "C:\\Users\\litia\\AppData\\Local\\Temp/ipykernel_19404/941026484.py:22: RuntimeWarning: invalid value encountered in true_divide\n",
      "  tmp_v = (freq_array - E_nums) ** 2 / E_nums\n"
     ]
    },
    {
     "name": "stdout",
     "output_type": "stream",
     "text": [
      "kf use time:  0.3111686706542969\n",
      "fea: fea_126\tiv_gini: 0.316\t iv_iv: 0.403\t iv_kf: 0.305\n",
      "\n",
      "gini use time:  0.1397569179534912\n",
      "iv 用时： 0.001993417739868164\n",
      "kf use time:  0.009007692337036133\n",
      "fea: fea_127\tiv_gini: 0.000\t iv_iv: 0.000\t iv_kf: 0.013\n",
      "\n"
     ]
    },
    {
     "name": "stderr",
     "output_type": "stream",
     "text": [
      "C:\\Users\\litia\\AppData\\Local\\Temp/ipykernel_19404/1116350120.py:6: PerformanceWarning: DataFrame is highly fragmented.  This is usually the result of calling `frame.insert` many times, which has poor performance.  Consider joining all columns at once using pd.concat(axis=1) instead.  To get a de-fragmented frame, use `newframe = frame.copy()`\n",
      "  iv_ok_fea = get_good_fea_list(df, full_fea, False)\n",
      "C:\\Users\\litia\\AppData\\Local\\Temp/ipykernel_19404/1116350120.py:6: PerformanceWarning: DataFrame is highly fragmented.  This is usually the result of calling `frame.insert` many times, which has poor performance.  Consider joining all columns at once using pd.concat(axis=1) instead.  To get a de-fragmented frame, use `newframe = frame.copy()`\n",
      "  iv_ok_fea = get_good_fea_list(df, full_fea, False)\n"
     ]
    },
    {
     "name": "stdout",
     "output_type": "stream",
     "text": [
      "gini use time:  0.13660311698913574\n",
      "iv 用时： 0.0019948482513427734\n",
      "kf use time:  0.006981372833251953\n",
      "fea: fea_128\tiv_gini: 0.000\t iv_iv: 0.000\t iv_kf: 0.000\n",
      "\n",
      "gini use time:  0.13863039016723633\n",
      "iv 用时： 0.0010311603546142578\n",
      "kf use time:  0.009940147399902344\n",
      "fea: fea_129\tiv_gini: 0.000\t iv_iv: 0.000\t iv_kf: 0.065\n",
      "\n"
     ]
    },
    {
     "name": "stderr",
     "output_type": "stream",
     "text": [
      "C:\\Users\\litia\\AppData\\Local\\Temp/ipykernel_19404/1116350120.py:6: PerformanceWarning: DataFrame is highly fragmented.  This is usually the result of calling `frame.insert` many times, which has poor performance.  Consider joining all columns at once using pd.concat(axis=1) instead.  To get a de-fragmented frame, use `newframe = frame.copy()`\n",
      "  iv_ok_fea = get_good_fea_list(df, full_fea, False)\n",
      "C:\\Users\\litia\\AppData\\Local\\Temp/ipykernel_19404/1116350120.py:6: PerformanceWarning: DataFrame is highly fragmented.  This is usually the result of calling `frame.insert` many times, which has poor performance.  Consider joining all columns at once using pd.concat(axis=1) instead.  To get a de-fragmented frame, use `newframe = frame.copy()`\n",
      "  iv_ok_fea = get_good_fea_list(df, full_fea, False)\n"
     ]
    },
    {
     "name": "stdout",
     "output_type": "stream",
     "text": [
      "gini use time:  0.14062237739562988\n",
      "iv 用时： 0.0009975433349609375\n",
      "kf use time:  0.008976221084594727\n",
      "fea: fea_130\tiv_gini: 0.000\t iv_iv: 0.000\t iv_kf: 0.006\n",
      "\n",
      "gini use time:  0.13464045524597168\n",
      "iv 用时： 0.0009968280792236328\n",
      "kf use time:  0.00797891616821289\n",
      "fea: fea_131\tiv_gini: 0.000\t iv_iv: 0.000\t iv_kf: 0.031\n",
      "\n"
     ]
    },
    {
     "name": "stderr",
     "output_type": "stream",
     "text": [
      "C:\\Users\\litia\\AppData\\Local\\Temp/ipykernel_19404/1116350120.py:6: PerformanceWarning: DataFrame is highly fragmented.  This is usually the result of calling `frame.insert` many times, which has poor performance.  Consider joining all columns at once using pd.concat(axis=1) instead.  To get a de-fragmented frame, use `newframe = frame.copy()`\n",
      "  iv_ok_fea = get_good_fea_list(df, full_fea, False)\n",
      "C:\\Users\\litia\\AppData\\Local\\Temp/ipykernel_19404/1116350120.py:6: PerformanceWarning: DataFrame is highly fragmented.  This is usually the result of calling `frame.insert` many times, which has poor performance.  Consider joining all columns at once using pd.concat(axis=1) instead.  To get a de-fragmented frame, use `newframe = frame.copy()`\n",
      "  iv_ok_fea = get_good_fea_list(df, full_fea, False)\n"
     ]
    },
    {
     "name": "stdout",
     "output_type": "stream",
     "text": [
      "gini use time:  1.259953260421753\n",
      "iv 用时： 0.004016876220703125\n"
     ]
    },
    {
     "name": "stderr",
     "output_type": "stream",
     "text": [
      "C:\\Users\\litia\\AppData\\Local\\Temp/ipykernel_19404/941026484.py:22: RuntimeWarning: invalid value encountered in true_divide\n",
      "  tmp_v = (freq_array - E_nums) ** 2 / E_nums\n"
     ]
    },
    {
     "name": "stdout",
     "output_type": "stream",
     "text": [
      "kf use time:  0.49898338317871094\n",
      "fea: fea_132\tiv_gini: 0.557\t iv_iv: 0.613\t iv_kf: 0.530\n",
      "\n"
     ]
    },
    {
     "name": "stderr",
     "output_type": "stream",
     "text": [
      "C:\\Users\\litia\\AppData\\Local\\Temp/ipykernel_19404/1116350120.py:6: PerformanceWarning: DataFrame is highly fragmented.  This is usually the result of calling `frame.insert` many times, which has poor performance.  Consider joining all columns at once using pd.concat(axis=1) instead.  To get a de-fragmented frame, use `newframe = frame.copy()`\n",
      "  iv_ok_fea = get_good_fea_list(df, full_fea, False)\n"
     ]
    },
    {
     "name": "stdout",
     "output_type": "stream",
     "text": [
      "gini use time:  0.8139240741729736\n",
      "iv 用时： 0.003989219665527344\n"
     ]
    },
    {
     "name": "stderr",
     "output_type": "stream",
     "text": [
      "C:\\Users\\litia\\AppData\\Local\\Temp/ipykernel_19404/941026484.py:22: RuntimeWarning: invalid value encountered in true_divide\n",
      "  tmp_v = (freq_array - E_nums) ** 2 / E_nums\n"
     ]
    },
    {
     "name": "stdout",
     "output_type": "stream",
     "text": [
      "kf use time:  0.399965763092041\n",
      "fea: fea_133\tiv_gini: 0.272\t iv_iv: 0.361\t iv_kf: 0.342\n",
      "\n",
      "gini use time:  0.14358282089233398\n",
      "iv 用时： 0.002027273178100586\n",
      "kf use time:  0.008942842483520508\n",
      "fea: fea_134\tiv_gini: 0.000\t iv_iv: 0.000\t iv_kf: 0.032\n",
      "\n"
     ]
    },
    {
     "name": "stderr",
     "output_type": "stream",
     "text": [
      "C:\\Users\\litia\\AppData\\Local\\Temp/ipykernel_19404/1116350120.py:6: PerformanceWarning: DataFrame is highly fragmented.  This is usually the result of calling `frame.insert` many times, which has poor performance.  Consider joining all columns at once using pd.concat(axis=1) instead.  To get a de-fragmented frame, use `newframe = frame.copy()`\n",
      "  iv_ok_fea = get_good_fea_list(df, full_fea, False)\n",
      "C:\\Users\\litia\\AppData\\Local\\Temp/ipykernel_19404/1116350120.py:6: PerformanceWarning: DataFrame is highly fragmented.  This is usually the result of calling `frame.insert` many times, which has poor performance.  Consider joining all columns at once using pd.concat(axis=1) instead.  To get a de-fragmented frame, use `newframe = frame.copy()`\n",
      "  iv_ok_fea = get_good_fea_list(df, full_fea, False)\n"
     ]
    },
    {
     "name": "stdout",
     "output_type": "stream",
     "text": [
      "gini use time:  0.1406238079071045\n",
      "iv 用时： 0.000997304916381836\n",
      "kf use time:  0.008976459503173828\n",
      "fea: fea_135\tiv_gini: 0.000\t iv_iv: 0.000\t iv_kf: 0.063\n",
      "\n",
      "gini use time:  0.13683271408081055\n",
      "iv 用时： 0.0019948482513427734\n",
      "kf use time:  0.007978200912475586\n",
      "fea: fea_136\tiv_gini: 0.000\t iv_iv: 0.000\t iv_kf: 0.000\n",
      "\n"
     ]
    },
    {
     "name": "stderr",
     "output_type": "stream",
     "text": [
      "C:\\Users\\litia\\AppData\\Local\\Temp/ipykernel_19404/1116350120.py:6: PerformanceWarning: DataFrame is highly fragmented.  This is usually the result of calling `frame.insert` many times, which has poor performance.  Consider joining all columns at once using pd.concat(axis=1) instead.  To get a de-fragmented frame, use `newframe = frame.copy()`\n",
      "  iv_ok_fea = get_good_fea_list(df, full_fea, False)\n",
      "C:\\Users\\litia\\AppData\\Local\\Temp/ipykernel_19404/1116350120.py:6: PerformanceWarning: DataFrame is highly fragmented.  This is usually the result of calling `frame.insert` many times, which has poor performance.  Consider joining all columns at once using pd.concat(axis=1) instead.  To get a de-fragmented frame, use `newframe = frame.copy()`\n",
      "  iv_ok_fea = get_good_fea_list(df, full_fea, False)\n"
     ]
    },
    {
     "name": "stdout",
     "output_type": "stream",
     "text": [
      "gini use time:  0.7544488906860352\n",
      "iv 用时： 0.003998994827270508\n"
     ]
    },
    {
     "name": "stderr",
     "output_type": "stream",
     "text": [
      "C:\\Users\\litia\\AppData\\Local\\Temp/ipykernel_19404/941026484.py:22: RuntimeWarning: invalid value encountered in true_divide\n",
      "  tmp_v = (freq_array - E_nums) ** 2 / E_nums\n"
     ]
    },
    {
     "name": "stdout",
     "output_type": "stream",
     "text": [
      "kf use time:  0.34747791290283203\n",
      "fea: fea_137\tiv_gini: 0.270\t iv_iv: 0.355\t iv_kf: 0.347\n",
      "\n"
     ]
    },
    {
     "name": "stderr",
     "output_type": "stream",
     "text": [
      "C:\\Users\\litia\\AppData\\Local\\Temp/ipykernel_19404/1116350120.py:6: PerformanceWarning: DataFrame is highly fragmented.  This is usually the result of calling `frame.insert` many times, which has poor performance.  Consider joining all columns at once using pd.concat(axis=1) instead.  To get a de-fragmented frame, use `newframe = frame.copy()`\n",
      "  iv_ok_fea = get_good_fea_list(df, full_fea, False)\n"
     ]
    },
    {
     "name": "stdout",
     "output_type": "stream",
     "text": [
      "gini use time:  0.43783044815063477\n",
      "iv 用时： 0.0020294189453125\n",
      "kf use time:  0.03889203071594238\n",
      "fea: fea_138\tiv_gini: 0.055\t iv_iv: 0.076\t iv_kf: 0.202\n",
      "\n",
      "gini use time:  0.1655271053314209\n"
     ]
    },
    {
     "name": "stderr",
     "output_type": "stream",
     "text": [
      "C:\\Users\\litia\\AppData\\Local\\Temp/ipykernel_19404/941026484.py:22: RuntimeWarning: invalid value encountered in true_divide\n",
      "  tmp_v = (freq_array - E_nums) ** 2 / E_nums\n",
      "C:\\Users\\litia\\AppData\\Local\\Temp/ipykernel_19404/1116350120.py:6: PerformanceWarning: DataFrame is highly fragmented.  This is usually the result of calling `frame.insert` many times, which has poor performance.  Consider joining all columns at once using pd.concat(axis=1) instead.  To get a de-fragmented frame, use `newframe = frame.copy()`\n",
      "  iv_ok_fea = get_good_fea_list(df, full_fea, False)\n"
     ]
    },
    {
     "name": "stdout",
     "output_type": "stream",
     "text": [
      "iv 用时： 0.001993417739868164\n",
      "kf use time:  0.009011983871459961\n",
      "fea: fea_139\tiv_gini: 0.000\t iv_iv: 0.000\t iv_kf: 0.000\n",
      "\n",
      "gini use time:  0.152557373046875\n",
      "iv 用时： 0.0009965896606445312\n",
      "kf use time:  0.010004281997680664\n",
      "fea: fea_140\tiv_gini: 0.000\t iv_iv: 0.000\t iv_kf: 0.096\n",
      "\n"
     ]
    },
    {
     "name": "stderr",
     "output_type": "stream",
     "text": [
      "C:\\Users\\litia\\AppData\\Local\\Temp/ipykernel_19404/1116350120.py:6: PerformanceWarning: DataFrame is highly fragmented.  This is usually the result of calling `frame.insert` many times, which has poor performance.  Consider joining all columns at once using pd.concat(axis=1) instead.  To get a de-fragmented frame, use `newframe = frame.copy()`\n",
      "  iv_ok_fea = get_good_fea_list(df, full_fea, False)\n",
      "C:\\Users\\litia\\AppData\\Local\\Temp/ipykernel_19404/941026484.py:22: RuntimeWarning: invalid value encountered in true_divide\n",
      "  tmp_v = (freq_array - E_nums) ** 2 / E_nums\n",
      "C:\\Users\\litia\\AppData\\Local\\Temp/ipykernel_19404/1116350120.py:6: PerformanceWarning: DataFrame is highly fragmented.  This is usually the result of calling `frame.insert` many times, which has poor performance.  Consider joining all columns at once using pd.concat(axis=1) instead.  To get a de-fragmented frame, use `newframe = frame.copy()`\n",
      "  iv_ok_fea = get_good_fea_list(df, full_fea, False)\n"
     ]
    },
    {
     "name": "stdout",
     "output_type": "stream",
     "text": [
      "gini use time:  0.14887738227844238\n",
      "iv 用时： 0.001020669937133789\n",
      "kf use time:  0.008951187133789062\n",
      "fea: fea_141\tiv_gini: 0.000\t iv_iv: 0.000\t iv_kf: 0.014\n",
      "\n",
      "gini use time:  0.14265155792236328\n",
      "iv 用时： 0.002000570297241211\n",
      "kf use time:  0.007969856262207031\n",
      "fea: fea_142\tiv_gini: 0.000\t iv_iv: 0.000\t iv_kf: 0.031\n",
      "\n"
     ]
    },
    {
     "name": "stderr",
     "output_type": "stream",
     "text": [
      "C:\\Users\\litia\\AppData\\Local\\Temp/ipykernel_19404/1116350120.py:6: PerformanceWarning: DataFrame is highly fragmented.  This is usually the result of calling `frame.insert` many times, which has poor performance.  Consider joining all columns at once using pd.concat(axis=1) instead.  To get a de-fragmented frame, use `newframe = frame.copy()`\n",
      "  iv_ok_fea = get_good_fea_list(df, full_fea, False)\n",
      "C:\\Users\\litia\\AppData\\Local\\Temp/ipykernel_19404/1116350120.py:6: PerformanceWarning: DataFrame is highly fragmented.  This is usually the result of calling `frame.insert` many times, which has poor performance.  Consider joining all columns at once using pd.concat(axis=1) instead.  To get a de-fragmented frame, use `newframe = frame.copy()`\n",
      "  iv_ok_fea = get_good_fea_list(df, full_fea, False)\n"
     ]
    },
    {
     "name": "stdout",
     "output_type": "stream",
     "text": [
      "gini use time:  1.1838738918304443\n",
      "iv 用时： 0.004019975662231445\n"
     ]
    },
    {
     "name": "stderr",
     "output_type": "stream",
     "text": [
      "C:\\Users\\litia\\AppData\\Local\\Temp/ipykernel_19404/941026484.py:22: RuntimeWarning: invalid value encountered in true_divide\n",
      "  tmp_v = (freq_array - E_nums) ** 2 / E_nums\n"
     ]
    },
    {
     "name": "stdout",
     "output_type": "stream",
     "text": [
      "kf use time:  0.5126574039459229\n",
      "fea: fea_143\tiv_gini: 0.528\t iv_iv: 0.613\t iv_kf: 0.552\n",
      "\n"
     ]
    },
    {
     "name": "stderr",
     "output_type": "stream",
     "text": [
      "C:\\Users\\litia\\AppData\\Local\\Temp/ipykernel_19404/1116350120.py:6: PerformanceWarning: DataFrame is highly fragmented.  This is usually the result of calling `frame.insert` many times, which has poor performance.  Consider joining all columns at once using pd.concat(axis=1) instead.  To get a de-fragmented frame, use `newframe = frame.copy()`\n",
      "  iv_ok_fea = get_good_fea_list(df, full_fea, False)\n"
     ]
    },
    {
     "name": "stdout",
     "output_type": "stream",
     "text": [
      "gini use time:  1.1213228702545166\n",
      "iv 用时： 0.003988981246948242\n"
     ]
    },
    {
     "name": "stderr",
     "output_type": "stream",
     "text": [
      "C:\\Users\\litia\\AppData\\Local\\Temp/ipykernel_19404/941026484.py:22: RuntimeWarning: invalid value encountered in true_divide\n",
      "  tmp_v = (freq_array - E_nums) ** 2 / E_nums\n"
     ]
    },
    {
     "name": "stdout",
     "output_type": "stream",
     "text": [
      "kf use time:  0.40694475173950195\n",
      "fea: fea_144\tiv_gini: 0.287\t iv_iv: 0.360\t iv_kf: 0.375\n",
      "\n",
      "gini use time:  0.15355825424194336\n",
      "iv 用时： 0.0009968280792236328\n",
      "kf use time:  0.009974241256713867\n",
      "fea: fea_145\tiv_gini: 0.000\t iv_iv: 0.000\t iv_kf: 0.032\n",
      "\n"
     ]
    },
    {
     "name": "stderr",
     "output_type": "stream",
     "text": [
      "C:\\Users\\litia\\AppData\\Local\\Temp/ipykernel_19404/1116350120.py:6: PerformanceWarning: DataFrame is highly fragmented.  This is usually the result of calling `frame.insert` many times, which has poor performance.  Consider joining all columns at once using pd.concat(axis=1) instead.  To get a de-fragmented frame, use `newframe = frame.copy()`\n",
      "  iv_ok_fea = get_good_fea_list(df, full_fea, False)\n",
      "C:\\Users\\litia\\AppData\\Local\\Temp/ipykernel_19404/1116350120.py:6: PerformanceWarning: DataFrame is highly fragmented.  This is usually the result of calling `frame.insert` many times, which has poor performance.  Consider joining all columns at once using pd.concat(axis=1) instead.  To get a de-fragmented frame, use `newframe = frame.copy()`\n",
      "  iv_ok_fea = get_good_fea_list(df, full_fea, False)\n"
     ]
    },
    {
     "name": "stdout",
     "output_type": "stream",
     "text": [
      "gini use time:  0.15658092498779297\n",
      "iv 用时： 0.0019948482513427734\n",
      "kf use time:  0.007978439331054688\n",
      "fea: fea_146\tiv_gini: 0.000\t iv_iv: 0.000\t iv_kf: 0.031\n",
      "\n",
      "gini use time:  0.1416480541229248\n",
      "iv 用时： 0.0019681453704833984\n",
      "kf use time:  0.007978677749633789\n",
      "fea: fea_147\tiv_gini: 0.000\t iv_iv: 0.000\t iv_kf: 0.000\n",
      "\n"
     ]
    },
    {
     "name": "stderr",
     "output_type": "stream",
     "text": [
      "C:\\Users\\litia\\AppData\\Local\\Temp/ipykernel_19404/1116350120.py:6: PerformanceWarning: DataFrame is highly fragmented.  This is usually the result of calling `frame.insert` many times, which has poor performance.  Consider joining all columns at once using pd.concat(axis=1) instead.  To get a de-fragmented frame, use `newframe = frame.copy()`\n",
      "  iv_ok_fea = get_good_fea_list(df, full_fea, False)\n",
      "C:\\Users\\litia\\AppData\\Local\\Temp/ipykernel_19404/1116350120.py:6: PerformanceWarning: DataFrame is highly fragmented.  This is usually the result of calling `frame.insert` many times, which has poor performance.  Consider joining all columns at once using pd.concat(axis=1) instead.  To get a de-fragmented frame, use `newframe = frame.copy()`\n",
      "  iv_ok_fea = get_good_fea_list(df, full_fea, False)\n"
     ]
    },
    {
     "name": "stdout",
     "output_type": "stream",
     "text": [
      "gini use time:  1.0766806602478027\n",
      "iv 用时： 0.0029876232147216797\n"
     ]
    },
    {
     "name": "stderr",
     "output_type": "stream",
     "text": [
      "C:\\Users\\litia\\AppData\\Local\\Temp/ipykernel_19404/941026484.py:22: RuntimeWarning: invalid value encountered in true_divide\n",
      "  tmp_v = (freq_array - E_nums) ** 2 / E_nums\n"
     ]
    },
    {
     "name": "stdout",
     "output_type": "stream",
     "text": [
      "kf use time:  0.38796401023864746\n",
      "fea: fea_148\tiv_gini: 0.343\t iv_iv: 0.392\t iv_kf: 0.405\n",
      "\n"
     ]
    },
    {
     "name": "stderr",
     "output_type": "stream",
     "text": [
      "C:\\Users\\litia\\AppData\\Local\\Temp/ipykernel_19404/1116350120.py:6: PerformanceWarning: DataFrame is highly fragmented.  This is usually the result of calling `frame.insert` many times, which has poor performance.  Consider joining all columns at once using pd.concat(axis=1) instead.  To get a de-fragmented frame, use `newframe = frame.copy()`\n",
      "  iv_ok_fea = get_good_fea_list(df, full_fea, False)\n"
     ]
    },
    {
     "name": "stdout",
     "output_type": "stream",
     "text": [
      "gini use time:  0.5998618602752686\n",
      "iv 用时： 0.0020265579223632812\n",
      "kf use time:  0.037899017333984375\n",
      "fea: fea_149\tiv_gini: 0.049\t iv_iv: 0.076\t iv_kf: 0.218\n",
      "\n"
     ]
    },
    {
     "name": "stderr",
     "output_type": "stream",
     "text": [
      "C:\\Users\\litia\\AppData\\Local\\Temp/ipykernel_19404/941026484.py:22: RuntimeWarning: invalid value encountered in true_divide\n",
      "  tmp_v = (freq_array - E_nums) ** 2 / E_nums\n",
      "C:\\Users\\litia\\AppData\\Local\\Temp/ipykernel_19404/1116350120.py:6: PerformanceWarning: DataFrame is highly fragmented.  This is usually the result of calling `frame.insert` many times, which has poor performance.  Consider joining all columns at once using pd.concat(axis=1) instead.  To get a de-fragmented frame, use `newframe = frame.copy()`\n",
      "  iv_ok_fea = get_good_fea_list(df, full_fea, False)\n"
     ]
    },
    {
     "name": "stdout",
     "output_type": "stream",
     "text": [
      "gini use time:  0.1685178279876709\n",
      "iv 用时： 0.0009965896606445312\n",
      "kf use time:  0.008976459503173828\n",
      "fea: fea_150\tiv_gini: 0.000\t iv_iv: 0.000\t iv_kf: 0.000\n",
      "\n",
      "gini use time:  0.14564275741577148\n",
      "iv 用时： 0.001964092254638672\n",
      "kf use time:  0.009972095489501953\n",
      "fea: fea_151\tiv_gini: 0.000\t iv_iv: 0.000\t iv_kf: 0.067\n",
      "\n"
     ]
    },
    {
     "name": "stderr",
     "output_type": "stream",
     "text": [
      "C:\\Users\\litia\\AppData\\Local\\Temp/ipykernel_19404/1116350120.py:6: PerformanceWarning: DataFrame is highly fragmented.  This is usually the result of calling `frame.insert` many times, which has poor performance.  Consider joining all columns at once using pd.concat(axis=1) instead.  To get a de-fragmented frame, use `newframe = frame.copy()`\n",
      "  iv_ok_fea = get_good_fea_list(df, full_fea, False)\n",
      "C:\\Users\\litia\\AppData\\Local\\Temp/ipykernel_19404/941026484.py:22: RuntimeWarning: invalid value encountered in true_divide\n",
      "  tmp_v = (freq_array - E_nums) ** 2 / E_nums\n",
      "C:\\Users\\litia\\AppData\\Local\\Temp/ipykernel_19404/1116350120.py:6: PerformanceWarning: DataFrame is highly fragmented.  This is usually the result of calling `frame.insert` many times, which has poor performance.  Consider joining all columns at once using pd.concat(axis=1) instead.  To get a de-fragmented frame, use `newframe = frame.copy()`\n",
      "  iv_ok_fea = get_good_fea_list(df, full_fea, False)\n"
     ]
    },
    {
     "name": "stdout",
     "output_type": "stream",
     "text": [
      "gini use time:  0.1466078758239746\n",
      "iv 用时： 0.000997304916381836\n",
      "kf use time:  0.007979154586791992\n",
      "fea: fea_152\tiv_gini: 0.000\t iv_iv: 0.000\t iv_kf: 0.022\n",
      "\n",
      "gini use time:  0.1685495376586914\n",
      "iv 用时： 0.0009980201721191406\n",
      "kf use time:  0.008975505828857422\n"
     ]
    },
    {
     "name": "stderr",
     "output_type": "stream",
     "text": [
      "C:\\Users\\litia\\AppData\\Local\\Temp/ipykernel_19404/1116350120.py:6: PerformanceWarning: DataFrame is highly fragmented.  This is usually the result of calling `frame.insert` many times, which has poor performance.  Consider joining all columns at once using pd.concat(axis=1) instead.  To get a de-fragmented frame, use `newframe = frame.copy()`\n",
      "  iv_ok_fea = get_good_fea_list(df, full_fea, False)\n",
      "C:\\Users\\litia\\AppData\\Local\\Temp/ipykernel_19404/1116350120.py:6: PerformanceWarning: DataFrame is highly fragmented.  This is usually the result of calling `frame.insert` many times, which has poor performance.  Consider joining all columns at once using pd.concat(axis=1) instead.  To get a de-fragmented frame, use `newframe = frame.copy()`\n",
      "  iv_ok_fea = get_good_fea_list(df, full_fea, False)\n"
     ]
    },
    {
     "name": "stdout",
     "output_type": "stream",
     "text": [
      "fea: fea_153\tiv_gini: 0.000\t iv_iv: 0.000\t iv_kf: 0.032\n",
      "\n",
      "gini use time:  1.651817798614502\n",
      "iv 用时： 0.005013942718505859\n"
     ]
    },
    {
     "name": "stderr",
     "output_type": "stream",
     "text": [
      "C:\\Users\\litia\\AppData\\Local\\Temp/ipykernel_19404/941026484.py:22: RuntimeWarning: invalid value encountered in true_divide\n",
      "  tmp_v = (freq_array - E_nums) ** 2 / E_nums\n"
     ]
    },
    {
     "name": "stdout",
     "output_type": "stream",
     "text": [
      "kf use time:  0.5176215171813965\n",
      "fea: fea_154\tiv_gini: 0.562\t iv_iv: 0.620\t iv_kf: 0.522\n",
      "\n"
     ]
    },
    {
     "name": "stderr",
     "output_type": "stream",
     "text": [
      "C:\\Users\\litia\\AppData\\Local\\Temp/ipykernel_19404/1116350120.py:6: PerformanceWarning: DataFrame is highly fragmented.  This is usually the result of calling `frame.insert` many times, which has poor performance.  Consider joining all columns at once using pd.concat(axis=1) instead.  To get a de-fragmented frame, use `newframe = frame.copy()`\n",
      "  iv_ok_fea = get_good_fea_list(df, full_fea, False)\n"
     ]
    },
    {
     "name": "stdout",
     "output_type": "stream",
     "text": [
      "gini use time:  0.8135895729064941\n",
      "iv 用时： 0.004021406173706055\n"
     ]
    },
    {
     "name": "stderr",
     "output_type": "stream",
     "text": [
      "C:\\Users\\litia\\AppData\\Local\\Temp/ipykernel_19404/941026484.py:22: RuntimeWarning: invalid value encountered in true_divide\n",
      "  tmp_v = (freq_array - E_nums) ** 2 / E_nums\n"
     ]
    },
    {
     "name": "stdout",
     "output_type": "stream",
     "text": [
      "kf use time:  0.39546680450439453\n",
      "fea: fea_155\tiv_gini: 0.240\t iv_iv: 0.301\t iv_kf: 0.260\n",
      "\n",
      "gini use time:  0.1506023406982422\n",
      "iv 用时： 0.00196075439453125\n",
      "kf use time:  0.008010387420654297\n",
      "fea: fea_156\tiv_gini: 0.000\t iv_iv: 0.000\t iv_kf: 0.031\n",
      "\n"
     ]
    },
    {
     "name": "stderr",
     "output_type": "stream",
     "text": [
      "C:\\Users\\litia\\AppData\\Local\\Temp/ipykernel_19404/1116350120.py:6: PerformanceWarning: DataFrame is highly fragmented.  This is usually the result of calling `frame.insert` many times, which has poor performance.  Consider joining all columns at once using pd.concat(axis=1) instead.  To get a de-fragmented frame, use `newframe = frame.copy()`\n",
      "  iv_ok_fea = get_good_fea_list(df, full_fea, False)\n",
      "C:\\Users\\litia\\AppData\\Local\\Temp/ipykernel_19404/1116350120.py:6: PerformanceWarning: DataFrame is highly fragmented.  This is usually the result of calling `frame.insert` many times, which has poor performance.  Consider joining all columns at once using pd.concat(axis=1) instead.  To get a de-fragmented frame, use `newframe = frame.copy()`\n",
      "  iv_ok_fea = get_good_fea_list(df, full_fea, False)\n"
     ]
    },
    {
     "name": "stdout",
     "output_type": "stream",
     "text": [
      "gini use time:  0.15058231353759766\n",
      "iv 用时： 0.0009808540344238281\n",
      "kf use time:  0.009007453918457031\n",
      "fea: fea_157\tiv_gini: 0.000\t iv_iv: 0.000\t iv_kf: 0.001\n",
      "\n",
      "gini use time:  0.16655635833740234\n"
     ]
    },
    {
     "name": "stderr",
     "output_type": "stream",
     "text": [
      "C:\\Users\\litia\\AppData\\Local\\Temp/ipykernel_19404/1116350120.py:6: PerformanceWarning: DataFrame is highly fragmented.  This is usually the result of calling `frame.insert` many times, which has poor performance.  Consider joining all columns at once using pd.concat(axis=1) instead.  To get a de-fragmented frame, use `newframe = frame.copy()`\n",
      "  iv_ok_fea = get_good_fea_list(df, full_fea, False)\n",
      "C:\\Users\\litia\\AppData\\Local\\Temp/ipykernel_19404/1116350120.py:6: PerformanceWarning: DataFrame is highly fragmented.  This is usually the result of calling `frame.insert` many times, which has poor performance.  Consider joining all columns at once using pd.concat(axis=1) instead.  To get a de-fragmented frame, use `newframe = frame.copy()`\n",
      "  iv_ok_fea = get_good_fea_list(df, full_fea, False)\n"
     ]
    },
    {
     "name": "stdout",
     "output_type": "stream",
     "text": [
      "iv 用时： 0.0019614696502685547\n",
      "kf use time:  0.009029388427734375\n",
      "fea: fea_158\tiv_gini: 0.000\t iv_iv: 0.000\t iv_kf: 0.000\n",
      "\n",
      "gini use time:  0.9340944290161133\n",
      "iv 用时： 0.002992391586303711\n"
     ]
    },
    {
     "name": "stderr",
     "output_type": "stream",
     "text": [
      "C:\\Users\\litia\\AppData\\Local\\Temp/ipykernel_19404/941026484.py:22: RuntimeWarning: invalid value encountered in true_divide\n",
      "  tmp_v = (freq_array - E_nums) ** 2 / E_nums\n"
     ]
    },
    {
     "name": "stdout",
     "output_type": "stream",
     "text": [
      "kf use time:  0.35754823684692383\n",
      "fea: fea_159\tiv_gini: 0.395\t iv_iv: 0.433\t iv_kf: 0.389\n",
      "\n",
      "gini use time:  0.19046735763549805\n"
     ]
    },
    {
     "name": "stderr",
     "output_type": "stream",
     "text": [
      "C:\\Users\\litia\\AppData\\Local\\Temp/ipykernel_19404/1116350120.py:6: PerformanceWarning: DataFrame is highly fragmented.  This is usually the result of calling `frame.insert` many times, which has poor performance.  Consider joining all columns at once using pd.concat(axis=1) instead.  To get a de-fragmented frame, use `newframe = frame.copy()`\n",
      "  iv_ok_fea = get_good_fea_list(df, full_fea, False)\n"
     ]
    },
    {
     "name": "stdout",
     "output_type": "stream",
     "text": [
      "iv 用时： 0.0029904842376708984\n",
      "kf use time:  0.050866127014160156\n",
      "fea: fea_160\tiv_gini: 0.056\t iv_iv: 0.070\t iv_kf: 0.139\n",
      "\n"
     ]
    },
    {
     "name": "stderr",
     "output_type": "stream",
     "text": [
      "C:\\Users\\litia\\AppData\\Local\\Temp/ipykernel_19404/941026484.py:22: RuntimeWarning: invalid value encountered in true_divide\n",
      "  tmp_v = (freq_array - E_nums) ** 2 / E_nums\n",
      "C:\\Users\\litia\\AppData\\Local\\Temp/ipykernel_19404/1116350120.py:6: PerformanceWarning: DataFrame is highly fragmented.  This is usually the result of calling `frame.insert` many times, which has poor performance.  Consider joining all columns at once using pd.concat(axis=1) instead.  To get a de-fragmented frame, use `newframe = frame.copy()`\n",
      "  iv_ok_fea = get_good_fea_list(df, full_fea, False)\n"
     ]
    },
    {
     "name": "stdout",
     "output_type": "stream",
     "text": [
      "gini use time:  0.1795189380645752\n",
      "iv 用时： 0.001994609832763672\n",
      "kf use time:  0.008976221084594727\n",
      "fea: fea_161\tiv_gini: 0.000\t iv_iv: 0.000\t iv_kf: 0.000\n",
      "\n",
      "gini use time:  0.15561556816101074\n",
      "iv 用时： 0.001995563507080078\n",
      "kf use time:  0.008975982666015625\n",
      "fea: fea_162\tiv_gini: 0.000\t iv_iv: 0.000\t iv_kf: 0.064\n",
      "\n"
     ]
    },
    {
     "name": "stderr",
     "output_type": "stream",
     "text": [
      "C:\\Users\\litia\\AppData\\Local\\Temp/ipykernel_19404/1116350120.py:6: PerformanceWarning: DataFrame is highly fragmented.  This is usually the result of calling `frame.insert` many times, which has poor performance.  Consider joining all columns at once using pd.concat(axis=1) instead.  To get a de-fragmented frame, use `newframe = frame.copy()`\n",
      "  iv_ok_fea = get_good_fea_list(df, full_fea, False)\n",
      "C:\\Users\\litia\\AppData\\Local\\Temp/ipykernel_19404/1116350120.py:6: PerformanceWarning: DataFrame is highly fragmented.  This is usually the result of calling `frame.insert` many times, which has poor performance.  Consider joining all columns at once using pd.concat(axis=1) instead.  To get a de-fragmented frame, use `newframe = frame.copy()`\n",
      "  iv_ok_fea = get_good_fea_list(df, full_fea, False)\n"
     ]
    },
    {
     "name": "stdout",
     "output_type": "stream",
     "text": [
      "gini use time:  0.1600489616394043\n",
      "iv 用时： 0.0010242462158203125\n",
      "kf use time:  0.007973194122314453\n",
      "fea: fea_163\tiv_gini: 0.000\t iv_iv: 0.000\t iv_kf: 0.004\n",
      "\n",
      "gini use time:  0.17949485778808594\n"
     ]
    },
    {
     "name": "stderr",
     "output_type": "stream",
     "text": [
      "C:\\Users\\litia\\AppData\\Local\\Temp/ipykernel_19404/1116350120.py:6: PerformanceWarning: DataFrame is highly fragmented.  This is usually the result of calling `frame.insert` many times, which has poor performance.  Consider joining all columns at once using pd.concat(axis=1) instead.  To get a de-fragmented frame, use `newframe = frame.copy()`\n",
      "  iv_ok_fea = get_good_fea_list(df, full_fea, False)\n"
     ]
    },
    {
     "name": "stdout",
     "output_type": "stream",
     "text": [
      "iv 用时： 0.0019936561584472656\n",
      "kf use time:  0.00997471809387207\n",
      "fea: fea_164\tiv_gini: 0.000\t iv_iv: 0.000\t iv_kf: 0.031\n",
      "\n"
     ]
    },
    {
     "name": "stderr",
     "output_type": "stream",
     "text": [
      "C:\\Users\\litia\\AppData\\Local\\Temp/ipykernel_19404/1116350120.py:6: PerformanceWarning: DataFrame is highly fragmented.  This is usually the result of calling `frame.insert` many times, which has poor performance.  Consider joining all columns at once using pd.concat(axis=1) instead.  To get a de-fragmented frame, use `newframe = frame.copy()`\n",
      "  iv_ok_fea = get_good_fea_list(df, full_fea, False)\n"
     ]
    },
    {
     "name": "stdout",
     "output_type": "stream",
     "text": [
      "gini use time:  0.5170879364013672\n",
      "iv 用时： 0.003987550735473633\n"
     ]
    },
    {
     "name": "stderr",
     "output_type": "stream",
     "text": [
      "C:\\Users\\litia\\AppData\\Local\\Temp/ipykernel_19404/941026484.py:22: RuntimeWarning: invalid value encountered in true_divide\n",
      "  tmp_v = (freq_array - E_nums) ** 2 / E_nums\n"
     ]
    },
    {
     "name": "stdout",
     "output_type": "stream",
     "text": [
      "kf use time:  0.5525596141815186\n",
      "fea: fea_165\tiv_gini: 0.411\t iv_iv: 0.583\t iv_kf: 0.518\n",
      "\n",
      "gini use time:  0.16083073616027832\n",
      "iv 用时： 0.0009992122650146484\n",
      "kf use time:  0.007983684539794922\n",
      "fea: fea_166\tiv_gini: 0.000\t iv_iv: 0.000\t iv_kf: 0.021\n",
      "\n"
     ]
    },
    {
     "name": "stderr",
     "output_type": "stream",
     "text": [
      "C:\\Users\\litia\\AppData\\Local\\Temp/ipykernel_19404/1116350120.py:6: PerformanceWarning: DataFrame is highly fragmented.  This is usually the result of calling `frame.insert` many times, which has poor performance.  Consider joining all columns at once using pd.concat(axis=1) instead.  To get a de-fragmented frame, use `newframe = frame.copy()`\n",
      "  iv_ok_fea = get_good_fea_list(df, full_fea, False)\n",
      "C:\\Users\\litia\\AppData\\Local\\Temp/ipykernel_19404/1116350120.py:6: PerformanceWarning: DataFrame is highly fragmented.  This is usually the result of calling `frame.insert` many times, which has poor performance.  Consider joining all columns at once using pd.concat(axis=1) instead.  To get a de-fragmented frame, use `newframe = frame.copy()`\n",
      "  iv_ok_fea = get_good_fea_list(df, full_fea, False)\n"
     ]
    },
    {
     "name": "stdout",
     "output_type": "stream",
     "text": [
      "gini use time:  0.1555924415588379\n",
      "iv 用时： 0.001986265182495117\n",
      "kf use time:  0.007973909378051758\n",
      "fea: fea_167\tiv_gini: 0.000\t iv_iv: 0.000\t iv_kf: 0.031\n",
      "\n",
      "gini use time:  0.15259623527526855\n",
      "iv 用时： 0.0009980201721191406\n",
      "kf use time:  0.007946014404296875\n",
      "fea: fea_168\tiv_gini: 0.000\t iv_iv: 0.000\t iv_kf: 0.004\n",
      "\n"
     ]
    },
    {
     "name": "stderr",
     "output_type": "stream",
     "text": [
      "C:\\Users\\litia\\AppData\\Local\\Temp/ipykernel_19404/1116350120.py:6: PerformanceWarning: DataFrame is highly fragmented.  This is usually the result of calling `frame.insert` many times, which has poor performance.  Consider joining all columns at once using pd.concat(axis=1) instead.  To get a de-fragmented frame, use `newframe = frame.copy()`\n",
      "  iv_ok_fea = get_good_fea_list(df, full_fea, False)\n",
      "C:\\Users\\litia\\AppData\\Local\\Temp/ipykernel_19404/1116350120.py:6: PerformanceWarning: DataFrame is highly fragmented.  This is usually the result of calling `frame.insert` many times, which has poor performance.  Consider joining all columns at once using pd.concat(axis=1) instead.  To get a de-fragmented frame, use `newframe = frame.copy()`\n",
      "  iv_ok_fea = get_good_fea_list(df, full_fea, False)\n"
     ]
    },
    {
     "name": "stdout",
     "output_type": "stream",
     "text": [
      "gini use time:  0.1566162109375\n",
      "iv 用时： 0.0019872188568115234\n",
      "kf use time:  0.00798344612121582\n",
      "fea: fea_169\tiv_gini: 0.000\t iv_iv: 0.000\t iv_kf: 0.000\n",
      "\n"
     ]
    },
    {
     "name": "stderr",
     "output_type": "stream",
     "text": [
      "C:\\Users\\litia\\AppData\\Local\\Temp/ipykernel_19404/1116350120.py:6: PerformanceWarning: DataFrame is highly fragmented.  This is usually the result of calling `frame.insert` many times, which has poor performance.  Consider joining all columns at once using pd.concat(axis=1) instead.  To get a de-fragmented frame, use `newframe = frame.copy()`\n",
      "  iv_ok_fea = get_good_fea_list(df, full_fea, False)\n"
     ]
    },
    {
     "name": "stdout",
     "output_type": "stream",
     "text": [
      "gini use time:  1.3327665328979492\n",
      "iv 用时： 0.003988981246948242\n"
     ]
    },
    {
     "name": "stderr",
     "output_type": "stream",
     "text": [
      "C:\\Users\\litia\\AppData\\Local\\Temp/ipykernel_19404/941026484.py:22: RuntimeWarning: invalid value encountered in true_divide\n",
      "  tmp_v = (freq_array - E_nums) ** 2 / E_nums\n"
     ]
    },
    {
     "name": "stdout",
     "output_type": "stream",
     "text": [
      "kf use time:  0.34615111351013184\n",
      "fea: fea_170\tiv_gini: 0.327\t iv_iv: 0.385\t iv_kf: 0.340\n",
      "\n",
      "gini use time:  0.18251466751098633\n"
     ]
    },
    {
     "name": "stderr",
     "output_type": "stream",
     "text": [
      "C:\\Users\\litia\\AppData\\Local\\Temp/ipykernel_19404/1116350120.py:6: PerformanceWarning: DataFrame is highly fragmented.  This is usually the result of calling `frame.insert` many times, which has poor performance.  Consider joining all columns at once using pd.concat(axis=1) instead.  To get a de-fragmented frame, use `newframe = frame.copy()`\n",
      "  iv_ok_fea = get_good_fea_list(df, full_fea, False)\n"
     ]
    },
    {
     "name": "stdout",
     "output_type": "stream",
     "text": [
      "iv 用时： 0.001959562301635742\n",
      "kf use time:  0.008976936340332031\n",
      "fea: fea_171\tiv_gini: 0.000\t iv_iv: 0.000\t iv_kf: 0.000\n",
      "\n",
      "gini use time:  0.15358996391296387\n",
      "iv 用时： 0.0020253658294677734\n",
      "kf use time:  0.006978273391723633\n",
      "fea: fea_172\tiv_gini: 0.000\t iv_iv: 0.000\t iv_kf: 0.000\n",
      "\n"
     ]
    },
    {
     "name": "stderr",
     "output_type": "stream",
     "text": [
      "C:\\Users\\litia\\AppData\\Local\\Temp/ipykernel_19404/1116350120.py:6: PerformanceWarning: DataFrame is highly fragmented.  This is usually the result of calling `frame.insert` many times, which has poor performance.  Consider joining all columns at once using pd.concat(axis=1) instead.  To get a de-fragmented frame, use `newframe = frame.copy()`\n",
      "  iv_ok_fea = get_good_fea_list(df, full_fea, False)\n",
      "C:\\Users\\litia\\AppData\\Local\\Temp/ipykernel_19404/1116350120.py:6: PerformanceWarning: DataFrame is highly fragmented.  This is usually the result of calling `frame.insert` many times, which has poor performance.  Consider joining all columns at once using pd.concat(axis=1) instead.  To get a de-fragmented frame, use `newframe = frame.copy()`\n",
      "  iv_ok_fea = get_good_fea_list(df, full_fea, False)\n"
     ]
    },
    {
     "name": "stdout",
     "output_type": "stream",
     "text": [
      "gini use time:  0.16221952438354492\n",
      "iv 用时： 0.0009968280792236328\n",
      "kf use time:  0.009008407592773438\n",
      "fea: fea_173\tiv_gini: 0.000\t iv_iv: 0.000\t iv_kf: 0.011\n",
      "\n",
      "gini use time:  0.15658164024353027\n",
      "iv 用时： 0.0019626617431640625\n",
      "kf use time:  0.008975982666015625\n"
     ]
    },
    {
     "name": "stderr",
     "output_type": "stream",
     "text": [
      "C:\\Users\\litia\\AppData\\Local\\Temp/ipykernel_19404/1116350120.py:6: PerformanceWarning: DataFrame is highly fragmented.  This is usually the result of calling `frame.insert` many times, which has poor performance.  Consider joining all columns at once using pd.concat(axis=1) instead.  To get a de-fragmented frame, use `newframe = frame.copy()`\n",
      "  iv_ok_fea = get_good_fea_list(df, full_fea, False)\n",
      "C:\\Users\\litia\\AppData\\Local\\Temp/ipykernel_19404/1116350120.py:6: PerformanceWarning: DataFrame is highly fragmented.  This is usually the result of calling `frame.insert` many times, which has poor performance.  Consider joining all columns at once using pd.concat(axis=1) instead.  To get a de-fragmented frame, use `newframe = frame.copy()`\n",
      "  iv_ok_fea = get_good_fea_list(df, full_fea, False)\n"
     ]
    },
    {
     "name": "stdout",
     "output_type": "stream",
     "text": [
      "fea: fea_174\tiv_gini: 0.000\t iv_iv: 0.000\t iv_kf: 0.027\n",
      "\n",
      "gini use time:  0.16474604606628418\n",
      "iv 用时： 0.0019922256469726562\n",
      "kf use time:  0.008976459503173828\n",
      "fea: fea_175\tiv_gini: 0.000\t iv_iv: 0.000\t iv_kf: 0.062\n",
      "\n"
     ]
    },
    {
     "name": "stderr",
     "output_type": "stream",
     "text": [
      "C:\\Users\\litia\\AppData\\Local\\Temp/ipykernel_19404/1116350120.py:6: PerformanceWarning: DataFrame is highly fragmented.  This is usually the result of calling `frame.insert` many times, which has poor performance.  Consider joining all columns at once using pd.concat(axis=1) instead.  To get a de-fragmented frame, use `newframe = frame.copy()`\n",
      "  iv_ok_fea = get_good_fea_list(df, full_fea, False)\n"
     ]
    },
    {
     "name": "stdout",
     "output_type": "stream",
     "text": [
      "gini use time:  0.7500298023223877\n",
      "iv 用时： 0.003954648971557617\n"
     ]
    },
    {
     "name": "stderr",
     "output_type": "stream",
     "text": [
      "C:\\Users\\litia\\AppData\\Local\\Temp/ipykernel_19404/941026484.py:22: RuntimeWarning: invalid value encountered in true_divide\n",
      "  tmp_v = (freq_array - E_nums) ** 2 / E_nums\n"
     ]
    },
    {
     "name": "stdout",
     "output_type": "stream",
     "text": [
      "kf use time:  0.53670334815979\n",
      "fea: fea_176\tiv_gini: 0.440\t iv_iv: 0.515\t iv_kf: 0.441\n",
      "\n"
     ]
    },
    {
     "name": "stderr",
     "output_type": "stream",
     "text": [
      "C:\\Users\\litia\\AppData\\Local\\Temp/ipykernel_19404/1116350120.py:6: PerformanceWarning: DataFrame is highly fragmented.  This is usually the result of calling `frame.insert` many times, which has poor performance.  Consider joining all columns at once using pd.concat(axis=1) instead.  To get a de-fragmented frame, use `newframe = frame.copy()`\n",
      "  iv_ok_fea = get_good_fea_list(df, full_fea, False)\n"
     ]
    },
    {
     "name": "stdout",
     "output_type": "stream",
     "text": [
      "gini use time:  0.7452375888824463\n",
      "iv 用时： 0.0030214786529541016\n"
     ]
    },
    {
     "name": "stderr",
     "output_type": "stream",
     "text": [
      "C:\\Users\\litia\\AppData\\Local\\Temp/ipykernel_19404/941026484.py:22: RuntimeWarning: invalid value encountered in true_divide\n",
      "  tmp_v = (freq_array - E_nums) ** 2 / E_nums\n"
     ]
    },
    {
     "name": "stdout",
     "output_type": "stream",
     "text": [
      "kf use time:  0.3034541606903076\n",
      "fea: fea_177\tiv_gini: 0.164\t iv_iv: 0.182\t iv_kf: 0.154\n",
      "\n",
      "gini use time:  0.16054368019104004\n",
      "iv 用时： 0.0009963512420654297\n",
      "kf use time:  0.00797891616821289\n",
      "fea: fea_178\tiv_gini: 0.000\t iv_iv: 0.000\t iv_kf: 0.031\n",
      "\n"
     ]
    },
    {
     "name": "stderr",
     "output_type": "stream",
     "text": [
      "C:\\Users\\litia\\AppData\\Local\\Temp/ipykernel_19404/1116350120.py:6: PerformanceWarning: DataFrame is highly fragmented.  This is usually the result of calling `frame.insert` many times, which has poor performance.  Consider joining all columns at once using pd.concat(axis=1) instead.  To get a de-fragmented frame, use `newframe = frame.copy()`\n",
      "  iv_ok_fea = get_good_fea_list(df, full_fea, False)\n",
      "C:\\Users\\litia\\AppData\\Local\\Temp/ipykernel_19404/1116350120.py:6: PerformanceWarning: DataFrame is highly fragmented.  This is usually the result of calling `frame.insert` many times, which has poor performance.  Consider joining all columns at once using pd.concat(axis=1) instead.  To get a de-fragmented frame, use `newframe = frame.copy()`\n",
      "  iv_ok_fea = get_good_fea_list(df, full_fea, False)\n"
     ]
    },
    {
     "name": "stdout",
     "output_type": "stream",
     "text": [
      "gini use time:  0.16067743301391602\n",
      "iv 用时： 0.0009961128234863281\n",
      "kf use time:  0.007978677749633789\n",
      "fea: fea_179\tiv_gini: 0.000\t iv_iv: 0.000\t iv_kf: 0.003\n",
      "\n",
      "gini use time:  0.15558457374572754\n",
      "iv 用时： 0.000997304916381836\n",
      "kf use time:  0.008007526397705078\n",
      "fea: fea_180\tiv_gini: 0.000\t iv_iv: 0.000\t iv_kf: 0.000\n",
      "\n"
     ]
    },
    {
     "name": "stderr",
     "output_type": "stream",
     "text": [
      "C:\\Users\\litia\\AppData\\Local\\Temp/ipykernel_19404/1116350120.py:6: PerformanceWarning: DataFrame is highly fragmented.  This is usually the result of calling `frame.insert` many times, which has poor performance.  Consider joining all columns at once using pd.concat(axis=1) instead.  To get a de-fragmented frame, use `newframe = frame.copy()`\n",
      "  iv_ok_fea = get_good_fea_list(df, full_fea, False)\n",
      "C:\\Users\\litia\\AppData\\Local\\Temp/ipykernel_19404/1116350120.py:6: PerformanceWarning: DataFrame is highly fragmented.  This is usually the result of calling `frame.insert` many times, which has poor performance.  Consider joining all columns at once using pd.concat(axis=1) instead.  To get a de-fragmented frame, use `newframe = frame.copy()`\n",
      "  iv_ok_fea = get_good_fea_list(df, full_fea, False)\n"
     ]
    },
    {
     "name": "stdout",
     "output_type": "stream",
     "text": [
      "gini use time:  0.9824676513671875\n",
      "iv 用时： 0.0029916763305664062\n"
     ]
    },
    {
     "name": "stderr",
     "output_type": "stream",
     "text": [
      "C:\\Users\\litia\\AppData\\Local\\Temp/ipykernel_19404/941026484.py:22: RuntimeWarning: invalid value encountered in true_divide\n",
      "  tmp_v = (freq_array - E_nums) ** 2 / E_nums\n"
     ]
    },
    {
     "name": "stdout",
     "output_type": "stream",
     "text": [
      "kf use time:  0.26859498023986816\n",
      "fea: fea_181\tiv_gini: 0.268\t iv_iv: 0.302\t iv_kf: 0.262\n",
      "\n",
      "gini use time:  0.16456031799316406\n",
      "iv 用时： 0.0019943714141845703\n",
      "kf use time:  0.00797891616821289\n"
     ]
    },
    {
     "name": "stderr",
     "output_type": "stream",
     "text": [
      "C:\\Users\\litia\\AppData\\Local\\Temp/ipykernel_19404/1116350120.py:6: PerformanceWarning: DataFrame is highly fragmented.  This is usually the result of calling `frame.insert` many times, which has poor performance.  Consider joining all columns at once using pd.concat(axis=1) instead.  To get a de-fragmented frame, use `newframe = frame.copy()`\n",
      "  iv_ok_fea = get_good_fea_list(df, full_fea, False)\n",
      "C:\\Users\\litia\\AppData\\Local\\Temp/ipykernel_19404/1116350120.py:6: PerformanceWarning: DataFrame is highly fragmented.  This is usually the result of calling `frame.insert` many times, which has poor performance.  Consider joining all columns at once using pd.concat(axis=1) instead.  To get a de-fragmented frame, use `newframe = frame.copy()`\n",
      "  iv_ok_fea = get_good_fea_list(df, full_fea, False)\n"
     ]
    },
    {
     "name": "stdout",
     "output_type": "stream",
     "text": [
      "fea: fea_182\tiv_gini: 0.000\t iv_iv: 0.000\t iv_kf: 0.000\n",
      "\n",
      "gini use time:  0.16456222534179688\n",
      "iv 用时： 0.000997781753540039\n",
      "kf use time:  0.0069811344146728516\n",
      "fea: fea_183\tiv_gini: 0.000\t iv_iv: 0.000\t iv_kf: 0.000\n",
      "\n"
     ]
    },
    {
     "name": "stderr",
     "output_type": "stream",
     "text": [
      "C:\\Users\\litia\\AppData\\Local\\Temp/ipykernel_19404/1116350120.py:6: PerformanceWarning: DataFrame is highly fragmented.  This is usually the result of calling `frame.insert` many times, which has poor performance.  Consider joining all columns at once using pd.concat(axis=1) instead.  To get a de-fragmented frame, use `newframe = frame.copy()`\n",
      "  iv_ok_fea = get_good_fea_list(df, full_fea, False)\n",
      "C:\\Users\\litia\\AppData\\Local\\Temp/ipykernel_19404/1116350120.py:6: PerformanceWarning: DataFrame is highly fragmented.  This is usually the result of calling `frame.insert` many times, which has poor performance.  Consider joining all columns at once using pd.concat(axis=1) instead.  To get a de-fragmented frame, use `newframe = frame.copy()`\n",
      "  iv_ok_fea = get_good_fea_list(df, full_fea, False)\n"
     ]
    },
    {
     "name": "stdout",
     "output_type": "stream",
     "text": [
      "gini use time:  0.16057038307189941\n",
      "iv 用时： 0.0009984970092773438\n",
      "kf use time:  0.007977962493896484\n",
      "fea: fea_184\tiv_gini: 0.000\t iv_iv: 0.000\t iv_kf: 0.004\n",
      "\n",
      "gini use time:  0.16057133674621582\n",
      "iv 用时： 0.0019941329956054688\n",
      "kf use time:  0.007979154586791992\n",
      "fea: fea_185\tiv_gini: 0.000\t iv_iv: 0.000\t iv_kf: 0.001\n",
      "\n"
     ]
    },
    {
     "name": "stderr",
     "output_type": "stream",
     "text": [
      "C:\\Users\\litia\\AppData\\Local\\Temp/ipykernel_19404/1116350120.py:6: PerformanceWarning: DataFrame is highly fragmented.  This is usually the result of calling `frame.insert` many times, which has poor performance.  Consider joining all columns at once using pd.concat(axis=1) instead.  To get a de-fragmented frame, use `newframe = frame.copy()`\n",
      "  iv_ok_fea = get_good_fea_list(df, full_fea, False)\n",
      "C:\\Users\\litia\\AppData\\Local\\Temp/ipykernel_19404/1116350120.py:6: PerformanceWarning: DataFrame is highly fragmented.  This is usually the result of calling `frame.insert` many times, which has poor performance.  Consider joining all columns at once using pd.concat(axis=1) instead.  To get a de-fragmented frame, use `newframe = frame.copy()`\n",
      "  iv_ok_fea = get_good_fea_list(df, full_fea, False)\n"
     ]
    },
    {
     "name": "stdout",
     "output_type": "stream",
     "text": [
      "gini use time:  0.15957379341125488\n",
      "iv 用时： 0.0009970664978027344\n",
      "kf use time:  0.008975744247436523\n",
      "fea: fea_186\tiv_gini: 0.000\t iv_iv: 0.000\t iv_kf: 0.062\n",
      "\n",
      "gini use time:  1.0186717510223389\n",
      "iv 用时： 0.003989219665527344\n"
     ]
    },
    {
     "name": "stderr",
     "output_type": "stream",
     "text": [
      "C:\\Users\\litia\\AppData\\Local\\Temp/ipykernel_19404/941026484.py:22: RuntimeWarning: invalid value encountered in true_divide\n",
      "  tmp_v = (freq_array - E_nums) ** 2 / E_nums\n"
     ]
    },
    {
     "name": "stdout",
     "output_type": "stream",
     "text": [
      "kf use time:  0.4801013469696045\n",
      "fea: fea_187\tiv_gini: 0.339\t iv_iv: 0.382\t iv_kf: 0.422\n",
      "\n"
     ]
    },
    {
     "name": "stderr",
     "output_type": "stream",
     "text": [
      "C:\\Users\\litia\\AppData\\Local\\Temp/ipykernel_19404/1116350120.py:6: PerformanceWarning: DataFrame is highly fragmented.  This is usually the result of calling `frame.insert` many times, which has poor performance.  Consider joining all columns at once using pd.concat(axis=1) instead.  To get a de-fragmented frame, use `newframe = frame.copy()`\n",
      "  iv_ok_fea = get_good_fea_list(df, full_fea, False)\n"
     ]
    },
    {
     "name": "stdout",
     "output_type": "stream",
     "text": [
      "gini use time:  1.026278018951416\n",
      "iv 用时： 0.002991914749145508\n"
     ]
    },
    {
     "name": "stderr",
     "output_type": "stream",
     "text": [
      "C:\\Users\\litia\\AppData\\Local\\Temp/ipykernel_19404/941026484.py:22: RuntimeWarning: invalid value encountered in true_divide\n",
      "  tmp_v = (freq_array - E_nums) ** 2 / E_nums\n"
     ]
    },
    {
     "name": "stdout",
     "output_type": "stream",
     "text": [
      "kf use time:  0.30518484115600586\n",
      "fea: fea_188\tiv_gini: 0.167\t iv_iv: 0.191\t iv_kf: 0.164\n",
      "\n",
      "gini use time:  0.16456127166748047\n",
      "iv 用时： 0.0009961128234863281\n",
      "kf use time:  0.009974241256713867\n",
      "fea: fea_189\tiv_gini: 0.000\t iv_iv: 0.000\t iv_kf: 0.062\n",
      "\n"
     ]
    },
    {
     "name": "stderr",
     "output_type": "stream",
     "text": [
      "C:\\Users\\litia\\AppData\\Local\\Temp/ipykernel_19404/1116350120.py:6: PerformanceWarning: DataFrame is highly fragmented.  This is usually the result of calling `frame.insert` many times, which has poor performance.  Consider joining all columns at once using pd.concat(axis=1) instead.  To get a de-fragmented frame, use `newframe = frame.copy()`\n",
      "  iv_ok_fea = get_good_fea_list(df, full_fea, False)\n",
      "C:\\Users\\litia\\AppData\\Local\\Temp/ipykernel_19404/1116350120.py:6: PerformanceWarning: DataFrame is highly fragmented.  This is usually the result of calling `frame.insert` many times, which has poor performance.  Consider joining all columns at once using pd.concat(axis=1) instead.  To get a de-fragmented frame, use `newframe = frame.copy()`\n",
      "  iv_ok_fea = get_good_fea_list(df, full_fea, False)\n"
     ]
    },
    {
     "name": "stdout",
     "output_type": "stream",
     "text": [
      "gini use time:  0.16206121444702148\n",
      "iv 用时： 0.0019948482513427734\n",
      "kf use time:  0.008976221084594727\n",
      "fea: fea_190\tiv_gini: 0.000\t iv_iv: 0.000\t iv_kf: 0.064\n",
      "\n",
      "gini use time:  0.15857672691345215\n",
      "iv 用时： 0.0009965896606445312\n",
      "kf use time:  0.00797891616821289\n",
      "fea: fea_191\tiv_gini: 0.000\t iv_iv: 0.000\t iv_kf: 0.000\n",
      "\n"
     ]
    },
    {
     "name": "stderr",
     "output_type": "stream",
     "text": [
      "C:\\Users\\litia\\AppData\\Local\\Temp/ipykernel_19404/1116350120.py:6: PerformanceWarning: DataFrame is highly fragmented.  This is usually the result of calling `frame.insert` many times, which has poor performance.  Consider joining all columns at once using pd.concat(axis=1) instead.  To get a de-fragmented frame, use `newframe = frame.copy()`\n",
      "  iv_ok_fea = get_good_fea_list(df, full_fea, False)\n",
      "C:\\Users\\litia\\AppData\\Local\\Temp/ipykernel_19404/1116350120.py:6: PerformanceWarning: DataFrame is highly fragmented.  This is usually the result of calling `frame.insert` many times, which has poor performance.  Consider joining all columns at once using pd.concat(axis=1) instead.  To get a de-fragmented frame, use `newframe = frame.copy()`\n",
      "  iv_ok_fea = get_good_fea_list(df, full_fea, False)\n"
     ]
    },
    {
     "name": "stdout",
     "output_type": "stream",
     "text": [
      "gini use time:  0.16156792640686035\n",
      "iv 用时： 0.000997304916381836\n",
      "kf use time:  0.007979154586791992\n",
      "fea: fea_192\tiv_gini: 0.000\t iv_iv: 0.000\t iv_kf: 0.000\n",
      "\n",
      "gini use time:  0.12067699432373047\n",
      "iv 用时： 0.0019948482513427734\n",
      "kf use time:  0.007980823516845703\n",
      "fea: fea_193\tiv_gini: 0.000\t iv_iv: 0.000\t iv_kf: 0.000\n",
      "\n"
     ]
    },
    {
     "name": "stderr",
     "output_type": "stream",
     "text": [
      "C:\\Users\\litia\\AppData\\Local\\Temp/ipykernel_19404/1116350120.py:6: PerformanceWarning: DataFrame is highly fragmented.  This is usually the result of calling `frame.insert` many times, which has poor performance.  Consider joining all columns at once using pd.concat(axis=1) instead.  To get a de-fragmented frame, use `newframe = frame.copy()`\n",
      "  iv_ok_fea = get_good_fea_list(df, full_fea, False)\n",
      "C:\\Users\\litia\\AppData\\Local\\Temp/ipykernel_19404/1116350120.py:6: PerformanceWarning: DataFrame is highly fragmented.  This is usually the result of calling `frame.insert` many times, which has poor performance.  Consider joining all columns at once using pd.concat(axis=1) instead.  To get a de-fragmented frame, use `newframe = frame.copy()`\n",
      "  iv_ok_fea = get_good_fea_list(df, full_fea, False)\n"
     ]
    },
    {
     "name": "stdout",
     "output_type": "stream",
     "text": [
      "gini use time:  0.07579565048217773\n",
      "iv 用时： 0.0009899139404296875\n",
      "kf use time:  0.008976936340332031\n",
      "fea: fea_194\tiv_gini: 0.000\t iv_iv: 0.000\t iv_kf: 0.000\n",
      "\n",
      "gini use time:  0.07779145240783691\n",
      "iv 用时： 0.0009980201721191406\n",
      "kf use time:  0.007977724075317383\n",
      "fea: fea_195\tiv_gini: 0.000\t iv_iv: 0.000\t iv_kf: 0.000\n",
      "\n"
     ]
    },
    {
     "name": "stderr",
     "output_type": "stream",
     "text": [
      "C:\\Users\\litia\\AppData\\Local\\Temp/ipykernel_19404/1116350120.py:6: PerformanceWarning: DataFrame is highly fragmented.  This is usually the result of calling `frame.insert` many times, which has poor performance.  Consider joining all columns at once using pd.concat(axis=1) instead.  To get a de-fragmented frame, use `newframe = frame.copy()`\n",
      "  iv_ok_fea = get_good_fea_list(df, full_fea, False)\n",
      "C:\\Users\\litia\\AppData\\Local\\Temp/ipykernel_19404/1116350120.py:6: PerformanceWarning: DataFrame is highly fragmented.  This is usually the result of calling `frame.insert` many times, which has poor performance.  Consider joining all columns at once using pd.concat(axis=1) instead.  To get a de-fragmented frame, use `newframe = frame.copy()`\n",
      "  iv_ok_fea = get_good_fea_list(df, full_fea, False)\n"
     ]
    },
    {
     "name": "stdout",
     "output_type": "stream",
     "text": [
      "gini use time:  0.1216745376586914\n",
      "iv 用时： 0.0019948482513427734\n",
      "kf use time:  0.009975194931030273\n",
      "fea: fea_196\tiv_gini: 0.000\t iv_iv: 0.000\t iv_kf: 0.000\n",
      "\n",
      "gini use time:  0.1242218017578125\n",
      "iv 用时： 0.000985860824584961\n",
      "kf use time:  0.007978439331054688\n",
      "fea: fea_197\tiv_gini: 0.000\t iv_iv: 0.000\t iv_kf: 0.000\n",
      "\n"
     ]
    },
    {
     "name": "stderr",
     "output_type": "stream",
     "text": [
      "C:\\Users\\litia\\AppData\\Local\\Temp/ipykernel_19404/1116350120.py:6: PerformanceWarning: DataFrame is highly fragmented.  This is usually the result of calling `frame.insert` many times, which has poor performance.  Consider joining all columns at once using pd.concat(axis=1) instead.  To get a de-fragmented frame, use `newframe = frame.copy()`\n",
      "  iv_ok_fea = get_good_fea_list(df, full_fea, False)\n",
      "C:\\Users\\litia\\AppData\\Local\\Temp/ipykernel_19404/1116350120.py:6: PerformanceWarning: DataFrame is highly fragmented.  This is usually the result of calling `frame.insert` many times, which has poor performance.  Consider joining all columns at once using pd.concat(axis=1) instead.  To get a de-fragmented frame, use `newframe = frame.copy()`\n",
      "  iv_ok_fea = get_good_fea_list(df, full_fea, False)\n"
     ]
    },
    {
     "name": "stdout",
     "output_type": "stream",
     "text": [
      "gini use time:  1.385941982269287\n",
      "iv 用时： 0.004020214080810547\n"
     ]
    },
    {
     "name": "stderr",
     "output_type": "stream",
     "text": [
      "C:\\Users\\litia\\AppData\\Local\\Temp/ipykernel_19404/941026484.py:22: RuntimeWarning: invalid value encountered in true_divide\n",
      "  tmp_v = (freq_array - E_nums) ** 2 / E_nums\n"
     ]
    },
    {
     "name": "stdout",
     "output_type": "stream",
     "text": [
      "kf use time:  0.46176934242248535\n",
      "fea: fea_198\tiv_gini: 0.355\t iv_iv: 0.408\t iv_kf: 0.370\n",
      "\n"
     ]
    },
    {
     "name": "stderr",
     "output_type": "stream",
     "text": [
      "C:\\Users\\litia\\AppData\\Local\\Temp/ipykernel_19404/1116350120.py:6: PerformanceWarning: DataFrame is highly fragmented.  This is usually the result of calling `frame.insert` many times, which has poor performance.  Consider joining all columns at once using pd.concat(axis=1) instead.  To get a de-fragmented frame, use `newframe = frame.copy()`\n",
      "  iv_ok_fea = get_good_fea_list(df, full_fea, False)\n"
     ]
    },
    {
     "name": "stdout",
     "output_type": "stream",
     "text": [
      "gini use time:  1.3393356800079346\n",
      "iv 用时： 0.004020214080810547\n"
     ]
    },
    {
     "name": "stderr",
     "output_type": "stream",
     "text": [
      "C:\\Users\\litia\\AppData\\Local\\Temp/ipykernel_19404/941026484.py:22: RuntimeWarning: invalid value encountered in true_divide\n",
      "  tmp_v = (freq_array - E_nums) ** 2 / E_nums\n"
     ]
    },
    {
     "name": "stdout",
     "output_type": "stream",
     "text": [
      "kf use time:  0.29979515075683594\n",
      "fea: fea_199\tiv_gini: 0.139\t iv_iv: 0.189\t iv_kf: 0.130\n",
      "\n",
      "gini use time:  0.17250561714172363\n",
      "iv 用时： 0.0019943714141845703\n",
      "kf use time:  0.00897669792175293\n"
     ]
    },
    {
     "name": "stderr",
     "output_type": "stream",
     "text": [
      "C:\\Users\\litia\\AppData\\Local\\Temp/ipykernel_19404/1116350120.py:6: PerformanceWarning: DataFrame is highly fragmented.  This is usually the result of calling `frame.insert` many times, which has poor performance.  Consider joining all columns at once using pd.concat(axis=1) instead.  To get a de-fragmented frame, use `newframe = frame.copy()`\n",
      "  iv_ok_fea = get_good_fea_list(df, full_fea, False)\n",
      "C:\\Users\\litia\\AppData\\Local\\Temp/ipykernel_19404/1116350120.py:6: PerformanceWarning: DataFrame is highly fragmented.  This is usually the result of calling `frame.insert` many times, which has poor performance.  Consider joining all columns at once using pd.concat(axis=1) instead.  To get a de-fragmented frame, use `newframe = frame.copy()`\n",
      "  iv_ok_fea = get_good_fea_list(df, full_fea, False)\n",
      "C:\\Users\\litia\\AppData\\Local\\Temp/ipykernel_19404/1116350120.py:6: PerformanceWarning: DataFrame is highly fragmented.  This is usually the result of calling `frame.insert` many times, which has poor performance.  Consider joining all columns at once using pd.concat(axis=1) instead.  To get a de-fragmented frame, use `newframe = frame.copy()`\n",
      "  iv_ok_fea = get_good_fea_list(df, full_fea, False)\n"
     ]
    },
    {
     "name": "stdout",
     "output_type": "stream",
     "text": [
      "fea: fea_200\tiv_gini: 0.000\t iv_iv: 0.000\t iv_kf: 0.031\n",
      "\n",
      "gini use time:  0.1675701141357422\n",
      "iv 用时： 0.0009791851043701172\n",
      "kf use time:  0.008978605270385742\n",
      "fea: fea_201\tiv_gini: 0.000\t iv_iv: 0.000\t iv_kf: 0.063\n",
      "\n",
      "gini use time:  0.17080283164978027\n",
      "iv 用时： 0.001024007797241211\n",
      "kf use time:  0.007951736450195312\n",
      "fea: fea_202\tiv_gini: 0.000\t iv_iv: 0.000\t iv_kf: 0.000\n",
      "\n",
      "gini use time:  0.16456317901611328\n",
      "iv 用时： 0.0019915103912353516\n",
      "kf use time:  0.007978677749633789\n"
     ]
    },
    {
     "name": "stderr",
     "output_type": "stream",
     "text": [
      "C:\\Users\\litia\\AppData\\Local\\Temp/ipykernel_19404/1116350120.py:6: PerformanceWarning: DataFrame is highly fragmented.  This is usually the result of calling `frame.insert` many times, which has poor performance.  Consider joining all columns at once using pd.concat(axis=1) instead.  To get a de-fragmented frame, use `newframe = frame.copy()`\n",
      "  iv_ok_fea = get_good_fea_list(df, full_fea, False)\n",
      "C:\\Users\\litia\\AppData\\Local\\Temp/ipykernel_19404/1116350120.py:6: PerformanceWarning: DataFrame is highly fragmented.  This is usually the result of calling `frame.insert` many times, which has poor performance.  Consider joining all columns at once using pd.concat(axis=1) instead.  To get a de-fragmented frame, use `newframe = frame.copy()`\n",
      "  iv_ok_fea = get_good_fea_list(df, full_fea, False)\n"
     ]
    },
    {
     "name": "stdout",
     "output_type": "stream",
     "text": [
      "fea: fea_203\tiv_gini: 0.000\t iv_iv: 0.000\t iv_kf: 0.000\n",
      "\n",
      "gini use time:  0.09375143051147461\n",
      "iv 用时： 0.001992940902709961\n",
      "kf use time:  0.007978439331054688\n",
      "fea: fea_204\tiv_gini: 0.000\t iv_iv: 0.000\t iv_kf: 0.000\n",
      "\n",
      "gini use time:  0.08577299118041992\n",
      "iv 用时： 0.0009951591491699219\n",
      "kf use time:  0.007978200912475586\n"
     ]
    },
    {
     "name": "stderr",
     "output_type": "stream",
     "text": [
      "C:\\Users\\litia\\AppData\\Local\\Temp/ipykernel_19404/1116350120.py:6: PerformanceWarning: DataFrame is highly fragmented.  This is usually the result of calling `frame.insert` many times, which has poor performance.  Consider joining all columns at once using pd.concat(axis=1) instead.  To get a de-fragmented frame, use `newframe = frame.copy()`\n",
      "  iv_ok_fea = get_good_fea_list(df, full_fea, False)\n",
      "C:\\Users\\litia\\AppData\\Local\\Temp/ipykernel_19404/1116350120.py:6: PerformanceWarning: DataFrame is highly fragmented.  This is usually the result of calling `frame.insert` many times, which has poor performance.  Consider joining all columns at once using pd.concat(axis=1) instead.  To get a de-fragmented frame, use `newframe = frame.copy()`\n",
      "  iv_ok_fea = get_good_fea_list(df, full_fea, False)\n"
     ]
    },
    {
     "name": "stdout",
     "output_type": "stream",
     "text": [
      "fea: fea_205\tiv_gini: 0.000\t iv_iv: 0.000\t iv_kf: 0.000\n",
      "\n",
      "gini use time:  0.08577132225036621\n",
      "iv 用时： 0.0009968280792236328\n",
      "kf use time:  0.007978677749633789\n",
      "fea: fea_206\tiv_gini: 0.000\t iv_iv: 0.000\t iv_kf: 0.000\n",
      "\n",
      "gini use time:  0.08178234100341797\n",
      "iv 用时： 0.0009975433349609375\n",
      "kf use time:  0.00797724723815918\n",
      "fea: fea_207\tiv_gini: 0.000\t iv_iv: 0.000\t iv_kf: 0.000\n",
      "\n"
     ]
    },
    {
     "name": "stderr",
     "output_type": "stream",
     "text": [
      "C:\\Users\\litia\\AppData\\Local\\Temp/ipykernel_19404/1116350120.py:6: PerformanceWarning: DataFrame is highly fragmented.  This is usually the result of calling `frame.insert` many times, which has poor performance.  Consider joining all columns at once using pd.concat(axis=1) instead.  To get a de-fragmented frame, use `newframe = frame.copy()`\n",
      "  iv_ok_fea = get_good_fea_list(df, full_fea, False)\n",
      "C:\\Users\\litia\\AppData\\Local\\Temp/ipykernel_19404/1116350120.py:6: PerformanceWarning: DataFrame is highly fragmented.  This is usually the result of calling `frame.insert` many times, which has poor performance.  Consider joining all columns at once using pd.concat(axis=1) instead.  To get a de-fragmented frame, use `newframe = frame.copy()`\n",
      "  iv_ok_fea = get_good_fea_list(df, full_fea, False)\n"
     ]
    },
    {
     "name": "stdout",
     "output_type": "stream",
     "text": [
      "gini use time:  0.13164854049682617\n",
      "iv 用时： 0.0019948482513427734\n",
      "kf use time:  0.00797891616821289\n",
      "fea: fea_208\tiv_gini: 0.000\t iv_iv: 0.000\t iv_kf: 0.000\n",
      "\n"
     ]
    },
    {
     "name": "stderr",
     "output_type": "stream",
     "text": [
      "C:\\Users\\litia\\AppData\\Local\\Temp/ipykernel_19404/1116350120.py:6: PerformanceWarning: DataFrame is highly fragmented.  This is usually the result of calling `frame.insert` many times, which has poor performance.  Consider joining all columns at once using pd.concat(axis=1) instead.  To get a de-fragmented frame, use `newframe = frame.copy()`\n",
      "  iv_ok_fea = get_good_fea_list(df, full_fea, False)\n"
     ]
    },
    {
     "name": "stdout",
     "output_type": "stream",
     "text": [
      "gini use time:  1.5737593173980713\n",
      "iv 用时： 0.003988742828369141\n"
     ]
    },
    {
     "name": "stderr",
     "output_type": "stream",
     "text": [
      "C:\\Users\\litia\\AppData\\Local\\Temp/ipykernel_19404/941026484.py:22: RuntimeWarning: invalid value encountered in true_divide\n",
      "  tmp_v = (freq_array - E_nums) ** 2 / E_nums\n"
     ]
    },
    {
     "name": "stdout",
     "output_type": "stream",
     "text": [
      "kf use time:  0.45880579948425293\n",
      "fea: fea_209\tiv_gini: 0.439\t iv_iv: 0.510\t iv_kf: 0.486\n",
      "\n",
      "gini use time:  0.17350459098815918\n",
      "iv 用时： 0.001995563507080078\n",
      "kf use time:  0.00997304916381836\n"
     ]
    },
    {
     "name": "stderr",
     "output_type": "stream",
     "text": [
      "C:\\Users\\litia\\AppData\\Local\\Temp/ipykernel_19404/1116350120.py:6: PerformanceWarning: DataFrame is highly fragmented.  This is usually the result of calling `frame.insert` many times, which has poor performance.  Consider joining all columns at once using pd.concat(axis=1) instead.  To get a de-fragmented frame, use `newframe = frame.copy()`\n",
      "  iv_ok_fea = get_good_fea_list(df, full_fea, False)\n",
      "C:\\Users\\litia\\AppData\\Local\\Temp/ipykernel_19404/1116350120.py:6: PerformanceWarning: DataFrame is highly fragmented.  This is usually the result of calling `frame.insert` many times, which has poor performance.  Consider joining all columns at once using pd.concat(axis=1) instead.  To get a de-fragmented frame, use `newframe = frame.copy()`\n",
      "  iv_ok_fea = get_good_fea_list(df, full_fea, False)\n",
      "C:\\Users\\litia\\AppData\\Local\\Temp/ipykernel_19404/1116350120.py:6: PerformanceWarning: DataFrame is highly fragmented.  This is usually the result of calling `frame.insert` many times, which has poor performance.  Consider joining all columns at once using pd.concat(axis=1) instead.  To get a de-fragmented frame, use `newframe = frame.copy()`\n",
      "  iv_ok_fea = get_good_fea_list(df, full_fea, False)\n"
     ]
    },
    {
     "name": "stdout",
     "output_type": "stream",
     "text": [
      "fea: fea_210\tiv_gini: 0.000\t iv_iv: 0.000\t iv_kf: 0.033\n",
      "\n",
      "gini use time:  0.16926193237304688\n",
      "iv 用时： 0.00102996826171875\n",
      "kf use time:  0.006981372833251953\n",
      "fea: fea_211\tiv_gini: 0.000\t iv_iv: 0.000\t iv_kf: 0.030\n",
      "\n",
      "gini use time:  0.1765289306640625\n",
      "iv 用时： 0.0019941329956054688\n",
      "kf use time:  0.008975982666015625\n",
      "fea: fea_212\tiv_gini: 0.000\t iv_iv: 0.000\t iv_kf: 0.032\n",
      "\n",
      "gini use time:  0.1685490608215332\n",
      "iv 用时： 0.0009980201721191406\n",
      "kf use time:  0.008010625839233398\n"
     ]
    },
    {
     "name": "stderr",
     "output_type": "stream",
     "text": [
      "C:\\Users\\litia\\AppData\\Local\\Temp/ipykernel_19404/1116350120.py:6: PerformanceWarning: DataFrame is highly fragmented.  This is usually the result of calling `frame.insert` many times, which has poor performance.  Consider joining all columns at once using pd.concat(axis=1) instead.  To get a de-fragmented frame, use `newframe = frame.copy()`\n",
      "  iv_ok_fea = get_good_fea_list(df, full_fea, False)\n",
      "C:\\Users\\litia\\AppData\\Local\\Temp/ipykernel_19404/1116350120.py:6: PerformanceWarning: DataFrame is highly fragmented.  This is usually the result of calling `frame.insert` many times, which has poor performance.  Consider joining all columns at once using pd.concat(axis=1) instead.  To get a de-fragmented frame, use `newframe = frame.copy()`\n",
      "  iv_ok_fea = get_good_fea_list(df, full_fea, False)\n",
      "C:\\Users\\litia\\AppData\\Local\\Temp/ipykernel_19404/1116350120.py:6: PerformanceWarning: DataFrame is highly fragmented.  This is usually the result of calling `frame.insert` many times, which has poor performance.  Consider joining all columns at once using pd.concat(axis=1) instead.  To get a de-fragmented frame, use `newframe = frame.copy()`\n",
      "  iv_ok_fea = get_good_fea_list(df, full_fea, False)\n"
     ]
    },
    {
     "name": "stdout",
     "output_type": "stream",
     "text": [
      "fea: fea_213\tiv_gini: 0.000\t iv_iv: 0.000\t iv_kf: 0.000\n",
      "\n",
      "gini use time:  0.1685178279876709\n",
      "iv 用时： 0.0019941329956054688\n",
      "kf use time:  0.006981611251831055\n",
      "fea: fea_214\tiv_gini: 0.000\t iv_iv: 0.000\t iv_kf: 0.000\n",
      "\n",
      "gini use time:  0.08776497840881348\n",
      "iv 用时： 0.0009980201721191406\n",
      "kf use time:  0.007978439331054688\n",
      "fea: fea_215\tiv_gini: 0.000\t iv_iv: 0.000\t iv_kf: 0.000\n",
      "\n",
      "gini use time:  0.0797872543334961\n",
      "iv 用时： 0.0009965896606445312\n",
      "kf use time:  0.008012056350708008\n",
      "fea: fea_216\tiv_gini: 0.000\t iv_iv: 0.000\t iv_kf: 0.000\n",
      "\n",
      "gini use time:  0.07875657081604004\n",
      "iv 用时： 0.0019941329956054688\n",
      "kf use time:  0.006981611251831055\n"
     ]
    },
    {
     "name": "stderr",
     "output_type": "stream",
     "text": [
      "C:\\Users\\litia\\AppData\\Local\\Temp/ipykernel_19404/1116350120.py:6: PerformanceWarning: DataFrame is highly fragmented.  This is usually the result of calling `frame.insert` many times, which has poor performance.  Consider joining all columns at once using pd.concat(axis=1) instead.  To get a de-fragmented frame, use `newframe = frame.copy()`\n",
      "  iv_ok_fea = get_good_fea_list(df, full_fea, False)\n",
      "C:\\Users\\litia\\AppData\\Local\\Temp/ipykernel_19404/1116350120.py:6: PerformanceWarning: DataFrame is highly fragmented.  This is usually the result of calling `frame.insert` many times, which has poor performance.  Consider joining all columns at once using pd.concat(axis=1) instead.  To get a de-fragmented frame, use `newframe = frame.copy()`\n",
      "  iv_ok_fea = get_good_fea_list(df, full_fea, False)\n",
      "C:\\Users\\litia\\AppData\\Local\\Temp/ipykernel_19404/1116350120.py:6: PerformanceWarning: DataFrame is highly fragmented.  This is usually the result of calling `frame.insert` many times, which has poor performance.  Consider joining all columns at once using pd.concat(axis=1) instead.  To get a de-fragmented frame, use `newframe = frame.copy()`\n",
      "  iv_ok_fea = get_good_fea_list(df, full_fea, False)\n"
     ]
    },
    {
     "name": "stdout",
     "output_type": "stream",
     "text": [
      "fea: fea_217\tiv_gini: 0.000\t iv_iv: 0.000\t iv_kf: 0.000\n",
      "\n",
      "gini use time:  0.08218836784362793\n",
      "iv 用时： 0.001995086669921875\n",
      "kf use time:  0.007009744644165039\n",
      "fea: fea_218\tiv_gini: 0.000\t iv_iv: 0.000\t iv_kf: 0.000\n",
      "\n"
     ]
    },
    {
     "name": "stderr",
     "output_type": "stream",
     "text": [
      "C:\\Users\\litia\\AppData\\Local\\Temp/ipykernel_19404/1116350120.py:6: PerformanceWarning: DataFrame is highly fragmented.  This is usually the result of calling `frame.insert` many times, which has poor performance.  Consider joining all columns at once using pd.concat(axis=1) instead.  To get a de-fragmented frame, use `newframe = frame.copy()`\n",
      "  iv_ok_fea = get_good_fea_list(df, full_fea, False)\n",
      "C:\\Users\\litia\\AppData\\Local\\Temp/ipykernel_19404/1116350120.py:6: PerformanceWarning: DataFrame is highly fragmented.  This is usually the result of calling `frame.insert` many times, which has poor performance.  Consider joining all columns at once using pd.concat(axis=1) instead.  To get a de-fragmented frame, use `newframe = frame.copy()`\n",
      "  iv_ok_fea = get_good_fea_list(df, full_fea, False)\n"
     ]
    },
    {
     "name": "stdout",
     "output_type": "stream",
     "text": [
      "gini use time:  0.16552948951721191\n",
      "iv 用时： 0.0019941329956054688\n",
      "kf use time:  0.006981611251831055\n",
      "fea: fea_219\tiv_gini: 0.000\t iv_iv: 0.000\t iv_kf: 0.000\n",
      "\n",
      "gini use time:  0.6432807445526123\n",
      "iv 用时： 0.004987955093383789\n"
     ]
    },
    {
     "name": "stderr",
     "output_type": "stream",
     "text": [
      "C:\\Users\\litia\\AppData\\Local\\Temp/ipykernel_19404/941026484.py:22: RuntimeWarning: invalid value encountered in true_divide\n",
      "  tmp_v = (freq_array - E_nums) ** 2 / E_nums\n"
     ]
    },
    {
     "name": "stdout",
     "output_type": "stream",
     "text": [
      "kf use time:  0.4870426654815674\n",
      "fea: fea_220\tiv_gini: 0.407\t iv_iv: 0.555\t iv_kf: 0.467\n",
      "\n"
     ]
    },
    {
     "name": "stderr",
     "output_type": "stream",
     "text": [
      "C:\\Users\\litia\\AppData\\Local\\Temp/ipykernel_19404/1116350120.py:6: PerformanceWarning: DataFrame is highly fragmented.  This is usually the result of calling `frame.insert` many times, which has poor performance.  Consider joining all columns at once using pd.concat(axis=1) instead.  To get a de-fragmented frame, use `newframe = frame.copy()`\n",
      "  iv_ok_fea = get_good_fea_list(df, full_fea, False)\n"
     ]
    },
    {
     "name": "stdout",
     "output_type": "stream",
     "text": [
      "gini use time:  1.6029419898986816\n",
      "iv 用时： 0.0029909610748291016\n"
     ]
    },
    {
     "name": "stderr",
     "output_type": "stream",
     "text": [
      "C:\\Users\\litia\\AppData\\Local\\Temp/ipykernel_19404/941026484.py:22: RuntimeWarning: invalid value encountered in true_divide\n",
      "  tmp_v = (freq_array - E_nums) ** 2 / E_nums\n"
     ]
    },
    {
     "name": "stdout",
     "output_type": "stream",
     "text": [
      "kf use time:  0.3369715213775635\n",
      "fea: fea_221\tiv_gini: 0.182\t iv_iv: 0.192\t iv_kf: 0.141\n",
      "\n",
      "gini use time:  0.1765279769897461\n",
      "iv 用时： 0.002026081085205078\n",
      "kf use time:  0.007947206497192383\n"
     ]
    },
    {
     "name": "stderr",
     "output_type": "stream",
     "text": [
      "C:\\Users\\litia\\AppData\\Local\\Temp/ipykernel_19404/1116350120.py:6: PerformanceWarning: DataFrame is highly fragmented.  This is usually the result of calling `frame.insert` many times, which has poor performance.  Consider joining all columns at once using pd.concat(axis=1) instead.  To get a de-fragmented frame, use `newframe = frame.copy()`\n",
      "  iv_ok_fea = get_good_fea_list(df, full_fea, False)\n",
      "C:\\Users\\litia\\AppData\\Local\\Temp/ipykernel_19404/1116350120.py:6: PerformanceWarning: DataFrame is highly fragmented.  This is usually the result of calling `frame.insert` many times, which has poor performance.  Consider joining all columns at once using pd.concat(axis=1) instead.  To get a de-fragmented frame, use `newframe = frame.copy()`\n",
      "  iv_ok_fea = get_good_fea_list(df, full_fea, False)\n"
     ]
    },
    {
     "name": "stdout",
     "output_type": "stream",
     "text": [
      "fea: fea_222\tiv_gini: 0.000\t iv_iv: 0.000\t iv_kf: 0.030\n",
      "\n",
      "gini use time:  0.18251252174377441\n",
      "iv 用时： 0.0009968280792236328\n",
      "kf use time:  0.008976221084594727\n",
      "fea: fea_223\tiv_gini: 0.000\t iv_iv: 0.000\t iv_kf: 0.033\n",
      "\n"
     ]
    },
    {
     "name": "stderr",
     "output_type": "stream",
     "text": [
      "C:\\Users\\litia\\AppData\\Local\\Temp/ipykernel_19404/1116350120.py:6: PerformanceWarning: DataFrame is highly fragmented.  This is usually the result of calling `frame.insert` many times, which has poor performance.  Consider joining all columns at once using pd.concat(axis=1) instead.  To get a de-fragmented frame, use `newframe = frame.copy()`\n",
      "  iv_ok_fea = get_good_fea_list(df, full_fea, False)\n",
      "C:\\Users\\litia\\AppData\\Local\\Temp/ipykernel_19404/1116350120.py:6: PerformanceWarning: DataFrame is highly fragmented.  This is usually the result of calling `frame.insert` many times, which has poor performance.  Consider joining all columns at once using pd.concat(axis=1) instead.  To get a de-fragmented frame, use `newframe = frame.copy()`\n",
      "  iv_ok_fea = get_good_fea_list(df, full_fea, False)\n"
     ]
    },
    {
     "name": "stdout",
     "output_type": "stream",
     "text": [
      "gini use time:  0.17154192924499512\n",
      "iv 用时： 0.0019960403442382812\n",
      "kf use time:  0.007977008819580078\n",
      "fea: fea_224\tiv_gini: 0.000\t iv_iv: 0.000\t iv_kf: 0.000\n",
      "\n",
      "gini use time:  0.15857648849487305\n",
      "iv 用时： 0.001993894577026367\n",
      "kf use time:  0.007665157318115234\n",
      "fea: fea_225\tiv_gini: 0.000\t iv_iv: 0.000\t iv_kf: 0.000\n",
      "\n"
     ]
    },
    {
     "name": "stderr",
     "output_type": "stream",
     "text": [
      "C:\\Users\\litia\\AppData\\Local\\Temp/ipykernel_19404/1116350120.py:6: PerformanceWarning: DataFrame is highly fragmented.  This is usually the result of calling `frame.insert` many times, which has poor performance.  Consider joining all columns at once using pd.concat(axis=1) instead.  To get a de-fragmented frame, use `newframe = frame.copy()`\n",
      "  iv_ok_fea = get_good_fea_list(df, full_fea, False)\n",
      "C:\\Users\\litia\\AppData\\Local\\Temp/ipykernel_19404/1116350120.py:6: PerformanceWarning: DataFrame is highly fragmented.  This is usually the result of calling `frame.insert` many times, which has poor performance.  Consider joining all columns at once using pd.concat(axis=1) instead.  To get a de-fragmented frame, use `newframe = frame.copy()`\n",
      "  iv_ok_fea = get_good_fea_list(df, full_fea, False)\n"
     ]
    },
    {
     "name": "stdout",
     "output_type": "stream",
     "text": [
      "gini use time:  0.08284497261047363\n",
      "iv 用时： 0.0019948482513427734\n",
      "kf use time:  0.006981611251831055\n",
      "fea: fea_226\tiv_gini: 0.000\t iv_iv: 0.000\t iv_kf: 0.000\n",
      "\n",
      "gini use time:  0.0827786922454834\n",
      "iv 用时： 0.000997781753540039\n",
      "kf use time:  0.008996248245239258\n",
      "fea: fea_227\tiv_gini: 0.000\t iv_iv: 0.000\t iv_kf: 0.000\n",
      "\n",
      "gini use time:  0.08575057983398438\n"
     ]
    },
    {
     "name": "stderr",
     "output_type": "stream",
     "text": [
      "C:\\Users\\litia\\AppData\\Local\\Temp/ipykernel_19404/1116350120.py:6: PerformanceWarning: DataFrame is highly fragmented.  This is usually the result of calling `frame.insert` many times, which has poor performance.  Consider joining all columns at once using pd.concat(axis=1) instead.  To get a de-fragmented frame, use `newframe = frame.copy()`\n",
      "  iv_ok_fea = get_good_fea_list(df, full_fea, False)\n",
      "C:\\Users\\litia\\AppData\\Local\\Temp/ipykernel_19404/1116350120.py:6: PerformanceWarning: DataFrame is highly fragmented.  This is usually the result of calling `frame.insert` many times, which has poor performance.  Consider joining all columns at once using pd.concat(axis=1) instead.  To get a de-fragmented frame, use `newframe = frame.copy()`\n",
      "  iv_ok_fea = get_good_fea_list(df, full_fea, False)\n"
     ]
    },
    {
     "name": "stdout",
     "output_type": "stream",
     "text": [
      "iv 用时： 0.0019941329956054688\n",
      "kf use time:  0.00797891616821289\n",
      "fea: fea_228\tiv_gini: 0.000\t iv_iv: 0.000\t iv_kf: 0.000\n",
      "\n",
      "gini use time:  0.08477377891540527\n",
      "iv 用时： 0.0009968280792236328\n",
      "kf use time:  0.006983518600463867\n",
      "fea: fea_229\tiv_gini: 0.000\t iv_iv: 0.000\t iv_kf: 0.000\n",
      "\n"
     ]
    },
    {
     "name": "stderr",
     "output_type": "stream",
     "text": [
      "C:\\Users\\litia\\AppData\\Local\\Temp/ipykernel_19404/1116350120.py:6: PerformanceWarning: DataFrame is highly fragmented.  This is usually the result of calling `frame.insert` many times, which has poor performance.  Consider joining all columns at once using pd.concat(axis=1) instead.  To get a de-fragmented frame, use `newframe = frame.copy()`\n",
      "  iv_ok_fea = get_good_fea_list(df, full_fea, False)\n",
      "C:\\Users\\litia\\AppData\\Local\\Temp/ipykernel_19404/1116350120.py:6: PerformanceWarning: DataFrame is highly fragmented.  This is usually the result of calling `frame.insert` many times, which has poor performance.  Consider joining all columns at once using pd.concat(axis=1) instead.  To get a de-fragmented frame, use `newframe = frame.copy()`\n",
      "  iv_ok_fea = get_good_fea_list(df, full_fea, False)\n"
     ]
    },
    {
     "name": "stdout",
     "output_type": "stream",
     "text": [
      "gini use time:  0.13364195823669434\n",
      "iv 用时： 0.0009975433349609375\n",
      "kf use time:  0.009005308151245117\n",
      "fea: fea_230\tiv_gini: 0.000\t iv_iv: 0.000\t iv_kf: 0.000\n",
      "\n",
      "gini use time:  0.8161389827728271\n",
      "iv 用时： 0.00396275520324707\n"
     ]
    },
    {
     "name": "stderr",
     "output_type": "stream",
     "text": [
      "C:\\Users\\litia\\AppData\\Local\\Temp/ipykernel_19404/941026484.py:22: RuntimeWarning: invalid value encountered in true_divide\n",
      "  tmp_v = (freq_array - E_nums) ** 2 / E_nums\n"
     ]
    },
    {
     "name": "stdout",
     "output_type": "stream",
     "text": [
      "kf use time:  0.4697456359863281\n",
      "fea: fea_231\tiv_gini: 0.372\t iv_iv: 0.450\t iv_kf: 0.399\n",
      "\n"
     ]
    },
    {
     "name": "stderr",
     "output_type": "stream",
     "text": [
      "C:\\Users\\litia\\AppData\\Local\\Temp/ipykernel_19404/1116350120.py:6: PerformanceWarning: DataFrame is highly fragmented.  This is usually the result of calling `frame.insert` many times, which has poor performance.  Consider joining all columns at once using pd.concat(axis=1) instead.  To get a de-fragmented frame, use `newframe = frame.copy()`\n",
      "  iv_ok_fea = get_good_fea_list(df, full_fea, False)\n"
     ]
    },
    {
     "name": "stdout",
     "output_type": "stream",
     "text": [
      "gini use time:  0.9757013320922852\n",
      "iv 用时： 0.002991914749145508\n"
     ]
    },
    {
     "name": "stderr",
     "output_type": "stream",
     "text": [
      "C:\\Users\\litia\\AppData\\Local\\Temp/ipykernel_19404/941026484.py:22: RuntimeWarning: invalid value encountered in true_divide\n",
      "  tmp_v = (freq_array - E_nums) ** 2 / E_nums\n"
     ]
    },
    {
     "name": "stdout",
     "output_type": "stream",
     "text": [
      "kf use time:  0.34170055389404297\n",
      "fea: fea_232\tiv_gini: 0.178\t iv_iv: 0.222\t iv_kf: 0.204\n",
      "\n",
      "gini use time:  0.18650269508361816\n",
      "iv 用时： 0.000995635986328125\n"
     ]
    },
    {
     "name": "stderr",
     "output_type": "stream",
     "text": [
      "C:\\Users\\litia\\AppData\\Local\\Temp/ipykernel_19404/1116350120.py:6: PerformanceWarning: DataFrame is highly fragmented.  This is usually the result of calling `frame.insert` many times, which has poor performance.  Consider joining all columns at once using pd.concat(axis=1) instead.  To get a de-fragmented frame, use `newframe = frame.copy()`\n",
      "  iv_ok_fea = get_good_fea_list(df, full_fea, False)\n"
     ]
    },
    {
     "name": "stdout",
     "output_type": "stream",
     "text": [
      "kf use time:  0.010970830917358398\n",
      "fea: fea_233\tiv_gini: 0.000\t iv_iv: 0.000\t iv_kf: 0.030\n",
      "\n",
      "gini use time:  0.18051719665527344\n"
     ]
    },
    {
     "name": "stderr",
     "output_type": "stream",
     "text": [
      "C:\\Users\\litia\\AppData\\Local\\Temp/ipykernel_19404/1116350120.py:6: PerformanceWarning: DataFrame is highly fragmented.  This is usually the result of calling `frame.insert` many times, which has poor performance.  Consider joining all columns at once using pd.concat(axis=1) instead.  To get a de-fragmented frame, use `newframe = frame.copy()`\n",
      "  iv_ok_fea = get_good_fea_list(df, full_fea, False)\n"
     ]
    },
    {
     "name": "stdout",
     "output_type": "stream",
     "text": [
      "iv 用时： 0.001994609832763672\n",
      "kf use time:  0.010970830917358398\n",
      "fea: fea_234\tiv_gini: 0.000\t iv_iv: 0.000\t iv_kf: 0.002\n",
      "\n",
      "gini use time:  0.17852354049682617\n"
     ]
    },
    {
     "name": "stderr",
     "output_type": "stream",
     "text": [
      "C:\\Users\\litia\\AppData\\Local\\Temp/ipykernel_19404/1116350120.py:6: PerformanceWarning: DataFrame is highly fragmented.  This is usually the result of calling `frame.insert` many times, which has poor performance.  Consider joining all columns at once using pd.concat(axis=1) instead.  To get a de-fragmented frame, use `newframe = frame.copy()`\n",
      "  iv_ok_fea = get_good_fea_list(df, full_fea, False)\n"
     ]
    },
    {
     "name": "stdout",
     "output_type": "stream",
     "text": [
      "iv 用时： 0.0019936561584472656\n",
      "kf use time:  0.008980274200439453\n",
      "fea: fea_235\tiv_gini: 0.000\t iv_iv: 0.000\t iv_kf: 0.000\n",
      "\n"
     ]
    },
    {
     "name": "stderr",
     "output_type": "stream",
     "text": [
      "C:\\Users\\litia\\AppData\\Local\\Temp/ipykernel_19404/1116350120.py:6: PerformanceWarning: DataFrame is highly fragmented.  This is usually the result of calling `frame.insert` many times, which has poor performance.  Consider joining all columns at once using pd.concat(axis=1) instead.  To get a de-fragmented frame, use `newframe = frame.copy()`\n",
      "  iv_ok_fea = get_good_fea_list(df, full_fea, False)\n"
     ]
    },
    {
     "name": "stdout",
     "output_type": "stream",
     "text": [
      "gini use time:  0.19447636604309082\n",
      "iv 用时： 0.002994537353515625\n",
      "kf use time:  0.007976770401000977\n",
      "fea: fea_236\tiv_gini: 0.000\t iv_iv: 0.000\t iv_kf: 0.000\n",
      "\n",
      "gini use time:  0.08776545524597168\n",
      "iv 用时： 0.0019943714141845703\n",
      "kf use time:  0.007979154586791992\n",
      "fea: fea_237\tiv_gini: 0.000\t iv_iv: 0.000\t iv_kf: 0.000\n",
      "\n",
      "gini use time:  0.08527493476867676\n"
     ]
    },
    {
     "name": "stderr",
     "output_type": "stream",
     "text": [
      "C:\\Users\\litia\\AppData\\Local\\Temp/ipykernel_19404/1116350120.py:6: PerformanceWarning: DataFrame is highly fragmented.  This is usually the result of calling `frame.insert` many times, which has poor performance.  Consider joining all columns at once using pd.concat(axis=1) instead.  To get a de-fragmented frame, use `newframe = frame.copy()`\n",
      "  iv_ok_fea = get_good_fea_list(df, full_fea, False)\n",
      "C:\\Users\\litia\\AppData\\Local\\Temp/ipykernel_19404/1116350120.py:6: PerformanceWarning: DataFrame is highly fragmented.  This is usually the result of calling `frame.insert` many times, which has poor performance.  Consider joining all columns at once using pd.concat(axis=1) instead.  To get a de-fragmented frame, use `newframe = frame.copy()`\n",
      "  iv_ok_fea = get_good_fea_list(df, full_fea, False)\n"
     ]
    },
    {
     "name": "stdout",
     "output_type": "stream",
     "text": [
      "iv 用时： 0.0019936561584472656\n",
      "kf use time:  0.008979082107543945\n",
      "fea: fea_238\tiv_gini: 0.000\t iv_iv: 0.000\t iv_kf: 0.000\n",
      "\n",
      "gini use time:  0.08576822280883789\n",
      "iv 用时： 0.000997304916381836\n",
      "kf use time:  0.007012844085693359\n",
      "fea: fea_239\tiv_gini: 0.000\t iv_iv: 0.000\t iv_kf: 0.000\n",
      "\n",
      "gini use time:  0.08573389053344727\n"
     ]
    },
    {
     "name": "stderr",
     "output_type": "stream",
     "text": [
      "C:\\Users\\litia\\AppData\\Local\\Temp/ipykernel_19404/1116350120.py:6: PerformanceWarning: DataFrame is highly fragmented.  This is usually the result of calling `frame.insert` many times, which has poor performance.  Consider joining all columns at once using pd.concat(axis=1) instead.  To get a de-fragmented frame, use `newframe = frame.copy()`\n",
      "  iv_ok_fea = get_good_fea_list(df, full_fea, False)\n",
      "C:\\Users\\litia\\AppData\\Local\\Temp/ipykernel_19404/1116350120.py:6: PerformanceWarning: DataFrame is highly fragmented.  This is usually the result of calling `frame.insert` many times, which has poor performance.  Consider joining all columns at once using pd.concat(axis=1) instead.  To get a de-fragmented frame, use `newframe = frame.copy()`\n",
      "  iv_ok_fea = get_good_fea_list(df, full_fea, False)\n"
     ]
    },
    {
     "name": "stdout",
     "output_type": "stream",
     "text": [
      "iv 用时： 0.0019941329956054688\n",
      "kf use time:  0.008978128433227539\n",
      "fea: fea_240\tiv_gini: 0.000\t iv_iv: 0.000\t iv_kf: 0.000\n",
      "\n",
      "gini use time:  0.08676624298095703\n",
      "iv 用时： 0.0009970664978027344\n",
      "kf use time:  0.006981372833251953\n",
      "fea: fea_241\tiv_gini: 0.000\t iv_iv: 0.000\t iv_kf: 0.000\n",
      "\n"
     ]
    },
    {
     "name": "stderr",
     "output_type": "stream",
     "text": [
      "C:\\Users\\litia\\AppData\\Local\\Temp/ipykernel_19404/1116350120.py:6: PerformanceWarning: DataFrame is highly fragmented.  This is usually the result of calling `frame.insert` many times, which has poor performance.  Consider joining all columns at once using pd.concat(axis=1) instead.  To get a de-fragmented frame, use `newframe = frame.copy()`\n",
      "  iv_ok_fea = get_good_fea_list(df, full_fea, False)\n",
      "C:\\Users\\litia\\AppData\\Local\\Temp/ipykernel_19404/1116350120.py:6: PerformanceWarning: DataFrame is highly fragmented.  This is usually the result of calling `frame.insert` many times, which has poor performance.  Consider joining all columns at once using pd.concat(axis=1) instead.  To get a de-fragmented frame, use `newframe = frame.copy()`\n",
      "  iv_ok_fea = get_good_fea_list(df, full_fea, False)\n"
     ]
    },
    {
     "name": "stdout",
     "output_type": "stream",
     "text": [
      "gini use time:  1.9435396194458008\n",
      "iv 用时： 0.003989458084106445\n"
     ]
    },
    {
     "name": "stderr",
     "output_type": "stream",
     "text": [
      "C:\\Users\\litia\\AppData\\Local\\Temp/ipykernel_19404/941026484.py:22: RuntimeWarning: invalid value encountered in true_divide\n",
      "  tmp_v = (freq_array - E_nums) ** 2 / E_nums\n"
     ]
    },
    {
     "name": "stdout",
     "output_type": "stream",
     "text": [
      "kf use time:  0.47477126121520996\n",
      "fea: fea_242\tiv_gini: 0.320\t iv_iv: 0.394\t iv_kf: 0.347\n",
      "\n"
     ]
    },
    {
     "name": "stderr",
     "output_type": "stream",
     "text": [
      "C:\\Users\\litia\\AppData\\Local\\Temp/ipykernel_19404/1116350120.py:6: PerformanceWarning: DataFrame is highly fragmented.  This is usually the result of calling `frame.insert` many times, which has poor performance.  Consider joining all columns at once using pd.concat(axis=1) instead.  To get a de-fragmented frame, use `newframe = frame.copy()`\n",
      "  iv_ok_fea = get_good_fea_list(df, full_fea, False)\n"
     ]
    },
    {
     "name": "stdout",
     "output_type": "stream",
     "text": [
      "gini use time:  1.0289056301116943\n",
      "iv 用时： 0.00299072265625\n"
     ]
    },
    {
     "name": "stderr",
     "output_type": "stream",
     "text": [
      "C:\\Users\\litia\\AppData\\Local\\Temp/ipykernel_19404/941026484.py:22: RuntimeWarning: invalid value encountered in true_divide\n",
      "  tmp_v = (freq_array - E_nums) ** 2 / E_nums\n"
     ]
    },
    {
     "name": "stdout",
     "output_type": "stream",
     "text": [
      "kf use time:  0.3426201343536377\n",
      "fea: fea_243\tiv_gini: 0.168\t iv_iv: 0.207\t iv_kf: 0.131\n",
      "\n",
      "gini use time:  0.18547296524047852\n",
      "iv 用时： 0.0009958744049072266\n"
     ]
    },
    {
     "name": "stderr",
     "output_type": "stream",
     "text": [
      "C:\\Users\\litia\\AppData\\Local\\Temp/ipykernel_19404/1116350120.py:6: PerformanceWarning: DataFrame is highly fragmented.  This is usually the result of calling `frame.insert` many times, which has poor performance.  Consider joining all columns at once using pd.concat(axis=1) instead.  To get a de-fragmented frame, use `newframe = frame.copy()`\n",
      "  iv_ok_fea = get_good_fea_list(df, full_fea, False)\n"
     ]
    },
    {
     "name": "stdout",
     "output_type": "stream",
     "text": [
      "kf use time:  0.009973764419555664\n",
      "fea: fea_244\tiv_gini: 0.000\t iv_iv: 0.000\t iv_kf: 0.001\n",
      "\n",
      "gini use time:  0.18351006507873535\n"
     ]
    },
    {
     "name": "stderr",
     "output_type": "stream",
     "text": [
      "C:\\Users\\litia\\AppData\\Local\\Temp/ipykernel_19404/1116350120.py:6: PerformanceWarning: DataFrame is highly fragmented.  This is usually the result of calling `frame.insert` many times, which has poor performance.  Consider joining all columns at once using pd.concat(axis=1) instead.  To get a de-fragmented frame, use `newframe = frame.copy()`\n",
      "  iv_ok_fea = get_good_fea_list(df, full_fea, False)\n"
     ]
    },
    {
     "name": "stdout",
     "output_type": "stream",
     "text": [
      "iv 用时： 0.001993894577026367\n",
      "kf use time:  0.009973287582397461\n",
      "fea: fea_245\tiv_gini: 0.000\t iv_iv: 0.000\t iv_kf: 0.037\n",
      "\n",
      "gini use time:  0.1904916763305664\n"
     ]
    },
    {
     "name": "stderr",
     "output_type": "stream",
     "text": [
      "C:\\Users\\litia\\AppData\\Local\\Temp/ipykernel_19404/1116350120.py:6: PerformanceWarning: DataFrame is highly fragmented.  This is usually the result of calling `frame.insert` many times, which has poor performance.  Consider joining all columns at once using pd.concat(axis=1) instead.  To get a de-fragmented frame, use `newframe = frame.copy()`\n",
      "  iv_ok_fea = get_good_fea_list(df, full_fea, False)\n"
     ]
    },
    {
     "name": "stdout",
     "output_type": "stream",
     "text": [
      "iv 用时： 0.0019941329956054688\n",
      "kf use time:  0.007979393005371094\n",
      "fea: fea_246\tiv_gini: 0.000\t iv_iv: 0.000\t iv_kf: 0.000\n",
      "\n",
      "gini use time:  0.14261841773986816\n",
      "iv 用时： 0.0009968280792236328\n",
      "kf use time:  0.007979631423950195\n",
      "fea: fea_247\tiv_gini: 0.000\t iv_iv: 0.000\t iv_kf: 0.000\n",
      "\n"
     ]
    },
    {
     "name": "stderr",
     "output_type": "stream",
     "text": [
      "C:\\Users\\litia\\AppData\\Local\\Temp/ipykernel_19404/1116350120.py:6: PerformanceWarning: DataFrame is highly fragmented.  This is usually the result of calling `frame.insert` many times, which has poor performance.  Consider joining all columns at once using pd.concat(axis=1) instead.  To get a de-fragmented frame, use `newframe = frame.copy()`\n",
      "  iv_ok_fea = get_good_fea_list(df, full_fea, False)\n",
      "C:\\Users\\litia\\AppData\\Local\\Temp/ipykernel_19404/1116350120.py:6: PerformanceWarning: DataFrame is highly fragmented.  This is usually the result of calling `frame.insert` many times, which has poor performance.  Consider joining all columns at once using pd.concat(axis=1) instead.  To get a de-fragmented frame, use `newframe = frame.copy()`\n",
      "  iv_ok_fea = get_good_fea_list(df, full_fea, False)\n"
     ]
    },
    {
     "name": "stdout",
     "output_type": "stream",
     "text": [
      "gini use time:  0.09476089477539062\n",
      "iv 用时： 0.0009822845458984375\n",
      "kf use time:  0.00797891616821289\n",
      "fea: fea_248\tiv_gini: 0.000\t iv_iv: 0.000\t iv_kf: 0.000\n",
      "\n",
      "gini use time:  0.0859837532043457\n",
      "iv 用时： 0.001981019973754883\n",
      "kf use time:  0.006981372833251953\n",
      "fea: fea_249\tiv_gini: 0.000\t iv_iv: 0.000\t iv_kf: 0.000\n",
      "\n",
      "gini use time:  0.09375\n"
     ]
    },
    {
     "name": "stderr",
     "output_type": "stream",
     "text": [
      "C:\\Users\\litia\\AppData\\Local\\Temp/ipykernel_19404/1116350120.py:6: PerformanceWarning: DataFrame is highly fragmented.  This is usually the result of calling `frame.insert` many times, which has poor performance.  Consider joining all columns at once using pd.concat(axis=1) instead.  To get a de-fragmented frame, use `newframe = frame.copy()`\n",
      "  iv_ok_fea = get_good_fea_list(df, full_fea, False)\n",
      "C:\\Users\\litia\\AppData\\Local\\Temp/ipykernel_19404/1116350120.py:6: PerformanceWarning: DataFrame is highly fragmented.  This is usually the result of calling `frame.insert` many times, which has poor performance.  Consider joining all columns at once using pd.concat(axis=1) instead.  To get a de-fragmented frame, use `newframe = frame.copy()`\n",
      "  iv_ok_fea = get_good_fea_list(df, full_fea, False)\n"
     ]
    },
    {
     "name": "stdout",
     "output_type": "stream",
     "text": [
      "iv 用时： 0.0029914379119873047\n",
      "kf use time:  0.009973526000976562\n",
      "fea: fea_250\tiv_gini: 0.000\t iv_iv: 0.000\t iv_kf: 0.000\n",
      "\n",
      "gini use time:  0.0907583236694336\n",
      "iv 用时： 0.0019948482513427734\n",
      "kf use time:  0.007977724075317383\n",
      "fea: fea_251\tiv_gini: 0.000\t iv_iv: 0.000\t iv_kf: 0.000\n",
      "\n",
      "gini use time:  0.08676815032958984\n"
     ]
    },
    {
     "name": "stderr",
     "output_type": "stream",
     "text": [
      "C:\\Users\\litia\\AppData\\Local\\Temp/ipykernel_19404/1116350120.py:6: PerformanceWarning: DataFrame is highly fragmented.  This is usually the result of calling `frame.insert` many times, which has poor performance.  Consider joining all columns at once using pd.concat(axis=1) instead.  To get a de-fragmented frame, use `newframe = frame.copy()`\n",
      "  iv_ok_fea = get_good_fea_list(df, full_fea, False)\n",
      "C:\\Users\\litia\\AppData\\Local\\Temp/ipykernel_19404/1116350120.py:6: PerformanceWarning: DataFrame is highly fragmented.  This is usually the result of calling `frame.insert` many times, which has poor performance.  Consider joining all columns at once using pd.concat(axis=1) instead.  To get a de-fragmented frame, use `newframe = frame.copy()`\n",
      "  iv_ok_fea = get_good_fea_list(df, full_fea, False)\n"
     ]
    },
    {
     "name": "stdout",
     "output_type": "stream",
     "text": [
      "iv 用时： 0.002992868423461914\n",
      "kf use time:  0.010969161987304688\n",
      "fea: fea_252\tiv_gini: 0.000\t iv_iv: 0.000\t iv_kf: 0.000\n",
      "\n"
     ]
    },
    {
     "name": "stderr",
     "output_type": "stream",
     "text": [
      "C:\\Users\\litia\\AppData\\Local\\Temp/ipykernel_19404/1116350120.py:6: PerformanceWarning: DataFrame is highly fragmented.  This is usually the result of calling `frame.insert` many times, which has poor performance.  Consider joining all columns at once using pd.concat(axis=1) instead.  To get a de-fragmented frame, use `newframe = frame.copy()`\n",
      "  iv_ok_fea = get_good_fea_list(df, full_fea, False)\n"
     ]
    },
    {
     "name": "stdout",
     "output_type": "stream",
     "text": [
      "gini use time:  0.6948819160461426\n",
      "iv 用时： 0.003989458084106445\n"
     ]
    },
    {
     "name": "stderr",
     "output_type": "stream",
     "text": [
      "C:\\Users\\litia\\AppData\\Local\\Temp/ipykernel_19404/941026484.py:22: RuntimeWarning: invalid value encountered in true_divide\n",
      "  tmp_v = (freq_array - E_nums) ** 2 / E_nums\n"
     ]
    },
    {
     "name": "stdout",
     "output_type": "stream",
     "text": [
      "kf use time:  0.46977925300598145\n",
      "fea: fea_253\tiv_gini: 0.293\t iv_iv: 0.378\t iv_kf: 0.301\n",
      "\n"
     ]
    },
    {
     "name": "stderr",
     "output_type": "stream",
     "text": [
      "C:\\Users\\litia\\AppData\\Local\\Temp/ipykernel_19404/1116350120.py:6: PerformanceWarning: DataFrame is highly fragmented.  This is usually the result of calling `frame.insert` many times, which has poor performance.  Consider joining all columns at once using pd.concat(axis=1) instead.  To get a de-fragmented frame, use `newframe = frame.copy()`\n",
      "  iv_ok_fea = get_good_fea_list(df, full_fea, False)\n"
     ]
    },
    {
     "name": "stdout",
     "output_type": "stream",
     "text": [
      "gini use time:  0.20541715621948242\n",
      "iv 用时： 0.001994609832763672\n",
      "kf use time:  0.01100468635559082\n",
      "fea: fea_254\tiv_gini: 0.000\t iv_iv: 0.000\t iv_kf: 0.010\n",
      "\n"
     ]
    },
    {
     "name": "stderr",
     "output_type": "stream",
     "text": [
      "C:\\Users\\litia\\AppData\\Local\\Temp/ipykernel_19404/1116350120.py:6: PerformanceWarning: DataFrame is highly fragmented.  This is usually the result of calling `frame.insert` many times, which has poor performance.  Consider joining all columns at once using pd.concat(axis=1) instead.  To get a de-fragmented frame, use `newframe = frame.copy()`\n",
      "  iv_ok_fea = get_good_fea_list(df, full_fea, False)\n"
     ]
    },
    {
     "name": "stdout",
     "output_type": "stream",
     "text": [
      "gini use time:  0.22835636138916016\n",
      "iv 用时： 0.0009963512420654297\n",
      "kf use time:  0.007980108261108398\n",
      "fea: fea_255\tiv_gini: 0.000\t iv_iv: 0.000\t iv_kf: 0.001\n",
      "\n",
      "gini use time:  0.1862473487854004\n"
     ]
    },
    {
     "name": "stderr",
     "output_type": "stream",
     "text": [
      "C:\\Users\\litia\\AppData\\Local\\Temp/ipykernel_19404/1116350120.py:6: PerformanceWarning: DataFrame is highly fragmented.  This is usually the result of calling `frame.insert` many times, which has poor performance.  Consider joining all columns at once using pd.concat(axis=1) instead.  To get a de-fragmented frame, use `newframe = frame.copy()`\n",
      "  iv_ok_fea = get_good_fea_list(df, full_fea, False)\n"
     ]
    },
    {
     "name": "stdout",
     "output_type": "stream",
     "text": [
      "iv 用时： 0.0019948482513427734\n",
      "kf use time:  0.009973287582397461\n",
      "fea: fea_256\tiv_gini: 0.000\t iv_iv: 0.000\t iv_kf: 0.032\n",
      "\n",
      "gini use time:  0.18849754333496094\n"
     ]
    },
    {
     "name": "stderr",
     "output_type": "stream",
     "text": [
      "C:\\Users\\litia\\AppData\\Local\\Temp/ipykernel_19404/1116350120.py:6: PerformanceWarning: DataFrame is highly fragmented.  This is usually the result of calling `frame.insert` many times, which has poor performance.  Consider joining all columns at once using pd.concat(axis=1) instead.  To get a de-fragmented frame, use `newframe = frame.copy()`\n",
      "  iv_ok_fea = get_good_fea_list(df, full_fea, False)\n"
     ]
    },
    {
     "name": "stdout",
     "output_type": "stream",
     "text": [
      "iv 用时： 0.001993417739868164\n",
      "kf use time:  0.008975982666015625\n",
      "fea: fea_257\tiv_gini: 0.000\t iv_iv: 0.000\t iv_kf: 0.000\n",
      "\n",
      "gini use time:  0.14261937141418457\n",
      "iv 用时： 0.000997304916381836\n",
      "kf use time:  0.007978439331054688\n",
      "fea: fea_258\tiv_gini: 0.000\t iv_iv: 0.000\t iv_kf: 0.000\n",
      "\n"
     ]
    },
    {
     "name": "stderr",
     "output_type": "stream",
     "text": [
      "C:\\Users\\litia\\AppData\\Local\\Temp/ipykernel_19404/1116350120.py:6: PerformanceWarning: DataFrame is highly fragmented.  This is usually the result of calling `frame.insert` many times, which has poor performance.  Consider joining all columns at once using pd.concat(axis=1) instead.  To get a de-fragmented frame, use `newframe = frame.copy()`\n",
      "  iv_ok_fea = get_good_fea_list(df, full_fea, False)\n",
      "C:\\Users\\litia\\AppData\\Local\\Temp/ipykernel_19404/1116350120.py:6: PerformanceWarning: DataFrame is highly fragmented.  This is usually the result of calling `frame.insert` many times, which has poor performance.  Consider joining all columns at once using pd.concat(axis=1) instead.  To get a de-fragmented frame, use `newframe = frame.copy()`\n",
      "  iv_ok_fea = get_good_fea_list(df, full_fea, False)\n"
     ]
    },
    {
     "name": "stdout",
     "output_type": "stream",
     "text": [
      "gini use time:  0.1047203540802002\n",
      "iv 用时： 0.0020203590393066406\n",
      "kf use time:  0.010976314544677734\n",
      "fea: fea_259\tiv_gini: 0.000\t iv_iv: 0.000\t iv_kf: 0.000\n",
      "\n",
      "gini use time:  0.09870576858520508\n",
      "iv 用时： 0.0019953250885009766\n",
      "kf use time:  0.007978677749633789\n",
      "fea: fea_260\tiv_gini: 0.000\t iv_iv: 0.000\t iv_kf: 0.000\n",
      "\n",
      "gini use time:  0.08975887298583984\n"
     ]
    },
    {
     "name": "stderr",
     "output_type": "stream",
     "text": [
      "C:\\Users\\litia\\AppData\\Local\\Temp/ipykernel_19404/1116350120.py:6: PerformanceWarning: DataFrame is highly fragmented.  This is usually the result of calling `frame.insert` many times, which has poor performance.  Consider joining all columns at once using pd.concat(axis=1) instead.  To get a de-fragmented frame, use `newframe = frame.copy()`\n",
      "  iv_ok_fea = get_good_fea_list(df, full_fea, False)\n",
      "C:\\Users\\litia\\AppData\\Local\\Temp/ipykernel_19404/1116350120.py:6: PerformanceWarning: DataFrame is highly fragmented.  This is usually the result of calling `frame.insert` many times, which has poor performance.  Consider joining all columns at once using pd.concat(axis=1) instead.  To get a de-fragmented frame, use `newframe = frame.copy()`\n",
      "  iv_ok_fea = get_good_fea_list(df, full_fea, False)\n"
     ]
    },
    {
     "name": "stdout",
     "output_type": "stream",
     "text": [
      "iv 用时： 0.0009968280792236328\n",
      "kf use time:  0.007981061935424805\n",
      "fea: fea_261\tiv_gini: 0.000\t iv_iv: 0.000\t iv_kf: 0.000\n",
      "\n",
      "gini use time:  0.08975744247436523\n",
      "iv 用时： 0.0019948482513427734\n",
      "kf use time:  0.0080108642578125\n",
      "fea: fea_262\tiv_gini: 0.000\t iv_iv: 0.000\t iv_kf: 0.000\n",
      "\n",
      "gini use time:  0.09036374092102051\n"
     ]
    },
    {
     "name": "stderr",
     "output_type": "stream",
     "text": [
      "C:\\Users\\litia\\AppData\\Local\\Temp/ipykernel_19404/1116350120.py:6: PerformanceWarning: DataFrame is highly fragmented.  This is usually the result of calling `frame.insert` many times, which has poor performance.  Consider joining all columns at once using pd.concat(axis=1) instead.  To get a de-fragmented frame, use `newframe = frame.copy()`\n",
      "  iv_ok_fea = get_good_fea_list(df, full_fea, False)\n",
      "C:\\Users\\litia\\AppData\\Local\\Temp/ipykernel_19404/1116350120.py:6: PerformanceWarning: DataFrame is highly fragmented.  This is usually the result of calling `frame.insert` many times, which has poor performance.  Consider joining all columns at once using pd.concat(axis=1) instead.  To get a de-fragmented frame, use `newframe = frame.copy()`\n",
      "  iv_ok_fea = get_good_fea_list(df, full_fea, False)\n"
     ]
    },
    {
     "name": "stdout",
     "output_type": "stream",
     "text": [
      "iv 用时： 0.001994609832763672\n",
      "kf use time:  0.007981061935424805\n",
      "fea: fea_263\tiv_gini: 0.000\t iv_iv: 0.000\t iv_kf: 0.000\n",
      "\n"
     ]
    },
    {
     "name": "stderr",
     "output_type": "stream",
     "text": [
      "C:\\Users\\litia\\AppData\\Local\\Temp/ipykernel_19404/1116350120.py:6: PerformanceWarning: DataFrame is highly fragmented.  This is usually the result of calling `frame.insert` many times, which has poor performance.  Consider joining all columns at once using pd.concat(axis=1) instead.  To get a de-fragmented frame, use `newframe = frame.copy()`\n",
      "  iv_ok_fea = get_good_fea_list(df, full_fea, False)\n"
     ]
    },
    {
     "name": "stdout",
     "output_type": "stream",
     "text": [
      "gini use time:  2.0722641944885254\n",
      "iv 用时： 0.003986358642578125\n"
     ]
    },
    {
     "name": "stderr",
     "output_type": "stream",
     "text": [
      "C:\\Users\\litia\\AppData\\Local\\Temp/ipykernel_19404/941026484.py:22: RuntimeWarning: invalid value encountered in true_divide\n",
      "  tmp_v = (freq_array - E_nums) ** 2 / E_nums\n"
     ]
    },
    {
     "name": "stdout",
     "output_type": "stream",
     "text": [
      "kf use time:  0.4747326374053955\n",
      "fea: fea_264\tiv_gini: 0.321\t iv_iv: 0.378\t iv_kf: 0.337\n",
      "\n"
     ]
    },
    {
     "name": "stderr",
     "output_type": "stream",
     "text": [
      "C:\\Users\\litia\\AppData\\Local\\Temp/ipykernel_19404/1116350120.py:6: PerformanceWarning: DataFrame is highly fragmented.  This is usually the result of calling `frame.insert` many times, which has poor performance.  Consider joining all columns at once using pd.concat(axis=1) instead.  To get a de-fragmented frame, use `newframe = frame.copy()`\n",
      "  iv_ok_fea = get_good_fea_list(df, full_fea, False)\n"
     ]
    },
    {
     "name": "stdout",
     "output_type": "stream",
     "text": [
      "gini use time:  2.0698184967041016\n",
      "iv 用时： 0.0039882659912109375\n"
     ]
    },
    {
     "name": "stderr",
     "output_type": "stream",
     "text": [
      "C:\\Users\\litia\\AppData\\Local\\Temp/ipykernel_19404/941026484.py:22: RuntimeWarning: invalid value encountered in true_divide\n",
      "  tmp_v = (freq_array - E_nums) ** 2 / E_nums\n"
     ]
    },
    {
     "name": "stdout",
     "output_type": "stream",
     "text": [
      "kf use time:  0.3586108684539795\n",
      "fea: fea_265\tiv_gini: 0.148\t iv_iv: 0.207\t iv_kf: 0.155\n",
      "\n",
      "gini use time:  0.19552254676818848\n"
     ]
    },
    {
     "name": "stderr",
     "output_type": "stream",
     "text": [
      "C:\\Users\\litia\\AppData\\Local\\Temp/ipykernel_19404/1116350120.py:6: PerformanceWarning: DataFrame is highly fragmented.  This is usually the result of calling `frame.insert` many times, which has poor performance.  Consider joining all columns at once using pd.concat(axis=1) instead.  To get a de-fragmented frame, use `newframe = frame.copy()`\n",
      "  iv_ok_fea = get_good_fea_list(df, full_fea, False)\n"
     ]
    },
    {
     "name": "stdout",
     "output_type": "stream",
     "text": [
      "iv 用时： 0.0009963512420654297\n",
      "kf use time:  0.008976221084594727\n",
      "fea: fea_266\tiv_gini: 0.000\t iv_iv: 0.000\t iv_kf: 0.001\n",
      "\n"
     ]
    },
    {
     "name": "stderr",
     "output_type": "stream",
     "text": [
      "C:\\Users\\litia\\AppData\\Local\\Temp/ipykernel_19404/1116350120.py:6: PerformanceWarning: DataFrame is highly fragmented.  This is usually the result of calling `frame.insert` many times, which has poor performance.  Consider joining all columns at once using pd.concat(axis=1) instead.  To get a de-fragmented frame, use `newframe = frame.copy()`\n",
      "  iv_ok_fea = get_good_fea_list(df, full_fea, False)\n"
     ]
    },
    {
     "name": "stdout",
     "output_type": "stream",
     "text": [
      "gini use time:  0.1934828758239746\n",
      "iv 用时： 0.0019948482513427734\n",
      "kf use time:  0.011968135833740234\n",
      "fea: fea_267\tiv_gini: 0.000\t iv_iv: 0.000\t iv_kf: 0.033\n",
      "\n",
      "gini use time:  0.1904914379119873\n"
     ]
    },
    {
     "name": "stderr",
     "output_type": "stream",
     "text": [
      "C:\\Users\\litia\\AppData\\Local\\Temp/ipykernel_19404/1116350120.py:6: PerformanceWarning: DataFrame is highly fragmented.  This is usually the result of calling `frame.insert` many times, which has poor performance.  Consider joining all columns at once using pd.concat(axis=1) instead.  To get a de-fragmented frame, use `newframe = frame.copy()`\n",
      "  iv_ok_fea = get_good_fea_list(df, full_fea, False)\n"
     ]
    },
    {
     "name": "stdout",
     "output_type": "stream",
     "text": [
      "iv 用时： 0.002025127410888672\n",
      "kf use time:  0.008944988250732422\n",
      "fea: fea_268\tiv_gini: 0.000\t iv_iv: 0.000\t iv_kf: 0.000\n",
      "\n",
      "gini use time:  0.09175872802734375\n",
      "iv 用时： 0.0009970664978027344\n",
      "kf use time:  0.006981372833251953\n",
      "fea: fea_269\tiv_gini: 0.000\t iv_iv: 0.000\t iv_kf: 0.000\n",
      "\n",
      "gini use time:  0.0907583236694336\n"
     ]
    },
    {
     "name": "stderr",
     "output_type": "stream",
     "text": [
      "C:\\Users\\litia\\AppData\\Local\\Temp/ipykernel_19404/1116350120.py:6: PerformanceWarning: DataFrame is highly fragmented.  This is usually the result of calling `frame.insert` many times, which has poor performance.  Consider joining all columns at once using pd.concat(axis=1) instead.  To get a de-fragmented frame, use `newframe = frame.copy()`\n",
      "  iv_ok_fea = get_good_fea_list(df, full_fea, False)\n",
      "C:\\Users\\litia\\AppData\\Local\\Temp/ipykernel_19404/1116350120.py:6: PerformanceWarning: DataFrame is highly fragmented.  This is usually the result of calling `frame.insert` many times, which has poor performance.  Consider joining all columns at once using pd.concat(axis=1) instead.  To get a de-fragmented frame, use `newframe = frame.copy()`\n",
      "  iv_ok_fea = get_good_fea_list(df, full_fea, False)\n"
     ]
    },
    {
     "name": "stdout",
     "output_type": "stream",
     "text": [
      "iv 用时： 0.001993417739868164\n",
      "kf use time:  0.008977890014648438\n",
      "fea: fea_270\tiv_gini: 0.000\t iv_iv: 0.000\t iv_kf: 0.000\n",
      "\n",
      "gini use time:  0.09175395965576172\n",
      "iv 用时： 0.0009968280792236328\n",
      "kf use time:  0.007978677749633789\n",
      "fea: fea_271\tiv_gini: 0.000\t iv_iv: 0.000\t iv_kf: 0.000\n",
      "\n",
      "gini use time:  0.08979201316833496\n"
     ]
    },
    {
     "name": "stderr",
     "output_type": "stream",
     "text": [
      "C:\\Users\\litia\\AppData\\Local\\Temp/ipykernel_19404/1116350120.py:6: PerformanceWarning: DataFrame is highly fragmented.  This is usually the result of calling `frame.insert` many times, which has poor performance.  Consider joining all columns at once using pd.concat(axis=1) instead.  To get a de-fragmented frame, use `newframe = frame.copy()`\n",
      "  iv_ok_fea = get_good_fea_list(df, full_fea, False)\n",
      "C:\\Users\\litia\\AppData\\Local\\Temp/ipykernel_19404/1116350120.py:6: PerformanceWarning: DataFrame is highly fragmented.  This is usually the result of calling `frame.insert` many times, which has poor performance.  Consider joining all columns at once using pd.concat(axis=1) instead.  To get a de-fragmented frame, use `newframe = frame.copy()`\n",
      "  iv_ok_fea = get_good_fea_list(df, full_fea, False)\n"
     ]
    },
    {
     "name": "stdout",
     "output_type": "stream",
     "text": [
      "iv 用时： 0.001965761184692383\n",
      "kf use time:  0.008973121643066406\n",
      "fea: fea_272\tiv_gini: 0.000\t iv_iv: 0.000\t iv_kf: 0.000\n",
      "\n",
      "gini use time:  0.09405183792114258\n",
      "iv 用时： 0.0009965896606445312\n",
      "kf use time:  0.00797891616821289\n",
      "fea: fea_273\tiv_gini: 0.000\t iv_iv: 0.000\t iv_kf: 0.000\n",
      "\n",
      "gini use time:  0.09175443649291992\n"
     ]
    },
    {
     "name": "stderr",
     "output_type": "stream",
     "text": [
      "C:\\Users\\litia\\AppData\\Local\\Temp/ipykernel_19404/1116350120.py:6: PerformanceWarning: DataFrame is highly fragmented.  This is usually the result of calling `frame.insert` many times, which has poor performance.  Consider joining all columns at once using pd.concat(axis=1) instead.  To get a de-fragmented frame, use `newframe = frame.copy()`\n",
      "  iv_ok_fea = get_good_fea_list(df, full_fea, False)\n",
      "C:\\Users\\litia\\AppData\\Local\\Temp/ipykernel_19404/1116350120.py:6: PerformanceWarning: DataFrame is highly fragmented.  This is usually the result of calling `frame.insert` many times, which has poor performance.  Consider joining all columns at once using pd.concat(axis=1) instead.  To get a de-fragmented frame, use `newframe = frame.copy()`\n",
      "  iv_ok_fea = get_good_fea_list(df, full_fea, False)\n"
     ]
    },
    {
     "name": "stdout",
     "output_type": "stream",
     "text": [
      "iv 用时： 0.0019953250885009766\n",
      "kf use time:  0.008977651596069336\n",
      "fea: fea_274\tiv_gini: 0.000\t iv_iv: 0.000\t iv_kf: 0.000\n",
      "\n"
     ]
    },
    {
     "name": "stderr",
     "output_type": "stream",
     "text": [
      "C:\\Users\\litia\\AppData\\Local\\Temp/ipykernel_19404/1116350120.py:6: PerformanceWarning: DataFrame is highly fragmented.  This is usually the result of calling `frame.insert` many times, which has poor performance.  Consider joining all columns at once using pd.concat(axis=1) instead.  To get a de-fragmented frame, use `newframe = frame.copy()`\n",
      "  iv_ok_fea = get_good_fea_list(df, full_fea, False)\n"
     ]
    },
    {
     "name": "stdout",
     "output_type": "stream",
     "text": [
      "gini use time:  1.3550307750701904\n",
      "iv 用时： 0.0039882659912109375\n"
     ]
    },
    {
     "name": "stderr",
     "output_type": "stream",
     "text": [
      "C:\\Users\\litia\\AppData\\Local\\Temp/ipykernel_19404/941026484.py:22: RuntimeWarning: invalid value encountered in true_divide\n",
      "  tmp_v = (freq_array - E_nums) ** 2 / E_nums\n"
     ]
    },
    {
     "name": "stdout",
     "output_type": "stream",
     "text": [
      "kf use time:  0.45780372619628906\n",
      "fea: fea_275\tiv_gini: 0.301\t iv_iv: 0.419\t iv_kf: 0.402\n",
      "\n"
     ]
    },
    {
     "name": "stderr",
     "output_type": "stream",
     "text": [
      "C:\\Users\\litia\\AppData\\Local\\Temp/ipykernel_19404/1116350120.py:6: PerformanceWarning: DataFrame is highly fragmented.  This is usually the result of calling `frame.insert` many times, which has poor performance.  Consider joining all columns at once using pd.concat(axis=1) instead.  To get a de-fragmented frame, use `newframe = frame.copy()`\n",
      "  iv_ok_fea = get_good_fea_list(df, full_fea, False)\n"
     ]
    },
    {
     "name": "stdout",
     "output_type": "stream",
     "text": [
      "gini use time:  1.7286932468414307\n",
      "iv 用时： 0.003987312316894531\n"
     ]
    },
    {
     "name": "stderr",
     "output_type": "stream",
     "text": [
      "C:\\Users\\litia\\AppData\\Local\\Temp/ipykernel_19404/941026484.py:22: RuntimeWarning: invalid value encountered in true_divide\n",
      "  tmp_v = (freq_array - E_nums) ** 2 / E_nums\n"
     ]
    },
    {
     "name": "stdout",
     "output_type": "stream",
     "text": [
      "kf use time:  0.3548099994659424\n",
      "fea: fea_276\tiv_gini: 0.202\t iv_iv: 0.268\t iv_kf: 0.197\n",
      "\n",
      "gini use time:  0.1974325180053711\n"
     ]
    },
    {
     "name": "stderr",
     "output_type": "stream",
     "text": [
      "C:\\Users\\litia\\AppData\\Local\\Temp/ipykernel_19404/1116350120.py:6: PerformanceWarning: DataFrame is highly fragmented.  This is usually the result of calling `frame.insert` many times, which has poor performance.  Consider joining all columns at once using pd.concat(axis=1) instead.  To get a de-fragmented frame, use `newframe = frame.copy()`\n",
      "  iv_ok_fea = get_good_fea_list(df, full_fea, False)\n"
     ]
    },
    {
     "name": "stdout",
     "output_type": "stream",
     "text": [
      "iv 用时： 0.001995086669921875\n",
      "kf use time:  0.0109710693359375\n",
      "fea: fea_277\tiv_gini: 0.000\t iv_iv: 0.000\t iv_kf: 0.030\n",
      "\n"
     ]
    },
    {
     "name": "stderr",
     "output_type": "stream",
     "text": [
      "C:\\Users\\litia\\AppData\\Local\\Temp/ipykernel_19404/1116350120.py:6: PerformanceWarning: DataFrame is highly fragmented.  This is usually the result of calling `frame.insert` many times, which has poor performance.  Consider joining all columns at once using pd.concat(axis=1) instead.  To get a de-fragmented frame, use `newframe = frame.copy()`\n",
      "  iv_ok_fea = get_good_fea_list(df, full_fea, False)\n"
     ]
    },
    {
     "name": "stdout",
     "output_type": "stream",
     "text": [
      "gini use time:  0.21342897415161133\n",
      "iv 用时： 0.001995086669921875\n",
      "kf use time:  0.008975744247436523\n",
      "fea: fea_278\tiv_gini: 0.000\t iv_iv: 0.000\t iv_kf: 0.002\n",
      "\n"
     ]
    },
    {
     "name": "stderr",
     "output_type": "stream",
     "text": [
      "C:\\Users\\litia\\AppData\\Local\\Temp/ipykernel_19404/1116350120.py:6: PerformanceWarning: DataFrame is highly fragmented.  This is usually the result of calling `frame.insert` many times, which has poor performance.  Consider joining all columns at once using pd.concat(axis=1) instead.  To get a de-fragmented frame, use `newframe = frame.copy()`\n",
      "  iv_ok_fea = get_good_fea_list(df, full_fea, False)\n"
     ]
    },
    {
     "name": "stdout",
     "output_type": "stream",
     "text": [
      "gini use time:  0.19348359107971191\n",
      "iv 用时： 0.0019941329956054688\n",
      "kf use time:  0.00897836685180664\n",
      "fea: fea_279\tiv_gini: 0.000\t iv_iv: 0.000\t iv_kf: 0.000\n",
      "\n",
      "gini use time:  0.1326429843902588\n",
      "iv 用时： 0.0019943714141845703\n",
      "kf use time:  0.006982088088989258\n",
      "fea: fea_280\tiv_gini: 0.000\t iv_iv: 0.000\t iv_kf: 0.000\n",
      "\n"
     ]
    },
    {
     "name": "stderr",
     "output_type": "stream",
     "text": [
      "C:\\Users\\litia\\AppData\\Local\\Temp/ipykernel_19404/1116350120.py:6: PerformanceWarning: DataFrame is highly fragmented.  This is usually the result of calling `frame.insert` many times, which has poor performance.  Consider joining all columns at once using pd.concat(axis=1) instead.  To get a de-fragmented frame, use `newframe = frame.copy()`\n",
      "  iv_ok_fea = get_good_fea_list(df, full_fea, False)\n",
      "C:\\Users\\litia\\AppData\\Local\\Temp/ipykernel_19404/1116350120.py:6: PerformanceWarning: DataFrame is highly fragmented.  This is usually the result of calling `frame.insert` many times, which has poor performance.  Consider joining all columns at once using pd.concat(axis=1) instead.  To get a de-fragmented frame, use `newframe = frame.copy()`\n",
      "  iv_ok_fea = get_good_fea_list(df, full_fea, False)\n"
     ]
    },
    {
     "name": "stdout",
     "output_type": "stream",
     "text": [
      "gini use time:  0.10571718215942383\n",
      "iv 用时： 0.001994609832763672\n",
      "kf use time:  0.008015871047973633\n",
      "fea: fea_281\tiv_gini: 0.000\t iv_iv: 0.000\t iv_kf: 0.000\n",
      "\n",
      "gini use time:  0.09680533409118652\n",
      "iv 用时： 0.0019936561584472656\n",
      "kf use time:  0.00797891616821289\n",
      "fea: fea_282\tiv_gini: 0.000\t iv_iv: 0.000\t iv_kf: 0.000\n",
      "\n"
     ]
    },
    {
     "name": "stderr",
     "output_type": "stream",
     "text": [
      "C:\\Users\\litia\\AppData\\Local\\Temp/ipykernel_19404/1116350120.py:6: PerformanceWarning: DataFrame is highly fragmented.  This is usually the result of calling `frame.insert` many times, which has poor performance.  Consider joining all columns at once using pd.concat(axis=1) instead.  To get a de-fragmented frame, use `newframe = frame.copy()`\n",
      "  iv_ok_fea = get_good_fea_list(df, full_fea, False)\n",
      "C:\\Users\\litia\\AppData\\Local\\Temp/ipykernel_19404/1116350120.py:6: PerformanceWarning: DataFrame is highly fragmented.  This is usually the result of calling `frame.insert` many times, which has poor performance.  Consider joining all columns at once using pd.concat(axis=1) instead.  To get a de-fragmented frame, use `newframe = frame.copy()`\n",
      "  iv_ok_fea = get_good_fea_list(df, full_fea, False)\n"
     ]
    },
    {
     "name": "stdout",
     "output_type": "stream",
     "text": [
      "gini use time:  0.09773826599121094\n",
      "iv 用时： 0.001995086669921875\n",
      "kf use time:  0.007979154586791992\n",
      "fea: fea_283\tiv_gini: 0.000\t iv_iv: 0.000\t iv_kf: 0.000\n",
      "\n",
      "gini use time:  0.09792160987854004\n",
      "iv 用时： 0.0009970664978027344\n",
      "kf use time:  0.008010149002075195\n",
      "fea: fea_284\tiv_gini: 0.000\t iv_iv: 0.000\t iv_kf: 0.000\n",
      "\n"
     ]
    },
    {
     "name": "stderr",
     "output_type": "stream",
     "text": [
      "C:\\Users\\litia\\AppData\\Local\\Temp/ipykernel_19404/1116350120.py:6: PerformanceWarning: DataFrame is highly fragmented.  This is usually the result of calling `frame.insert` many times, which has poor performance.  Consider joining all columns at once using pd.concat(axis=1) instead.  To get a de-fragmented frame, use `newframe = frame.copy()`\n",
      "  iv_ok_fea = get_good_fea_list(df, full_fea, False)\n",
      "C:\\Users\\litia\\AppData\\Local\\Temp/ipykernel_19404/1116350120.py:6: PerformanceWarning: DataFrame is highly fragmented.  This is usually the result of calling `frame.insert` many times, which has poor performance.  Consider joining all columns at once using pd.concat(axis=1) instead.  To get a de-fragmented frame, use `newframe = frame.copy()`\n",
      "  iv_ok_fea = get_good_fea_list(df, full_fea, False)\n"
     ]
    },
    {
     "name": "stdout",
     "output_type": "stream",
     "text": [
      "gini use time:  0.09571361541748047\n",
      "iv 用时： 0.001993894577026367\n",
      "kf use time:  0.010970115661621094\n",
      "fea: fea_285\tiv_gini: 0.000\t iv_iv: 0.000\t iv_kf: 0.000\n",
      "\n"
     ]
    },
    {
     "name": "stderr",
     "output_type": "stream",
     "text": [
      "C:\\Users\\litia\\AppData\\Local\\Temp/ipykernel_19404/1116350120.py:6: PerformanceWarning: DataFrame is highly fragmented.  This is usually the result of calling `frame.insert` many times, which has poor performance.  Consider joining all columns at once using pd.concat(axis=1) instead.  To get a de-fragmented frame, use `newframe = frame.copy()`\n",
      "  iv_ok_fea = get_good_fea_list(df, full_fea, False)\n"
     ]
    },
    {
     "name": "stdout",
     "output_type": "stream",
     "text": [
      "gini use time:  1.4390361309051514\n",
      "iv 用时： 0.003987789154052734\n"
     ]
    },
    {
     "name": "stderr",
     "output_type": "stream",
     "text": [
      "C:\\Users\\litia\\AppData\\Local\\Temp/ipykernel_19404/941026484.py:22: RuntimeWarning: invalid value encountered in true_divide\n",
      "  tmp_v = (freq_array - E_nums) ** 2 / E_nums\n"
     ]
    },
    {
     "name": "stdout",
     "output_type": "stream",
     "text": [
      "kf use time:  0.4633152484893799\n",
      "fea: fea_286\tiv_gini: 0.354\t iv_iv: 0.426\t iv_kf: 0.468\n",
      "\n"
     ]
    },
    {
     "name": "stderr",
     "output_type": "stream",
     "text": [
      "C:\\Users\\litia\\AppData\\Local\\Temp/ipykernel_19404/1116350120.py:6: PerformanceWarning: DataFrame is highly fragmented.  This is usually the result of calling `frame.insert` many times, which has poor performance.  Consider joining all columns at once using pd.concat(axis=1) instead.  To get a de-fragmented frame, use `newframe = frame.copy()`\n",
      "  iv_ok_fea = get_good_fea_list(df, full_fea, False)\n"
     ]
    },
    {
     "name": "stdout",
     "output_type": "stream",
     "text": [
      "gini use time:  0.9091978073120117\n",
      "iv 用时： 0.0030012130737304688\n"
     ]
    },
    {
     "name": "stderr",
     "output_type": "stream",
     "text": [
      "C:\\Users\\litia\\AppData\\Local\\Temp/ipykernel_19404/941026484.py:22: RuntimeWarning: invalid value encountered in true_divide\n",
      "  tmp_v = (freq_array - E_nums) ** 2 / E_nums\n"
     ]
    },
    {
     "name": "stdout",
     "output_type": "stream",
     "text": [
      "kf use time:  0.3610265254974365\n",
      "fea: fea_287\tiv_gini: 0.129\t iv_iv: 0.261\t iv_kf: 0.201\n",
      "\n"
     ]
    },
    {
     "name": "stderr",
     "output_type": "stream",
     "text": [
      "C:\\Users\\litia\\AppData\\Local\\Temp/ipykernel_19404/1116350120.py:6: PerformanceWarning: DataFrame is highly fragmented.  This is usually the result of calling `frame.insert` many times, which has poor performance.  Consider joining all columns at once using pd.concat(axis=1) instead.  To get a de-fragmented frame, use `newframe = frame.copy()`\n",
      "  iv_ok_fea = get_good_fea_list(df, full_fea, False)\n"
     ]
    },
    {
     "name": "stdout",
     "output_type": "stream",
     "text": [
      "gini use time:  0.22840094566345215\n",
      "iv 用时： 0.001983165740966797\n",
      "kf use time:  0.008975744247436523\n",
      "fea: fea_288\tiv_gini: 0.000\t iv_iv: 0.000\t iv_kf: 0.030\n",
      "\n"
     ]
    },
    {
     "name": "stderr",
     "output_type": "stream",
     "text": [
      "C:\\Users\\litia\\AppData\\Local\\Temp/ipykernel_19404/1116350120.py:6: PerformanceWarning: DataFrame is highly fragmented.  This is usually the result of calling `frame.insert` many times, which has poor performance.  Consider joining all columns at once using pd.concat(axis=1) instead.  To get a de-fragmented frame, use `newframe = frame.copy()`\n",
      "  iv_ok_fea = get_good_fea_list(df, full_fea, False)\n"
     ]
    },
    {
     "name": "stdout",
     "output_type": "stream",
     "text": [
      "gini use time:  0.21047258377075195\n",
      "iv 用时： 0.00196075439453125\n",
      "kf use time:  0.011003494262695312\n",
      "fea: fea_289\tiv_gini: 0.000\t iv_iv: 0.000\t iv_kf: 0.033\n",
      "\n"
     ]
    },
    {
     "name": "stderr",
     "output_type": "stream",
     "text": [
      "C:\\Users\\litia\\AppData\\Local\\Temp/ipykernel_19404/1116350120.py:6: PerformanceWarning: DataFrame is highly fragmented.  This is usually the result of calling `frame.insert` many times, which has poor performance.  Consider joining all columns at once using pd.concat(axis=1) instead.  To get a de-fragmented frame, use `newframe = frame.copy()`\n",
      "  iv_ok_fea = get_good_fea_list(df, full_fea, False)\n"
     ]
    },
    {
     "name": "stdout",
     "output_type": "stream",
     "text": [
      "gini use time:  0.20669007301330566\n",
      "iv 用时： 0.0010116100311279297\n",
      "kf use time:  0.008942127227783203\n",
      "fea: fea_290\tiv_gini: 0.000\t iv_iv: 0.000\t iv_kf: 0.000\n",
      "\n",
      "gini use time:  0.09777188301086426\n",
      "iv 用时： 0.0019948482513427734\n",
      "kf use time:  0.006947755813598633\n",
      "fea: fea_291\tiv_gini: 0.000\t iv_iv: 0.000\t iv_kf: 0.000\n",
      "\n"
     ]
    },
    {
     "name": "stderr",
     "output_type": "stream",
     "text": [
      "C:\\Users\\litia\\AppData\\Local\\Temp/ipykernel_19404/1116350120.py:6: PerformanceWarning: DataFrame is highly fragmented.  This is usually the result of calling `frame.insert` many times, which has poor performance.  Consider joining all columns at once using pd.concat(axis=1) instead.  To get a de-fragmented frame, use `newframe = frame.copy()`\n",
      "  iv_ok_fea = get_good_fea_list(df, full_fea, False)\n",
      "C:\\Users\\litia\\AppData\\Local\\Temp/ipykernel_19404/1116350120.py:6: PerformanceWarning: DataFrame is highly fragmented.  This is usually the result of calling `frame.insert` many times, which has poor performance.  Consider joining all columns at once using pd.concat(axis=1) instead.  To get a de-fragmented frame, use `newframe = frame.copy()`\n",
      "  iv_ok_fea = get_good_fea_list(df, full_fea, False)\n"
     ]
    },
    {
     "name": "stdout",
     "output_type": "stream",
     "text": [
      "gini use time:  0.10073137283325195\n",
      "iv 用时： 0.0019943714141845703\n",
      "kf use time:  0.008012056350708008\n",
      "fea: fea_292\tiv_gini: 0.000\t iv_iv: 0.000\t iv_kf: 0.000\n",
      "\n",
      "gini use time:  0.09574532508850098\n",
      "iv 用时： 0.0009620189666748047\n",
      "kf use time:  0.008010149002075195\n",
      "fea: fea_293\tiv_gini: 0.000\t iv_iv: 0.000\t iv_kf: 0.000\n",
      "\n",
      "gini use time:  0.09475255012512207\n"
     ]
    },
    {
     "name": "stderr",
     "output_type": "stream",
     "text": [
      "C:\\Users\\litia\\AppData\\Local\\Temp/ipykernel_19404/1116350120.py:6: PerformanceWarning: DataFrame is highly fragmented.  This is usually the result of calling `frame.insert` many times, which has poor performance.  Consider joining all columns at once using pd.concat(axis=1) instead.  To get a de-fragmented frame, use `newframe = frame.copy()`\n",
      "  iv_ok_fea = get_good_fea_list(df, full_fea, False)\n",
      "C:\\Users\\litia\\AppData\\Local\\Temp/ipykernel_19404/1116350120.py:6: PerformanceWarning: DataFrame is highly fragmented.  This is usually the result of calling `frame.insert` many times, which has poor performance.  Consider joining all columns at once using pd.concat(axis=1) instead.  To get a de-fragmented frame, use `newframe = frame.copy()`\n",
      "  iv_ok_fea = get_good_fea_list(df, full_fea, False)\n"
     ]
    },
    {
     "name": "stdout",
     "output_type": "stream",
     "text": [
      "iv 用时： 0.0019915103912353516\n",
      "kf use time:  0.009972333908081055\n",
      "fea: fea_294\tiv_gini: 0.000\t iv_iv: 0.000\t iv_kf: 0.000\n",
      "\n",
      "gini use time:  0.09870433807373047\n",
      "iv 用时： 0.0020248889923095703\n",
      "kf use time:  0.00698399543762207\n",
      "fea: fea_295\tiv_gini: 0.000\t iv_iv: 0.000\t iv_kf: 0.000\n",
      "\n",
      "gini use time:  0.09671211242675781\n"
     ]
    },
    {
     "name": "stderr",
     "output_type": "stream",
     "text": [
      "C:\\Users\\litia\\AppData\\Local\\Temp/ipykernel_19404/1116350120.py:6: PerformanceWarning: DataFrame is highly fragmented.  This is usually the result of calling `frame.insert` many times, which has poor performance.  Consider joining all columns at once using pd.concat(axis=1) instead.  To get a de-fragmented frame, use `newframe = frame.copy()`\n",
      "  iv_ok_fea = get_good_fea_list(df, full_fea, False)\n",
      "C:\\Users\\litia\\AppData\\Local\\Temp/ipykernel_19404/1116350120.py:6: PerformanceWarning: DataFrame is highly fragmented.  This is usually the result of calling `frame.insert` many times, which has poor performance.  Consider joining all columns at once using pd.concat(axis=1) instead.  To get a de-fragmented frame, use `newframe = frame.copy()`\n",
      "  iv_ok_fea = get_good_fea_list(df, full_fea, False)\n"
     ]
    },
    {
     "name": "stdout",
     "output_type": "stream",
     "text": [
      "iv 用时： 0.0019903182983398438\n",
      "kf use time:  0.0080108642578125\n",
      "fea: fea_296\tiv_gini: 0.000\t iv_iv: 0.000\t iv_kf: 0.000\n",
      "\n"
     ]
    },
    {
     "name": "stderr",
     "output_type": "stream",
     "text": [
      "C:\\Users\\litia\\AppData\\Local\\Temp/ipykernel_19404/1116350120.py:6: PerformanceWarning: DataFrame is highly fragmented.  This is usually the result of calling `frame.insert` many times, which has poor performance.  Consider joining all columns at once using pd.concat(axis=1) instead.  To get a de-fragmented frame, use `newframe = frame.copy()`\n",
      "  iv_ok_fea = get_good_fea_list(df, full_fea, False)\n"
     ]
    },
    {
     "name": "stdout",
     "output_type": "stream",
     "text": [
      "gini use time:  1.89430570602417\n",
      "iv 用时： 0.0039789676666259766\n"
     ]
    },
    {
     "name": "stderr",
     "output_type": "stream",
     "text": [
      "C:\\Users\\litia\\AppData\\Local\\Temp/ipykernel_19404/941026484.py:22: RuntimeWarning: invalid value encountered in true_divide\n",
      "  tmp_v = (freq_array - E_nums) ** 2 / E_nums\n"
     ]
    },
    {
     "name": "stdout",
     "output_type": "stream",
     "text": [
      "kf use time:  0.4766867160797119\n",
      "fea: fea_297\tiv_gini: 0.350\t iv_iv: 0.427\t iv_kf: 0.383\n",
      "\n",
      "gini use time:  0.20545291900634766\n"
     ]
    },
    {
     "name": "stderr",
     "output_type": "stream",
     "text": [
      "C:\\Users\\litia\\AppData\\Local\\Temp/ipykernel_19404/1116350120.py:6: PerformanceWarning: DataFrame is highly fragmented.  This is usually the result of calling `frame.insert` many times, which has poor performance.  Consider joining all columns at once using pd.concat(axis=1) instead.  To get a de-fragmented frame, use `newframe = frame.copy()`\n",
      "  iv_ok_fea = get_good_fea_list(df, full_fea, False)\n"
     ]
    },
    {
     "name": "stdout",
     "output_type": "stream",
     "text": [
      "iv 用时： 0.0020246505737304688\n",
      "kf use time:  0.00997304916381836\n",
      "fea: fea_298\tiv_gini: 0.000\t iv_iv: 0.000\t iv_kf: 0.012\n",
      "\n"
     ]
    },
    {
     "name": "stderr",
     "output_type": "stream",
     "text": [
      "C:\\Users\\litia\\AppData\\Local\\Temp/ipykernel_19404/1116350120.py:6: PerformanceWarning: DataFrame is highly fragmented.  This is usually the result of calling `frame.insert` many times, which has poor performance.  Consider joining all columns at once using pd.concat(axis=1) instead.  To get a de-fragmented frame, use `newframe = frame.copy()`\n",
      "  iv_ok_fea = get_good_fea_list(df, full_fea, False)\n"
     ]
    },
    {
     "name": "stdout",
     "output_type": "stream",
     "text": [
      "gini use time:  0.2014319896697998\n",
      "iv 用时： 0.0019931793212890625\n",
      "kf use time:  0.00997304916381836\n",
      "fea: fea_299\tiv_gini: 0.000\t iv_iv: 0.000\t iv_kf: 0.032\n",
      "\n"
     ]
    },
    {
     "name": "stderr",
     "output_type": "stream",
     "text": [
      "C:\\Users\\litia\\AppData\\Local\\Temp/ipykernel_19404/1116350120.py:6: PerformanceWarning: DataFrame is highly fragmented.  This is usually the result of calling `frame.insert` many times, which has poor performance.  Consider joining all columns at once using pd.concat(axis=1) instead.  To get a de-fragmented frame, use `newframe = frame.copy()`\n",
      "  iv_ok_fea = get_good_fea_list(df, full_fea, False)\n"
     ]
    },
    {
     "name": "stdout",
     "output_type": "stream",
     "text": [
      "gini use time:  0.20545506477355957\n",
      "iv 用时： 0.0020291805267333984\n",
      "kf use time:  0.008938312530517578\n",
      "fea: fea_300\tiv_gini: 0.000\t iv_iv: 0.000\t iv_kf: 0.002\n",
      "\n"
     ]
    },
    {
     "name": "stderr",
     "output_type": "stream",
     "text": [
      "C:\\Users\\litia\\AppData\\Local\\Temp/ipykernel_19404/1116350120.py:6: PerformanceWarning: DataFrame is highly fragmented.  This is usually the result of calling `frame.insert` many times, which has poor performance.  Consider joining all columns at once using pd.concat(axis=1) instead.  To get a de-fragmented frame, use `newframe = frame.copy()`\n",
      "  iv_ok_fea = get_good_fea_list(df, full_fea, False)\n"
     ]
    },
    {
     "name": "stdout",
     "output_type": "stream",
     "text": [
      "gini use time:  0.20403552055358887\n",
      "iv 用时： 0.0019948482513427734\n",
      "kf use time:  0.009009838104248047\n",
      "fea: fea_301\tiv_gini: 0.000\t iv_iv: 0.000\t iv_kf: 0.000\n",
      "\n",
      "gini use time:  0.10069680213928223\n",
      "iv 用时： 0.0019953250885009766\n",
      "kf use time:  0.0070133209228515625\n",
      "fea: fea_302\tiv_gini: 0.000\t iv_iv: 0.000\t iv_kf: 0.000\n",
      "\n"
     ]
    },
    {
     "name": "stderr",
     "output_type": "stream",
     "text": [
      "C:\\Users\\litia\\AppData\\Local\\Temp/ipykernel_19404/1116350120.py:6: PerformanceWarning: DataFrame is highly fragmented.  This is usually the result of calling `frame.insert` many times, which has poor performance.  Consider joining all columns at once using pd.concat(axis=1) instead.  To get a de-fragmented frame, use `newframe = frame.copy()`\n",
      "  iv_ok_fea = get_good_fea_list(df, full_fea, False)\n",
      "C:\\Users\\litia\\AppData\\Local\\Temp/ipykernel_19404/1116350120.py:6: PerformanceWarning: DataFrame is highly fragmented.  This is usually the result of calling `frame.insert` many times, which has poor performance.  Consider joining all columns at once using pd.concat(axis=1) instead.  To get a de-fragmented frame, use `newframe = frame.copy()`\n",
      "  iv_ok_fea = get_good_fea_list(df, full_fea, False)\n"
     ]
    },
    {
     "name": "stdout",
     "output_type": "stream",
     "text": [
      "gini use time:  0.09873652458190918\n",
      "iv 用时： 0.0029587745666503906\n",
      "kf use time:  0.008013725280761719\n",
      "fea: fea_303\tiv_gini: 0.000\t iv_iv: 0.000\t iv_kf: 0.000\n",
      "\n",
      "gini use time:  0.09870362281799316\n",
      "iv 用时： 0.0020301342010498047\n",
      "kf use time:  0.007942676544189453\n",
      "fea: fea_304\tiv_gini: 0.000\t iv_iv: 0.000\t iv_kf: 0.000\n",
      "\n",
      "gini use time:  0.09777307510375977\n"
     ]
    },
    {
     "name": "stderr",
     "output_type": "stream",
     "text": [
      "C:\\Users\\litia\\AppData\\Local\\Temp/ipykernel_19404/1116350120.py:6: PerformanceWarning: DataFrame is highly fragmented.  This is usually the result of calling `frame.insert` many times, which has poor performance.  Consider joining all columns at once using pd.concat(axis=1) instead.  To get a de-fragmented frame, use `newframe = frame.copy()`\n",
      "  iv_ok_fea = get_good_fea_list(df, full_fea, False)\n",
      "C:\\Users\\litia\\AppData\\Local\\Temp/ipykernel_19404/1116350120.py:6: PerformanceWarning: DataFrame is highly fragmented.  This is usually the result of calling `frame.insert` many times, which has poor performance.  Consider joining all columns at once using pd.concat(axis=1) instead.  To get a de-fragmented frame, use `newframe = frame.copy()`\n",
      "  iv_ok_fea = get_good_fea_list(df, full_fea, False)\n"
     ]
    },
    {
     "name": "stdout",
     "output_type": "stream",
     "text": [
      "iv 用时： 0.001960277557373047\n",
      "kf use time:  0.009007453918457031\n",
      "fea: fea_305\tiv_gini: 0.000\t iv_iv: 0.000\t iv_kf: 0.000\n",
      "\n",
      "gini use time:  0.09970474243164062\n",
      "iv 用时： 0.0019922256469726562\n",
      "kf use time:  0.007012844085693359\n",
      "fea: fea_306\tiv_gini: 0.000\t iv_iv: 0.000\t iv_kf: 0.000\n",
      "\n",
      "gini use time:  0.09774422645568848\n"
     ]
    },
    {
     "name": "stderr",
     "output_type": "stream",
     "text": [
      "C:\\Users\\litia\\AppData\\Local\\Temp/ipykernel_19404/1116350120.py:6: PerformanceWarning: DataFrame is highly fragmented.  This is usually the result of calling `frame.insert` many times, which has poor performance.  Consider joining all columns at once using pd.concat(axis=1) instead.  To get a de-fragmented frame, use `newframe = frame.copy()`\n",
      "  iv_ok_fea = get_good_fea_list(df, full_fea, False)\n",
      "C:\\Users\\litia\\AppData\\Local\\Temp/ipykernel_19404/1116350120.py:6: PerformanceWarning: DataFrame is highly fragmented.  This is usually the result of calling `frame.insert` many times, which has poor performance.  Consider joining all columns at once using pd.concat(axis=1) instead.  To get a de-fragmented frame, use `newframe = frame.copy()`\n",
      "  iv_ok_fea = get_good_fea_list(df, full_fea, False)\n"
     ]
    },
    {
     "name": "stdout",
     "output_type": "stream",
     "text": [
      "iv 用时： 0.0019576549530029297\n",
      "kf use time:  0.008975744247436523\n",
      "fea: fea_307\tiv_gini: 0.000\t iv_iv: 0.000\t iv_kf: 0.000\n",
      "\n"
     ]
    },
    {
     "name": "stderr",
     "output_type": "stream",
     "text": [
      "C:\\Users\\litia\\AppData\\Local\\Temp/ipykernel_19404/1116350120.py:6: PerformanceWarning: DataFrame is highly fragmented.  This is usually the result of calling `frame.insert` many times, which has poor performance.  Consider joining all columns at once using pd.concat(axis=1) instead.  To get a de-fragmented frame, use `newframe = frame.copy()`\n",
      "  iv_ok_fea = get_good_fea_list(df, full_fea, False)\n"
     ]
    },
    {
     "name": "stdout",
     "output_type": "stream",
     "text": [
      "gini use time:  2.1447885036468506\n",
      "iv 用时： 0.00498199462890625\n"
     ]
    },
    {
     "name": "stderr",
     "output_type": "stream",
     "text": [
      "C:\\Users\\litia\\AppData\\Local\\Temp/ipykernel_19404/941026484.py:22: RuntimeWarning: invalid value encountered in true_divide\n",
      "  tmp_v = (freq_array - E_nums) ** 2 / E_nums\n"
     ]
    },
    {
     "name": "stdout",
     "output_type": "stream",
     "text": [
      "kf use time:  0.47931408882141113\n",
      "fea: fea_308\tiv_gini: 0.331\t iv_iv: 0.373\t iv_kf: 0.360\n",
      "\n"
     ]
    },
    {
     "name": "stderr",
     "output_type": "stream",
     "text": [
      "C:\\Users\\litia\\AppData\\Local\\Temp/ipykernel_19404/1116350120.py:6: PerformanceWarning: DataFrame is highly fragmented.  This is usually the result of calling `frame.insert` many times, which has poor performance.  Consider joining all columns at once using pd.concat(axis=1) instead.  To get a de-fragmented frame, use `newframe = frame.copy()`\n",
      "  iv_ok_fea = get_good_fea_list(df, full_fea, False)\n"
     ]
    },
    {
     "name": "stdout",
     "output_type": "stream",
     "text": [
      "gini use time:  0.2153944969177246\n",
      "iv 用时： 0.001993417739868164\n",
      "kf use time:  0.010008096694946289\n",
      "fea: fea_309\tiv_gini: 0.000\t iv_iv: 0.000\t iv_kf: 0.007\n",
      "\n"
     ]
    },
    {
     "name": "stderr",
     "output_type": "stream",
     "text": [
      "C:\\Users\\litia\\AppData\\Local\\Temp/ipykernel_19404/1116350120.py:6: PerformanceWarning: DataFrame is highly fragmented.  This is usually the result of calling `frame.insert` many times, which has poor performance.  Consider joining all columns at once using pd.concat(axis=1) instead.  To get a de-fragmented frame, use `newframe = frame.copy()`\n",
      "  iv_ok_fea = get_good_fea_list(df, full_fea, False)\n"
     ]
    },
    {
     "name": "stdout",
     "output_type": "stream",
     "text": [
      "gini use time:  0.2094419002532959\n",
      "iv 用时： 0.0010037422180175781\n",
      "kf use time:  0.009970903396606445\n",
      "fea: fea_310\tiv_gini: 0.000\t iv_iv: 0.000\t iv_kf: 0.032\n",
      "\n"
     ]
    },
    {
     "name": "stderr",
     "output_type": "stream",
     "text": [
      "C:\\Users\\litia\\AppData\\Local\\Temp/ipykernel_19404/1116350120.py:6: PerformanceWarning: DataFrame is highly fragmented.  This is usually the result of calling `frame.insert` many times, which has poor performance.  Consider joining all columns at once using pd.concat(axis=1) instead.  To get a de-fragmented frame, use `newframe = frame.copy()`\n",
      "  iv_ok_fea = get_good_fea_list(df, full_fea, False)\n"
     ]
    },
    {
     "name": "stdout",
     "output_type": "stream",
     "text": [
      "gini use time:  0.2283921241760254\n",
      "iv 用时： 0.0019605159759521484\n",
      "kf use time:  0.00900721549987793\n",
      "fea: fea_311\tiv_gini: 0.000\t iv_iv: 0.000\t iv_kf: 0.033\n",
      "\n"
     ]
    },
    {
     "name": "stderr",
     "output_type": "stream",
     "text": [
      "C:\\Users\\litia\\AppData\\Local\\Temp/ipykernel_19404/1116350120.py:6: PerformanceWarning: DataFrame is highly fragmented.  This is usually the result of calling `frame.insert` many times, which has poor performance.  Consider joining all columns at once using pd.concat(axis=1) instead.  To get a de-fragmented frame, use `newframe = frame.copy()`\n",
      "  iv_ok_fea = get_good_fea_list(df, full_fea, False)\n"
     ]
    },
    {
     "name": "stdout",
     "output_type": "stream",
     "text": [
      "gini use time:  0.21400880813598633\n",
      "iv 用时： 0.0020270347595214844\n",
      "kf use time:  0.008975744247436523\n",
      "fea: fea_312\tiv_gini: 0.000\t iv_iv: 0.000\t iv_kf: 0.000\n",
      "\n",
      "gini use time:  0.10172915458679199\n",
      "iv 用时： 0.001994609832763672\n",
      "kf use time:  0.0069806575775146484\n",
      "fea: fea_313\tiv_gini: 0.000\t iv_iv: 0.000\t iv_kf: 0.000\n",
      "\n"
     ]
    },
    {
     "name": "stderr",
     "output_type": "stream",
     "text": [
      "C:\\Users\\litia\\AppData\\Local\\Temp/ipykernel_19404/1116350120.py:6: PerformanceWarning: DataFrame is highly fragmented.  This is usually the result of calling `frame.insert` many times, which has poor performance.  Consider joining all columns at once using pd.concat(axis=1) instead.  To get a de-fragmented frame, use `newframe = frame.copy()`\n",
      "  iv_ok_fea = get_good_fea_list(df, full_fea, False)\n",
      "C:\\Users\\litia\\AppData\\Local\\Temp/ipykernel_19404/1116350120.py:6: PerformanceWarning: DataFrame is highly fragmented.  This is usually the result of calling `frame.insert` many times, which has poor performance.  Consider joining all columns at once using pd.concat(axis=1) instead.  To get a de-fragmented frame, use `newframe = frame.copy()`\n",
      "  iv_ok_fea = get_good_fea_list(df, full_fea, False)\n"
     ]
    },
    {
     "name": "stdout",
     "output_type": "stream",
     "text": [
      "gini use time:  0.10369324684143066\n",
      "iv 用时： 0.0010313987731933594\n",
      "kf use time:  0.007974863052368164\n",
      "fea: fea_314\tiv_gini: 0.000\t iv_iv: 0.000\t iv_kf: 0.000\n",
      "\n",
      "gini use time:  0.10169577598571777\n",
      "iv 用时： 0.0010309219360351562\n",
      "kf use time:  0.007977724075317383\n",
      "fea: fea_315\tiv_gini: 0.000\t iv_iv: 0.000\t iv_kf: 0.000\n",
      "\n"
     ]
    },
    {
     "name": "stderr",
     "output_type": "stream",
     "text": [
      "C:\\Users\\litia\\AppData\\Local\\Temp/ipykernel_19404/1116350120.py:6: PerformanceWarning: DataFrame is highly fragmented.  This is usually the result of calling `frame.insert` many times, which has poor performance.  Consider joining all columns at once using pd.concat(axis=1) instead.  To get a de-fragmented frame, use `newframe = frame.copy()`\n",
      "  iv_ok_fea = get_good_fea_list(df, full_fea, False)\n",
      "C:\\Users\\litia\\AppData\\Local\\Temp/ipykernel_19404/1116350120.py:6: PerformanceWarning: DataFrame is highly fragmented.  This is usually the result of calling `frame.insert` many times, which has poor performance.  Consider joining all columns at once using pd.concat(axis=1) instead.  To get a de-fragmented frame, use `newframe = frame.copy()`\n",
      "  iv_ok_fea = get_good_fea_list(df, full_fea, False)\n"
     ]
    },
    {
     "name": "stdout",
     "output_type": "stream",
     "text": [
      "gini use time:  0.09973526000976562\n",
      "iv 用时： 0.0019922256469726562\n",
      "kf use time:  0.008944272994995117\n",
      "fea: fea_316\tiv_gini: 0.000\t iv_iv: 0.000\t iv_kf: 0.000\n",
      "\n",
      "gini use time:  0.10076093673706055\n",
      "iv 用时： 0.0019834041595458984\n",
      "kf use time:  0.006997108459472656\n",
      "fea: fea_317\tiv_gini: 0.000\t iv_iv: 0.000\t iv_kf: 0.000\n",
      "\n"
     ]
    },
    {
     "name": "stderr",
     "output_type": "stream",
     "text": [
      "C:\\Users\\litia\\AppData\\Local\\Temp/ipykernel_19404/1116350120.py:6: PerformanceWarning: DataFrame is highly fragmented.  This is usually the result of calling `frame.insert` many times, which has poor performance.  Consider joining all columns at once using pd.concat(axis=1) instead.  To get a de-fragmented frame, use `newframe = frame.copy()`\n",
      "  iv_ok_fea = get_good_fea_list(df, full_fea, False)\n",
      "C:\\Users\\litia\\AppData\\Local\\Temp/ipykernel_19404/1116350120.py:6: PerformanceWarning: DataFrame is highly fragmented.  This is usually the result of calling `frame.insert` many times, which has poor performance.  Consider joining all columns at once using pd.concat(axis=1) instead.  To get a de-fragmented frame, use `newframe = frame.copy()`\n",
      "  iv_ok_fea = get_good_fea_list(df, full_fea, False)\n"
     ]
    },
    {
     "name": "stdout",
     "output_type": "stream",
     "text": [
      "gini use time:  0.10073137283325195\n",
      "iv 用时： 0.001959562301635742\n",
      "kf use time:  0.008977174758911133\n",
      "fea: fea_318\tiv_gini: 0.000\t iv_iv: 0.000\t iv_kf: 0.000\n",
      "\n"
     ]
    },
    {
     "name": "stderr",
     "output_type": "stream",
     "text": [
      "C:\\Users\\litia\\AppData\\Local\\Temp/ipykernel_19404/1116350120.py:6: PerformanceWarning: DataFrame is highly fragmented.  This is usually the result of calling `frame.insert` many times, which has poor performance.  Consider joining all columns at once using pd.concat(axis=1) instead.  To get a de-fragmented frame, use `newframe = frame.copy()`\n",
      "  iv_ok_fea = get_good_fea_list(df, full_fea, False)\n"
     ]
    },
    {
     "name": "stdout",
     "output_type": "stream",
     "text": [
      "gini use time:  2.19054913520813\n",
      "iv 用时： 0.003988504409790039\n"
     ]
    },
    {
     "name": "stderr",
     "output_type": "stream",
     "text": [
      "C:\\Users\\litia\\AppData\\Local\\Temp/ipykernel_19404/941026484.py:22: RuntimeWarning: invalid value encountered in true_divide\n",
      "  tmp_v = (freq_array - E_nums) ** 2 / E_nums\n"
     ]
    },
    {
     "name": "stdout",
     "output_type": "stream",
     "text": [
      "kf use time:  0.4727346897125244\n",
      "fea: fea_319\tiv_gini: 0.332\t iv_iv: 0.401\t iv_kf: 0.335\n",
      "\n"
     ]
    },
    {
     "name": "stderr",
     "output_type": "stream",
     "text": [
      "C:\\Users\\litia\\AppData\\Local\\Temp/ipykernel_19404/1116350120.py:6: PerformanceWarning: DataFrame is highly fragmented.  This is usually the result of calling `frame.insert` many times, which has poor performance.  Consider joining all columns at once using pd.concat(axis=1) instead.  To get a de-fragmented frame, use `newframe = frame.copy()`\n",
      "  iv_ok_fea = get_good_fea_list(df, full_fea, False)\n"
     ]
    },
    {
     "name": "stdout",
     "output_type": "stream",
     "text": [
      "gini use time:  0.21842217445373535\n",
      "iv 用时： 0.001994609832763672\n",
      "kf use time:  0.009026527404785156\n",
      "fea: fea_320\tiv_gini: 0.000\t iv_iv: 0.000\t iv_kf: 0.007\n",
      "\n"
     ]
    },
    {
     "name": "stderr",
     "output_type": "stream",
     "text": [
      "C:\\Users\\litia\\AppData\\Local\\Temp/ipykernel_19404/1116350120.py:6: PerformanceWarning: DataFrame is highly fragmented.  This is usually the result of calling `frame.insert` many times, which has poor performance.  Consider joining all columns at once using pd.concat(axis=1) instead.  To get a de-fragmented frame, use `newframe = frame.copy()`\n",
      "  iv_ok_fea = get_good_fea_list(df, full_fea, False)\n"
     ]
    },
    {
     "name": "stdout",
     "output_type": "stream",
     "text": [
      "gini use time:  0.23037028312683105\n",
      "iv 用时： 0.0019583702087402344\n",
      "kf use time:  0.010005712509155273\n",
      "fea: fea_321\tiv_gini: 0.000\t iv_iv: 0.000\t iv_kf: 0.032\n",
      "\n"
     ]
    },
    {
     "name": "stderr",
     "output_type": "stream",
     "text": [
      "C:\\Users\\litia\\AppData\\Local\\Temp/ipykernel_19404/1116350120.py:6: PerformanceWarning: DataFrame is highly fragmented.  This is usually the result of calling `frame.insert` many times, which has poor performance.  Consider joining all columns at once using pd.concat(axis=1) instead.  To get a de-fragmented frame, use `newframe = frame.copy()`\n",
      "  iv_ok_fea = get_good_fea_list(df, full_fea, False)\n"
     ]
    },
    {
     "name": "stdout",
     "output_type": "stream",
     "text": [
      "gini use time:  0.21805095672607422\n",
      "iv 用时： 0.0019941329956054688\n",
      "kf use time:  0.009008169174194336\n",
      "fea: fea_322\tiv_gini: 0.000\t iv_iv: 0.000\t iv_kf: 0.033\n",
      "\n"
     ]
    },
    {
     "name": "stderr",
     "output_type": "stream",
     "text": [
      "C:\\Users\\litia\\AppData\\Local\\Temp/ipykernel_19404/1116350120.py:6: PerformanceWarning: DataFrame is highly fragmented.  This is usually the result of calling `frame.insert` many times, which has poor performance.  Consider joining all columns at once using pd.concat(axis=1) instead.  To get a de-fragmented frame, use `newframe = frame.copy()`\n",
      "  iv_ok_fea = get_good_fea_list(df, full_fea, False)\n"
     ]
    },
    {
     "name": "stdout",
     "output_type": "stream",
     "text": [
      "gini use time:  0.21741795539855957\n",
      "iv 用时： 0.0009999275207519531\n",
      "kf use time:  0.007943868637084961\n",
      "fea: fea_323\tiv_gini: 0.000\t iv_iv: 0.000\t iv_kf: 0.000\n",
      "\n",
      "gini use time:  0.10272979736328125\n",
      "iv 用时： 0.0019915103912353516\n",
      "kf use time:  0.0070171356201171875\n",
      "fea: fea_324\tiv_gini: 0.000\t iv_iv: 0.000\t iv_kf: 0.000\n",
      "\n"
     ]
    },
    {
     "name": "stderr",
     "output_type": "stream",
     "text": [
      "C:\\Users\\litia\\AppData\\Local\\Temp/ipykernel_19404/1116350120.py:6: PerformanceWarning: DataFrame is highly fragmented.  This is usually the result of calling `frame.insert` many times, which has poor performance.  Consider joining all columns at once using pd.concat(axis=1) instead.  To get a de-fragmented frame, use `newframe = frame.copy()`\n",
      "  iv_ok_fea = get_good_fea_list(df, full_fea, False)\n",
      "C:\\Users\\litia\\AppData\\Local\\Temp/ipykernel_19404/1116350120.py:6: PerformanceWarning: DataFrame is highly fragmented.  This is usually the result of calling `frame.insert` many times, which has poor performance.  Consider joining all columns at once using pd.concat(axis=1) instead.  To get a de-fragmented frame, use `newframe = frame.copy()`\n",
      "  iv_ok_fea = get_good_fea_list(df, full_fea, False)\n"
     ]
    },
    {
     "name": "stdout",
     "output_type": "stream",
     "text": [
      "gini use time:  0.10368680953979492\n",
      "iv 用时： 0.0009975433349609375\n",
      "kf use time:  0.00900721549987793\n",
      "fea: fea_325\tiv_gini: 0.000\t iv_iv: 0.000\t iv_kf: 0.000\n",
      "\n",
      "gini use time:  0.11369967460632324\n",
      "iv 用时： 0.0019941329956054688\n",
      "kf use time:  0.007945775985717773\n",
      "fea: fea_326\tiv_gini: 0.000\t iv_iv: 0.000\t iv_kf: 0.000\n",
      "\n"
     ]
    },
    {
     "name": "stderr",
     "output_type": "stream",
     "text": [
      "C:\\Users\\litia\\AppData\\Local\\Temp/ipykernel_19404/1116350120.py:6: PerformanceWarning: DataFrame is highly fragmented.  This is usually the result of calling `frame.insert` many times, which has poor performance.  Consider joining all columns at once using pd.concat(axis=1) instead.  To get a de-fragmented frame, use `newframe = frame.copy()`\n",
      "  iv_ok_fea = get_good_fea_list(df, full_fea, False)\n",
      "C:\\Users\\litia\\AppData\\Local\\Temp/ipykernel_19404/1116350120.py:6: PerformanceWarning: DataFrame is highly fragmented.  This is usually the result of calling `frame.insert` many times, which has poor performance.  Consider joining all columns at once using pd.concat(axis=1) instead.  To get a de-fragmented frame, use `newframe = frame.copy()`\n",
      "  iv_ok_fea = get_good_fea_list(df, full_fea, False)\n"
     ]
    },
    {
     "name": "stdout",
     "output_type": "stream",
     "text": [
      "gini use time:  0.11967897415161133\n",
      "iv 用时： 0.000997781753540039\n",
      "kf use time:  0.007978200912475586\n",
      "fea: fea_327\tiv_gini: 0.000\t iv_iv: 0.000\t iv_kf: 0.000\n",
      "\n",
      "gini use time:  0.11475372314453125\n",
      "iv 用时： 0.0015304088592529297\n",
      "kf use time:  0.006989002227783203\n",
      "fea: fea_328\tiv_gini: 0.000\t iv_iv: 0.000\t iv_kf: 0.000\n",
      "\n"
     ]
    },
    {
     "name": "stderr",
     "output_type": "stream",
     "text": [
      "C:\\Users\\litia\\AppData\\Local\\Temp/ipykernel_19404/1116350120.py:6: PerformanceWarning: DataFrame is highly fragmented.  This is usually the result of calling `frame.insert` many times, which has poor performance.  Consider joining all columns at once using pd.concat(axis=1) instead.  To get a de-fragmented frame, use `newframe = frame.copy()`\n",
      "  iv_ok_fea = get_good_fea_list(df, full_fea, False)\n",
      "C:\\Users\\litia\\AppData\\Local\\Temp/ipykernel_19404/1116350120.py:6: PerformanceWarning: DataFrame is highly fragmented.  This is usually the result of calling `frame.insert` many times, which has poor performance.  Consider joining all columns at once using pd.concat(axis=1) instead.  To get a de-fragmented frame, use `newframe = frame.copy()`\n",
      "  iv_ok_fea = get_good_fea_list(df, full_fea, False)\n"
     ]
    },
    {
     "name": "stdout",
     "output_type": "stream",
     "text": [
      "gini use time:  0.10571694374084473\n",
      "iv 用时： 0.0019927024841308594\n",
      "kf use time:  0.007947444915771484\n",
      "fea: fea_329\tiv_gini: 0.000\t iv_iv: 0.000\t iv_kf: 0.000\n",
      "\n"
     ]
    },
    {
     "name": "stderr",
     "output_type": "stream",
     "text": [
      "C:\\Users\\litia\\AppData\\Local\\Temp/ipykernel_19404/1116350120.py:6: PerformanceWarning: DataFrame is highly fragmented.  This is usually the result of calling `frame.insert` many times, which has poor performance.  Consider joining all columns at once using pd.concat(axis=1) instead.  To get a de-fragmented frame, use `newframe = frame.copy()`\n",
      "  iv_ok_fea = get_good_fea_list(df, full_fea, False)\n"
     ]
    },
    {
     "name": "stdout",
     "output_type": "stream",
     "text": [
      "gini use time:  2.2783453464508057\n",
      "iv 用时： 0.003988981246948242\n"
     ]
    },
    {
     "name": "stderr",
     "output_type": "stream",
     "text": [
      "C:\\Users\\litia\\AppData\\Local\\Temp/ipykernel_19404/941026484.py:22: RuntimeWarning: invalid value encountered in true_divide\n",
      "  tmp_v = (freq_array - E_nums) ** 2 / E_nums\n"
     ]
    },
    {
     "name": "stdout",
     "output_type": "stream",
     "text": [
      "kf use time:  0.46772027015686035\n",
      "fea: fea_330\tiv_gini: 0.373\t iv_iv: 0.429\t iv_kf: 0.400\n",
      "\n"
     ]
    },
    {
     "name": "stderr",
     "output_type": "stream",
     "text": [
      "C:\\Users\\litia\\AppData\\Local\\Temp/ipykernel_19404/1116350120.py:6: PerformanceWarning: DataFrame is highly fragmented.  This is usually the result of calling `frame.insert` many times, which has poor performance.  Consider joining all columns at once using pd.concat(axis=1) instead.  To get a de-fragmented frame, use `newframe = frame.copy()`\n",
      "  iv_ok_fea = get_good_fea_list(df, full_fea, False)\n"
     ]
    },
    {
     "name": "stdout",
     "output_type": "stream",
     "text": [
      "gini use time:  0.22294831275939941\n",
      "iv 用时： 0.002035379409790039\n",
      "kf use time:  0.007936239242553711\n",
      "fea: fea_331\tiv_gini: 0.000\t iv_iv: 0.000\t iv_kf: 0.000\n",
      "\n"
     ]
    },
    {
     "name": "stderr",
     "output_type": "stream",
     "text": [
      "C:\\Users\\litia\\AppData\\Local\\Temp/ipykernel_19404/1116350120.py:6: PerformanceWarning: DataFrame is highly fragmented.  This is usually the result of calling `frame.insert` many times, which has poor performance.  Consider joining all columns at once using pd.concat(axis=1) instead.  To get a de-fragmented frame, use `newframe = frame.copy()`\n",
      "  iv_ok_fea = get_good_fea_list(df, full_fea, False)\n"
     ]
    },
    {
     "name": "stdout",
     "output_type": "stream",
     "text": [
      "gini use time:  0.22041034698486328\n",
      "iv 用时： 0.001035928726196289\n",
      "kf use time:  0.008937358856201172\n",
      "fea: fea_332\tiv_gini: 0.000\t iv_iv: 0.000\t iv_kf: 0.030\n",
      "\n"
     ]
    },
    {
     "name": "stderr",
     "output_type": "stream",
     "text": [
      "C:\\Users\\litia\\AppData\\Local\\Temp/ipykernel_19404/1116350120.py:6: PerformanceWarning: DataFrame is highly fragmented.  This is usually the result of calling `frame.insert` many times, which has poor performance.  Consider joining all columns at once using pd.concat(axis=1) instead.  To get a de-fragmented frame, use `newframe = frame.copy()`\n",
      "  iv_ok_fea = get_good_fea_list(df, full_fea, False)\n"
     ]
    },
    {
     "name": "stdout",
     "output_type": "stream",
     "text": [
      "gini use time:  0.22044730186462402\n",
      "iv 用时： 0.0019583702087402344\n",
      "kf use time:  0.01000523567199707\n",
      "fea: fea_333\tiv_gini: 0.000\t iv_iv: 0.000\t iv_kf: 0.066\n",
      "\n"
     ]
    },
    {
     "name": "stderr",
     "output_type": "stream",
     "text": [
      "C:\\Users\\litia\\AppData\\Local\\Temp/ipykernel_19404/941026484.py:22: RuntimeWarning: invalid value encountered in true_divide\n",
      "  tmp_v = (freq_array - E_nums) ** 2 / E_nums\n",
      "C:\\Users\\litia\\AppData\\Local\\Temp/ipykernel_19404/1116350120.py:6: PerformanceWarning: DataFrame is highly fragmented.  This is usually the result of calling `frame.insert` many times, which has poor performance.  Consider joining all columns at once using pd.concat(axis=1) instead.  To get a de-fragmented frame, use `newframe = frame.copy()`\n",
      "  iv_ok_fea = get_good_fea_list(df, full_fea, False)\n"
     ]
    },
    {
     "name": "stdout",
     "output_type": "stream",
     "text": [
      "gini use time:  0.2293567657470703\n",
      "iv 用时： 0.0010287761688232422\n",
      "kf use time:  0.008976221084594727\n",
      "fea: fea_334\tiv_gini: 0.000\t iv_iv: 0.000\t iv_kf: 0.000\n",
      "\n",
      "gini use time:  0.12164163589477539\n",
      "iv 用时： 0.0009982585906982422\n",
      "kf use time:  0.009007453918457031\n",
      "fea: fea_335\tiv_gini: 0.000\t iv_iv: 0.000\t iv_kf: 0.000\n",
      "\n"
     ]
    },
    {
     "name": "stderr",
     "output_type": "stream",
     "text": [
      "C:\\Users\\litia\\AppData\\Local\\Temp/ipykernel_19404/1116350120.py:6: PerformanceWarning: DataFrame is highly fragmented.  This is usually the result of calling `frame.insert` many times, which has poor performance.  Consider joining all columns at once using pd.concat(axis=1) instead.  To get a de-fragmented frame, use `newframe = frame.copy()`\n",
      "  iv_ok_fea = get_good_fea_list(df, full_fea, False)\n",
      "C:\\Users\\litia\\AppData\\Local\\Temp/ipykernel_19404/1116350120.py:6: PerformanceWarning: DataFrame is highly fragmented.  This is usually the result of calling `frame.insert` many times, which has poor performance.  Consider joining all columns at once using pd.concat(axis=1) instead.  To get a de-fragmented frame, use `newframe = frame.copy()`\n",
      "  iv_ok_fea = get_good_fea_list(df, full_fea, False)\n"
     ]
    },
    {
     "name": "stdout",
     "output_type": "stream",
     "text": [
      "gini use time:  0.11525535583496094\n",
      "iv 用时： 0.001988649368286133\n",
      "kf use time:  0.006979465484619141\n",
      "fea: fea_336\tiv_gini: 0.000\t iv_iv: 0.000\t iv_kf: 0.000\n",
      "\n",
      "gini use time:  0.10668468475341797\n",
      "iv 用时： 0.0009963512420654297\n",
      "kf use time:  0.008009910583496094\n",
      "fea: fea_337\tiv_gini: 0.000\t iv_iv: 0.000\t iv_kf: 0.000\n",
      "\n"
     ]
    },
    {
     "name": "stderr",
     "output_type": "stream",
     "text": [
      "C:\\Users\\litia\\AppData\\Local\\Temp/ipykernel_19404/1116350120.py:6: PerformanceWarning: DataFrame is highly fragmented.  This is usually the result of calling `frame.insert` many times, which has poor performance.  Consider joining all columns at once using pd.concat(axis=1) instead.  To get a de-fragmented frame, use `newframe = frame.copy()`\n",
      "  iv_ok_fea = get_good_fea_list(df, full_fea, False)\n",
      "C:\\Users\\litia\\AppData\\Local\\Temp/ipykernel_19404/1116350120.py:6: PerformanceWarning: DataFrame is highly fragmented.  This is usually the result of calling `frame.insert` many times, which has poor performance.  Consider joining all columns at once using pd.concat(axis=1) instead.  To get a de-fragmented frame, use `newframe = frame.copy()`\n",
      "  iv_ok_fea = get_good_fea_list(df, full_fea, False)\n"
     ]
    },
    {
     "name": "stdout",
     "output_type": "stream",
     "text": [
      "gini use time:  0.10967636108398438\n",
      "iv 用时： 0.0009970664978027344\n",
      "kf use time:  0.00801229476928711\n",
      "fea: fea_338\tiv_gini: 0.000\t iv_iv: 0.000\t iv_kf: 0.000\n",
      "\n",
      "gini use time:  0.1067194938659668\n",
      "iv 用时： 0.0019559860229492188\n",
      "kf use time:  0.007012605667114258\n",
      "fea: fea_339\tiv_gini: 0.000\t iv_iv: 0.000\t iv_kf: 0.000\n",
      "\n"
     ]
    },
    {
     "name": "stderr",
     "output_type": "stream",
     "text": [
      "C:\\Users\\litia\\AppData\\Local\\Temp/ipykernel_19404/1116350120.py:6: PerformanceWarning: DataFrame is highly fragmented.  This is usually the result of calling `frame.insert` many times, which has poor performance.  Consider joining all columns at once using pd.concat(axis=1) instead.  To get a de-fragmented frame, use `newframe = frame.copy()`\n",
      "  iv_ok_fea = get_good_fea_list(df, full_fea, False)\n",
      "C:\\Users\\litia\\AppData\\Local\\Temp/ipykernel_19404/1116350120.py:6: PerformanceWarning: DataFrame is highly fragmented.  This is usually the result of calling `frame.insert` many times, which has poor performance.  Consider joining all columns at once using pd.concat(axis=1) instead.  To get a de-fragmented frame, use `newframe = frame.copy()`\n",
      "  iv_ok_fea = get_good_fea_list(df, full_fea, False)\n"
     ]
    },
    {
     "name": "stdout",
     "output_type": "stream",
     "text": [
      "gini use time:  0.1186521053314209\n",
      "iv 用时： 0.0010366439819335938\n",
      "kf use time:  0.008968353271484375\n",
      "fea: fea_340\tiv_gini: 0.000\t iv_iv: 0.000\t iv_kf: 0.000\n",
      "\n"
     ]
    },
    {
     "name": "stderr",
     "output_type": "stream",
     "text": [
      "C:\\Users\\litia\\AppData\\Local\\Temp/ipykernel_19404/1116350120.py:6: PerformanceWarning: DataFrame is highly fragmented.  This is usually the result of calling `frame.insert` many times, which has poor performance.  Consider joining all columns at once using pd.concat(axis=1) instead.  To get a de-fragmented frame, use `newframe = frame.copy()`\n",
      "  iv_ok_fea = get_good_fea_list(df, full_fea, False)\n"
     ]
    },
    {
     "name": "stdout",
     "output_type": "stream",
     "text": [
      "gini use time:  2.4124836921691895\n",
      "iv 用时： 0.005018949508666992\n"
     ]
    },
    {
     "name": "stderr",
     "output_type": "stream",
     "text": [
      "C:\\Users\\litia\\AppData\\Local\\Temp/ipykernel_19404/941026484.py:22: RuntimeWarning: invalid value encountered in true_divide\n",
      "  tmp_v = (freq_array - E_nums) ** 2 / E_nums\n"
     ]
    },
    {
     "name": "stdout",
     "output_type": "stream",
     "text": [
      "kf use time:  0.4072871208190918\n",
      "fea: fea_341\tiv_gini: 0.286\t iv_iv: 0.343\t iv_kf: 0.295\n",
      "\n"
     ]
    },
    {
     "name": "stderr",
     "output_type": "stream",
     "text": [
      "C:\\Users\\litia\\AppData\\Local\\Temp/ipykernel_19404/1116350120.py:6: PerformanceWarning: DataFrame is highly fragmented.  This is usually the result of calling `frame.insert` many times, which has poor performance.  Consider joining all columns at once using pd.concat(axis=1) instead.  To get a de-fragmented frame, use `newframe = frame.copy()`\n",
      "  iv_ok_fea = get_good_fea_list(df, full_fea, False)\n"
     ]
    },
    {
     "name": "stdout",
     "output_type": "stream",
     "text": [
      "gini use time:  0.22736215591430664\n",
      "iv 用时： 0.0020079612731933594\n",
      "kf use time:  0.00797724723815918\n",
      "fea: fea_342\tiv_gini: 0.000\t iv_iv: 0.000\t iv_kf: 0.000\n",
      "\n"
     ]
    },
    {
     "name": "stderr",
     "output_type": "stream",
     "text": [
      "C:\\Users\\litia\\AppData\\Local\\Temp/ipykernel_19404/1116350120.py:6: PerformanceWarning: DataFrame is highly fragmented.  This is usually the result of calling `frame.insert` many times, which has poor performance.  Consider joining all columns at once using pd.concat(axis=1) instead.  To get a de-fragmented frame, use `newframe = frame.copy()`\n",
      "  iv_ok_fea = get_good_fea_list(df, full_fea, False)\n"
     ]
    },
    {
     "name": "stdout",
     "output_type": "stream",
     "text": [
      "gini use time:  0.2623310089111328\n",
      "iv 用时： 0.001994609832763672\n",
      "kf use time:  0.0079803466796875\n",
      "fea: fea_343\tiv_gini: 0.000\t iv_iv: 0.000\t iv_kf: 0.030\n",
      "\n"
     ]
    },
    {
     "name": "stderr",
     "output_type": "stream",
     "text": [
      "C:\\Users\\litia\\AppData\\Local\\Temp/ipykernel_19404/1116350120.py:6: PerformanceWarning: DataFrame is highly fragmented.  This is usually the result of calling `frame.insert` many times, which has poor performance.  Consider joining all columns at once using pd.concat(axis=1) instead.  To get a de-fragmented frame, use `newframe = frame.copy()`\n",
      "  iv_ok_fea = get_good_fea_list(df, full_fea, False)\n"
     ]
    },
    {
     "name": "stdout",
     "output_type": "stream",
     "text": [
      "gini use time:  0.22397422790527344\n",
      "iv 用时： 0.0019927024841308594\n",
      "kf use time:  0.01000356674194336\n",
      "fea: fea_344\tiv_gini: 0.000\t iv_iv: 0.000\t iv_kf: 0.033\n",
      "\n"
     ]
    },
    {
     "name": "stderr",
     "output_type": "stream",
     "text": [
      "C:\\Users\\litia\\AppData\\Local\\Temp/ipykernel_19404/1116350120.py:6: PerformanceWarning: DataFrame is highly fragmented.  This is usually the result of calling `frame.insert` many times, which has poor performance.  Consider joining all columns at once using pd.concat(axis=1) instead.  To get a de-fragmented frame, use `newframe = frame.copy()`\n",
      "  iv_ok_fea = get_good_fea_list(df, full_fea, False)\n"
     ]
    },
    {
     "name": "stdout",
     "output_type": "stream",
     "text": [
      "gini use time:  0.2233750820159912\n",
      "iv 用时： 0.001990795135498047\n",
      "kf use time:  0.007013797760009766\n",
      "fea: fea_345\tiv_gini: 0.000\t iv_iv: 0.000\t iv_kf: 0.000\n",
      "\n",
      "gini use time:  0.10870933532714844\n",
      "iv 用时： 0.0019636154174804688\n",
      "kf use time:  0.0070116519927978516\n",
      "fea: fea_346\tiv_gini: 0.000\t iv_iv: 0.000\t iv_kf: 0.000\n",
      "\n"
     ]
    },
    {
     "name": "stderr",
     "output_type": "stream",
     "text": [
      "C:\\Users\\litia\\AppData\\Local\\Temp/ipykernel_19404/1116350120.py:6: PerformanceWarning: DataFrame is highly fragmented.  This is usually the result of calling `frame.insert` many times, which has poor performance.  Consider joining all columns at once using pd.concat(axis=1) instead.  To get a de-fragmented frame, use `newframe = frame.copy()`\n",
      "  iv_ok_fea = get_good_fea_list(df, full_fea, False)\n",
      "C:\\Users\\litia\\AppData\\Local\\Temp/ipykernel_19404/1116350120.py:6: PerformanceWarning: DataFrame is highly fragmented.  This is usually the result of calling `frame.insert` many times, which has poor performance.  Consider joining all columns at once using pd.concat(axis=1) instead.  To get a de-fragmented frame, use `newframe = frame.copy()`\n",
      "  iv_ok_fea = get_good_fea_list(df, full_fea, False)\n"
     ]
    },
    {
     "name": "stdout",
     "output_type": "stream",
     "text": [
      "gini use time:  0.11079716682434082\n",
      "iv 用时： 0.0019588470458984375\n",
      "kf use time:  0.008010625839233398\n",
      "fea: fea_347\tiv_gini: 0.000\t iv_iv: 0.000\t iv_kf: 0.000\n",
      "\n",
      "gini use time:  0.10871529579162598\n",
      "iv 用时： 0.0009174346923828125\n",
      "kf use time:  0.007981061935424805\n",
      "fea: fea_348\tiv_gini: 0.000\t iv_iv: 0.000\t iv_kf: 0.000\n",
      "\n"
     ]
    },
    {
     "name": "stderr",
     "output_type": "stream",
     "text": [
      "C:\\Users\\litia\\AppData\\Local\\Temp/ipykernel_19404/1116350120.py:6: PerformanceWarning: DataFrame is highly fragmented.  This is usually the result of calling `frame.insert` many times, which has poor performance.  Consider joining all columns at once using pd.concat(axis=1) instead.  To get a de-fragmented frame, use `newframe = frame.copy()`\n",
      "  iv_ok_fea = get_good_fea_list(df, full_fea, False)\n",
      "C:\\Users\\litia\\AppData\\Local\\Temp/ipykernel_19404/1116350120.py:6: PerformanceWarning: DataFrame is highly fragmented.  This is usually the result of calling `frame.insert` many times, which has poor performance.  Consider joining all columns at once using pd.concat(axis=1) instead.  To get a de-fragmented frame, use `newframe = frame.copy()`\n",
      "  iv_ok_fea = get_good_fea_list(df, full_fea, False)\n"
     ]
    },
    {
     "name": "stdout",
     "output_type": "stream",
     "text": [
      "gini use time:  0.11469364166259766\n",
      "iv 用时： 0.0019941329956054688\n",
      "kf use time:  0.007033824920654297\n",
      "fea: fea_349\tiv_gini: 0.000\t iv_iv: 0.000\t iv_kf: 0.000\n",
      "\n",
      "gini use time:  0.11315417289733887\n",
      "iv 用时： 0.0019936561584472656\n",
      "kf use time:  0.007979154586791992\n",
      "fea: fea_350\tiv_gini: 0.000\t iv_iv: 0.000\t iv_kf: 0.000\n",
      "\n"
     ]
    },
    {
     "name": "stderr",
     "output_type": "stream",
     "text": [
      "C:\\Users\\litia\\AppData\\Local\\Temp/ipykernel_19404/1116350120.py:6: PerformanceWarning: DataFrame is highly fragmented.  This is usually the result of calling `frame.insert` many times, which has poor performance.  Consider joining all columns at once using pd.concat(axis=1) instead.  To get a de-fragmented frame, use `newframe = frame.copy()`\n",
      "  iv_ok_fea = get_good_fea_list(df, full_fea, False)\n",
      "C:\\Users\\litia\\AppData\\Local\\Temp/ipykernel_19404/1116350120.py:6: PerformanceWarning: DataFrame is highly fragmented.  This is usually the result of calling `frame.insert` many times, which has poor performance.  Consider joining all columns at once using pd.concat(axis=1) instead.  To get a de-fragmented frame, use `newframe = frame.copy()`\n",
      "  iv_ok_fea = get_good_fea_list(df, full_fea, False)\n"
     ]
    },
    {
     "name": "stdout",
     "output_type": "stream",
     "text": [
      "gini use time:  0.11768603324890137\n",
      "iv 用时： 0.0009965896606445312\n",
      "kf use time:  0.007979154586791992\n",
      "fea: fea_351\tiv_gini: 0.000\t iv_iv: 0.000\t iv_kf: 0.000\n",
      "\n"
     ]
    },
    {
     "name": "stderr",
     "output_type": "stream",
     "text": [
      "C:\\Users\\litia\\AppData\\Local\\Temp/ipykernel_19404/1116350120.py:6: PerformanceWarning: DataFrame is highly fragmented.  This is usually the result of calling `frame.insert` many times, which has poor performance.  Consider joining all columns at once using pd.concat(axis=1) instead.  To get a de-fragmented frame, use `newframe = frame.copy()`\n",
      "  iv_ok_fea = get_good_fea_list(df, full_fea, False)\n"
     ]
    },
    {
     "name": "stdout",
     "output_type": "stream",
     "text": [
      "gini use time:  0.25608372688293457\n",
      "iv 用时： 0.001994609832763672\n",
      "kf use time:  0.03490781784057617\n",
      "fea: sum_inv\tiv_gini: 0.000\t iv_iv: 0.023\t iv_kf: 0.018\n",
      "\n"
     ]
    },
    {
     "name": "stderr",
     "output_type": "stream",
     "text": [
      "C:\\Users\\litia\\AppData\\Local\\Temp/ipykernel_19404/941026484.py:22: RuntimeWarning: invalid value encountered in true_divide\n",
      "  tmp_v = (freq_array - E_nums) ** 2 / E_nums\n",
      "C:\\Users\\litia\\AppData\\Local\\Temp/ipykernel_19404/1116350120.py:6: PerformanceWarning: DataFrame is highly fragmented.  This is usually the result of calling `frame.insert` many times, which has poor performance.  Consider joining all columns at once using pd.concat(axis=1) instead.  To get a de-fragmented frame, use `newframe = frame.copy()`\n",
      "  iv_ok_fea = get_good_fea_list(df, full_fea, False)\n"
     ]
    },
    {
     "name": "stdout",
     "output_type": "stream",
     "text": [
      "gini use time:  2.10269832611084\n",
      "iv 用时： 0.003988742828369141\n"
     ]
    },
    {
     "name": "stderr",
     "output_type": "stream",
     "text": [
      "C:\\Users\\litia\\AppData\\Local\\Temp/ipykernel_19404/941026484.py:22: RuntimeWarning: invalid value encountered in true_divide\n",
      "  tmp_v = (freq_array - E_nums) ** 2 / E_nums\n"
     ]
    },
    {
     "name": "stdout",
     "output_type": "stream",
     "text": [
      "kf use time:  0.7234725952148438\n",
      "fea: sum_sales\tiv_gini: 0.439\t iv_iv: 0.496\t iv_kf: 0.412\n",
      "\n"
     ]
    },
    {
     "name": "stderr",
     "output_type": "stream",
     "text": [
      "C:\\Users\\litia\\AppData\\Local\\Temp/ipykernel_19404/1116350120.py:6: PerformanceWarning: DataFrame is highly fragmented.  This is usually the result of calling `frame.insert` many times, which has poor performance.  Consider joining all columns at once using pd.concat(axis=1) instead.  To get a de-fragmented frame, use `newframe = frame.copy()`\n",
      "  iv_ok_fea = get_good_fea_list(df, full_fea, False)\n"
     ]
    },
    {
     "name": "stdout",
     "output_type": "stream",
     "text": [
      "gini use time:  1.4506938457489014\n",
      "iv 用时： 0.00402522087097168\n"
     ]
    },
    {
     "name": "stderr",
     "output_type": "stream",
     "text": [
      "C:\\Users\\litia\\AppData\\Local\\Temp/ipykernel_19404/941026484.py:22: RuntimeWarning: invalid value encountered in true_divide\n",
      "  tmp_v = (freq_array - E_nums) ** 2 / E_nums\n"
     ]
    },
    {
     "name": "stdout",
     "output_type": "stream",
     "text": [
      "kf use time:  0.6296229362487793\n",
      "fea: sum_ratal\tiv_gini: 0.362\t iv_iv: 0.482\t iv_kf: 0.455\n",
      "\n"
     ]
    },
    {
     "name": "stderr",
     "output_type": "stream",
     "text": [
      "C:\\Users\\litia\\AppData\\Local\\Temp/ipykernel_19404/1116350120.py:6: PerformanceWarning: DataFrame is highly fragmented.  This is usually the result of calling `frame.insert` many times, which has poor performance.  Consider joining all columns at once using pd.concat(axis=1) instead.  To get a de-fragmented frame, use `newframe = frame.copy()`\n",
      "  iv_ok_fea = get_good_fea_list(df, full_fea, False)\n"
     ]
    },
    {
     "name": "stdout",
     "output_type": "stream",
     "text": [
      "gini use time:  1.1608994007110596\n",
      "iv 用时： 0.003989219665527344\n"
     ]
    },
    {
     "name": "stderr",
     "output_type": "stream",
     "text": [
      "C:\\Users\\litia\\AppData\\Local\\Temp/ipykernel_19404/941026484.py:22: RuntimeWarning: invalid value encountered in true_divide\n",
      "  tmp_v = (freq_array - E_nums) ** 2 / E_nums\n"
     ]
    },
    {
     "name": "stdout",
     "output_type": "stream",
     "text": [
      "kf use time:  0.7001769542694092\n",
      "fea: rf_pred\tiv_gini: 1.224\t iv_iv: 1.980\t iv_kf: 1.386\n",
      "\n"
     ]
    },
    {
     "name": "stderr",
     "output_type": "stream",
     "text": [
      "C:\\Users\\litia\\AppData\\Local\\Temp/ipykernel_19404/1116350120.py:6: PerformanceWarning: DataFrame is highly fragmented.  This is usually the result of calling `frame.insert` many times, which has poor performance.  Consider joining all columns at once using pd.concat(axis=1) instead.  To get a de-fragmented frame, use `newframe = frame.copy()`\n",
      "  iv_ok_fea = get_good_fea_list(df, full_fea, False)\n"
     ]
    },
    {
     "name": "stdout",
     "output_type": "stream",
     "text": [
      "gini use time:  0.5982372760772705\n",
      "iv 用时： 0.0029914379119873047\n"
     ]
    },
    {
     "name": "stderr",
     "output_type": "stream",
     "text": [
      "C:\\Users\\litia\\AppData\\Local\\Temp/ipykernel_19404/941026484.py:22: RuntimeWarning: invalid value encountered in true_divide\n",
      "  tmp_v = (freq_array - E_nums) ** 2 / E_nums\n"
     ]
    },
    {
     "name": "stdout",
     "output_type": "stream",
     "text": [
      "kf use time:  0.3031322956085205\n",
      "fea: lgb_pred\tiv_gini: 1.312\t iv_iv: 1.542\t iv_kf: 1.472\n",
      "\n"
     ]
    },
    {
     "name": "stderr",
     "output_type": "stream",
     "text": [
      "C:\\Users\\litia\\AppData\\Local\\Temp/ipykernel_19404/1116350120.py:6: PerformanceWarning: DataFrame is highly fragmented.  This is usually the result of calling `frame.insert` many times, which has poor performance.  Consider joining all columns at once using pd.concat(axis=1) instead.  To get a de-fragmented frame, use `newframe = frame.copy()`\n",
      "  iv_ok_fea = get_good_fea_list(df, full_fea, False)\n"
     ]
    },
    {
     "name": "stdout",
     "output_type": "stream",
     "text": [
      "gini use time:  1.6092941761016846\n",
      "iv 用时： 0.001994609832763672\n",
      "kf use time:  0.05089616775512695\n",
      "fea: inv_mean\tiv_gini: 0.024\t iv_iv: 0.043\t iv_kf: 0.045\n",
      "\n"
     ]
    },
    {
     "name": "stderr",
     "output_type": "stream",
     "text": [
      "C:\\Users\\litia\\AppData\\Local\\Temp/ipykernel_19404/1116350120.py:6: PerformanceWarning: DataFrame is highly fragmented.  This is usually the result of calling `frame.insert` many times, which has poor performance.  Consider joining all columns at once using pd.concat(axis=1) instead.  To get a de-fragmented frame, use `newframe = frame.copy()`\n",
      "  iv_ok_fea = get_good_fea_list(df, full_fea, False)\n"
     ]
    },
    {
     "name": "stdout",
     "output_type": "stream",
     "text": [
      "gini use time:  0.5232198238372803\n",
      "iv 用时： 0.0019931793212890625\n",
      "kf use time:  0.008976221084594727\n",
      "fea: inv_n\tiv_gini: 0.001\t iv_iv: 0.012\t iv_kf: 0.004\n",
      "\n"
     ]
    },
    {
     "name": "stderr",
     "output_type": "stream",
     "text": [
      "C:\\Users\\litia\\AppData\\Local\\Temp/ipykernel_19404/1116350120.py:6: PerformanceWarning: DataFrame is highly fragmented.  This is usually the result of calling `frame.insert` many times, which has poor performance.  Consider joining all columns at once using pd.concat(axis=1) instead.  To get a de-fragmented frame, use `newframe = frame.copy()`\n",
      "  iv_ok_fea = get_good_fea_list(df, full_fea, False)\n"
     ]
    },
    {
     "name": "stdout",
     "output_type": "stream",
     "text": [
      "gini use time:  2.3231735229492188\n",
      "iv 用时： 0.0049877166748046875\n"
     ]
    },
    {
     "name": "stderr",
     "output_type": "stream",
     "text": [
      "C:\\Users\\litia\\AppData\\Local\\Temp/ipykernel_19404/941026484.py:22: RuntimeWarning: invalid value encountered in true_divide\n",
      "  tmp_v = (freq_array - E_nums) ** 2 / E_nums\n"
     ]
    },
    {
     "name": "stdout",
     "output_type": "stream",
     "text": [
      "kf use time:  0.7037684917449951\n",
      "fea: item0_sum\tiv_gini: 0.503\t iv_iv: 0.549\t iv_kf: 0.528\n",
      "\n"
     ]
    },
    {
     "name": "stderr",
     "output_type": "stream",
     "text": [
      "C:\\Users\\litia\\AppData\\Local\\Temp/ipykernel_19404/1116350120.py:6: PerformanceWarning: DataFrame is highly fragmented.  This is usually the result of calling `frame.insert` many times, which has poor performance.  Consider joining all columns at once using pd.concat(axis=1) instead.  To get a de-fragmented frame, use `newframe = frame.copy()`\n",
      "  iv_ok_fea = get_good_fea_list(df, full_fea, False)\n"
     ]
    },
    {
     "name": "stdout",
     "output_type": "stream",
     "text": [
      "gini use time:  2.270881414413452\n",
      "iv 用时： 0.003989219665527344\n"
     ]
    },
    {
     "name": "stderr",
     "output_type": "stream",
     "text": [
      "C:\\Users\\litia\\AppData\\Local\\Temp/ipykernel_19404/941026484.py:22: RuntimeWarning: invalid value encountered in true_divide\n",
      "  tmp_v = (freq_array - E_nums) ** 2 / E_nums\n"
     ]
    },
    {
     "name": "stdout",
     "output_type": "stream",
     "text": [
      "kf use time:  0.45382165908813477\n",
      "fea: item1_sum\tiv_gini: 0.312\t iv_iv: 0.431\t iv_kf: 0.405\n",
      "\n"
     ]
    },
    {
     "name": "stderr",
     "output_type": "stream",
     "text": [
      "C:\\Users\\litia\\AppData\\Local\\Temp/ipykernel_19404/1116350120.py:6: PerformanceWarning: DataFrame is highly fragmented.  This is usually the result of calling `frame.insert` many times, which has poor performance.  Consider joining all columns at once using pd.concat(axis=1) instead.  To get a de-fragmented frame, use `newframe = frame.copy()`\n",
      "  iv_ok_fea = get_good_fea_list(df, full_fea, False)\n"
     ]
    },
    {
     "name": "stdout",
     "output_type": "stream",
     "text": [
      "gini use time:  0.25832581520080566\n",
      "iv 用时： 0.0009989738464355469\n",
      "kf use time:  0.010006427764892578\n",
      "fea: item2_sum\tiv_gini: 0.000\t iv_iv: 0.000\t iv_kf: 0.031\n",
      "\n"
     ]
    },
    {
     "name": "stderr",
     "output_type": "stream",
     "text": [
      "C:\\Users\\litia\\AppData\\Local\\Temp/ipykernel_19404/1116350120.py:6: PerformanceWarning: DataFrame is highly fragmented.  This is usually the result of calling `frame.insert` many times, which has poor performance.  Consider joining all columns at once using pd.concat(axis=1) instead.  To get a de-fragmented frame, use `newframe = frame.copy()`\n",
      "  iv_ok_fea = get_good_fea_list(df, full_fea, False)\n"
     ]
    },
    {
     "name": "stdout",
     "output_type": "stream",
     "text": [
      "gini use time:  0.574465274810791\n",
      "iv 用时： 0.0009629726409912109\n",
      "kf use time:  0.01795196533203125\n",
      "fea: item3_sum\tiv_gini: 0.012\t iv_iv: 0.014\t iv_kf: 0.056\n",
      "\n"
     ]
    },
    {
     "name": "stderr",
     "output_type": "stream",
     "text": [
      "C:\\Users\\litia\\AppData\\Local\\Temp/ipykernel_19404/941026484.py:22: RuntimeWarning: invalid value encountered in true_divide\n",
      "  tmp_v = (freq_array - E_nums) ** 2 / E_nums\n",
      "C:\\Users\\litia\\AppData\\Local\\Temp/ipykernel_19404/1116350120.py:6: PerformanceWarning: DataFrame is highly fragmented.  This is usually the result of calling `frame.insert` many times, which has poor performance.  Consider joining all columns at once using pd.concat(axis=1) instead.  To get a de-fragmented frame, use `newframe = frame.copy()`\n",
      "  iv_ok_fea = get_good_fea_list(df, full_fea, False)\n"
     ]
    },
    {
     "name": "stdout",
     "output_type": "stream",
     "text": [
      "gini use time:  0.23237824440002441\n",
      "iv 用时： 0.0010063648223876953\n",
      "kf use time:  0.009000062942504883\n",
      "fea: item4_sum\tiv_gini: 0.000\t iv_iv: 0.000\t iv_kf: 0.003\n",
      "\n"
     ]
    },
    {
     "name": "stderr",
     "output_type": "stream",
     "text": [
      "C:\\Users\\litia\\AppData\\Local\\Temp/ipykernel_19404/1116350120.py:6: PerformanceWarning: DataFrame is highly fragmented.  This is usually the result of calling `frame.insert` many times, which has poor performance.  Consider joining all columns at once using pd.concat(axis=1) instead.  To get a de-fragmented frame, use `newframe = frame.copy()`\n",
      "  iv_ok_fea = get_good_fea_list(df, full_fea, False)\n"
     ]
    },
    {
     "name": "stdout",
     "output_type": "stream",
     "text": [
      "gini use time:  2.0513198375701904\n",
      "iv 用时： 0.004021644592285156\n"
     ]
    },
    {
     "name": "stderr",
     "output_type": "stream",
     "text": [
      "C:\\Users\\litia\\AppData\\Local\\Temp/ipykernel_19404/941026484.py:22: RuntimeWarning: invalid value encountered in true_divide\n",
      "  tmp_v = (freq_array - E_nums) ** 2 / E_nums\n"
     ]
    },
    {
     "name": "stdout",
     "output_type": "stream",
     "text": [
      "kf use time:  0.5414018630981445\n",
      "fea: item5_sum\tiv_gini: 0.380\t iv_iv: 0.434\t iv_kf: 0.429\n",
      "\n"
     ]
    },
    {
     "name": "stderr",
     "output_type": "stream",
     "text": [
      "C:\\Users\\litia\\AppData\\Local\\Temp/ipykernel_19404/1116350120.py:6: PerformanceWarning: DataFrame is highly fragmented.  This is usually the result of calling `frame.insert` many times, which has poor performance.  Consider joining all columns at once using pd.concat(axis=1) instead.  To get a de-fragmented frame, use `newframe = frame.copy()`\n",
      "  iv_ok_fea = get_good_fea_list(df, full_fea, False)\n"
     ]
    },
    {
     "name": "stdout",
     "output_type": "stream",
     "text": [
      "gini use time:  1.4913625717163086\n",
      "iv 用时： 0.001994609832763672\n",
      "kf use time:  0.13485193252563477\n",
      "fea: item6_sum\tiv_gini: 0.102\t iv_iv: 0.127\t iv_kf: 0.137\n",
      "\n"
     ]
    },
    {
     "name": "stderr",
     "output_type": "stream",
     "text": [
      "C:\\Users\\litia\\AppData\\Local\\Temp/ipykernel_19404/941026484.py:22: RuntimeWarning: invalid value encountered in true_divide\n",
      "  tmp_v = (freq_array - E_nums) ** 2 / E_nums\n",
      "C:\\Users\\litia\\AppData\\Local\\Temp/ipykernel_19404/1116350120.py:6: PerformanceWarning: DataFrame is highly fragmented.  This is usually the result of calling `frame.insert` many times, which has poor performance.  Consider joining all columns at once using pd.concat(axis=1) instead.  To get a de-fragmented frame, use `newframe = frame.copy()`\n",
      "  iv_ok_fea = get_good_fea_list(df, full_fea, False)\n"
     ]
    },
    {
     "name": "stdout",
     "output_type": "stream",
     "text": [
      "gini use time:  0.23836326599121094\n",
      "iv 用时： 0.0019943714141845703\n",
      "kf use time:  0.007980823516845703\n",
      "fea: item7_sum\tiv_gini: 0.000\t iv_iv: 0.000\t iv_kf: 0.003\n",
      "\n"
     ]
    },
    {
     "name": "stderr",
     "output_type": "stream",
     "text": [
      "C:\\Users\\litia\\AppData\\Local\\Temp/ipykernel_19404/1116350120.py:6: PerformanceWarning: DataFrame is highly fragmented.  This is usually the result of calling `frame.insert` many times, which has poor performance.  Consider joining all columns at once using pd.concat(axis=1) instead.  To get a de-fragmented frame, use `newframe = frame.copy()`\n",
      "  iv_ok_fea = get_good_fea_list(df, full_fea, False)\n"
     ]
    },
    {
     "name": "stdout",
     "output_type": "stream",
     "text": [
      "gini use time:  0.5644893646240234\n",
      "iv 用时： 0.001994609832763672\n",
      "kf use time:  0.016955137252807617\n",
      "fea: item8_sum\tiv_gini: 0.009\t iv_iv: 0.015\t iv_kf: 0.050\n",
      "\n"
     ]
    },
    {
     "name": "stderr",
     "output_type": "stream",
     "text": [
      "C:\\Users\\litia\\AppData\\Local\\Temp/ipykernel_19404/941026484.py:22: RuntimeWarning: invalid value encountered in true_divide\n",
      "  tmp_v = (freq_array - E_nums) ** 2 / E_nums\n",
      "C:\\Users\\litia\\AppData\\Local\\Temp/ipykernel_19404/1116350120.py:6: PerformanceWarning: DataFrame is highly fragmented.  This is usually the result of calling `frame.insert` many times, which has poor performance.  Consider joining all columns at once using pd.concat(axis=1) instead.  To get a de-fragmented frame, use `newframe = frame.copy()`\n",
      "  iv_ok_fea = get_good_fea_list(df, full_fea, False)\n"
     ]
    },
    {
     "name": "stdout",
     "output_type": "stream",
     "text": [
      "gini use time:  0.6086256504058838\n",
      "iv 用时： 0.0009634494781494141\n",
      "kf use time:  0.01199960708618164\n",
      "fea: item9_sum\tiv_gini: 0.004\t iv_iv: 0.004\t iv_kf: 0.051\n",
      "\n"
     ]
    },
    {
     "name": "stderr",
     "output_type": "stream",
     "text": [
      "C:\\Users\\litia\\AppData\\Local\\Temp/ipykernel_19404/1116350120.py:6: PerformanceWarning: DataFrame is highly fragmented.  This is usually the result of calling `frame.insert` many times, which has poor performance.  Consider joining all columns at once using pd.concat(axis=1) instead.  To get a de-fragmented frame, use `newframe = frame.copy()`\n",
      "  iv_ok_fea = get_good_fea_list(df, full_fea, False)\n"
     ]
    },
    {
     "name": "stdout",
     "output_type": "stream",
     "text": [
      "gini use time:  0.23932933807373047\n",
      "iv 用时： 0.0019936561584472656\n",
      "kf use time:  0.008011341094970703\n",
      "fea: item10_sum\tiv_gini: 0.000\t iv_iv: 0.000\t iv_kf: 0.031\n",
      "\n"
     ]
    },
    {
     "name": "stderr",
     "output_type": "stream",
     "text": [
      "C:\\Users\\litia\\AppData\\Local\\Temp/ipykernel_19404/1116350120.py:6: PerformanceWarning: DataFrame is highly fragmented.  This is usually the result of calling `frame.insert` many times, which has poor performance.  Consider joining all columns at once using pd.concat(axis=1) instead.  To get a de-fragmented frame, use `newframe = frame.copy()`\n",
      "  iv_ok_fea = get_good_fea_list(df, full_fea, False)\n"
     ]
    },
    {
     "name": "stdout",
     "output_type": "stream",
     "text": [
      "gini use time:  2.612516403198242\n",
      "iv 用时： 0.005021333694458008\n"
     ]
    },
    {
     "name": "stderr",
     "output_type": "stream",
     "text": [
      "C:\\Users\\litia\\AppData\\Local\\Temp/ipykernel_19404/941026484.py:22: RuntimeWarning: invalid value encountered in true_divide\n",
      "  tmp_v = (freq_array - E_nums) ** 2 / E_nums\n"
     ]
    },
    {
     "name": "stdout",
     "output_type": "stream",
     "text": [
      "kf use time:  0.7244794368743896\n",
      "fea: sum_ratal_32month\tiv_gini: 0.405\t iv_iv: 0.464\t iv_kf: 0.398\n",
      "\n"
     ]
    },
    {
     "name": "stderr",
     "output_type": "stream",
     "text": [
      "C:\\Users\\litia\\AppData\\Local\\Temp/ipykernel_19404/1116350120.py:6: PerformanceWarning: DataFrame is highly fragmented.  This is usually the result of calling `frame.insert` many times, which has poor performance.  Consider joining all columns at once using pd.concat(axis=1) instead.  To get a de-fragmented frame, use `newframe = frame.copy()`\n",
      "  iv_ok_fea = get_good_fea_list(df, full_fea, False)\n"
     ]
    },
    {
     "name": "stdout",
     "output_type": "stream",
     "text": [
      "gini use time:  1.0619590282440186\n",
      "iv 用时： 0.0050160884857177734\n"
     ]
    },
    {
     "name": "stderr",
     "output_type": "stream",
     "text": [
      "C:\\Users\\litia\\AppData\\Local\\Temp/ipykernel_19404/941026484.py:22: RuntimeWarning: invalid value encountered in true_divide\n",
      "  tmp_v = (freq_array - E_nums) ** 2 / E_nums\n"
     ]
    },
    {
     "name": "stdout",
     "output_type": "stream",
     "text": [
      "kf use time:  0.7200813293457031\n",
      "fea: sum_tax_ret\tiv_gini: 0.334\t iv_iv: 0.463\t iv_kf: 0.399\n",
      "\n"
     ]
    },
    {
     "name": "stderr",
     "output_type": "stream",
     "text": [
      "C:\\Users\\litia\\AppData\\Local\\Temp/ipykernel_19404/1116350120.py:6: PerformanceWarning: DataFrame is highly fragmented.  This is usually the result of calling `frame.insert` many times, which has poor performance.  Consider joining all columns at once using pd.concat(axis=1) instead.  To get a de-fragmented frame, use `newframe = frame.copy()`\n",
      "  iv_ok_fea = get_good_fea_list(df, full_fea, False)\n"
     ]
    },
    {
     "name": "stdout",
     "output_type": "stream",
     "text": [
      "gini use time:  1.1560394763946533\n",
      "iv 用时： 0.003988981246948242\n"
     ]
    },
    {
     "name": "stderr",
     "output_type": "stream",
     "text": [
      "C:\\Users\\litia\\AppData\\Local\\Temp/ipykernel_19404/941026484.py:22: RuntimeWarning: invalid value encountered in true_divide\n",
      "  tmp_v = (freq_array - E_nums) ** 2 / E_nums\n"
     ]
    },
    {
     "name": "stdout",
     "output_type": "stream",
     "text": [
      "kf use time:  0.6122164726257324\n",
      "fea: sum_tax_pay\tiv_gini: 0.337\t iv_iv: 0.468\t iv_kf: 0.397\n",
      "\n"
     ]
    },
    {
     "name": "stderr",
     "output_type": "stream",
     "text": [
      "C:\\Users\\litia\\AppData\\Local\\Temp/ipykernel_19404/1116350120.py:6: PerformanceWarning: DataFrame is highly fragmented.  This is usually the result of calling `frame.insert` many times, which has poor performance.  Consider joining all columns at once using pd.concat(axis=1) instead.  To get a de-fragmented frame, use `newframe = frame.copy()`\n",
      "  iv_ok_fea = get_good_fea_list(df, full_fea, False)\n"
     ]
    },
    {
     "name": "stdout",
     "output_type": "stream",
     "text": [
      "gini use time:  2.040660858154297\n",
      "iv 用时： 0.005984783172607422\n"
     ]
    },
    {
     "name": "stderr",
     "output_type": "stream",
     "text": [
      "C:\\Users\\litia\\AppData\\Local\\Temp/ipykernel_19404/941026484.py:22: RuntimeWarning: invalid value encountered in true_divide\n",
      "  tmp_v = (freq_array - E_nums) ** 2 / E_nums\n"
     ]
    },
    {
     "name": "stdout",
     "output_type": "stream",
     "text": [
      "kf use time:  0.5935492515563965\n",
      "fea: ratal_rate\tiv_gini: 0.123\t iv_iv: 0.176\t iv_kf: 0.169\n",
      "\n"
     ]
    },
    {
     "name": "stderr",
     "output_type": "stream",
     "text": [
      "C:\\Users\\litia\\AppData\\Local\\Temp/ipykernel_19404/1116350120.py:6: PerformanceWarning: DataFrame is highly fragmented.  This is usually the result of calling `frame.insert` many times, which has poor performance.  Consider joining all columns at once using pd.concat(axis=1) instead.  To get a de-fragmented frame, use `newframe = frame.copy()`\n",
      "  iv_ok_fea = get_good_fea_list(df, full_fea, False)\n"
     ]
    },
    {
     "name": "stdout",
     "output_type": "stream",
     "text": [
      "gini use time:  0.8990523815155029\n",
      "iv 用时： 0.0059833526611328125\n"
     ]
    },
    {
     "name": "stderr",
     "output_type": "stream",
     "text": [
      "C:\\Users\\litia\\AppData\\Local\\Temp/ipykernel_19404/941026484.py:22: RuntimeWarning: invalid value encountered in true_divide\n",
      "  tmp_v = (freq_array - E_nums) ** 2 / E_nums\n"
     ]
    },
    {
     "name": "stdout",
     "output_type": "stream",
     "text": [
      "kf use time:  0.6702098846435547\n",
      "fea: stage_0_ret_rate\tiv_gini: 0.247\t iv_iv: 0.369\t iv_kf: 0.305\n",
      "\n"
     ]
    },
    {
     "name": "stderr",
     "output_type": "stream",
     "text": [
      "C:\\Users\\litia\\AppData\\Local\\Temp/ipykernel_19404/1116350120.py:6: PerformanceWarning: DataFrame is highly fragmented.  This is usually the result of calling `frame.insert` many times, which has poor performance.  Consider joining all columns at once using pd.concat(axis=1) instead.  To get a de-fragmented frame, use `newframe = frame.copy()`\n",
      "  iv_ok_fea = get_good_fea_list(df, full_fea, False)\n"
     ]
    },
    {
     "name": "stdout",
     "output_type": "stream",
     "text": [
      "gini use time:  1.7552833557128906\n",
      "iv 用时： 0.004954099655151367\n"
     ]
    },
    {
     "name": "stderr",
     "output_type": "stream",
     "text": [
      "C:\\Users\\litia\\AppData\\Local\\Temp/ipykernel_19404/941026484.py:22: RuntimeWarning: invalid value encountered in true_divide\n",
      "  tmp_v = (freq_array - E_nums) ** 2 / E_nums\n"
     ]
    },
    {
     "name": "stdout",
     "output_type": "stream",
     "text": [
      "kf use time:  0.4637949466705322\n",
      "fea: stage_0_pay_rate\tiv_gini: 0.378\t iv_iv: 0.440\t iv_kf: 0.345\n",
      "\n"
     ]
    },
    {
     "name": "stderr",
     "output_type": "stream",
     "text": [
      "C:\\Users\\litia\\AppData\\Local\\Temp/ipykernel_19404/1116350120.py:6: PerformanceWarning: DataFrame is highly fragmented.  This is usually the result of calling `frame.insert` many times, which has poor performance.  Consider joining all columns at once using pd.concat(axis=1) instead.  To get a de-fragmented frame, use `newframe = frame.copy()`\n",
      "  iv_ok_fea = get_good_fea_list(df, full_fea, False)\n"
     ]
    },
    {
     "name": "stdout",
     "output_type": "stream",
     "text": [
      "gini use time:  1.548281192779541\n",
      "iv 用时： 0.0059850215911865234\n"
     ]
    },
    {
     "name": "stderr",
     "output_type": "stream",
     "text": [
      "C:\\Users\\litia\\AppData\\Local\\Temp/ipykernel_19404/941026484.py:22: RuntimeWarning: invalid value encountered in true_divide\n",
      "  tmp_v = (freq_array - E_nums) ** 2 / E_nums\n"
     ]
    },
    {
     "name": "stdout",
     "output_type": "stream",
     "text": [
      "kf use time:  0.6373331546783447\n",
      "fea: stage_1_ret_rate\tiv_gini: 0.492\t iv_iv: 0.570\t iv_kf: 0.524\n",
      "\n"
     ]
    },
    {
     "name": "stderr",
     "output_type": "stream",
     "text": [
      "C:\\Users\\litia\\AppData\\Local\\Temp/ipykernel_19404/1116350120.py:6: PerformanceWarning: DataFrame is highly fragmented.  This is usually the result of calling `frame.insert` many times, which has poor performance.  Consider joining all columns at once using pd.concat(axis=1) instead.  To get a de-fragmented frame, use `newframe = frame.copy()`\n",
      "  iv_ok_fea = get_good_fea_list(df, full_fea, False)\n"
     ]
    },
    {
     "name": "stdout",
     "output_type": "stream",
     "text": [
      "gini use time:  2.689788579940796\n",
      "iv 用时： 0.005018949508666992\n"
     ]
    },
    {
     "name": "stderr",
     "output_type": "stream",
     "text": [
      "C:\\Users\\litia\\AppData\\Local\\Temp/ipykernel_19404/941026484.py:22: RuntimeWarning: invalid value encountered in true_divide\n",
      "  tmp_v = (freq_array - E_nums) ** 2 / E_nums\n"
     ]
    },
    {
     "name": "stdout",
     "output_type": "stream",
     "text": [
      "kf use time:  0.49127960205078125\n",
      "fea: stage_1_pay_rate\tiv_gini: 0.298\t iv_iv: 0.334\t iv_kf: 0.267\n",
      "\n"
     ]
    },
    {
     "name": "stderr",
     "output_type": "stream",
     "text": [
      "C:\\Users\\litia\\AppData\\Local\\Temp/ipykernel_19404/1116350120.py:6: PerformanceWarning: DataFrame is highly fragmented.  This is usually the result of calling `frame.insert` many times, which has poor performance.  Consider joining all columns at once using pd.concat(axis=1) instead.  To get a de-fragmented frame, use `newframe = frame.copy()`\n",
      "  iv_ok_fea = get_good_fea_list(df, full_fea, False)\n"
     ]
    },
    {
     "name": "stdout",
     "output_type": "stream",
     "text": [
      "gini use time:  1.5200293064117432\n",
      "iv 用时： 0.0050144195556640625\n"
     ]
    },
    {
     "name": "stderr",
     "output_type": "stream",
     "text": [
      "C:\\Users\\litia\\AppData\\Local\\Temp/ipykernel_19404/941026484.py:22: RuntimeWarning: invalid value encountered in true_divide\n",
      "  tmp_v = (freq_array - E_nums) ** 2 / E_nums\n"
     ]
    },
    {
     "name": "stdout",
     "output_type": "stream",
     "text": [
      "kf use time:  0.6407129764556885\n",
      "fea: stage_2_ret_rate\tiv_gini: 0.328\t iv_iv: 0.454\t iv_kf: 0.409\n",
      "\n"
     ]
    },
    {
     "name": "stderr",
     "output_type": "stream",
     "text": [
      "C:\\Users\\litia\\AppData\\Local\\Temp/ipykernel_19404/1116350120.py:6: PerformanceWarning: DataFrame is highly fragmented.  This is usually the result of calling `frame.insert` many times, which has poor performance.  Consider joining all columns at once using pd.concat(axis=1) instead.  To get a de-fragmented frame, use `newframe = frame.copy()`\n",
      "  iv_ok_fea = get_good_fea_list(df, full_fea, False)\n"
     ]
    },
    {
     "name": "stdout",
     "output_type": "stream",
     "text": [
      "gini use time:  0.9629449844360352\n",
      "iv 用时： 0.003962516784667969\n"
     ]
    },
    {
     "name": "stderr",
     "output_type": "stream",
     "text": [
      "C:\\Users\\litia\\AppData\\Local\\Temp/ipykernel_19404/941026484.py:22: RuntimeWarning: invalid value encountered in true_divide\n",
      "  tmp_v = (freq_array - E_nums) ** 2 / E_nums\n"
     ]
    },
    {
     "name": "stdout",
     "output_type": "stream",
     "text": [
      "kf use time:  0.46778321266174316\n",
      "fea: stage_2_pay_rate\tiv_gini: 0.222\t iv_iv: 0.318\t iv_kf: 0.263\n",
      "\n"
     ]
    },
    {
     "name": "stderr",
     "output_type": "stream",
     "text": [
      "C:\\Users\\litia\\AppData\\Local\\Temp/ipykernel_19404/1116350120.py:6: PerformanceWarning: DataFrame is highly fragmented.  This is usually the result of calling `frame.insert` many times, which has poor performance.  Consider joining all columns at once using pd.concat(axis=1) instead.  To get a de-fragmented frame, use `newframe = frame.copy()`\n",
      "  iv_ok_fea = get_good_fea_list(df, full_fea, False)\n"
     ]
    },
    {
     "name": "stdout",
     "output_type": "stream",
     "text": [
      "gini use time:  0.9375009536743164\n",
      "iv 用时： 0.0059850215911865234\n"
     ]
    },
    {
     "name": "stderr",
     "output_type": "stream",
     "text": [
      "C:\\Users\\litia\\AppData\\Local\\Temp/ipykernel_19404/941026484.py:22: RuntimeWarning: invalid value encountered in true_divide\n",
      "  tmp_v = (freq_array - E_nums) ** 2 / E_nums\n"
     ]
    },
    {
     "name": "stdout",
     "output_type": "stream",
     "text": [
      "kf use time:  0.6987435817718506\n",
      "fea: stage_3_ret_rate\tiv_gini: 0.202\t iv_iv: 0.295\t iv_kf: 0.243\n",
      "\n"
     ]
    },
    {
     "name": "stderr",
     "output_type": "stream",
     "text": [
      "C:\\Users\\litia\\AppData\\Local\\Temp/ipykernel_19404/1116350120.py:6: PerformanceWarning: DataFrame is highly fragmented.  This is usually the result of calling `frame.insert` many times, which has poor performance.  Consider joining all columns at once using pd.concat(axis=1) instead.  To get a de-fragmented frame, use `newframe = frame.copy()`\n",
      "  iv_ok_fea = get_good_fea_list(df, full_fea, False)\n"
     ]
    },
    {
     "name": "stdout",
     "output_type": "stream",
     "text": [
      "gini use time:  0.9598326683044434\n",
      "iv 用时： 0.005018472671508789\n"
     ]
    },
    {
     "name": "stderr",
     "output_type": "stream",
     "text": [
      "C:\\Users\\litia\\AppData\\Local\\Temp/ipykernel_19404/941026484.py:22: RuntimeWarning: invalid value encountered in true_divide\n",
      "  tmp_v = (freq_array - E_nums) ** 2 / E_nums\n"
     ]
    },
    {
     "name": "stdout",
     "output_type": "stream",
     "text": [
      "kf use time:  0.462238073348999\n",
      "fea: stage_3_pay_rate\tiv_gini: 0.273\t iv_iv: 0.365\t iv_kf: 0.370\n",
      "\n"
     ]
    },
    {
     "name": "stderr",
     "output_type": "stream",
     "text": [
      "C:\\Users\\litia\\AppData\\Local\\Temp/ipykernel_19404/1116350120.py:6: PerformanceWarning: DataFrame is highly fragmented.  This is usually the result of calling `frame.insert` many times, which has poor performance.  Consider joining all columns at once using pd.concat(axis=1) instead.  To get a de-fragmented frame, use `newframe = frame.copy()`\n",
      "  iv_ok_fea = get_good_fea_list(df, full_fea, False)\n"
     ]
    },
    {
     "name": "stdout",
     "output_type": "stream",
     "text": [
      "gini use time:  1.2340338230133057\n",
      "iv 用时： 0.0069806575775146484\n"
     ]
    },
    {
     "name": "stderr",
     "output_type": "stream",
     "text": [
      "C:\\Users\\litia\\AppData\\Local\\Temp/ipykernel_19404/941026484.py:22: RuntimeWarning: invalid value encountered in true_divide\n",
      "  tmp_v = (freq_array - E_nums) ** 2 / E_nums\n"
     ]
    },
    {
     "name": "stdout",
     "output_type": "stream",
     "text": [
      "kf use time:  0.6133615970611572\n",
      "fea: stage_4_ret_rate\tiv_gini: 0.286\t iv_iv: 0.435\t iv_kf: 0.363\n",
      "\n"
     ]
    },
    {
     "name": "stderr",
     "output_type": "stream",
     "text": [
      "C:\\Users\\litia\\AppData\\Local\\Temp/ipykernel_19404/1116350120.py:6: PerformanceWarning: DataFrame is highly fragmented.  This is usually the result of calling `frame.insert` many times, which has poor performance.  Consider joining all columns at once using pd.concat(axis=1) instead.  To get a de-fragmented frame, use `newframe = frame.copy()`\n",
      "  iv_ok_fea = get_good_fea_list(df, full_fea, False)\n"
     ]
    },
    {
     "name": "stdout",
     "output_type": "stream",
     "text": [
      "gini use time:  0.9688947200775146\n",
      "iv 用时： 0.0039882659912109375\n"
     ]
    },
    {
     "name": "stderr",
     "output_type": "stream",
     "text": [
      "C:\\Users\\litia\\AppData\\Local\\Temp/ipykernel_19404/941026484.py:22: RuntimeWarning: invalid value encountered in true_divide\n",
      "  tmp_v = (freq_array - E_nums) ** 2 / E_nums\n"
     ]
    },
    {
     "name": "stdout",
     "output_type": "stream",
     "text": [
      "kf use time:  0.2828488349914551\n",
      "fea: stage_4_pay_rate\tiv_gini: 0.224\t iv_iv: 0.337\t iv_kf: 0.335\n",
      "\n"
     ]
    },
    {
     "name": "stderr",
     "output_type": "stream",
     "text": [
      "C:\\Users\\litia\\AppData\\Local\\Temp/ipykernel_19404/1116350120.py:6: PerformanceWarning: DataFrame is highly fragmented.  This is usually the result of calling `frame.insert` many times, which has poor performance.  Consider joining all columns at once using pd.concat(axis=1) instead.  To get a de-fragmented frame, use `newframe = frame.copy()`\n",
      "  iv_ok_fea = get_good_fea_list(df, full_fea, False)\n"
     ]
    },
    {
     "name": "stdout",
     "output_type": "stream",
     "text": [
      "gini use time:  0.2812483310699463\n",
      "iv 用时： 0.0049855709075927734\n"
     ]
    },
    {
     "name": "stderr",
     "output_type": "stream",
     "text": [
      "C:\\Users\\litia\\AppData\\Local\\Temp/ipykernel_19404/941026484.py:22: RuntimeWarning: invalid value encountered in true_divide\n",
      "  tmp_v = (freq_array - E_nums) ** 2 / E_nums\n"
     ]
    },
    {
     "name": "stdout",
     "output_type": "stream",
     "text": [
      "kf use time:  0.5764703750610352\n",
      "fea: stage_5_ret_rate\tiv_gini: 0.079\t iv_iv: 0.358\t iv_kf: 0.274\n",
      "\n"
     ]
    },
    {
     "name": "stderr",
     "output_type": "stream",
     "text": [
      "C:\\Users\\litia\\AppData\\Local\\Temp/ipykernel_19404/1116350120.py:6: PerformanceWarning: DataFrame is highly fragmented.  This is usually the result of calling `frame.insert` many times, which has poor performance.  Consider joining all columns at once using pd.concat(axis=1) instead.  To get a de-fragmented frame, use `newframe = frame.copy()`\n",
      "  iv_ok_fea = get_good_fea_list(df, full_fea, False)\n"
     ]
    },
    {
     "name": "stdout",
     "output_type": "stream",
     "text": [
      "gini use time:  0.2255864143371582\n",
      "iv 用时： 0.0009975433349609375\n",
      "kf use time:  0.008975982666015625\n",
      "fea: stage_5_pay_rate\tiv_gini: 0.000\t iv_iv: 0.000\t iv_kf: 0.000\n",
      "\n"
     ]
    },
    {
     "name": "stderr",
     "output_type": "stream",
     "text": [
      "C:\\Users\\litia\\AppData\\Local\\Temp/ipykernel_19404/1116350120.py:6: PerformanceWarning: DataFrame is highly fragmented.  This is usually the result of calling `frame.insert` many times, which has poor performance.  Consider joining all columns at once using pd.concat(axis=1) instead.  To get a de-fragmented frame, use `newframe = frame.copy()`\n",
      "  iv_ok_fea = get_good_fea_list(df, full_fea, False)\n"
     ]
    },
    {
     "name": "stdout",
     "output_type": "stream",
     "text": [
      "gini use time:  0.27227306365966797\n",
      "iv 用时： 0.004985332489013672\n"
     ]
    },
    {
     "name": "stderr",
     "output_type": "stream",
     "text": [
      "C:\\Users\\litia\\AppData\\Local\\Temp/ipykernel_19404/941026484.py:22: RuntimeWarning: invalid value encountered in true_divide\n",
      "  tmp_v = (freq_array - E_nums) ** 2 / E_nums\n"
     ]
    },
    {
     "name": "stdout",
     "output_type": "stream",
     "text": [
      "kf use time:  0.6004252433776855\n",
      "fea: stage_6_ret_rate\tiv_gini: 0.128\t iv_iv: 0.393\t iv_kf: 0.328\n",
      "\n",
      "gini use time:  0.13044953346252441\n",
      "iv 用时： 0.0019829273223876953\n",
      "kf use time:  0.008010387420654297\n",
      "fea: stage_6_pay_rate\tiv_gini: 0.000\t iv_iv: 0.000\t iv_kf: 0.000\n",
      "\n"
     ]
    },
    {
     "name": "stderr",
     "output_type": "stream",
     "text": [
      "C:\\Users\\litia\\AppData\\Local\\Temp/ipykernel_19404/1116350120.py:6: PerformanceWarning: DataFrame is highly fragmented.  This is usually the result of calling `frame.insert` many times, which has poor performance.  Consider joining all columns at once using pd.concat(axis=1) instead.  To get a de-fragmented frame, use `newframe = frame.copy()`\n",
      "  iv_ok_fea = get_good_fea_list(df, full_fea, False)\n",
      "C:\\Users\\litia\\AppData\\Local\\Temp/ipykernel_19404/1116350120.py:6: PerformanceWarning: DataFrame is highly fragmented.  This is usually the result of calling `frame.insert` many times, which has poor performance.  Consider joining all columns at once using pd.concat(axis=1) instead.  To get a de-fragmented frame, use `newframe = frame.copy()`\n",
      "  iv_ok_fea = get_good_fea_list(df, full_fea, False)\n"
     ]
    },
    {
     "name": "stdout",
     "output_type": "stream",
     "text": [
      "gini use time:  0.9332101345062256\n",
      "iv 用时： 0.005983829498291016\n"
     ]
    },
    {
     "name": "stderr",
     "output_type": "stream",
     "text": [
      "C:\\Users\\litia\\AppData\\Local\\Temp/ipykernel_19404/941026484.py:22: RuntimeWarning: invalid value encountered in true_divide\n",
      "  tmp_v = (freq_array - E_nums) ** 2 / E_nums\n"
     ]
    },
    {
     "name": "stdout",
     "output_type": "stream",
     "text": [
      "kf use time:  0.5485696792602539\n",
      "fea: stage_7_ret_rate\tiv_gini: 0.226\t iv_iv: 0.338\t iv_kf: 0.347\n",
      "\n",
      "gini use time:  0.12363648414611816\n",
      "iv 用时： 0.000997304916381836\n",
      "kf use time:  0.008975982666015625\n",
      "fea: stage_7_pay_rate\tiv_gini: 0.000\t iv_iv: 0.000\t iv_kf: 0.000\n",
      "\n"
     ]
    },
    {
     "name": "stderr",
     "output_type": "stream",
     "text": [
      "C:\\Users\\litia\\AppData\\Local\\Temp/ipykernel_19404/1116350120.py:6: PerformanceWarning: DataFrame is highly fragmented.  This is usually the result of calling `frame.insert` many times, which has poor performance.  Consider joining all columns at once using pd.concat(axis=1) instead.  To get a de-fragmented frame, use `newframe = frame.copy()`\n",
      "  iv_ok_fea = get_good_fea_list(df, full_fea, False)\n",
      "C:\\Users\\litia\\AppData\\Local\\Temp/ipykernel_19404/1116350120.py:6: PerformanceWarning: DataFrame is highly fragmented.  This is usually the result of calling `frame.insert` many times, which has poor performance.  Consider joining all columns at once using pd.concat(axis=1) instead.  To get a de-fragmented frame, use `newframe = frame.copy()`\n",
      "  iv_ok_fea = get_good_fea_list(df, full_fea, False)\n"
     ]
    },
    {
     "name": "stdout",
     "output_type": "stream",
     "text": [
      "gini use time:  3.526618480682373\n",
      "iv 用时： 0.0049855709075927734\n"
     ]
    },
    {
     "name": "stderr",
     "output_type": "stream",
     "text": [
      "C:\\Users\\litia\\AppData\\Local\\Temp/ipykernel_19404/941026484.py:22: RuntimeWarning: invalid value encountered in true_divide\n",
      "  tmp_v = (freq_array - E_nums) ** 2 / E_nums\n"
     ]
    },
    {
     "name": "stdout",
     "output_type": "stream",
     "text": [
      "kf use time:  0.643310546875\n",
      "fea: month0_ret\tiv_gini: 0.361\t iv_iv: 0.445\t iv_kf: 0.411\n",
      "\n"
     ]
    },
    {
     "name": "stderr",
     "output_type": "stream",
     "text": [
      "C:\\Users\\litia\\AppData\\Local\\Temp/ipykernel_19404/1116350120.py:6: PerformanceWarning: DataFrame is highly fragmented.  This is usually the result of calling `frame.insert` many times, which has poor performance.  Consider joining all columns at once using pd.concat(axis=1) instead.  To get a de-fragmented frame, use `newframe = frame.copy()`\n",
      "  iv_ok_fea = get_good_fea_list(df, full_fea, False)\n"
     ]
    },
    {
     "name": "stdout",
     "output_type": "stream",
     "text": [
      "gini use time:  2.2300503253936768\n",
      "iv 用时： 0.00399017333984375\n"
     ]
    },
    {
     "name": "stderr",
     "output_type": "stream",
     "text": [
      "C:\\Users\\litia\\AppData\\Local\\Temp/ipykernel_19404/941026484.py:22: RuntimeWarning: invalid value encountered in true_divide\n",
      "  tmp_v = (freq_array - E_nums) ** 2 / E_nums\n"
     ]
    },
    {
     "name": "stdout",
     "output_type": "stream",
     "text": [
      "kf use time:  0.26628851890563965\n",
      "fea: month0_pay\tiv_gini: 0.380\t iv_iv: 0.473\t iv_kf: 0.537\n",
      "\n"
     ]
    },
    {
     "name": "stderr",
     "output_type": "stream",
     "text": [
      "C:\\Users\\litia\\AppData\\Local\\Temp/ipykernel_19404/1116350120.py:6: PerformanceWarning: DataFrame is highly fragmented.  This is usually the result of calling `frame.insert` many times, which has poor performance.  Consider joining all columns at once using pd.concat(axis=1) instead.  To get a de-fragmented frame, use `newframe = frame.copy()`\n",
      "  iv_ok_fea = get_good_fea_list(df, full_fea, False)\n"
     ]
    },
    {
     "name": "stdout",
     "output_type": "stream",
     "text": [
      "gini use time:  2.379756450653076\n",
      "iv 用时： 0.005952596664428711\n"
     ]
    },
    {
     "name": "stderr",
     "output_type": "stream",
     "text": [
      "C:\\Users\\litia\\AppData\\Local\\Temp/ipykernel_19404/941026484.py:22: RuntimeWarning: invalid value encountered in true_divide\n",
      "  tmp_v = (freq_array - E_nums) ** 2 / E_nums\n"
     ]
    },
    {
     "name": "stdout",
     "output_type": "stream",
     "text": [
      "kf use time:  0.6867654323577881\n",
      "fea: month1_ret\tiv_gini: 0.396\t iv_iv: 0.450\t iv_kf: 0.443\n",
      "\n"
     ]
    },
    {
     "name": "stderr",
     "output_type": "stream",
     "text": [
      "C:\\Users\\litia\\AppData\\Local\\Temp/ipykernel_19404/1116350120.py:6: PerformanceWarning: DataFrame is highly fragmented.  This is usually the result of calling `frame.insert` many times, which has poor performance.  Consider joining all columns at once using pd.concat(axis=1) instead.  To get a de-fragmented frame, use `newframe = frame.copy()`\n",
      "  iv_ok_fea = get_good_fea_list(df, full_fea, False)\n"
     ]
    },
    {
     "name": "stdout",
     "output_type": "stream",
     "text": [
      "gini use time:  0.9356975555419922\n",
      "iv 用时： 0.002959728240966797\n"
     ]
    },
    {
     "name": "stderr",
     "output_type": "stream",
     "text": [
      "C:\\Users\\litia\\AppData\\Local\\Temp/ipykernel_19404/941026484.py:22: RuntimeWarning: invalid value encountered in true_divide\n",
      "  tmp_v = (freq_array - E_nums) ** 2 / E_nums\n"
     ]
    },
    {
     "name": "stdout",
     "output_type": "stream",
     "text": [
      "kf use time:  0.38400793075561523\n",
      "fea: month1_pay\tiv_gini: 0.357\t iv_iv: 0.496\t iv_kf: 0.449\n",
      "\n"
     ]
    },
    {
     "name": "stderr",
     "output_type": "stream",
     "text": [
      "C:\\Users\\litia\\AppData\\Local\\Temp/ipykernel_19404/1116350120.py:6: PerformanceWarning: DataFrame is highly fragmented.  This is usually the result of calling `frame.insert` many times, which has poor performance.  Consider joining all columns at once using pd.concat(axis=1) instead.  To get a de-fragmented frame, use `newframe = frame.copy()`\n",
      "  iv_ok_fea = get_good_fea_list(df, full_fea, False)\n"
     ]
    },
    {
     "name": "stdout",
     "output_type": "stream",
     "text": [
      "gini use time:  1.2323648929595947\n",
      "iv 用时： 0.003989458084106445\n"
     ]
    },
    {
     "name": "stderr",
     "output_type": "stream",
     "text": [
      "C:\\Users\\litia\\AppData\\Local\\Temp/ipykernel_19404/941026484.py:22: RuntimeWarning: invalid value encountered in true_divide\n",
      "  tmp_v = (freq_array - E_nums) ** 2 / E_nums\n"
     ]
    },
    {
     "name": "stdout",
     "output_type": "stream",
     "text": [
      "kf use time:  0.4475374221801758\n",
      "fea: month2_ret\tiv_gini: 0.460\t iv_iv: 0.566\t iv_kf: 0.509\n",
      "\n"
     ]
    },
    {
     "name": "stderr",
     "output_type": "stream",
     "text": [
      "C:\\Users\\litia\\AppData\\Local\\Temp/ipykernel_19404/1116350120.py:6: PerformanceWarning: DataFrame is highly fragmented.  This is usually the result of calling `frame.insert` many times, which has poor performance.  Consider joining all columns at once using pd.concat(axis=1) instead.  To get a de-fragmented frame, use `newframe = frame.copy()`\n",
      "  iv_ok_fea = get_good_fea_list(df, full_fea, False)\n"
     ]
    },
    {
     "name": "stdout",
     "output_type": "stream",
     "text": [
      "gini use time:  2.381700277328491\n",
      "iv 用时： 0.006015777587890625\n"
     ]
    },
    {
     "name": "stderr",
     "output_type": "stream",
     "text": [
      "C:\\Users\\litia\\AppData\\Local\\Temp/ipykernel_19404/941026484.py:22: RuntimeWarning: invalid value encountered in true_divide\n",
      "  tmp_v = (freq_array - E_nums) ** 2 / E_nums\n"
     ]
    },
    {
     "name": "stdout",
     "output_type": "stream",
     "text": [
      "kf use time:  0.33129024505615234\n",
      "fea: month2_pay\tiv_gini: 0.314\t iv_iv: 0.365\t iv_kf: 0.329\n",
      "\n"
     ]
    },
    {
     "name": "stderr",
     "output_type": "stream",
     "text": [
      "C:\\Users\\litia\\AppData\\Local\\Temp/ipykernel_19404/1116350120.py:6: PerformanceWarning: DataFrame is highly fragmented.  This is usually the result of calling `frame.insert` many times, which has poor performance.  Consider joining all columns at once using pd.concat(axis=1) instead.  To get a de-fragmented frame, use `newframe = frame.copy()`\n",
      "  iv_ok_fea = get_good_fea_list(df, full_fea, False)\n"
     ]
    },
    {
     "name": "stdout",
     "output_type": "stream",
     "text": [
      "gini use time:  2.3526878356933594\n",
      "iv 用时： 0.004954099655151367\n"
     ]
    },
    {
     "name": "stderr",
     "output_type": "stream",
     "text": [
      "C:\\Users\\litia\\AppData\\Local\\Temp/ipykernel_19404/941026484.py:22: RuntimeWarning: invalid value encountered in true_divide\n",
      "  tmp_v = (freq_array - E_nums) ** 2 / E_nums\n"
     ]
    },
    {
     "name": "stdout",
     "output_type": "stream",
     "text": [
      "kf use time:  0.6053833961486816\n",
      "fea: month3_ret\tiv_gini: 0.573\t iv_iv: 0.646\t iv_kf: 0.605\n",
      "\n"
     ]
    },
    {
     "name": "stderr",
     "output_type": "stream",
     "text": [
      "C:\\Users\\litia\\AppData\\Local\\Temp/ipykernel_19404/1116350120.py:6: PerformanceWarning: DataFrame is highly fragmented.  This is usually the result of calling `frame.insert` many times, which has poor performance.  Consider joining all columns at once using pd.concat(axis=1) instead.  To get a de-fragmented frame, use `newframe = frame.copy()`\n",
      "  iv_ok_fea = get_good_fea_list(df, full_fea, False)\n"
     ]
    },
    {
     "name": "stdout",
     "output_type": "stream",
     "text": [
      "gini use time:  2.3272979259490967\n",
      "iv 用时： 0.002992391586303711\n"
     ]
    },
    {
     "name": "stderr",
     "output_type": "stream",
     "text": [
      "C:\\Users\\litia\\AppData\\Local\\Temp/ipykernel_19404/941026484.py:22: RuntimeWarning: invalid value encountered in true_divide\n",
      "  tmp_v = (freq_array - E_nums) ** 2 / E_nums\n"
     ]
    },
    {
     "name": "stdout",
     "output_type": "stream",
     "text": [
      "kf use time:  0.36505556106567383\n",
      "fea: month3_pay\tiv_gini: 0.364\t iv_iv: 0.415\t iv_kf: 0.373\n",
      "\n"
     ]
    },
    {
     "name": "stderr",
     "output_type": "stream",
     "text": [
      "C:\\Users\\litia\\AppData\\Local\\Temp/ipykernel_19404/1116350120.py:6: PerformanceWarning: DataFrame is highly fragmented.  This is usually the result of calling `frame.insert` many times, which has poor performance.  Consider joining all columns at once using pd.concat(axis=1) instead.  To get a de-fragmented frame, use `newframe = frame.copy()`\n",
      "  iv_ok_fea = get_good_fea_list(df, full_fea, False)\n"
     ]
    },
    {
     "name": "stdout",
     "output_type": "stream",
     "text": [
      "gini use time:  1.8839426040649414\n",
      "iv 用时： 0.003989219665527344\n"
     ]
    },
    {
     "name": "stderr",
     "output_type": "stream",
     "text": [
      "C:\\Users\\litia\\AppData\\Local\\Temp/ipykernel_19404/941026484.py:22: RuntimeWarning: invalid value encountered in true_divide\n",
      "  tmp_v = (freq_array - E_nums) ** 2 / E_nums\n"
     ]
    },
    {
     "name": "stdout",
     "output_type": "stream",
     "text": [
      "kf use time:  0.5948596000671387\n",
      "fea: month4_ret\tiv_gini: 0.594\t iv_iv: 0.693\t iv_kf: 0.642\n",
      "\n"
     ]
    },
    {
     "name": "stderr",
     "output_type": "stream",
     "text": [
      "C:\\Users\\litia\\AppData\\Local\\Temp/ipykernel_19404/1116350120.py:6: PerformanceWarning: DataFrame is highly fragmented.  This is usually the result of calling `frame.insert` many times, which has poor performance.  Consider joining all columns at once using pd.concat(axis=1) instead.  To get a de-fragmented frame, use `newframe = frame.copy()`\n",
      "  iv_ok_fea = get_good_fea_list(df, full_fea, False)\n"
     ]
    },
    {
     "name": "stdout",
     "output_type": "stream",
     "text": [
      "gini use time:  2.361485242843628\n",
      "iv 用时： 0.003978252410888672\n"
     ]
    },
    {
     "name": "stderr",
     "output_type": "stream",
     "text": [
      "C:\\Users\\litia\\AppData\\Local\\Temp/ipykernel_19404/941026484.py:22: RuntimeWarning: invalid value encountered in true_divide\n",
      "  tmp_v = (freq_array - E_nums) ** 2 / E_nums\n"
     ]
    },
    {
     "name": "stdout",
     "output_type": "stream",
     "text": [
      "kf use time:  0.3869946002960205\n",
      "fea: month4_pay\tiv_gini: 0.471\t iv_iv: 0.544\t iv_kf: 0.487\n",
      "\n"
     ]
    },
    {
     "name": "stderr",
     "output_type": "stream",
     "text": [
      "C:\\Users\\litia\\AppData\\Local\\Temp/ipykernel_19404/1116350120.py:6: PerformanceWarning: DataFrame is highly fragmented.  This is usually the result of calling `frame.insert` many times, which has poor performance.  Consider joining all columns at once using pd.concat(axis=1) instead.  To get a de-fragmented frame, use `newframe = frame.copy()`\n",
      "  iv_ok_fea = get_good_fea_list(df, full_fea, False)\n"
     ]
    },
    {
     "name": "stdout",
     "output_type": "stream",
     "text": [
      "gini use time:  2.884244680404663\n",
      "iv 用时： 0.003989458084106445\n"
     ]
    },
    {
     "name": "stderr",
     "output_type": "stream",
     "text": [
      "C:\\Users\\litia\\AppData\\Local\\Temp/ipykernel_19404/941026484.py:22: RuntimeWarning: invalid value encountered in true_divide\n",
      "  tmp_v = (freq_array - E_nums) ** 2 / E_nums\n"
     ]
    },
    {
     "name": "stdout",
     "output_type": "stream",
     "text": [
      "kf use time:  0.5957241058349609\n",
      "fea: month5_ret\tiv_gini: 0.623\t iv_iv: 0.689\t iv_kf: 0.643\n",
      "\n"
     ]
    },
    {
     "name": "stderr",
     "output_type": "stream",
     "text": [
      "C:\\Users\\litia\\AppData\\Local\\Temp/ipykernel_19404/1116350120.py:6: PerformanceWarning: DataFrame is highly fragmented.  This is usually the result of calling `frame.insert` many times, which has poor performance.  Consider joining all columns at once using pd.concat(axis=1) instead.  To get a de-fragmented frame, use `newframe = frame.copy()`\n",
      "  iv_ok_fea = get_good_fea_list(df, full_fea, False)\n"
     ]
    },
    {
     "name": "stdout",
     "output_type": "stream",
     "text": [
      "gini use time:  2.6597468852996826\n",
      "iv 用时： 0.004986286163330078\n"
     ]
    },
    {
     "name": "stderr",
     "output_type": "stream",
     "text": [
      "C:\\Users\\litia\\AppData\\Local\\Temp/ipykernel_19404/941026484.py:22: RuntimeWarning: invalid value encountered in true_divide\n",
      "  tmp_v = (freq_array - E_nums) ** 2 / E_nums\n"
     ]
    },
    {
     "name": "stdout",
     "output_type": "stream",
     "text": [
      "kf use time:  0.41418910026550293\n",
      "fea: month5_pay\tiv_gini: 0.441\t iv_iv: 0.490\t iv_kf: 0.432\n",
      "\n"
     ]
    },
    {
     "name": "stderr",
     "output_type": "stream",
     "text": [
      "C:\\Users\\litia\\AppData\\Local\\Temp/ipykernel_19404/1116350120.py:6: PerformanceWarning: DataFrame is highly fragmented.  This is usually the result of calling `frame.insert` many times, which has poor performance.  Consider joining all columns at once using pd.concat(axis=1) instead.  To get a de-fragmented frame, use `newframe = frame.copy()`\n",
      "  iv_ok_fea = get_good_fea_list(df, full_fea, False)\n"
     ]
    },
    {
     "name": "stdout",
     "output_type": "stream",
     "text": [
      "gini use time:  2.142134189605713\n",
      "iv 用时： 0.004954814910888672\n"
     ]
    },
    {
     "name": "stderr",
     "output_type": "stream",
     "text": [
      "C:\\Users\\litia\\AppData\\Local\\Temp/ipykernel_19404/941026484.py:22: RuntimeWarning: invalid value encountered in true_divide\n",
      "  tmp_v = (freq_array - E_nums) ** 2 / E_nums\n"
     ]
    },
    {
     "name": "stdout",
     "output_type": "stream",
     "text": [
      "kf use time:  0.49770236015319824\n",
      "fea: month6_ret\tiv_gini: 0.614\t iv_iv: 0.684\t iv_kf: 0.682\n",
      "\n"
     ]
    },
    {
     "name": "stderr",
     "output_type": "stream",
     "text": [
      "C:\\Users\\litia\\AppData\\Local\\Temp/ipykernel_19404/1116350120.py:6: PerformanceWarning: DataFrame is highly fragmented.  This is usually the result of calling `frame.insert` many times, which has poor performance.  Consider joining all columns at once using pd.concat(axis=1) instead.  To get a de-fragmented frame, use `newframe = frame.copy()`\n",
      "  iv_ok_fea = get_good_fea_list(df, full_fea, False)\n"
     ]
    },
    {
     "name": "stdout",
     "output_type": "stream",
     "text": [
      "gini use time:  0.9489562511444092\n",
      "iv 用时： 0.003989219665527344\n"
     ]
    },
    {
     "name": "stderr",
     "output_type": "stream",
     "text": [
      "C:\\Users\\litia\\AppData\\Local\\Temp/ipykernel_19404/941026484.py:22: RuntimeWarning: invalid value encountered in true_divide\n",
      "  tmp_v = (freq_array - E_nums) ** 2 / E_nums\n"
     ]
    },
    {
     "name": "stdout",
     "output_type": "stream",
     "text": [
      "kf use time:  0.3762044906616211\n",
      "fea: month6_pay\tiv_gini: 0.291\t iv_iv: 0.417\t iv_kf: 0.398\n",
      "\n"
     ]
    },
    {
     "name": "stderr",
     "output_type": "stream",
     "text": [
      "C:\\Users\\litia\\AppData\\Local\\Temp/ipykernel_19404/1116350120.py:6: PerformanceWarning: DataFrame is highly fragmented.  This is usually the result of calling `frame.insert` many times, which has poor performance.  Consider joining all columns at once using pd.concat(axis=1) instead.  To get a de-fragmented frame, use `newframe = frame.copy()`\n",
      "  iv_ok_fea = get_good_fea_list(df, full_fea, False)\n"
     ]
    },
    {
     "name": "stdout",
     "output_type": "stream",
     "text": [
      "gini use time:  2.5335705280303955\n",
      "iv 用时： 0.0049669742584228516\n"
     ]
    },
    {
     "name": "stderr",
     "output_type": "stream",
     "text": [
      "C:\\Users\\litia\\AppData\\Local\\Temp/ipykernel_19404/941026484.py:22: RuntimeWarning: invalid value encountered in true_divide\n",
      "  tmp_v = (freq_array - E_nums) ** 2 / E_nums\n"
     ]
    },
    {
     "name": "stdout",
     "output_type": "stream",
     "text": [
      "kf use time:  0.5041439533233643\n",
      "fea: month7_ret\tiv_gini: 0.591\t iv_iv: 0.643\t iv_kf: 0.589\n",
      "\n"
     ]
    },
    {
     "name": "stderr",
     "output_type": "stream",
     "text": [
      "C:\\Users\\litia\\AppData\\Local\\Temp/ipykernel_19404/1116350120.py:6: PerformanceWarning: DataFrame is highly fragmented.  This is usually the result of calling `frame.insert` many times, which has poor performance.  Consider joining all columns at once using pd.concat(axis=1) instead.  To get a de-fragmented frame, use `newframe = frame.copy()`\n",
      "  iv_ok_fea = get_good_fea_list(df, full_fea, False)\n"
     ]
    },
    {
     "name": "stdout",
     "output_type": "stream",
     "text": [
      "gini use time:  2.4014620780944824\n",
      "iv 用时： 0.003953456878662109\n"
     ]
    },
    {
     "name": "stderr",
     "output_type": "stream",
     "text": [
      "C:\\Users\\litia\\AppData\\Local\\Temp/ipykernel_19404/941026484.py:22: RuntimeWarning: invalid value encountered in true_divide\n",
      "  tmp_v = (freq_array - E_nums) ** 2 / E_nums\n"
     ]
    },
    {
     "name": "stdout",
     "output_type": "stream",
     "text": [
      "kf use time:  0.37995028495788574\n",
      "fea: month7_pay\tiv_gini: 0.347\t iv_iv: 0.395\t iv_kf: 0.351\n",
      "\n"
     ]
    },
    {
     "name": "stderr",
     "output_type": "stream",
     "text": [
      "C:\\Users\\litia\\AppData\\Local\\Temp/ipykernel_19404/1116350120.py:6: PerformanceWarning: DataFrame is highly fragmented.  This is usually the result of calling `frame.insert` many times, which has poor performance.  Consider joining all columns at once using pd.concat(axis=1) instead.  To get a de-fragmented frame, use `newframe = frame.copy()`\n",
      "  iv_ok_fea = get_good_fea_list(df, full_fea, False)\n"
     ]
    },
    {
     "name": "stdout",
     "output_type": "stream",
     "text": [
      "gini use time:  0.9372990131378174\n",
      "iv 用时： 0.003988742828369141\n"
     ]
    },
    {
     "name": "stderr",
     "output_type": "stream",
     "text": [
      "C:\\Users\\litia\\AppData\\Local\\Temp/ipykernel_19404/941026484.py:22: RuntimeWarning: invalid value encountered in true_divide\n",
      "  tmp_v = (freq_array - E_nums) ** 2 / E_nums\n"
     ]
    },
    {
     "name": "stdout",
     "output_type": "stream",
     "text": [
      "kf use time:  0.6223652362823486\n",
      "fea: month8_ret\tiv_gini: 0.456\t iv_iv: 0.598\t iv_kf: 0.586\n",
      "\n"
     ]
    },
    {
     "name": "stderr",
     "output_type": "stream",
     "text": [
      "C:\\Users\\litia\\AppData\\Local\\Temp/ipykernel_19404/1116350120.py:6: PerformanceWarning: DataFrame is highly fragmented.  This is usually the result of calling `frame.insert` many times, which has poor performance.  Consider joining all columns at once using pd.concat(axis=1) instead.  To get a de-fragmented frame, use `newframe = frame.copy()`\n",
      "  iv_ok_fea = get_good_fea_list(df, full_fea, False)\n"
     ]
    },
    {
     "name": "stdout",
     "output_type": "stream",
     "text": [
      "gini use time:  1.8567228317260742\n",
      "iv 用时： 0.003988981246948242\n"
     ]
    },
    {
     "name": "stderr",
     "output_type": "stream",
     "text": [
      "C:\\Users\\litia\\AppData\\Local\\Temp/ipykernel_19404/941026484.py:22: RuntimeWarning: invalid value encountered in true_divide\n",
      "  tmp_v = (freq_array - E_nums) ** 2 / E_nums\n"
     ]
    },
    {
     "name": "stdout",
     "output_type": "stream",
     "text": [
      "kf use time:  0.37901926040649414\n",
      "fea: month8_pay\tiv_gini: 0.384\t iv_iv: 0.448\t iv_kf: 0.424\n",
      "\n"
     ]
    },
    {
     "name": "stderr",
     "output_type": "stream",
     "text": [
      "C:\\Users\\litia\\AppData\\Local\\Temp/ipykernel_19404/1116350120.py:6: PerformanceWarning: DataFrame is highly fragmented.  This is usually the result of calling `frame.insert` many times, which has poor performance.  Consider joining all columns at once using pd.concat(axis=1) instead.  To get a de-fragmented frame, use `newframe = frame.copy()`\n",
      "  iv_ok_fea = get_good_fea_list(df, full_fea, False)\n"
     ]
    },
    {
     "name": "stdout",
     "output_type": "stream",
     "text": [
      "gini use time:  0.9592447280883789\n",
      "iv 用时： 0.004023313522338867\n"
     ]
    },
    {
     "name": "stderr",
     "output_type": "stream",
     "text": [
      "C:\\Users\\litia\\AppData\\Local\\Temp/ipykernel_19404/941026484.py:22: RuntimeWarning: invalid value encountered in true_divide\n",
      "  tmp_v = (freq_array - E_nums) ** 2 / E_nums\n"
     ]
    },
    {
     "name": "stdout",
     "output_type": "stream",
     "text": [
      "kf use time:  0.6141149997711182\n",
      "fea: month9_ret\tiv_gini: 0.465\t iv_iv: 0.586\t iv_kf: 0.573\n",
      "\n"
     ]
    },
    {
     "name": "stderr",
     "output_type": "stream",
     "text": [
      "C:\\Users\\litia\\AppData\\Local\\Temp/ipykernel_19404/1116350120.py:6: PerformanceWarning: DataFrame is highly fragmented.  This is usually the result of calling `frame.insert` many times, which has poor performance.  Consider joining all columns at once using pd.concat(axis=1) instead.  To get a de-fragmented frame, use `newframe = frame.copy()`\n",
      "  iv_ok_fea = get_good_fea_list(df, full_fea, False)\n"
     ]
    },
    {
     "name": "stdout",
     "output_type": "stream",
     "text": [
      "gini use time:  1.824873447418213\n",
      "iv 用时： 0.003989219665527344\n"
     ]
    },
    {
     "name": "stderr",
     "output_type": "stream",
     "text": [
      "C:\\Users\\litia\\AppData\\Local\\Temp/ipykernel_19404/941026484.py:22: RuntimeWarning: invalid value encountered in true_divide\n",
      "  tmp_v = (freq_array - E_nums) ** 2 / E_nums\n"
     ]
    },
    {
     "name": "stdout",
     "output_type": "stream",
     "text": [
      "kf use time:  0.380016565322876\n",
      "fea: month9_pay\tiv_gini: 0.348\t iv_iv: 0.393\t iv_kf: 0.420\n",
      "\n"
     ]
    },
    {
     "name": "stderr",
     "output_type": "stream",
     "text": [
      "C:\\Users\\litia\\AppData\\Local\\Temp/ipykernel_19404/1116350120.py:6: PerformanceWarning: DataFrame is highly fragmented.  This is usually the result of calling `frame.insert` many times, which has poor performance.  Consider joining all columns at once using pd.concat(axis=1) instead.  To get a de-fragmented frame, use `newframe = frame.copy()`\n",
      "  iv_ok_fea = get_good_fea_list(df, full_fea, False)\n"
     ]
    },
    {
     "name": "stdout",
     "output_type": "stream",
     "text": [
      "gini use time:  1.573495864868164\n",
      "iv 用时： 0.0039882659912109375\n"
     ]
    },
    {
     "name": "stderr",
     "output_type": "stream",
     "text": [
      "C:\\Users\\litia\\AppData\\Local\\Temp/ipykernel_19404/941026484.py:22: RuntimeWarning: invalid value encountered in true_divide\n",
      "  tmp_v = (freq_array - E_nums) ** 2 / E_nums\n"
     ]
    },
    {
     "name": "stdout",
     "output_type": "stream",
     "text": [
      "kf use time:  0.49471020698547363\n",
      "fea: month10_ret\tiv_gini: 0.532\t iv_iv: 0.708\t iv_kf: 0.652\n",
      "\n"
     ]
    },
    {
     "name": "stderr",
     "output_type": "stream",
     "text": [
      "C:\\Users\\litia\\AppData\\Local\\Temp/ipykernel_19404/1116350120.py:6: PerformanceWarning: DataFrame is highly fragmented.  This is usually the result of calling `frame.insert` many times, which has poor performance.  Consider joining all columns at once using pd.concat(axis=1) instead.  To get a de-fragmented frame, use `newframe = frame.copy()`\n",
      "  iv_ok_fea = get_good_fea_list(df, full_fea, False)\n"
     ]
    },
    {
     "name": "stdout",
     "output_type": "stream",
     "text": [
      "gini use time:  2.9768688678741455\n",
      "iv 用时： 0.003988981246948242\n"
     ]
    },
    {
     "name": "stderr",
     "output_type": "stream",
     "text": [
      "C:\\Users\\litia\\AppData\\Local\\Temp/ipykernel_19404/941026484.py:22: RuntimeWarning: invalid value encountered in true_divide\n",
      "  tmp_v = (freq_array - E_nums) ** 2 / E_nums\n"
     ]
    },
    {
     "name": "stdout",
     "output_type": "stream",
     "text": [
      "kf use time:  0.3461148738861084\n",
      "fea: month10_pay\tiv_gini: 0.319\t iv_iv: 0.412\t iv_kf: 0.384\n",
      "\n"
     ]
    },
    {
     "name": "stderr",
     "output_type": "stream",
     "text": [
      "C:\\Users\\litia\\AppData\\Local\\Temp/ipykernel_19404/1116350120.py:6: PerformanceWarning: DataFrame is highly fragmented.  This is usually the result of calling `frame.insert` many times, which has poor performance.  Consider joining all columns at once using pd.concat(axis=1) instead.  To get a de-fragmented frame, use `newframe = frame.copy()`\n",
      "  iv_ok_fea = get_good_fea_list(df, full_fea, False)\n"
     ]
    },
    {
     "name": "stdout",
     "output_type": "stream",
     "text": [
      "gini use time:  1.6263282299041748\n",
      "iv 用时： 0.003990888595581055\n"
     ]
    },
    {
     "name": "stderr",
     "output_type": "stream",
     "text": [
      "C:\\Users\\litia\\AppData\\Local\\Temp/ipykernel_19404/941026484.py:22: RuntimeWarning: invalid value encountered in true_divide\n",
      "  tmp_v = (freq_array - E_nums) ** 2 / E_nums\n"
     ]
    },
    {
     "name": "stdout",
     "output_type": "stream",
     "text": [
      "kf use time:  0.5079550743103027\n",
      "fea: month11_ret\tiv_gini: 0.525\t iv_iv: 0.599\t iv_kf: 0.588\n",
      "\n"
     ]
    },
    {
     "name": "stderr",
     "output_type": "stream",
     "text": [
      "C:\\Users\\litia\\AppData\\Local\\Temp/ipykernel_19404/1116350120.py:6: PerformanceWarning: DataFrame is highly fragmented.  This is usually the result of calling `frame.insert` many times, which has poor performance.  Consider joining all columns at once using pd.concat(axis=1) instead.  To get a de-fragmented frame, use `newframe = frame.copy()`\n",
      "  iv_ok_fea = get_good_fea_list(df, full_fea, False)\n"
     ]
    },
    {
     "name": "stdout",
     "output_type": "stream",
     "text": [
      "gini use time:  1.2899115085601807\n",
      "iv 用时： 0.003989219665527344\n"
     ]
    },
    {
     "name": "stderr",
     "output_type": "stream",
     "text": [
      "C:\\Users\\litia\\AppData\\Local\\Temp/ipykernel_19404/941026484.py:22: RuntimeWarning: invalid value encountered in true_divide\n",
      "  tmp_v = (freq_array - E_nums) ** 2 / E_nums\n"
     ]
    },
    {
     "name": "stdout",
     "output_type": "stream",
     "text": [
      "kf use time:  0.3471059799194336\n",
      "fea: month11_pay\tiv_gini: 0.311\t iv_iv: 0.394\t iv_kf: 0.318\n",
      "\n"
     ]
    },
    {
     "name": "stderr",
     "output_type": "stream",
     "text": [
      "C:\\Users\\litia\\AppData\\Local\\Temp/ipykernel_19404/1116350120.py:6: PerformanceWarning: DataFrame is highly fragmented.  This is usually the result of calling `frame.insert` many times, which has poor performance.  Consider joining all columns at once using pd.concat(axis=1) instead.  To get a de-fragmented frame, use `newframe = frame.copy()`\n",
      "  iv_ok_fea = get_good_fea_list(df, full_fea, False)\n"
     ]
    },
    {
     "name": "stdout",
     "output_type": "stream",
     "text": [
      "gini use time:  3.0749127864837646\n",
      "iv 用时： 0.0040204524993896484\n"
     ]
    },
    {
     "name": "stderr",
     "output_type": "stream",
     "text": [
      "C:\\Users\\litia\\AppData\\Local\\Temp/ipykernel_19404/941026484.py:22: RuntimeWarning: invalid value encountered in true_divide\n",
      "  tmp_v = (freq_array - E_nums) ** 2 / E_nums\n"
     ]
    },
    {
     "name": "stdout",
     "output_type": "stream",
     "text": [
      "kf use time:  0.6378977298736572\n",
      "fea: month12_ret\tiv_gini: 0.440\t iv_iv: 0.482\t iv_kf: 0.471\n",
      "\n"
     ]
    },
    {
     "name": "stderr",
     "output_type": "stream",
     "text": [
      "C:\\Users\\litia\\AppData\\Local\\Temp/ipykernel_19404/1116350120.py:6: PerformanceWarning: DataFrame is highly fragmented.  This is usually the result of calling `frame.insert` many times, which has poor performance.  Consider joining all columns at once using pd.concat(axis=1) instead.  To get a de-fragmented frame, use `newframe = frame.copy()`\n",
      "  iv_ok_fea = get_good_fea_list(df, full_fea, False)\n"
     ]
    },
    {
     "name": "stdout",
     "output_type": "stream",
     "text": [
      "gini use time:  0.9418003559112549\n",
      "iv 用时： 0.0039556026458740234\n"
     ]
    },
    {
     "name": "stderr",
     "output_type": "stream",
     "text": [
      "C:\\Users\\litia\\AppData\\Local\\Temp/ipykernel_19404/941026484.py:22: RuntimeWarning: invalid value encountered in true_divide\n",
      "  tmp_v = (freq_array - E_nums) ** 2 / E_nums\n"
     ]
    },
    {
     "name": "stdout",
     "output_type": "stream",
     "text": [
      "kf use time:  0.39295125007629395\n",
      "fea: month12_pay\tiv_gini: 0.292\t iv_iv: 0.380\t iv_kf: 0.367\n",
      "\n"
     ]
    },
    {
     "name": "stderr",
     "output_type": "stream",
     "text": [
      "C:\\Users\\litia\\AppData\\Local\\Temp/ipykernel_19404/1116350120.py:6: PerformanceWarning: DataFrame is highly fragmented.  This is usually the result of calling `frame.insert` many times, which has poor performance.  Consider joining all columns at once using pd.concat(axis=1) instead.  To get a de-fragmented frame, use `newframe = frame.copy()`\n",
      "  iv_ok_fea = get_good_fea_list(df, full_fea, False)\n"
     ]
    },
    {
     "name": "stdout",
     "output_type": "stream",
     "text": [
      "gini use time:  1.8568716049194336\n",
      "iv 用时： 0.003963947296142578\n"
     ]
    },
    {
     "name": "stderr",
     "output_type": "stream",
     "text": [
      "C:\\Users\\litia\\AppData\\Local\\Temp/ipykernel_19404/941026484.py:22: RuntimeWarning: invalid value encountered in true_divide\n",
      "  tmp_v = (freq_array - E_nums) ** 2 / E_nums\n"
     ]
    },
    {
     "name": "stdout",
     "output_type": "stream",
     "text": [
      "kf use time:  0.651470422744751\n",
      "fea: month13_ret\tiv_gini: 0.380\t iv_iv: 0.456\t iv_kf: 0.423\n",
      "\n"
     ]
    },
    {
     "name": "stderr",
     "output_type": "stream",
     "text": [
      "C:\\Users\\litia\\AppData\\Local\\Temp/ipykernel_19404/1116350120.py:6: PerformanceWarning: DataFrame is highly fragmented.  This is usually the result of calling `frame.insert` many times, which has poor performance.  Consider joining all columns at once using pd.concat(axis=1) instead.  To get a de-fragmented frame, use `newframe = frame.copy()`\n",
      "  iv_ok_fea = get_good_fea_list(df, full_fea, False)\n"
     ]
    },
    {
     "name": "stdout",
     "output_type": "stream",
     "text": [
      "gini use time:  2.7370972633361816\n",
      "iv 用时： 0.0049860477447509766\n"
     ]
    },
    {
     "name": "stderr",
     "output_type": "stream",
     "text": [
      "C:\\Users\\litia\\AppData\\Local\\Temp/ipykernel_19404/941026484.py:22: RuntimeWarning: invalid value encountered in true_divide\n",
      "  tmp_v = (freq_array - E_nums) ** 2 / E_nums\n"
     ]
    },
    {
     "name": "stdout",
     "output_type": "stream",
     "text": [
      "kf use time:  0.37572312355041504\n",
      "fea: month13_pay\tiv_gini: 0.362\t iv_iv: 0.419\t iv_kf: 0.422\n",
      "\n"
     ]
    },
    {
     "name": "stderr",
     "output_type": "stream",
     "text": [
      "C:\\Users\\litia\\AppData\\Local\\Temp/ipykernel_19404/1116350120.py:6: PerformanceWarning: DataFrame is highly fragmented.  This is usually the result of calling `frame.insert` many times, which has poor performance.  Consider joining all columns at once using pd.concat(axis=1) instead.  To get a de-fragmented frame, use `newframe = frame.copy()`\n",
      "  iv_ok_fea = get_good_fea_list(df, full_fea, False)\n"
     ]
    },
    {
     "name": "stdout",
     "output_type": "stream",
     "text": [
      "gini use time:  3.3484644889831543\n",
      "iv 用时： 0.003989219665527344\n"
     ]
    },
    {
     "name": "stderr",
     "output_type": "stream",
     "text": [
      "C:\\Users\\litia\\AppData\\Local\\Temp/ipykernel_19404/941026484.py:22: RuntimeWarning: invalid value encountered in true_divide\n",
      "  tmp_v = (freq_array - E_nums) ** 2 / E_nums\n"
     ]
    },
    {
     "name": "stdout",
     "output_type": "stream",
     "text": [
      "kf use time:  0.6568217277526855\n",
      "fea: month14_ret\tiv_gini: 0.506\t iv_iv: 0.557\t iv_kf: 0.536\n",
      "\n"
     ]
    },
    {
     "name": "stderr",
     "output_type": "stream",
     "text": [
      "C:\\Users\\litia\\AppData\\Local\\Temp/ipykernel_19404/1116350120.py:6: PerformanceWarning: DataFrame is highly fragmented.  This is usually the result of calling `frame.insert` many times, which has poor performance.  Consider joining all columns at once using pd.concat(axis=1) instead.  To get a de-fragmented frame, use `newframe = frame.copy()`\n",
      "  iv_ok_fea = get_good_fea_list(df, full_fea, False)\n"
     ]
    },
    {
     "name": "stdout",
     "output_type": "stream",
     "text": [
      "gini use time:  2.508855104446411\n",
      "iv 用时： 0.0029959678649902344\n"
     ]
    },
    {
     "name": "stderr",
     "output_type": "stream",
     "text": [
      "C:\\Users\\litia\\AppData\\Local\\Temp/ipykernel_19404/941026484.py:22: RuntimeWarning: invalid value encountered in true_divide\n",
      "  tmp_v = (freq_array - E_nums) ** 2 / E_nums\n"
     ]
    },
    {
     "name": "stdout",
     "output_type": "stream",
     "text": [
      "kf use time:  0.3902902603149414\n",
      "fea: month14_pay\tiv_gini: 0.378\t iv_iv: 0.442\t iv_kf: 0.366\n",
      "\n"
     ]
    },
    {
     "name": "stderr",
     "output_type": "stream",
     "text": [
      "C:\\Users\\litia\\AppData\\Local\\Temp/ipykernel_19404/1116350120.py:6: PerformanceWarning: DataFrame is highly fragmented.  This is usually the result of calling `frame.insert` many times, which has poor performance.  Consider joining all columns at once using pd.concat(axis=1) instead.  To get a de-fragmented frame, use `newframe = frame.copy()`\n",
      "  iv_ok_fea = get_good_fea_list(df, full_fea, False)\n"
     ]
    },
    {
     "name": "stdout",
     "output_type": "stream",
     "text": [
      "gini use time:  1.969944715499878\n",
      "iv 用时： 0.003989219665527344\n"
     ]
    },
    {
     "name": "stderr",
     "output_type": "stream",
     "text": [
      "C:\\Users\\litia\\AppData\\Local\\Temp/ipykernel_19404/941026484.py:22: RuntimeWarning: invalid value encountered in true_divide\n",
      "  tmp_v = (freq_array - E_nums) ** 2 / E_nums\n"
     ]
    },
    {
     "name": "stdout",
     "output_type": "stream",
     "text": [
      "kf use time:  0.5206091403961182\n",
      "fea: month15_ret\tiv_gini: 0.479\t iv_iv: 0.533\t iv_kf: 0.526\n",
      "\n"
     ]
    },
    {
     "name": "stderr",
     "output_type": "stream",
     "text": [
      "C:\\Users\\litia\\AppData\\Local\\Temp/ipykernel_19404/1116350120.py:6: PerformanceWarning: DataFrame is highly fragmented.  This is usually the result of calling `frame.insert` many times, which has poor performance.  Consider joining all columns at once using pd.concat(axis=1) instead.  To get a de-fragmented frame, use `newframe = frame.copy()`\n",
      "  iv_ok_fea = get_good_fea_list(df, full_fea, False)\n"
     ]
    },
    {
     "name": "stdout",
     "output_type": "stream",
     "text": [
      "gini use time:  2.4978387355804443\n",
      "iv 用时： 0.0029938220977783203\n"
     ]
    },
    {
     "name": "stderr",
     "output_type": "stream",
     "text": [
      "C:\\Users\\litia\\AppData\\Local\\Temp/ipykernel_19404/941026484.py:22: RuntimeWarning: invalid value encountered in true_divide\n",
      "  tmp_v = (freq_array - E_nums) ** 2 / E_nums\n"
     ]
    },
    {
     "name": "stdout",
     "output_type": "stream",
     "text": [
      "kf use time:  0.3630361557006836\n",
      "fea: month15_pay\tiv_gini: 0.296\t iv_iv: 0.365\t iv_kf: 0.315\n",
      "\n"
     ]
    },
    {
     "name": "stderr",
     "output_type": "stream",
     "text": [
      "C:\\Users\\litia\\AppData\\Local\\Temp/ipykernel_19404/1116350120.py:6: PerformanceWarning: DataFrame is highly fragmented.  This is usually the result of calling `frame.insert` many times, which has poor performance.  Consider joining all columns at once using pd.concat(axis=1) instead.  To get a de-fragmented frame, use `newframe = frame.copy()`\n",
      "  iv_ok_fea = get_good_fea_list(df, full_fea, False)\n"
     ]
    },
    {
     "name": "stdout",
     "output_type": "stream",
     "text": [
      "gini use time:  0.7215924263000488\n",
      "iv 用时： 0.00398707389831543\n"
     ]
    },
    {
     "name": "stderr",
     "output_type": "stream",
     "text": [
      "C:\\Users\\litia\\AppData\\Local\\Temp/ipykernel_19404/941026484.py:22: RuntimeWarning: invalid value encountered in true_divide\n",
      "  tmp_v = (freq_array - E_nums) ** 2 / E_nums\n"
     ]
    },
    {
     "name": "stdout",
     "output_type": "stream",
     "text": [
      "kf use time:  0.59438157081604\n",
      "fea: month16_ret\tiv_gini: 0.374\t iv_iv: 0.507\t iv_kf: 0.450\n",
      "\n"
     ]
    },
    {
     "name": "stderr",
     "output_type": "stream",
     "text": [
      "C:\\Users\\litia\\AppData\\Local\\Temp/ipykernel_19404/1116350120.py:6: PerformanceWarning: DataFrame is highly fragmented.  This is usually the result of calling `frame.insert` many times, which has poor performance.  Consider joining all columns at once using pd.concat(axis=1) instead.  To get a de-fragmented frame, use `newframe = frame.copy()`\n",
      "  iv_ok_fea = get_good_fea_list(df, full_fea, False)\n"
     ]
    },
    {
     "name": "stdout",
     "output_type": "stream",
     "text": [
      "gini use time:  2.509352684020996\n",
      "iv 用时： 0.0030241012573242188\n"
     ]
    },
    {
     "name": "stderr",
     "output_type": "stream",
     "text": [
      "C:\\Users\\litia\\AppData\\Local\\Temp/ipykernel_19404/941026484.py:22: RuntimeWarning: invalid value encountered in true_divide\n",
      "  tmp_v = (freq_array - E_nums) ** 2 / E_nums\n"
     ]
    },
    {
     "name": "stdout",
     "output_type": "stream",
     "text": [
      "kf use time:  0.2732701301574707\n",
      "fea: month16_pay\tiv_gini: 0.259\t iv_iv: 0.304\t iv_kf: 0.266\n",
      "\n"
     ]
    },
    {
     "name": "stderr",
     "output_type": "stream",
     "text": [
      "C:\\Users\\litia\\AppData\\Local\\Temp/ipykernel_19404/1116350120.py:6: PerformanceWarning: DataFrame is highly fragmented.  This is usually the result of calling `frame.insert` many times, which has poor performance.  Consider joining all columns at once using pd.concat(axis=1) instead.  To get a de-fragmented frame, use `newframe = frame.copy()`\n",
      "  iv_ok_fea = get_good_fea_list(df, full_fea, False)\n"
     ]
    },
    {
     "name": "stdout",
     "output_type": "stream",
     "text": [
      "gini use time:  3.1711080074310303\n",
      "iv 用时： 0.005018949508666992\n"
     ]
    },
    {
     "name": "stderr",
     "output_type": "stream",
     "text": [
      "C:\\Users\\litia\\AppData\\Local\\Temp/ipykernel_19404/941026484.py:22: RuntimeWarning: invalid value encountered in true_divide\n",
      "  tmp_v = (freq_array - E_nums) ** 2 / E_nums\n"
     ]
    },
    {
     "name": "stdout",
     "output_type": "stream",
     "text": [
      "kf use time:  0.5157465934753418\n",
      "fea: month17_ret\tiv_gini: 0.363\t iv_iv: 0.412\t iv_kf: 0.393\n",
      "\n"
     ]
    },
    {
     "name": "stderr",
     "output_type": "stream",
     "text": [
      "C:\\Users\\litia\\AppData\\Local\\Temp/ipykernel_19404/1116350120.py:6: PerformanceWarning: DataFrame is highly fragmented.  This is usually the result of calling `frame.insert` many times, which has poor performance.  Consider joining all columns at once using pd.concat(axis=1) instead.  To get a de-fragmented frame, use `newframe = frame.copy()`\n",
      "  iv_ok_fea = get_good_fea_list(df, full_fea, False)\n"
     ]
    },
    {
     "name": "stdout",
     "output_type": "stream",
     "text": [
      "gini use time:  0.2593405246734619\n",
      "iv 用时： 0.0019609928131103516\n",
      "kf use time:  0.006981611251831055\n",
      "fea: month17_pay\tiv_gini: 0.000\t iv_iv: 0.000\t iv_kf: 0.000\n",
      "\n"
     ]
    },
    {
     "name": "stderr",
     "output_type": "stream",
     "text": [
      "C:\\Users\\litia\\AppData\\Local\\Temp/ipykernel_19404/1116350120.py:6: PerformanceWarning: DataFrame is highly fragmented.  This is usually the result of calling `frame.insert` many times, which has poor performance.  Consider joining all columns at once using pd.concat(axis=1) instead.  To get a de-fragmented frame, use `newframe = frame.copy()`\n",
      "  iv_ok_fea = get_good_fea_list(df, full_fea, False)\n"
     ]
    },
    {
     "name": "stdout",
     "output_type": "stream",
     "text": [
      "gini use time:  1.2585179805755615\n",
      "iv 用时： 0.003988027572631836\n"
     ]
    },
    {
     "name": "stderr",
     "output_type": "stream",
     "text": [
      "C:\\Users\\litia\\AppData\\Local\\Temp/ipykernel_19404/941026484.py:22: RuntimeWarning: invalid value encountered in true_divide\n",
      "  tmp_v = (freq_array - E_nums) ** 2 / E_nums\n"
     ]
    },
    {
     "name": "stdout",
     "output_type": "stream",
     "text": [
      "kf use time:  0.5137960910797119\n",
      "fea: month18_ret\tiv_gini: 0.303\t iv_iv: 0.452\t iv_kf: 0.397\n",
      "\n"
     ]
    },
    {
     "name": "stderr",
     "output_type": "stream",
     "text": [
      "C:\\Users\\litia\\AppData\\Local\\Temp/ipykernel_19404/1116350120.py:6: PerformanceWarning: DataFrame is highly fragmented.  This is usually the result of calling `frame.insert` many times, which has poor performance.  Consider joining all columns at once using pd.concat(axis=1) instead.  To get a de-fragmented frame, use `newframe = frame.copy()`\n",
      "  iv_ok_fea = get_good_fea_list(df, full_fea, False)\n"
     ]
    },
    {
     "name": "stdout",
     "output_type": "stream",
     "text": [
      "gini use time:  0.2990422248840332\n",
      "iv 用时： 0.0019948482513427734\n",
      "kf use time:  0.006981849670410156\n",
      "fea: month18_pay\tiv_gini: 0.000\t iv_iv: 0.000\t iv_kf: 0.000\n",
      "\n"
     ]
    },
    {
     "name": "stderr",
     "output_type": "stream",
     "text": [
      "C:\\Users\\litia\\AppData\\Local\\Temp/ipykernel_19404/1116350120.py:6: PerformanceWarning: DataFrame is highly fragmented.  This is usually the result of calling `frame.insert` many times, which has poor performance.  Consider joining all columns at once using pd.concat(axis=1) instead.  To get a de-fragmented frame, use `newframe = frame.copy()`\n",
      "  iv_ok_fea = get_good_fea_list(df, full_fea, False)\n"
     ]
    },
    {
     "name": "stdout",
     "output_type": "stream",
     "text": [
      "gini use time:  3.1017167568206787\n",
      "iv 用时： 0.003988981246948242\n"
     ]
    },
    {
     "name": "stderr",
     "output_type": "stream",
     "text": [
      "C:\\Users\\litia\\AppData\\Local\\Temp/ipykernel_19404/941026484.py:22: RuntimeWarning: invalid value encountered in true_divide\n",
      "  tmp_v = (freq_array - E_nums) ** 2 / E_nums\n"
     ]
    },
    {
     "name": "stdout",
     "output_type": "stream",
     "text": [
      "kf use time:  0.4636378288269043\n",
      "fea: month19_ret\tiv_gini: 0.420\t iv_iv: 0.467\t iv_kf: 0.434\n",
      "\n"
     ]
    },
    {
     "name": "stderr",
     "output_type": "stream",
     "text": [
      "C:\\Users\\litia\\AppData\\Local\\Temp/ipykernel_19404/1116350120.py:6: PerformanceWarning: DataFrame is highly fragmented.  This is usually the result of calling `frame.insert` many times, which has poor performance.  Consider joining all columns at once using pd.concat(axis=1) instead.  To get a de-fragmented frame, use `newframe = frame.copy()`\n",
      "  iv_ok_fea = get_good_fea_list(df, full_fea, False)\n"
     ]
    },
    {
     "name": "stdout",
     "output_type": "stream",
     "text": [
      "gini use time:  0.25827527046203613\n",
      "iv 用时： 0.0019958019256591797\n",
      "kf use time:  0.007978200912475586\n",
      "fea: month19_pay\tiv_gini: 0.000\t iv_iv: 0.000\t iv_kf: 0.000\n",
      "\n"
     ]
    },
    {
     "name": "stderr",
     "output_type": "stream",
     "text": [
      "C:\\Users\\litia\\AppData\\Local\\Temp/ipykernel_19404/1116350120.py:6: PerformanceWarning: DataFrame is highly fragmented.  This is usually the result of calling `frame.insert` many times, which has poor performance.  Consider joining all columns at once using pd.concat(axis=1) instead.  To get a de-fragmented frame, use `newframe = frame.copy()`\n",
      "  iv_ok_fea = get_good_fea_list(df, full_fea, False)\n"
     ]
    },
    {
     "name": "stdout",
     "output_type": "stream",
     "text": [
      "gini use time:  2.2463908195495605\n",
      "iv 用时： 0.003960847854614258\n"
     ]
    },
    {
     "name": "stderr",
     "output_type": "stream",
     "text": [
      "C:\\Users\\litia\\AppData\\Local\\Temp/ipykernel_19404/941026484.py:22: RuntimeWarning: invalid value encountered in true_divide\n",
      "  tmp_v = (freq_array - E_nums) ** 2 / E_nums\n"
     ]
    },
    {
     "name": "stdout",
     "output_type": "stream",
     "text": [
      "kf use time:  0.5578372478485107\n",
      "fea: month20_ret\tiv_gini: 0.312\t iv_iv: 0.369\t iv_kf: 0.313\n",
      "\n"
     ]
    },
    {
     "name": "stderr",
     "output_type": "stream",
     "text": [
      "C:\\Users\\litia\\AppData\\Local\\Temp/ipykernel_19404/1116350120.py:6: PerformanceWarning: DataFrame is highly fragmented.  This is usually the result of calling `frame.insert` many times, which has poor performance.  Consider joining all columns at once using pd.concat(axis=1) instead.  To get a de-fragmented frame, use `newframe = frame.copy()`\n",
      "  iv_ok_fea = get_good_fea_list(df, full_fea, False)\n"
     ]
    },
    {
     "name": "stdout",
     "output_type": "stream",
     "text": [
      "gini use time:  0.24434661865234375\n",
      "iv 用时： 0.0020127296447753906\n",
      "kf use time:  0.007960319519042969\n",
      "fea: month20_pay\tiv_gini: 0.000\t iv_iv: 0.000\t iv_kf: 0.000\n",
      "\n"
     ]
    },
    {
     "name": "stderr",
     "output_type": "stream",
     "text": [
      "C:\\Users\\litia\\AppData\\Local\\Temp/ipykernel_19404/1116350120.py:6: PerformanceWarning: DataFrame is highly fragmented.  This is usually the result of calling `frame.insert` many times, which has poor performance.  Consider joining all columns at once using pd.concat(axis=1) instead.  To get a de-fragmented frame, use `newframe = frame.copy()`\n",
      "  iv_ok_fea = get_good_fea_list(df, full_fea, False)\n"
     ]
    },
    {
     "name": "stdout",
     "output_type": "stream",
     "text": [
      "gini use time:  1.6475598812103271\n",
      "iv 用时： 0.003988742828369141\n"
     ]
    },
    {
     "name": "stderr",
     "output_type": "stream",
     "text": [
      "C:\\Users\\litia\\AppData\\Local\\Temp/ipykernel_19404/941026484.py:22: RuntimeWarning: invalid value encountered in true_divide\n",
      "  tmp_v = (freq_array - E_nums) ** 2 / E_nums\n"
     ]
    },
    {
     "name": "stdout",
     "output_type": "stream",
     "text": [
      "kf use time:  0.5745022296905518\n",
      "fea: month21_ret\tiv_gini: 0.240\t iv_iv: 0.303\t iv_kf: 0.272\n",
      "\n",
      "gini use time:  0.20940327644348145\n"
     ]
    },
    {
     "name": "stderr",
     "output_type": "stream",
     "text": [
      "C:\\Users\\litia\\AppData\\Local\\Temp/ipykernel_19404/1116350120.py:6: PerformanceWarning: DataFrame is highly fragmented.  This is usually the result of calling `frame.insert` many times, which has poor performance.  Consider joining all columns at once using pd.concat(axis=1) instead.  To get a de-fragmented frame, use `newframe = frame.copy()`\n",
      "  iv_ok_fea = get_good_fea_list(df, full_fea, False)\n"
     ]
    },
    {
     "name": "stdout",
     "output_type": "stream",
     "text": [
      "iv 用时： 0.002026796340942383\n",
      "kf use time:  0.00797891616821289\n",
      "fea: month21_pay\tiv_gini: 0.000\t iv_iv: 0.000\t iv_kf: 0.000\n",
      "\n"
     ]
    },
    {
     "name": "stderr",
     "output_type": "stream",
     "text": [
      "C:\\Users\\litia\\AppData\\Local\\Temp/ipykernel_19404/1116350120.py:6: PerformanceWarning: DataFrame is highly fragmented.  This is usually the result of calling `frame.insert` many times, which has poor performance.  Consider joining all columns at once using pd.concat(axis=1) instead.  To get a de-fragmented frame, use `newframe = frame.copy()`\n",
      "  iv_ok_fea = get_good_fea_list(df, full_fea, False)\n"
     ]
    },
    {
     "name": "stdout",
     "output_type": "stream",
     "text": [
      "gini use time:  3.8092212677001953\n",
      "iv 用时： 0.0039882659912109375\n"
     ]
    },
    {
     "name": "stderr",
     "output_type": "stream",
     "text": [
      "C:\\Users\\litia\\AppData\\Local\\Temp/ipykernel_19404/941026484.py:22: RuntimeWarning: invalid value encountered in true_divide\n",
      "  tmp_v = (freq_array - E_nums) ** 2 / E_nums\n"
     ]
    },
    {
     "name": "stdout",
     "output_type": "stream",
     "text": [
      "kf use time:  0.5708119869232178\n",
      "fea: month22_ret\tiv_gini: 0.250\t iv_iv: 0.296\t iv_kf: 0.302\n",
      "\n",
      "gini use time:  0.204453706741333\n"
     ]
    },
    {
     "name": "stderr",
     "output_type": "stream",
     "text": [
      "C:\\Users\\litia\\AppData\\Local\\Temp/ipykernel_19404/1116350120.py:6: PerformanceWarning: DataFrame is highly fragmented.  This is usually the result of calling `frame.insert` many times, which has poor performance.  Consider joining all columns at once using pd.concat(axis=1) instead.  To get a de-fragmented frame, use `newframe = frame.copy()`\n",
      "  iv_ok_fea = get_good_fea_list(df, full_fea, False)\n"
     ]
    },
    {
     "name": "stdout",
     "output_type": "stream",
     "text": [
      "iv 用时： 0.0029916763305664062\n",
      "kf use time:  0.008975982666015625\n",
      "fea: month22_pay\tiv_gini: 0.000\t iv_iv: 0.000\t iv_kf: 0.000\n",
      "\n"
     ]
    },
    {
     "name": "stderr",
     "output_type": "stream",
     "text": [
      "C:\\Users\\litia\\AppData\\Local\\Temp/ipykernel_19404/1116350120.py:6: PerformanceWarning: DataFrame is highly fragmented.  This is usually the result of calling `frame.insert` many times, which has poor performance.  Consider joining all columns at once using pd.concat(axis=1) instead.  To get a de-fragmented frame, use `newframe = frame.copy()`\n",
      "  iv_ok_fea = get_good_fea_list(df, full_fea, False)\n"
     ]
    },
    {
     "name": "stdout",
     "output_type": "stream",
     "text": [
      "gini use time:  2.261582612991333\n",
      "iv 用时： 0.004017353057861328\n"
     ]
    },
    {
     "name": "stderr",
     "output_type": "stream",
     "text": [
      "C:\\Users\\litia\\AppData\\Local\\Temp/ipykernel_19404/941026484.py:22: RuntimeWarning: invalid value encountered in true_divide\n",
      "  tmp_v = (freq_array - E_nums) ** 2 / E_nums\n"
     ]
    },
    {
     "name": "stdout",
     "output_type": "stream",
     "text": [
      "kf use time:  0.46926116943359375\n",
      "fea: month23_ret\tiv_gini: 0.272\t iv_iv: 0.343\t iv_kf: 0.287\n",
      "\n"
     ]
    },
    {
     "name": "stderr",
     "output_type": "stream",
     "text": [
      "C:\\Users\\litia\\AppData\\Local\\Temp/ipykernel_19404/1116350120.py:6: PerformanceWarning: DataFrame is highly fragmented.  This is usually the result of calling `frame.insert` many times, which has poor performance.  Consider joining all columns at once using pd.concat(axis=1) instead.  To get a de-fragmented frame, use `newframe = frame.copy()`\n",
      "  iv_ok_fea = get_good_fea_list(df, full_fea, False)\n"
     ]
    },
    {
     "name": "stdout",
     "output_type": "stream",
     "text": [
      "gini use time:  0.24531340599060059\n",
      "iv 用时： 0.0019941329956054688\n",
      "kf use time:  0.008015155792236328\n",
      "fea: month23_pay\tiv_gini: 0.000\t iv_iv: 0.000\t iv_kf: 0.000\n",
      "\n"
     ]
    },
    {
     "name": "stderr",
     "output_type": "stream",
     "text": [
      "C:\\Users\\litia\\AppData\\Local\\Temp/ipykernel_19404/1116350120.py:6: PerformanceWarning: DataFrame is highly fragmented.  This is usually the result of calling `frame.insert` many times, which has poor performance.  Consider joining all columns at once using pd.concat(axis=1) instead.  To get a de-fragmented frame, use `newframe = frame.copy()`\n",
      "  iv_ok_fea = get_good_fea_list(df, full_fea, False)\n"
     ]
    },
    {
     "name": "stdout",
     "output_type": "stream",
     "text": [
      "gini use time:  1.2766432762145996\n",
      "iv 用时： 0.003988742828369141\n"
     ]
    },
    {
     "name": "stderr",
     "output_type": "stream",
     "text": [
      "C:\\Users\\litia\\AppData\\Local\\Temp/ipykernel_19404/941026484.py:22: RuntimeWarning: invalid value encountered in true_divide\n",
      "  tmp_v = (freq_array - E_nums) ** 2 / E_nums\n"
     ]
    },
    {
     "name": "stdout",
     "output_type": "stream",
     "text": [
      "kf use time:  0.5805408954620361\n",
      "fea: month24_ret\tiv_gini: 0.254\t iv_iv: 0.334\t iv_kf: 0.349\n",
      "\n",
      "gini use time:  0.13361215591430664\n",
      "iv 用时： 0.001993894577026367\n",
      "kf use time:  0.008013010025024414\n",
      "fea: month24_pay\tiv_gini: 0.000\t iv_iv: 0.000\t iv_kf: 0.000\n",
      "\n"
     ]
    },
    {
     "name": "stderr",
     "output_type": "stream",
     "text": [
      "C:\\Users\\litia\\AppData\\Local\\Temp/ipykernel_19404/1116350120.py:6: PerformanceWarning: DataFrame is highly fragmented.  This is usually the result of calling `frame.insert` many times, which has poor performance.  Consider joining all columns at once using pd.concat(axis=1) instead.  To get a de-fragmented frame, use `newframe = frame.copy()`\n",
      "  iv_ok_fea = get_good_fea_list(df, full_fea, False)\n",
      "C:\\Users\\litia\\AppData\\Local\\Temp/ipykernel_19404/1116350120.py:6: PerformanceWarning: DataFrame is highly fragmented.  This is usually the result of calling `frame.insert` many times, which has poor performance.  Consider joining all columns at once using pd.concat(axis=1) instead.  To get a de-fragmented frame, use `newframe = frame.copy()`\n",
      "  iv_ok_fea = get_good_fea_list(df, full_fea, False)\n"
     ]
    },
    {
     "name": "stdout",
     "output_type": "stream",
     "text": [
      "gini use time:  1.2938206195831299\n",
      "iv 用时： 0.003988981246948242\n"
     ]
    },
    {
     "name": "stderr",
     "output_type": "stream",
     "text": [
      "C:\\Users\\litia\\AppData\\Local\\Temp/ipykernel_19404/941026484.py:22: RuntimeWarning: invalid value encountered in true_divide\n",
      "  tmp_v = (freq_array - E_nums) ** 2 / E_nums\n"
     ]
    },
    {
     "name": "stdout",
     "output_type": "stream",
     "text": [
      "kf use time:  0.569711446762085\n",
      "fea: month25_ret\tiv_gini: 0.191\t iv_iv: 0.298\t iv_kf: 0.233\n",
      "\n",
      "gini use time:  0.13261699676513672\n",
      "iv 用时： 0.0009975433349609375\n",
      "kf use time:  0.008985042572021484\n",
      "fea: month25_pay\tiv_gini: 0.000\t iv_iv: 0.000\t iv_kf: 0.000\n",
      "\n"
     ]
    },
    {
     "name": "stderr",
     "output_type": "stream",
     "text": [
      "C:\\Users\\litia\\AppData\\Local\\Temp/ipykernel_19404/1116350120.py:6: PerformanceWarning: DataFrame is highly fragmented.  This is usually the result of calling `frame.insert` many times, which has poor performance.  Consider joining all columns at once using pd.concat(axis=1) instead.  To get a de-fragmented frame, use `newframe = frame.copy()`\n",
      "  iv_ok_fea = get_good_fea_list(df, full_fea, False)\n",
      "C:\\Users\\litia\\AppData\\Local\\Temp/ipykernel_19404/1116350120.py:6: PerformanceWarning: DataFrame is highly fragmented.  This is usually the result of calling `frame.insert` many times, which has poor performance.  Consider joining all columns at once using pd.concat(axis=1) instead.  To get a de-fragmented frame, use `newframe = frame.copy()`\n",
      "  iv_ok_fea = get_good_fea_list(df, full_fea, False)\n"
     ]
    },
    {
     "name": "stdout",
     "output_type": "stream",
     "text": [
      "gini use time:  2.5888867378234863\n",
      "iv 用时： 0.003988027572631836\n"
     ]
    },
    {
     "name": "stderr",
     "output_type": "stream",
     "text": [
      "C:\\Users\\litia\\AppData\\Local\\Temp/ipykernel_19404/941026484.py:22: RuntimeWarning: invalid value encountered in true_divide\n",
      "  tmp_v = (freq_array - E_nums) ** 2 / E_nums\n"
     ]
    },
    {
     "name": "stdout",
     "output_type": "stream",
     "text": [
      "kf use time:  0.5716531276702881\n",
      "fea: month26_ret\tiv_gini: 0.210\t iv_iv: 0.256\t iv_kf: 0.264\n",
      "\n",
      "gini use time:  0.1356062889099121\n",
      "iv 用时： 0.0019931793212890625\n",
      "kf use time:  0.006982088088989258\n",
      "fea: month26_pay\tiv_gini: 0.000\t iv_iv: 0.000\t iv_kf: 0.000\n",
      "\n"
     ]
    },
    {
     "name": "stderr",
     "output_type": "stream",
     "text": [
      "C:\\Users\\litia\\AppData\\Local\\Temp/ipykernel_19404/1116350120.py:6: PerformanceWarning: DataFrame is highly fragmented.  This is usually the result of calling `frame.insert` many times, which has poor performance.  Consider joining all columns at once using pd.concat(axis=1) instead.  To get a de-fragmented frame, use `newframe = frame.copy()`\n",
      "  iv_ok_fea = get_good_fea_list(df, full_fea, False)\n",
      "C:\\Users\\litia\\AppData\\Local\\Temp/ipykernel_19404/1116350120.py:6: PerformanceWarning: DataFrame is highly fragmented.  This is usually the result of calling `frame.insert` many times, which has poor performance.  Consider joining all columns at once using pd.concat(axis=1) instead.  To get a de-fragmented frame, use `newframe = frame.copy()`\n",
      "  iv_ok_fea = get_good_fea_list(df, full_fea, False)\n"
     ]
    },
    {
     "name": "stdout",
     "output_type": "stream",
     "text": [
      "gini use time:  2.867316246032715\n",
      "iv 用时： 0.004984378814697266\n"
     ]
    },
    {
     "name": "stderr",
     "output_type": "stream",
     "text": [
      "C:\\Users\\litia\\AppData\\Local\\Temp/ipykernel_19404/941026484.py:22: RuntimeWarning: invalid value encountered in true_divide\n",
      "  tmp_v = (freq_array - E_nums) ** 2 / E_nums\n"
     ]
    },
    {
     "name": "stdout",
     "output_type": "stream",
     "text": [
      "kf use time:  0.47077441215515137\n",
      "fea: month27_ret\tiv_gini: 0.352\t iv_iv: 0.426\t iv_kf: 0.418\n",
      "\n",
      "gini use time:  0.13788747787475586\n",
      "iv 用时： 0.0009982585906982422\n",
      "kf use time:  0.007979154586791992\n",
      "fea: month27_pay\tiv_gini: 0.000\t iv_iv: 0.000\t iv_kf: 0.000\n",
      "\n"
     ]
    },
    {
     "name": "stderr",
     "output_type": "stream",
     "text": [
      "C:\\Users\\litia\\AppData\\Local\\Temp/ipykernel_19404/1116350120.py:6: PerformanceWarning: DataFrame is highly fragmented.  This is usually the result of calling `frame.insert` many times, which has poor performance.  Consider joining all columns at once using pd.concat(axis=1) instead.  To get a de-fragmented frame, use `newframe = frame.copy()`\n",
      "  iv_ok_fea = get_good_fea_list(df, full_fea, False)\n",
      "C:\\Users\\litia\\AppData\\Local\\Temp/ipykernel_19404/1116350120.py:6: PerformanceWarning: DataFrame is highly fragmented.  This is usually the result of calling `frame.insert` many times, which has poor performance.  Consider joining all columns at once using pd.concat(axis=1) instead.  To get a de-fragmented frame, use `newframe = frame.copy()`\n",
      "  iv_ok_fea = get_good_fea_list(df, full_fea, False)\n"
     ]
    },
    {
     "name": "stdout",
     "output_type": "stream",
     "text": [
      "gini use time:  2.689575433731079\n",
      "iv 用时： 0.004952192306518555\n"
     ]
    },
    {
     "name": "stderr",
     "output_type": "stream",
     "text": [
      "C:\\Users\\litia\\AppData\\Local\\Temp/ipykernel_19404/941026484.py:22: RuntimeWarning: invalid value encountered in true_divide\n",
      "  tmp_v = (freq_array - E_nums) ** 2 / E_nums\n"
     ]
    },
    {
     "name": "stdout",
     "output_type": "stream",
     "text": [
      "kf use time:  0.47994160652160645\n",
      "fea: month28_ret\tiv_gini: 0.321\t iv_iv: 0.363\t iv_kf: 0.355\n",
      "\n",
      "gini use time:  0.13460779190063477\n",
      "iv 用时： 0.0019943714141845703\n",
      "kf use time:  0.006981372833251953\n",
      "fea: month28_pay\tiv_gini: 0.000\t iv_iv: 0.000\t iv_kf: 0.000\n",
      "\n"
     ]
    },
    {
     "name": "stderr",
     "output_type": "stream",
     "text": [
      "C:\\Users\\litia\\AppData\\Local\\Temp/ipykernel_19404/1116350120.py:6: PerformanceWarning: DataFrame is highly fragmented.  This is usually the result of calling `frame.insert` many times, which has poor performance.  Consider joining all columns at once using pd.concat(axis=1) instead.  To get a de-fragmented frame, use `newframe = frame.copy()`\n",
      "  iv_ok_fea = get_good_fea_list(df, full_fea, False)\n",
      "C:\\Users\\litia\\AppData\\Local\\Temp/ipykernel_19404/1116350120.py:6: PerformanceWarning: DataFrame is highly fragmented.  This is usually the result of calling `frame.insert` many times, which has poor performance.  Consider joining all columns at once using pd.concat(axis=1) instead.  To get a de-fragmented frame, use `newframe = frame.copy()`\n",
      "  iv_ok_fea = get_good_fea_list(df, full_fea, False)\n"
     ]
    },
    {
     "name": "stdout",
     "output_type": "stream",
     "text": [
      "gini use time:  2.0085432529449463\n",
      "iv 用时： 0.003988504409790039\n"
     ]
    },
    {
     "name": "stderr",
     "output_type": "stream",
     "text": [
      "C:\\Users\\litia\\AppData\\Local\\Temp/ipykernel_19404/941026484.py:22: RuntimeWarning: invalid value encountered in true_divide\n",
      "  tmp_v = (freq_array - E_nums) ** 2 / E_nums\n"
     ]
    },
    {
     "name": "stdout",
     "output_type": "stream",
     "text": [
      "kf use time:  0.4637620449066162\n",
      "fea: month29_ret\tiv_gini: 0.324\t iv_iv: 0.381\t iv_kf: 0.335\n",
      "\n",
      "gini use time:  0.13763213157653809\n",
      "iv 用时： 0.0009968280792236328\n",
      "kf use time:  0.007966279983520508\n",
      "fea: month29_pay\tiv_gini: 0.000\t iv_iv: 0.000\t iv_kf: 0.000\n",
      "\n"
     ]
    },
    {
     "name": "stderr",
     "output_type": "stream",
     "text": [
      "C:\\Users\\litia\\AppData\\Local\\Temp/ipykernel_19404/1116350120.py:6: PerformanceWarning: DataFrame is highly fragmented.  This is usually the result of calling `frame.insert` many times, which has poor performance.  Consider joining all columns at once using pd.concat(axis=1) instead.  To get a de-fragmented frame, use `newframe = frame.copy()`\n",
      "  iv_ok_fea = get_good_fea_list(df, full_fea, False)\n",
      "C:\\Users\\litia\\AppData\\Local\\Temp/ipykernel_19404/1116350120.py:6: PerformanceWarning: DataFrame is highly fragmented.  This is usually the result of calling `frame.insert` many times, which has poor performance.  Consider joining all columns at once using pd.concat(axis=1) instead.  To get a de-fragmented frame, use `newframe = frame.copy()`\n",
      "  iv_ok_fea = get_good_fea_list(df, full_fea, False)\n"
     ]
    },
    {
     "name": "stdout",
     "output_type": "stream",
     "text": [
      "gini use time:  2.955507278442383\n",
      "iv 用时： 0.004023313522338867\n"
     ]
    },
    {
     "name": "stderr",
     "output_type": "stream",
     "text": [
      "C:\\Users\\litia\\AppData\\Local\\Temp/ipykernel_19404/941026484.py:22: RuntimeWarning: invalid value encountered in true_divide\n",
      "  tmp_v = (freq_array - E_nums) ** 2 / E_nums\n"
     ]
    },
    {
     "name": "stdout",
     "output_type": "stream",
     "text": [
      "kf use time:  0.46379923820495605\n",
      "fea: month30_ret\tiv_gini: 0.369\t iv_iv: 0.433\t iv_kf: 0.381\n",
      "\n",
      "gini use time:  0.1376645565032959\n",
      "iv 用时： 0.0019943714141845703\n",
      "kf use time:  0.006983280181884766\n",
      "fea: month30_pay\tiv_gini: 0.000\t iv_iv: 0.000\t iv_kf: 0.000\n",
      "\n"
     ]
    },
    {
     "name": "stderr",
     "output_type": "stream",
     "text": [
      "C:\\Users\\litia\\AppData\\Local\\Temp/ipykernel_19404/1116350120.py:6: PerformanceWarning: DataFrame is highly fragmented.  This is usually the result of calling `frame.insert` many times, which has poor performance.  Consider joining all columns at once using pd.concat(axis=1) instead.  To get a de-fragmented frame, use `newframe = frame.copy()`\n",
      "  iv_ok_fea = get_good_fea_list(df, full_fea, False)\n",
      "C:\\Users\\litia\\AppData\\Local\\Temp/ipykernel_19404/1116350120.py:6: PerformanceWarning: DataFrame is highly fragmented.  This is usually the result of calling `frame.insert` many times, which has poor performance.  Consider joining all columns at once using pd.concat(axis=1) instead.  To get a de-fragmented frame, use `newframe = frame.copy()`\n",
      "  iv_ok_fea = get_good_fea_list(df, full_fea, False)\n"
     ]
    },
    {
     "name": "stdout",
     "output_type": "stream",
     "text": [
      "gini use time:  2.017165184020996\n",
      "iv 用时： 0.004021167755126953\n"
     ]
    },
    {
     "name": "stderr",
     "output_type": "stream",
     "text": [
      "C:\\Users\\litia\\AppData\\Local\\Temp/ipykernel_19404/941026484.py:22: RuntimeWarning: invalid value encountered in true_divide\n",
      "  tmp_v = (freq_array - E_nums) ** 2 / E_nums\n"
     ]
    },
    {
     "name": "stdout",
     "output_type": "stream",
     "text": [
      "kf use time:  0.39893388748168945\n",
      "fea: month31_ret\tiv_gini: 0.282\t iv_iv: 0.350\t iv_kf: 0.338\n",
      "\n",
      "gini use time:  0.1377549171447754\n",
      "iv 用时： 0.001989603042602539\n",
      "kf use time:  0.007978677749633789\n",
      "fea: month31_pay\tiv_gini: 0.000\t iv_iv: 0.000\t iv_kf: 0.000\n",
      "\n"
     ]
    },
    {
     "name": "stderr",
     "output_type": "stream",
     "text": [
      "C:\\Users\\litia\\AppData\\Local\\Temp/ipykernel_19404/1116350120.py:6: PerformanceWarning: DataFrame is highly fragmented.  This is usually the result of calling `frame.insert` many times, which has poor performance.  Consider joining all columns at once using pd.concat(axis=1) instead.  To get a de-fragmented frame, use `newframe = frame.copy()`\n",
      "  iv_ok_fea = get_good_fea_list(df, full_fea, False)\n",
      "C:\\Users\\litia\\AppData\\Local\\Temp/ipykernel_19404/1116350120.py:6: PerformanceWarning: DataFrame is highly fragmented.  This is usually the result of calling `frame.insert` many times, which has poor performance.  Consider joining all columns at once using pd.concat(axis=1) instead.  To get a de-fragmented frame, use `newframe = frame.copy()`\n",
      "  iv_ok_fea = get_good_fea_list(df, full_fea, False)\n"
     ]
    },
    {
     "name": "stdout",
     "output_type": "stream",
     "text": [
      "gini use time:  0.2882354259490967\n",
      "iv 用时： 0.001994609832763672\n",
      "kf use time:  0.017951488494873047\n",
      "fea: ret_non0_month\tiv_gini: 0.483\t iv_iv: 0.608\t iv_kf: 0.613\n",
      "\n"
     ]
    },
    {
     "name": "stderr",
     "output_type": "stream",
     "text": [
      "C:\\Users\\litia\\AppData\\Local\\Temp/ipykernel_19404/1116350120.py:6: PerformanceWarning: DataFrame is highly fragmented.  This is usually the result of calling `frame.insert` many times, which has poor performance.  Consider joining all columns at once using pd.concat(axis=1) instead.  To get a de-fragmented frame, use `newframe = frame.copy()`\n",
      "  iv_ok_fea = get_good_fea_list(df, full_fea, False)\n"
     ]
    },
    {
     "name": "stdout",
     "output_type": "stream",
     "text": [
      "gini use time:  0.2881968021392822\n",
      "iv 用时： 0.0020225048065185547\n",
      "kf use time:  0.009944677352905273\n",
      "fea: pay_non0_month\tiv_gini: 0.344\t iv_iv: 0.379\t iv_kf: 0.395\n",
      "\n",
      "gini use time:  0.1735367774963379\n"
     ]
    },
    {
     "name": "stderr",
     "output_type": "stream",
     "text": [
      "C:\\Users\\litia\\AppData\\Local\\Temp/ipykernel_19404/1116350120.py:6: PerformanceWarning: DataFrame is highly fragmented.  This is usually the result of calling `frame.insert` many times, which has poor performance.  Consider joining all columns at once using pd.concat(axis=1) instead.  To get a de-fragmented frame, use `newframe = frame.copy()`\n",
      "  iv_ok_fea = get_good_fea_list(df, full_fea, False)\n"
     ]
    },
    {
     "name": "stdout",
     "output_type": "stream",
     "text": [
      "iv 用时： 0.0019958019256591797\n",
      "kf use time:  0.009009361267089844\n",
      "fea: min_tax_pay\tiv_gini: 0.000\t iv_iv: 0.000\t iv_kf: 0.000\n",
      "\n"
     ]
    },
    {
     "name": "stderr",
     "output_type": "stream",
     "text": [
      "C:\\Users\\litia\\AppData\\Local\\Temp/ipykernel_19404/1116350120.py:6: PerformanceWarning: DataFrame is highly fragmented.  This is usually the result of calling `frame.insert` many times, which has poor performance.  Consider joining all columns at once using pd.concat(axis=1) instead.  To get a de-fragmented frame, use `newframe = frame.copy()`\n",
      "  iv_ok_fea = get_good_fea_list(df, full_fea, False)\n"
     ]
    },
    {
     "name": "stdout",
     "output_type": "stream",
     "text": [
      "gini use time:  3.910290479660034\n",
      "iv 用时： 0.003988504409790039\n"
     ]
    },
    {
     "name": "stderr",
     "output_type": "stream",
     "text": [
      "C:\\Users\\litia\\AppData\\Local\\Temp/ipykernel_19404/941026484.py:22: RuntimeWarning: invalid value encountered in true_divide\n",
      "  tmp_v = (freq_array - E_nums) ** 2 / E_nums\n"
     ]
    },
    {
     "name": "stdout",
     "output_type": "stream",
     "text": [
      "kf use time:  0.6070687770843506\n",
      "fea: max_tax_pay\tiv_gini: 0.291\t iv_iv: 0.368\t iv_kf: 0.319\n",
      "\n",
      "iv0.02-0.5 fea: [['fea_1', 0.3630718887642242, [-0.001, 334.5, 69057.78125, 266379.90625, 520957.03125, 991856.40625, 2188622.25, 3272418.0, 6427760.25, 30590923.0, 39711450000.1]], ['fea_2', 0.029896468478868003, [-1.001, 68793.0, 939054.0]], ['fea_3', 0.06162699770773533, [-1.001, 2427.2, 238290.7, 977000.0]], ['fea_5', 0.35956342795237006, [-0.001, 600.6799926757812, 2485.22509765625, 6478.574951171875, 12964.90966796875, 21387.9599609375, 36665.33984375, 72642.12890625, 8911979.1]], ['fea_6', 0.13813386307826472, [-1.001, 12.48, 189.85, 241.52, 721.31, 1107.2, 1241.4, 3134.75, 4348.94, 4966.16, 8417.91, 21824984.0]], ['fea_8', 0.09339593823256592, [-1.001, 5600.0, 16059.8, 36170.95, 755299.1]], ['fea_9', 0.0004950400945530624, [-1.001, 50, 1800]], ['fea_10', 0.001563786727148738, [-1.001, 113.76, 5222.45, 99246.55]], ['fea_12', 0.3007385352793461, [-0.001, 106.32048416137695, 20996.177734375, 75403.09375, 153054.953125, 287958.3125, 446278.59375, 635406.5, 4501794.5, 9443371.0, 11529131000.1]], ['fea_13', 0.0307863632364683, [-1.001, 870.9677, 53479.066, 942740.06]], ['fea_14', 0.06253185322534482, [-1.001, 20016.523, 62354.6, 158808.92, 1153818.5]], ['fea_16', 0.4588652136791909, [-1.001, 12.131075, 205.14645, 1585.4391, 5198.2417, 5344.878, 6846.4873, 6994.173, 151512.2, 555717.0, 791342.4, 3846167.8]], ['fea_17', 0.15609695353956385, [-1.001, 7.417742, 174.08806, 196.84451, 329.2113, 486.3542, 675.15967, 1315.9481, 1445.3245, 5230.3296, 6181.1943, 6336286.0]], ['fea_19', 0.0952419912919279, [-1.001, 1891.9354, 3459.063, 6806.253, 11272.654, 24183.871, 334108.06]], ['fea_20', 0.00904690490541509, [-1.001, 14.5161295, 70.96774, 645.1613]], ['fea_21', 0.03239010581915696, [-1.001, 586.7613, 5664.62, 84397.38]], ['fea_23', 0.07210658732056284, [-1.001, 1171.6963, 8955.776, 23671.951, 48108.195, 92038.21, 170930.58, 249179.25, 590555.75, 868039.8, 2063780.4, 32141662.0]], ['fea_24', 0.0006829670910439619, [-1.001, 60509.676, 931223.7]], ['fea_25', 0.06465321426751863, [-1.001, 17548.387, 47275.97, 97491.02, 221838.7, 4700772.0]], ['fea_27', 0.3739373930234158, [-0.001, 229.37193298339844, 803.5595092773438, 2217.295166015625, 4795.797119140625, 7167.784912109375, 11025.66015625, 16668.3486328125, 26164.1962890625, 49787.294921875, 5581736.1]], ['fea_28', 0.0929267361639595, [-1.001, 72.3871, 240.0, 1013.97034, 2273.4204, 6585.3154, 495688.97]], ['fea_30', 0.0360083163817995, [-1.001, 2412.1877, 3975.1897, 5587.815, 8444.447, 15781.64, 35434.242, 843024.5]], ['fea_31', 0.007510608223554967, [-1.001, 70.96774, 209.67741, 838.70966]], ['fea_32', 0.001563786727148738, [-1.001, 480.07742, 3496.3691, 90828.336]], ['fea_34', 0.2752841808810122, [-27100.311, 0.0, 256.64258, 1023.4348, 27701.512, 35866.996, 51354.082, 59257.5, 140887.78, 828060.2, 871822.3, 637649300.0]], ['fea_35', 0.001563786727148738, [-1.001, 3067.6128, 49546.97, 1068497.1]], ['fea_36', 0.06465321426751863, [-1.001, 3176.1807, 30148.896, 111588.125, 300223.38, 7109401.5]], ['fea_38', 0.42068970545547046, [-0.001, 77.15467834472656, 708.6856689453125, 2434.5723876953125, 4191.091552734375, 6310.802490234375, 10997.42626953125, 17220.376953125, 45794.369140625, 103322.5625, 6528616.1]], ['fea_39', 0.10421117666156673, [-0.001, 37.98193550109863, 240.0819320678711, 685.5942077636719, 3456618.1]], ['fea_41', 0.0658082081011899, [-1.001, 819.41034, 2022.6094, 4332.5073, 8099.26, 12183.872, 24104.215, 46867.33, 1356454.4]], ['fea_42', 0.007494224939584394, [-1.001, 87.09677, 283.87097, 1741.9354]], ['fea_43', 0.030114976560613974, [-1.001, 328.7071, 3206.6128, 112596.54]], ['fea_45', 0.347950025865815, [-176145.52099999998, 27.919355392456055, 55005.658203125, 238770.375, 422262.4375, 781176.78125, 1105587.0625, 2618780.0, 3960517.375, 11717128.5, 4144720400.1]], ['fea_46', 0.03239010581915696, [-1.001, 2370.0173, 121673.766, 961024.5]], ['fea_47', 0.03418736724752568, [-1.001, 5307.4194, 30161.291, 69390.65, 181935.5, 3161290.5]], ['fea_49', 0.4605664660872182, [-1.001, 10.782258, 170.78226, 4891.0073, 5606.0884, 6800.029, 7029.8003, 18995.367, 21215.54, 70746.98, 75019.99, 5840271.0]], ['fea_50', 0.12201929487383303, [-0.001, 68.5603256225586, 1535.471923828125, 5079.14599609375, 22468016.1]], ['fea_52', 0.03621024233472424, [-1.001, 800.0, 1651.5032, 3032.258, 5638.2695, 8532.258, 14114.695, 35827.957, 746355.1]], ['fea_53', 0.00883857202544524, [-1.001, 32.258064, 167.74193, 2516.1292]], ['fea_54', 0.0307863632364683, [-1.001, 436.61612, 5856.92, 130087.64]], ['fea_56', 0.3629293663977189, [-94847.587, 2043.8441772460938, 34620.923828125, 128568.6640625, 229346.0546875, 357973.875, 585722.875, 831787.0625, 1410112.375, 6309223.0, 2231772700.1]], ['fea_57', 0.03239010581915696, [-1.001, 1276.1632, 71930.06, 799599.06]], ['fea_58', 0.06499989074913842, [-1.001, 11116.632, 43385.73, 116509.45, 329969.72, 3112645.2]], ['fea_60', 0.44493289372843714, [-0.001, 175.3319320678711, 1518.3387451171875, 3553.04248046875, 5657.218994140625, 8327.45068359375, 12718.755859375, 19610.5732421875, 39470.08203125, 77058.828125, 6309881.6]], ['fea_61', 0.1594248806567665, [-1.001, 1.9632258, 139.42194, 249.81775, 317.9355, 421.7316, 4541.341, 6932.94, 9026.473, 22485.273, 28829.516, 12098163.0]], ['fea_63', 0.06315751654700787, [-1.001, 1940.4458, 3228.8647, 4907.121, 8484.19, 19025.807, 44214.215, 1016759.7]], ['fea_64', 0.0028936840623588825, [-1.001, 27.419355, 109.67742, 225.80646, 1354.8387]], ['fea_65', 0.0307863632364683, [-1.001, 577.91675, 6097.589, 88308.555]], ['fea_67', 0.05443254132166929, [-1.001, 868.0103, 8017.538, 31364.295, 63084.246, 122400.27, 221148.4, 467999.72, 982342.4, 61354148.0]], ['fea_68', 0.0006829670910439619, [-1.001, 49910.793, 860784.94]], ['fea_69', 0.06499989074913842, [-1.001, 9806.451, 43848.902, 116658.4, 259360.39, 4211226.0]], ['fea_71', 0.3866914812350567, [-0.001, 9.71483850479126, 861.0604858398438, 2586.1826171875, 5362.273193359375, 8401.4443359375, 13205.3486328125, 24223.77734375, 42689.462890625, 101903.09375, 29180898.1]], ['fea_72', 0.17207443214086243, [-1.001, 3.8670967, 95.08645, 152.02258, 176.58806, 240.49838, 398.96097, 441.51096, 1546.1119, 1694.87, 9280.841, 7189537.0]], ['fea_74', 0.06998408971372799, [-1.001, 2083.1248, 3612.9033, 5884.3125, 9274.193, 18933.064, 42983.188, 982384.44]], ['fea_75', 0.035617289509780055, [-1.001, 12.903226, 51.612904, 148.3871, 258.0645, 2580.6453]], ['fea_76', 0.032408986443064156, [-1.001, 474.2342, 4259.5635, 78190.7]], ['fea_78', 0.07774659626118785, [-1.001, 280.10565, 3914.8137, 12483.594, 41648.51, 110907.87, 180728.75, 310084.9, 594069.25, 1055786.8, 2435955.0, 129745400.0]], ['fea_79', 0.0006829670910439619, [-1.001, 40838.71, 2175083.2]], ['fea_80', 0.03418736724752568, [-1.001, 1543.9774, 11304.113, 56079.387, 228728.94, 4821032.0]], ['fea_82', 0.4093647229000239, [-0.001, 0.018225805833935738, 244.73145294189453, 1132.8843994140625, 2613.3756103515625, 6220.6806640625, 10548.4658203125, 15735.82177734375, 26527.609375, 47807.517578125, 109428370.1]], ['fea_83', 0.13556090917194064, [-1.001, 0.3116129, 1.8129033, 5.0990324, 7.0422583, 63.203224, 72.340324, 115.270325, 274.52902, 1548.3173, 2032.9207, 1765329.5]], ['fea_85', 0.03460632671354263, [-1.001, 193.96193, 678.5219, 2600.8362, 8668.326, 17424.22, 49611.25, 804137.3]], ['fea_86', 0.03047397367091733, [-1.001, 6.451613, 25.806452, 96.77419, 262.3656, 9677.419]], ['fea_87', 0.001563786727148738, [-1.001, 249.94838, 2759.185, 96660.47]], ['fea_89', 0.36568219723470563, [-0.001, 14.6458063647151, 145021.3046875, 351648.625, 929157.71875, 1427710.0625, 2036546.5, 3035189.5, 4579083.5, 11920342.5, 70518920000.1]], ['fea_90', 0.0006829670910439619, [-1.001, 69838.055, 3024342.0]], ['fea_91', 0.033497668015467996, [-1.001, 4124.619, 36580.645, 66749.336, 217259.45, 3852439.2]], ['fea_93', 0.4260252460950654, [-0.001, 508.8808135986328, 1493.9172973632812, 3605.4085693359375, 5641.578125, 8192.29296875, 12735.08837890625, 20630.1142578125, 32762.6494140625, 70408.3203125, 200432420.1]], ['fea_94', 0.18936737799007555, [-1.001, 0.716129, 13.528065, 136.53387, 204.62129, 234.91548, 917.5103, 994.7294, 3500.9846, 15351.122, 28261.244, 33749404.0]], ['fea_96', 0.0702157900771557, [-1.001, 2420.1824, 4516.129, 6706.4517, 10725.391, 21270.967, 39710.79, 846286.94]], ['fea_97', 0.022892407861483527, [-1.001, 16.129032, 43.010754, 80.645164, 187.09677, 3225.8064]], ['fea_98', 0.030114976560613974, [-1.001, 210.23871, 3673.5483, 77128.36]], ['fea_100', 0.3635370373938918, [-0.001, 13.250968027859926, 28102.701171875, 131209.75, 266124.953125, 584168.625, 837631.4375, 1354060.625, 4142980.5, 10785072.0, 63802830000.1]], ['fea_101', 0.0006829670910439619, [-1.001, 86910.97, 2829498.5]], ['fea_102', 0.0026674547433680187, [-1.001, 27096.773, 43950.92, 82315.98, 248985.38, 3774877.2]], ['fea_104', 0.39071946219344605, [-1.001, 20.934193, 581.7126, 4812.682, 5086.5874, 5831.4233, 6007.9834, 11792.143, 12111.862, 38445.035, 40824.61, 303235940.0]], ['fea_105', 0.13317454904653392, [-1.001, 7.1096773, 30.185484, 126.36226, 421.7632, 1924.1962, 2391.5974, 3036.8865, 3421.14, 13051.247, 24516.129, 30535174.0]], ['fea_107', 0.06597300909856012, [-1.001, 1521.6917, 3096.7742, 5228.2876, 6674.0825, 11632.258, 22258.064, 40161.29, 812758.94]], ['fea_108', 0.03559495252481712, [-1.001, 38.70968, 77.41936, 193.54839, 2709.6775]], ['fea_109', 0.030114976560613974, [-1.001, 195.67549, 4505.2944, 117640.31]], ['fea_111', 0.05210193159194964, [-1.001, 551.32, 9431.794, 26682.209, 60413.402, 195040.5, 335629.16, 575141.7, 1150008.5, 29474936.0]], ['fea_112', 0.0006829670910439619, [-1.001, 30529.033, 1025708.4]], ['fea_113', 0.0343959133841951, [-1.001, 2332.5098, 17032.258, 42922.555, 89330.02, 212682.67, 3345696.2]], ['fea_115', 0.40531509018233747, [-0.001, 240.13129425048828, 1023.3105163574219, 1953.687255859375, 4572.48828125, 9648.13671875, 16582.556640625, 26952.580078125, 48808.037109375, 142500.2265625, 387491040.1]], ['fea_116', 0.044434342334879924, [-1.001, 87.38258, 814.6419, 10298.187, 51393616.0]], ['fea_118', 0.06476143216818947, [-1.001, 470.2229, 1422.5807, 3219.196, 6340.378, 12109.182, 21268.268, 40103.227, 757540.6]], ['fea_119', 0.032929097426362505, [-1.001, 29.032259, 90.32258, 219.35484, 6322.5806]], ['fea_120', 0.030114976560613974, [-1.001, 203.2258, 2408.7097, 202866.88]], ['fea_122', 0.051278170763851036, [-1.001, 4895.8394, 24857.152, 53428.79, 109614.78, 195281.02, 404131.56, 716999.9, 1252910.1, 3847371.8, 381670660.0]], ['fea_123', 0.029896468478868003, [-1.001, 32405.807, 1523160.5]], ['fea_124', 0.06294710321766034, [-1.001, 5225.8066, 20016.541, 45561.047, 98083.79, 242924.7, 2600772.2]], ['fea_126', 0.4031644333779636, [-0.001, 112.85338973999023, 1406.1217651367188, 2375.1246337890625, 5421.587890625, 9411.99267578125, 18243.23828125, 26930.685546875, 44268.18359375, 131275.9375, 294701540.1]], ['fea_127', 0.013487462606931802, [-1.001, 6.3251615, 240.0, 887.2277, 12988.725, 11012918.0]], ['fea_129', 0.06476143216818947, [-1.001, 1047.8091, 2471.5725, 4086.207, 6258.613, 10357.922, 16749.383, 32983.87, 754498.8]], ['fea_130', 0.006019485723718747, [-1.001, 9.67742, 38.70968, 90.32258, 290.32257, 2419.3547]], ['fea_131', 0.0307863632364683, [-1.001, 382.73517, 6047.162, 85001.836]], ['fea_133', 0.3607377271807788, [-1956718.501, 66.32774558663368, 29512.3232421875, 555620.4375, 807427.3125, 1468788.9375, 2214551.125, 4649026.75, 7610990.0, 15823523.0, 8919909000.1]], ['fea_134', 0.03239010581915696, [-1.001, 100.79032, 104748.39, 1586209.6]], ['fea_135', 0.06253185322534482, [-1.001, 37684.016, 76812.79, 205955.33, 4695947.0]], ['fea_137', 0.3546943339800889, [-0.001, 8.48241925239563, 855.3016052246094, 2601.848388671875, 5387.738037109375, 10850.931640625, 15515.48828125, 30845.8994140625, 59665.853515625, 154648.4921875, 236334200.1]], ['fea_138', 0.20225826191269686, [-1.001, 19.731613, 177.8942, 208.44388, 305.01678, 506.68387, 1019.6955, 1394.6891, 2082.5806, 8298.168, 105024.5, 78654530.0]], ['fea_140', 0.09617412652109042, [-1.001, 1482.9436, 2961.1248, 4801.166, 9284.531, 17797.553, 28086.025, 979398.7]], ['fea_141', 0.014040595687542045, [-1.001, 48.387096, 103.22581, 258.0645, 25806.451]], ['fea_142', 0.0307863632364683, [-1.001, 530.2113, 5862.488, 125260.164]], ['fea_144', 0.37483948163027647, [-2935078.801, 0.0, 1400.4619, 35303.227, 41138.383, 178851.1, 792143.5, 5859906.0, 6005427.5, 25504786.0, 106918940.0, 13379865000.0]], ['fea_145', 0.03239010581915696, [-1.001, 4824.924, 71461.86, 2042473.5]], ['fea_146', 0.031001546839758625, [-1.001, 20226.094, 52936.336, 160000.03, 5783226.0]], ['fea_148', 0.40510245369101483, [-1.001, 9.67742, 513.85645, 6480.8105, 7769.3345, 8226.599, 8967.439, 10235.928, 13748.265, 16682.992, 17236.758, 262030160.0]], ['fea_149', 0.21849948918775872, [-1.001, 37.772903, 371.6129, 646.6839, 1470.2787, 2005.4865, 2765.0925, 3042.2012, 22680.998, 29032.258, 157203.6, 117981800.0]], ['fea_151', 0.06688590485807537, [-1.001, 774.7487, 2022.6094, 4324.8076, 7380.898, 13701.893, 30505.494, 1047719.3]], ['fea_152', 0.022075257233288414, [-1.001, 22.580645, 45.16129, 100.0, 185.80646, 38709.676]], ['fea_153', 0.03239010581915696, [-1.001, 464.23935, 4929.2905, 174606.47]], ['fea_155', 0.3013010951039133, [-244589.811, 8.29096819832921, 3689.0404052734375, 13218.30810546875, 30751.669921875, 86256.6484375, 126322.90234375, 183598.6171875, 581128.34375, 1977940.375, 1114988700.1]], ['fea_156', 0.0307863632364683, [-1.001, 4946.2583, 61449.246, 1311676.1]], ['fea_157', 0.0014434618287328853, [-1.001, 7548.387, 83793.81, 202298.7, 4659167.5]], ['fea_159', 0.43344880879015507, [-0.001, 174.31580352783203, 1361.6945190429688, 2436.281982421875, 3997.8184814453125, 6658.086181640625, 12549.46044921875, 21391.4306640625, 52828.728515625, 156838.765625, 440201060.1]], ['fea_160', 0.13936493323784255, [-1.001, 1.3451613, 21.93484, 30.593548, 55.338066, 116.212906, 176.17871, 327.4071, 456.17548, 520.12067, 1057.551, 9831816.0]], ['fea_162', 0.0640583519120324, [-1.001, 214.12709, 903.8742, 2554.5913, 4841.129, 9193.552, 19083.871, 36693.55, 949137.0]], ['fea_163', 0.0035078650251482235, [-1.001, 3.2258065, 64.51613, 135.48387, 374.19354, 3225.8064]], ['fea_164', 0.0307863632364683, [-1.001, 428.50128, 5712.7744, 90241.54]], ['fea_165', 0.4112423103465539, [-4738100.501, 15500.939, 40529.03, 502151.22, 5867610600.0]], ['fea_166', 0.020746988158872826, [-1.001, 3135.1562, 34033.93, 78920.61, 210200.94, 553984.4, 1201663.9, 49942668.0]], ['fea_167', 0.0307863632364683, [-1.001, 3225.8064, 94079.195, 2134334.5]], ['fea_168', 0.004311377303163327, [-1.001, 18500.154, 41080.773, 93631.09, 199774.19, 4206341.5]], ['fea_170', 0.385378507464509, [-0.001, 188.54209899902344, 826.5790100097656, 1777.7574462890625, 2963.37890625, 5256.672607421875, 9795.95361328125, 16688.2353515625, 43504.017578125, 117476.66015625, 161947820.1]], ['fea_171', 0.00034590659204812666, [-1.001, 813.8768, 14067.716]], ['fea_173', 0.010758618696136275, [-1.001, 1836.2903, 3450.5012, 6415.1304, 9815.277, 19961.4, 35289.21, 661150.0]], ['fea_174', 0.0268948589249669, [-1.001, 64.51613, 129.03226, 283.87097, 1290.3226]], ['fea_175', 0.06162699770773533, [-1.001, 959.12744, 6404.835, 127940.88]], ['fea_176', 0.44069715178090624, [-4992700.001, 0.0, 2757.0967, 22056.8, 26115.66, 36669.58, 38454.13, 107526.875, 494451.8, 529011.7, 618781.75, 4278309400.0]], ['fea_177', 0.1820828921031473, [-538067.9010000001, 2641.091064453125, 16555.013671875, 38834.369140625, 93455.30078125, 140977.9921875, 223259.75, 350836.359375, 821784.875, 2968079.5, 4482378000.1]], ['fea_178', 0.0307863632364683, [-1.001, 6812.9033, 111167.164, 2839250.5]], ['fea_179', 0.0026674547433680183, [-1.001, 16953.412, 44554.71, 101102.836, 165709.67, 6277419.0]], ['fea_181', 0.30174551333528876, [-0.001, 140.54623413085938, 840.5096740722656, 1682.4580688476562, 3828.9451904296875, 8440.1220703125, 16321.748046875, 26048.9814453125, 40317.9453125, 87479.08203125, 12986475.1]], ['fea_182', 0.00034590659204812666, [-1.001, 38.926453, 14067.716]], ['fea_184', 0.004024334172038352, [-1.001, 1956.6194, 6286.187, 12515.787, 97948.15]], ['fea_185', 0.0006829670910439619, [-1.001, 67.741936, 1290.3226]], ['fea_186', 0.06162699770773533, [-1.001, 359.2258, 3494.671, 98641.14]], ['fea_187', 0.42224640575142874, [-4191.969, 0.0, 24481.436, 658816.94, 684574.56, 715454.2, 732528.0, 892034.3, 914017.94, 1474841.1, 1710946.0, 4299483000.0]], ['fea_188', 0.19078602043369883, [-1486260.201, 75.53155899047852, 22607.9130859375, 102381.515625, 246382.1640625, 394277.359375, 588593.875, 924932.25, 2166523.75, 7325546.5, 11817179000.1]], ['fea_189', 0.06162699770773533, [-1.001, 4838.7095, 83795.93, 2891175.2]], ['fea_190', 0.06410751215611771, [-1.001, 5612.9033, 67003.0, 189335.58, 6080645.5]], ['fea_198', 0.4078811588848414, [-61819.742999999995, 26.826934814453125, 11009.94287109375, 29209.763671875, 58746.171875, 111880.203125, 290860.328125, 483628.125, 686832.9375, 1081841.0, 3939389200.1]], ['fea_199', 0.18889288256257616, [-922230.101, 1680.6943359375, 24712.779296875, 59471.556640625, 96523.0, 142074.390625, 223259.5, 364565.484375, 714430.03125, 1768235.375, 2852422700.1]], ['fea_200', 0.0307863632364683, [-1.001, 3387.0967, 67131.336, 2694507.0]], ['fea_201', 0.06253185322534482, [-1.001, 12351.816, 47438.66, 123518.07, 3863225.8]], ['fea_209', 0.48621785079153, [-54871.971, 0.0, 1013.2355, 54599.62, 669085.1, 699269.3, 749108.1, 767179.2, 900384.4, 2291364.0, 4570943.5, 4139480000.0]], ['fea_210', 0.032968533775949556, [-358200.97099999996, 0.0, 5879.4873, 37473.21, 113979.62, 194911.05, 606099.75, 2314546.2, 97137340.0]], ['fea_211', 0.029896468478868003, [-1.001, 66594.016, 3510515.5]], ['fea_212', 0.03168206257412004, [-1.001, 34408.645, 67688.18, 190239.9, 6781141.0]], ['fea_220', 0.46718612950084937, [-71356.951, 0.0, 890.13873, 14776.678, 15660.621, 58259.062, 60363.758, 151898.67, 177608.03, 387386.53, 415001.38, 4493897000.0]], ['fea_221', 0.19182883886630236, [-736388.9010000001, 2287.65283203125, 35818.548828125, 115589.859375, 183359.3046875, 258369.9140625, 435794.625, 670323.625, 1059683.5625, 1968619.25, 5213153000.1]], ['fea_222', 0.029896468478868003, [-1.001, 65128.066, 3824956.2]], ['fea_223', 0.033497668015467996, [-1.001, 16708.025, 41356.53, 90846.45, 164516.12, 4950681.0]], ['fea_231', 0.45019249890704616, [-0.001, 86.2188720703125, 10088.05322265625, 43919.81640625, 72185.92578125, 132834.046875, 225197.3359375, 308058.921875, 494800.96875, 1087810.9375, 4562732000.1]], ['fea_232', 0.22185406041427677, [-3436481.501, 23.606290817260742, 29395.2490234375, 167153.21875, 419247.890625, 685055.65625, 1209722.5625, 3706611.125, 6504971.0, 15362705.0, 24328047000.1]], ['fea_233', 0.029896468478868003, [-1.001, 54560.97, 1570789.2]], ['fea_234', 0.0020066412421374104, [-1.001, 8097.6, 18180.32, 50874.01, 136101.5, 7774235.0]], ['fea_242', 0.3936352368018338, [-0.001, 9.925161361694336, 17852.625, 49258.064453125, 82199.72265625, 155428.46875, 226559.921875, 365329.359375, 959523.3125, 1975380.6875, 4917832000.1]], ['fea_243', 0.2069154584617504, [-1472777.801, 15.594193935394287, 12597.9638671875, 71637.09765625, 234050.0390625, 366718.609375, 518452.515625, 1046268.09375, 1588547.625, 3966062.625, 10426306000.1]], ['fea_244', 0.0006829670910439619, [-1.001, 57389.484, 2519347.5]], ['fea_245', 0.037096526685381756, [-1.001, 13598.013, 37816.375, 69984.4, 140280.92, 7989992.5]], ['fea_253', 0.3778363200250864, [-0.001, 10698.90478515625, 37285.501953125, 78931.2421875, 169488.09375, 220665.59375, 296438.109375, 465011.265625, 714815.46875, 2006342.5625, 6443328500.1]], ['fea_254', 0.010357834088114174, [-1.001, 4747.836, 53898.8, 184268.14, 658081.7, 3225977.8, 134892880.0]], ['fea_255', 0.0006829670910439619, [-1.001, 47612.902, 2201613.0]], ['fea_256', 0.03225007925801962, [-1.001, 30533.936, 69984.4, 171349.52, 5013948.5]], ['fea_264', 0.37763700822717294, [-4155.573, 2068.4573974609375, 23663.12890625, 264768.515625, 459972.796875, 625189.03125, 912441.25, 1340090.1875, 2149310.5, 4409384.75, 9069922000.1]], ['fea_265', 0.2074355306059696, [-0.001, 0.7551612854003906, 3140.623291015625, 12907.55126953125, 26946.7783203125, 38930.142578125, 55551.724609375, 96219.97265625, 140856.8671875, 799164.625, 4183681800.1]], ['fea_266', 0.0006829670910439619, [-1.001, 29389.838, 2012642.2]], ['fea_267', 0.0332858051568087, [-1.001, 3362.0676, 38209.16, 281612.9, 5224333.0]], ['fea_275', 0.4194665433516652, [-0.001, 672.4445190429688, 21596.927734375, 124368.3828125, 169691.5234375, 247313.9453125, 345822.703125, 556743.875, 1539672.6875, 2756000.625, 6464616000.1]], ['fea_276', 0.26768581633186384, [-0.001, 17.368709087371826, 72234.33984375, 296873.671875, 621784.15625, 895393.25, 1758001.9375, 3239707.875, 6916212.75, 18380786.0, 96224680000.1]], ['fea_277', 0.029896468478868003, [-1.001, 48893.688, 2685999.8]], ['fea_278', 0.002450357006293393, [-1.001, 23335.922, 77327.555, 287691.88, 5254421.5]], ['fea_286', 0.4680460448952995, [-794564.101, 0.0, 14377.048, 93403.32, 94892.37, 173565.06, 2261985.5, 3033059.0, 3191120.8, 23632082.0, 29999610.0, 5408576500.0]], ['fea_287', 0.2607151251606836, [-0.001, 12.83774185180664, 53390.59765625, 219428.375, 459579.59375, 661812.40625, 1299392.75, 2394566.625, 6351815.0, 13585798.5, 71122590000.1]], ['fea_288', 0.029896468478868003, [-1.001, 45161.29, 2038212.4]], ['fea_289', 0.03260528942244728, [-1.001, 38387.098, 100016.68, 212641.81, 4941129.0]], ['fea_297', 0.4269855034975469, [-471.26356999999996, 40.32258224487305, 15293.62841796875, 131390.453125, 193588.1484375, 291505.0, 419162.671875, 583715.96875, 841966.21875, 1240915.3125, 5313199600.1]], ['fea_298', 0.01240169579653939, [-1.001, 34581.125, 626887.9, 13175659.0]], ['fea_299', 0.03239010581915696, [-1.001, 354.8387, 83870.97, 1783453.9]], ['fea_300', 0.002450357006293393, [-1.001, 12847.626, 55528.367, 208838.7, 4967436.0]], ['fea_308', 0.37312816975047525, [-72.50294000000001, 1767.612548828125, 42161.6484375, 84810.67578125, 197028.296875, 298747.453125, 433037.09375, 761141.0625, 1599529.9375, 4010349.75, 5474067000.1]], ['fea_309', 0.0069844011119489, [-1.001, 50288.48, 810062.1, 18204368.0]], ['fea_310', 0.03239010581915696, [-1.001, 157.23871, 49855.324, 5306594.0]], ['fea_311', 0.03291620402628635, [-1.001, 17677.42, 46198.438, 157645.16, 5150361.5]], ['fea_319', 0.40147480158034776, [-1977.3932, 1587.5911254882812, 30601.4775390625, 54399.26953125, 120888.140625, 260149.5546875, 365733.75, 494222.046875, 1029620.84375, 4795576.5, 5903843000.1]], ['fea_320', 0.0069844011119489, [-1.001, 24891.764, 646108.0, 43674612.0]], ['fea_321', 0.03239010581915696, [-1.001, 922.5806, 78425.805, 2807137.2]], ['fea_322', 0.03291620402628635, [-1.001, 28550.28, 57964.414, 200222.48, 5367547.5]], ['fea_330', 0.42927030609024175, [-443.18422999999996, 8182.481689453125, 65196.19921875, 107092.296875, 190262.5234375, 271785.6875, 480313.625, 797231.625, 1218939.5625, 2634508.75, 5970927600.1]], ['fea_332', 0.029896468478868003, [-1.001, 79176.58, 1470401.9]], ['fea_333', 0.0659631182029473, [-1.001, 8186.8647, 24872.078, 51145.742, 96151.82, 227452.73, 5061123.5]], ['fea_341', 0.34295567822720313, [-9600.001, 28527.9052734375, 86327.42578125, 211999.90625, 344407.875, 467800.21875, 681057.90625, 951297.09375, 1457176.3125, 5269869.25, 5427810000.1]], ['fea_343', 0.029896468478868003, [-1.001, 36000.0, 3851219.2]], ['fea_344', 0.0332858051568087, [-1.001, 62327.6, 112758.6, 331189.6, 3744827.8]], ['sum_inv', 0.022905136198594907, [-0.001, 31000.0, 506550.0, 1175000.0, 2995000.0, 5130000.0, 10550000.0, 10000000000000.1]], ['sum_sales', 0.49550602241940145, [-0.001, 606681.71875, 1567476.25, 7388122.25, 30009039.0, 38449186.0, 51467812.0, 72948244.0, 115553976.0, 298499536.0, 329803000000.1]], ['sum_ratal', 0.48227060924668136, [-0.001, 299.06500244140625, 10730.125, 55314.53515625, 72404.00390625, 113043.3671875, 145172.328125, 194688.796875, 510920.28125, 1366518.0, 15695629000.1]], ['inv_mean', 0.04544542145999869, [-1.001, 1000.0, 62500.0, 86630.766, 1000000.0, 1060000.0, 1400000.0, 1750000.0, 2885000.0, 9000000.0, 15000000.0, 10000000000000.0]], ['inv_n', 0.011519727412523181, [-0.001, 0.5, 1.5, 2.5, 3.5, 69.1]], ['item1_sum', 0.43065476507344513, [-0.001, 168.63097190856934, 754145.03125, 1809216.6875, 5546638.5, 8312298.5, 14072117.5, 40043604.0, 71305552.0, 163893176.0, 304297000000.1]], ['item2_sum', 0.03100154683975863, [-1.001, 81092.12917, 808387.087, 2282657.898, 51833122.07]], ['item3_sum', 0.05641235818296013, [-1.001, 33432.6388, 108591.071, 138296.114, 232702.968, 253432.65, 473903.229, 526006.142, 805186.2167, 1696994.774, 5016956.929, 139532480.9]], ['item4_sum', 0.0029303848392507647, [-1.001, 4437.807417, 26312113290.0]], ['item5_sum', 0.433981487670212, [-0.001, 542.8670959472656, 8120.714111328125, 21075.7587890625, 162473.6875, 218411.2109375, 290708.625, 500588.125, 815981.625, 2129124.25, 2424983448.1]], ['item6_sum', 0.1369476252202591, [-1.001, 47.3638706, 197.2893504, 263.801291, 707.580664, 790.1791939, 1220.82966, 1422.90323, 10885.25786, 12863.84132, 16206.16265, 270752724.0]], ['item7_sum', 0.0029303848392507647, [-1.001, 1653.43744, 18904497400.0]], ['item8_sum', 0.04991369582761722, [-1.001, 313.187094, 3456.57301, 4279.01936, 11532.8053, 14009.6773, 16664.5164, 51923.0765, 56267.62916, 123341.602, 218610.7055, 13744961.03]], ['item9_sum', 0.05122352895834968, [-1.001, 67.7419385, 129.032259, 151.612901, 267.741936, 303.2258, 419.354834, 741.93548, 1322.580664, 1651.61284, 2645.16133, 67741.9334]], ['item10_sum', 0.03100154683975863, [-1.001, 1891.548385, 22440.98081, 68027.2508, 1556679.628]], ['sum_ratal_32month', 0.464247964524892, [-0.001, 785529.15625, 3227634.375, 10699902.0, 14079236.5, 34639538.0, 45029014.0, 61785866.0, 96040608.0, 189954592.0, 472111000000.1]], ['sum_tax_ret', 0.4625278644802847, [-0.001, 969824.40625, 3186280.375, 9377246.0, 23489638.0, 29031245.0, 42310602.0, 61773250.0, 92494136.0, 189631440.0, 450511000000.1]], ['sum_tax_pay', 0.46794486533626434, [-0.001, 503.2290344238281, 5606.660888671875, 14208.14794921875, 90732.03125, 119846.8203125, 155177.890625, 197129.1640625, 288950.8125, 2318657.0, 21600328029.1]], ['ratal_rate', 0.17576429379332084, [-0.001, 0.00022709299810230732, 0.0007249744958244264, 0.001345422468148172, 0.004839596571400762, 0.00677427789196372, 0.012396777980029583, 0.01629587821662426, 0.04308794252574444, 0.06000242941081524, 1.1]], ['stage_0_ret_rate', 0.36880271317634145, [-0.04810273, 0.007846013642847538, 0.05287574976682663, 0.0995711237192154, 0.13290297240018845, 0.2252427041530609, 0.24505545943975449, 0.26514819264411926, 0.2970348745584488, 0.3430236876010895, 1.1]], ['stage_0_pay_rate', 0.4397238320214945, [-0.001, 0.02269588317722082, 0.08760230243206024, 0.10864771530032158, 0.1579851359128952, 0.1945817768573761, 0.22865132242441177, 0.2832800894975662, 0.3876403421163559, 0.7126405239105225, 1.1]], ['stage_1_ret_rate', 0.4916824219479541, [-4.892393286, 0.002920587, 0.020815167, 0.037656827, 0.05249183, 0.062616346, 0.102381907, 0.155276184, 0.202620621, 1.0]], ['stage_1_pay_rate', 0.33407133935418687, [-0.001, 0.003988262498751283, 0.06649483367800713, 0.1118786372244358, 0.188128262758255, 0.22303878515958786, 0.24677526950836182, 0.2735288441181183, 0.3541962504386902, 0.6085675060749054, 1.1]], ['stage_2_ret_rate', 0.4544056427011956, [-0.001, 0.00859148520976305, 0.0741644948720932, 0.09340475127100945, 0.1031091995537281, 0.11118529364466667, 0.11745044961571693, 0.12972979992628098, 0.14228422939777374, 0.2598545700311661, 1.1]], ['stage_2_pay_rate', 0.3179720780070803, [-0.001, 0.01899883709847927, 0.08189930021762848, 0.12981698662042618, 0.17466746270656586, 0.21531710773706436, 0.24280515313148499, 0.26867547631263733, 0.3780289888381958, 0.501697450876236, 1.1]], ['stage_3_ret_rate', 0.2945889020774356, [-0.392353239, 0.009175436105579138, 0.09488829597830772, 0.17264311760663986, 0.18298914283514023, 0.20004229992628098, 0.2122391015291214, 0.2288043349981308, 0.2557815760374069, 0.31993648409843445, 1.696377009]], ['stage_3_pay_rate', 0.3699523121740329, [-1.001, 0.000947422, 0.032913412, 0.179371463, 0.187242256, 0.188700205, 0.200129271, 0.215745832, 0.321485212, 0.48291038, 0.707433913, 1.0]], ['stage_4_ret_rate', 0.43517449081692894, [-0.00862685, 0.009521588683128357, 0.024641736410558224, 0.04795072227716446, 0.059004321694374084, 0.0686788521707058, 0.08571194484829903, 0.09455637633800507, 0.1048010103404522, 0.20140065997838974, 1.095664502]], ['stage_4_pay_rate', 0.33651353279763263, [-0.001, 0.008786394260823727, 0.017611817456781864, 0.02435997687280178, 0.033235978335142136, 0.041024113073945045, 0.06158660538494587, 0.07998490333557129, 0.10712286829948425, 0.1724255457520485, 0.6]], ['stage_5_ret_rate', 0.3575965158977981, [-0.250258516, 9.317150033893995e-05, 0.021607072092592716, 0.06232094019651413, 0.07420437783002853, 0.0884724035859108, 0.0991453155875206, 0.1694164201617241, 0.1972920522093773, 0.24426324665546417, 1.1]], ['stage_6_ret_rate', 0.392893986675351, [-0.001, 0.004585822578519583, 0.05968894809484482, 0.08888523653149605, 0.1016170121729374, 0.12750142812728882, 0.13931967318058014, 0.1523272767663002, 0.19730418175458908, 0.31009499728679657, 1.1]], ['stage_7_ret_rate', 0.3468231671113779, [-1.0012103829999999, 0.0, 0.000535718, 0.013422965, 0.01396751, 0.062176378, 0.091864601, 0.133739536, 0.135301856, 0.170046411, 0.285155556, 1.0]], ['month0_ret', 0.4445635861270884, [-436320.72099999996, 13663.6748046875, 108745.36328125, 259721.765625, 1102286.4375, 1667295.25, 2189553.375, 2935727.125, 14456402.0, 30590923.0, 40130226100.1]], ['month0_pay', 0.4726087398767409, [-0.001, 648.3349914550781, 1571.9299926757812, 3350.9949951171875, 5705.97509765625, 9331.47509765625, 13842.1103515625, 21578.1103515625, 39639.330078125, 112097.23046875, 2106036200.1]], ['month1_ret', 0.4498863727114576, [-90280.051, 0.08854838460683823, 17517.833984375, 113604.08984375, 313634.46875, 500901.8125, 652140.1875, 1022697.65625, 1278610.25, 11101050.5, 12109232500.1]], ['month1_pay', 0.4964316939769473, [-0.001, 176.29403686523438, 1156.4651489257812, 2648.7271728515625, 7836.88330078125, 13525.48046875, 19487.5244140625, 32544.357421875, 70002.234375, 143551.921875, 2062590000.1]], ['month2_ret', 0.45967889329721096, [-407760.801, 3584.23, 22860.215, 59108.71, 428494.44, 804845950.0]], ['month2_pay', 0.3654978283693219, [-0.001, 314.8327331542969, 986.9675903320312, 2217.295166015625, 4795.797119140625, 7090.063720703125, 10402.52001953125, 15347.55517578125, 23200.9619140625, 49787.294921875, 1551616900.1]], ['month3_pay', 0.4151309894466485, [-0.001, 113.14306259155273, 502.4287109375, 1056.5449829101562, 2604.9881591796875, 4193.855712890625, 6348.140380859375, 19788.5849609375, 45794.369140625, 103193.27734375, 892412600.1]], ['month4_pay', 0.48683364478910574, [-1.001, 7.281613, 1614.2897, 6740.158, 6973.7744, 26569.2856, 40184.31, 70599.4388, 73656.953, 99498.41, 125951.758, 1022693440.0]], ['month5_pay', 0.4901454139271403, [-0.001, 1.6619355082511902, 411.2556457519531, 1558.083984375, 2399.55712890625, 3774.0833740234375, 8093.178955078125, 19215.2490234375, 32016.8994140625, 114224.65234375, 1051756865.1]], ['month6_pay', 0.4168211587463164, [-0.001, 42.10548210144043, 1106.0700073242188, 1917.8856201171875, 3212.6414794921875, 6145.259033203125, 13205.3486328125, 26668.833984375, 41804.185546875, 122120.26171875, 1100091426.1]], ['month7_pay', 0.3949551725480582, [-0.001, 25.85161304473877, 159.8212890625, 702.01904296875, 1416.5515747070312, 2595.76611328125, 6220.6806640625, 10832.8193359375, 24715.271484375, 47807.517578125, 1234247574.1]], ['month8_ret', 0.45628305463957664, [-2546997.501, 3821.343, 32884.434, 83376.49, 1272049.1, 70533232606.0]], ['month8_pay', 0.44765650340788266, [-0.001, 811.3225708007812, 1817.5127563476562, 3624.192626953125, 5763.778564453125, 8297.28955078125, 14948.44970703125, 23022.2861328125, 41285.91015625, 167251.890625, 1251469324.1]], ['month9_ret', 0.4653366519278977, [-1951597.501, 4315.9296, 33987.585, 79413.39, 1178560.5, 63814622711.0]], ['month9_pay', 0.41958208944725467, [-1.001, 8.384516, 560.15063, 3222.507, 5061.8804, 8705.39, 8962.63, 11739.03505, 12015.604, 42795.31, 44133.527, 1373353254.0]], ['month10_pay', 0.4119879827126377, [-0.001, 4.954354763031006, 240.13129425048828, 788.9317932128906, 1575.0343627929688, 4574.050537109375, 9648.13671875, 16582.556640625, 31055.8447265625, 142500.2265625, 1561402940.1]], ['month11_pay', 0.39395207967685214, [-0.001, 24.050644874572754, 1406.1217651367188, 2375.1246337890625, 4346.198974609375, 9412.791015625, 18212.431640625, 26930.685546875, 42701.9453125, 144142.5390625, 1586730240.1]], ['month12_ret', 0.48181588051915225, [-1091360.061, 477.4203186035156, 24887.37109375, 223673.8046875, 596620.4375, 796929.65625, 994596.125, 3131791.75, 6840463.5, 12032574.0, 16256732400.1]], ['month12_pay', 0.3799728402664783, [-0.001, 281.61289978027344, 1188.7354736328125, 2603.6263427734375, 4000.5360107421875, 7618.15966796875, 20160.052734375, 33327.453125, 68585.28125, 154651.3125, 2044582930.1]], ['month13_ret', 0.4564980366804404, [-1873775.4009999998, 829.8812866210938, 38774.310546875, 134086.5859375, 364442.28125, 670957.90625, 1047836.28125, 1625793.875, 4677339.25, 16810547.0, 22784952200.1]], ['month13_pay', 0.4215490005073752, [-1.001, 18.190968, 1095.7781, 8876.306, 11908.349, 12241.851, 35426.056, 39057.184, 41212.984, 176139.2757, 190673.23, 2013259660.0]], ['month14_pay', 0.441960674219106, [-0.001, 4.352580547332764, 215.5917739868164, 690.8912658691406, 1512.6693725585938, 6787.81494140625, 12627.6650390625, 20512.0595703125, 62368.943359375, 167967.1171875, 586136856.1]], ['month15_ret', 0.4787956285583891, [-4421444.381, 5409.0195, 42023.965, 77792.81, 126370.8, 343600.78, 835706.4, 1118938.9, 1599777.9, 3582582.0, 7153530000.0]], ['month15_pay', 0.36532203398505886, [-0.001, 188.54209899902344, 861.9103088378906, 1777.7574462890625, 2964.3382568359375, 5255.669189453125, 10610.81005859375, 16643.833984375, 26004.689453125, 43888.880859375, 161947820.1]], ['month16_ret', 0.45008541171839406, [-3996706.1810000003, 0.0, 10690.896, 102814.537, 148865.86, 153037.0877, 311018.894, 327996.53, 541470.1, 560979.06, 3726211.0, 10323741600.0]], ['month16_pay', 0.3042903034458567, [-0.001, 140.54623413085938, 756.6774291992188, 1682.4580688476562, 3828.9451904296875, 7304.677490234375, 10900.3388671875, 26048.9814453125, 40349.689453125, 87479.08203125, 12986475.1]], ['month17_ret', 0.41199805049740745, [-60879.935999999994, 2638.5416259765625, 39089.234375, 88804.953125, 160058.9453125, 317269.078125, 464334.6875, 2180385.25, 3203223.5, 6823078.75, 17664923900.1]], ['month18_ret', 0.45229472228174017, [-77929.22600000001, 56.08129119873047, 55124.47265625, 162453.6875, 263393.328125, 385903.75, 554829.0, 878837.65625, 1425036.25, 4576689.25, 8194467800.1]], ['month19_ret', 0.46702225514252294, [-54870.971, 219.18870544433594, 22031.7685546875, 42883.38671875, 110396.66015625, 174834.9375, 237845.328125, 620831.375, 1140855.375, 2193862.375, 5634791200.1]], ['month20_ret', 0.3690939582517839, [-736388.9010000001, 349.6509704589844, 15070.59375, 42074.92578125, 71979.76953125, 125982.86328125, 179721.28125, 1950906.8125, 3191077.0, 6596957.25, 11373007000.1]], ['month21_ret', 0.30324037341248566, [-3436481.501, 7154.201171875, 417714.25, 644737.78125, 855080.75, 1791750.875, 3398863.75, 4829777.5, 7688028.25, 15007410.0, 30638853400.1]], ['month22_ret', 0.3022807286525013, [-1472778.801, 0.0, 73432.735, 244642.04, 581110.05, 594127.22, 721946.7, 788763.09, 6519305.1, 8484546.5, 9431932.3, 16604594300.0]], ['month23_ret', 0.3432317998846638, [-0.001, 10698.90478515625, 83395.78515625, 161436.1796875, 212682.0234375, 307597.484375, 492106.25, 714815.46875, 1020926.59375, 2003307.0625, 7348157700.1]], ['month24_ret', 0.3488689286270077, [-1.001, 0.6896774, 41.712902, 149.37677, 26075.258, 126466.03, 129120.16, 241326.9535, 381074.12, 389533.23, 2677004.7, 14078038940.0]], ['month25_ret', 0.2981367630090046, [-0.001, 928.6098327636719, 64041.06640625, 140808.390625, 235873.828125, 382241.953125, 558553.15625, 2635247.0, 3556643.625, 23519353.0, 103620000000.1]], ['month26_ret', 0.26432994021633605, [-792878.4852, 0.0, 104282.64, 111269.676, 696275.64, 766787.73, 2290226.8, 3206495.0, 3315508.5, 3607048.596, 3997801.78, 77469657440.0]], ['month27_ret', 0.42642452134577674, [-471.26356999999996, 14803.875, 64326.751953125, 112852.140625, 160057.71875, 291693.375, 412282.796875, 583715.96875, 841966.21875, 1260334.625, 6219899440.1]], ['month28_ret', 0.3634794289514326, [-72.50294000000001, 1767.612548828125, 28267.0791015625, 52247.986328125, 84810.67578125, 148385.1015625, 298747.453125, 947027.0, 1599529.9375, 4010349.75, 6406608300.1]], ['month29_ret', 0.3813941205835345, [-1977.3932, 1587.5911254882812, 30601.4775390625, 54399.26953125, 124899.359375, 365733.75, 660203.3125, 1029620.84375, 1756207.1875, 4795576.5, 7464017700.1]], ['month30_ret', 0.4330961015899887, [-443.18422999999996, 2949.9168701171875, 38198.267578125, 107092.296875, 190262.5234375, 271785.6875, 480313.625, 797231.625, 1218939.5625, 2634508.75, 7667768800.1]], ['month31_ret', 0.35019318260528737, [-9600.001, 3015.719970703125, 28527.9052734375, 86327.42578125, 211999.90625, 467800.21875, 680454.34375, 952359.21875, 1457176.3125, 5269869.25, 6358975800.1]], ['ret_non0_month', 0.4833167691892396, [-1.001, 29, 32]], ['pay_non0_month', 0.3945127418892589, [-1.001, 2, 5, 7, 8, 9, 11, 13, 14, 15, 17, 24]], ['max_tax_pay', 0.3675249462069681, [-0.001, 516.0451507568359, 3171.3819580078125, 7490.560546875, 10342.17431640625, 18271.763671875, 29302.859375, 41279.263671875, 53695.6640625, 197842.9921875, 2106036200.1]]]\n"
     ]
    },
    {
     "name": "stderr",
     "output_type": "stream",
     "text": [
      "C:\\Users\\litia\\AppData\\Local\\Temp/ipykernel_19404/1116350120.py:6: PerformanceWarning: DataFrame is highly fragmented.  This is usually the result of calling `frame.insert` many times, which has poor performance.  Consider joining all columns at once using pd.concat(axis=1) instead.  To get a de-fragmented frame, use `newframe = frame.copy()`\n",
      "  iv_ok_fea = get_good_fea_list(df, full_fea, False)\n"
     ]
    }
   ],
   "source": [
    "# 第一步，选出iv值在0.02-0.5之间的特征，并记录分类标准bins和label\n",
    "full_fea = list(df) \n",
    "unconsider_fea = ['label']  #'lgb_pred', 'rf_pred', \n",
    "for i in unconsider_fea:\n",
    "    full_fea.remove(i)\n",
    "iv_ok_fea = get_good_fea_list(df, full_fea, False)\n",
    "iv_ok_fea_name = [i[0] for i in iv_ok_fea]\n",
    "iv_ok_fea_dir = {i[0]: [i[1], i[2]] for i in iv_ok_fea}"
   ]
  },
  {
   "cell_type": "code",
   "execution_count": 19,
   "id": "06e582cf",
   "metadata": {},
   "outputs": [],
   "source": [
    "# yty ref包出的结果 ['fea_1', 'fea_12', 'fea_23', 'fea_25', 'fea_30', 'fea_38', 'fea_56', 'fea_133', 'fea_144', 'fea_177', 'fea_188', 'fea_212', 'fea_221', 'inv_mean', 'item3_sum', 'sum_tax_pay', 'stage_0_ret_rate', 'stage_3_ret_rate', 'month15_pay', 'max_tax_pay']\n",
    "# train:0.7818 , test:0.8194\n",
    "# yty 手筛['fea_1', 'fea_12', 'fea_23', 'fea_38', 'fea_56', 'fea_144', 'fea_149','fea_253', 'fea_330', 'sum_tax_pay', 'stage_0_ret_rate','stage_3_ret_rate', 'stage_7_ret_rate', 'month3_pay', 'month13_ret','month15_pay', 'month30_ret', 'month31_ret', 'max_tax_pay', 'label'],\n",
    "import json\n",
    "class NpEncoder(json.JSONEncoder):\n",
    "    def default(self, obj):\n",
    "        if isinstance(obj, np.integer):\n",
    "            return int(obj)\n",
    "        elif isinstance(obj, np.floating):\n",
    "            return float(obj)\n",
    "        elif isinstance(obj, np.ndarray):\n",
    "            return obj.tolist()\n",
    "        else:\n",
    "            return super(NpEncoder, self).default(obj)\n",
    "with open(\"fenxiang.json\", \"w\") as f:\n",
    "    a = json.dumps(iv_ok_fea_dir, ensure_ascii=False, indent=4,cls=NpEncoder)\n",
    "    f.write(a)\n"
   ]
  },
  {
   "cell_type": "code",
   "execution_count": 429,
   "id": "a35d2331",
   "metadata": {
    "scrolled": true
   },
   "outputs": [
    {
     "name": "stderr",
     "output_type": "stream",
     "text": [
      "C:\\Users\\litia\\anaconda3\\lib\\site-packages\\IPython\\core\\interactiveshell.py:3444: PerformanceWarning: DataFrame is highly fragmented.  This is usually the result of calling `frame.insert` many times, which has poor performance.  Consider joining all columns at once using pd.concat(axis=1) instead.  To get a de-fragmented frame, use `newframe = frame.copy()`\n",
      "  exec(code_obj, self.user_global_ns, self.user_ns)\n"
     ]
    }
   ],
   "source": [
    "# 第二部pre，把ok的特征转换为woe编码\n",
    "woe_fea = []\n",
    "woe_fea_test = []\n",
    "for i in iv_ok_fea_name:\n",
    "    iv, woe = woe_iv(df, i, fea_bins=iv_ok_fea_dir[i][1], fea_label=iv_ok_fea_dir[i][1][1:])\n",
    "    woe_fea.append(woe)\n",
    "    iv, woe = woe_iv(data_test, i, fea_bins=iv_ok_fea_dir[i][1], fea_label=iv_ok_fea_dir[i][1][1:])\n",
    "    woe_fea_test.append(woe)\n",
    "woe_fea.append(df['label'])\n",
    "woe_fea_test.append(data_test['label'])\n",
    "new_data = pd.concat(woe_fea, axis=1)\n",
    "new_data.columns = iv_ok_fea_name+['label']\n",
    "new_data_test = pd.concat(woe_fea_test, axis=1)\n",
    "new_data_test.columns = iv_ok_fea_name+['label']"
   ]
  },
  {
   "cell_type": "code",
   "execution_count": 430,
   "id": "f7d3848e",
   "metadata": {
    "scrolled": true
   },
   "outputs": [
    {
     "name": "stdout",
     "output_type": "stream",
     "text": [
      "         fea_1     fea_3     fea_5     fea_6     fea_8    fea_12    fea_14  \\\n",
      "2705 -1.666423 -2.390697 -1.981147 -2.285166 -2.384410 -1.796455 -2.388152   \n",
      "1128 -1.666423 -2.390697 -1.981147 -2.285166 -2.384410 -2.403125 -2.388152   \n",
      "3829 -2.559595 -2.390697 -1.981147 -2.285166 -2.384410 -2.559600 -2.388152   \n",
      "4883 -2.570782 -2.390697 -1.981147 -4.367730 -2.384410 -2.860660 -2.388152   \n",
      "1066 -1.666423 -2.390697 -1.981147 -2.285166 -2.384410 -1.796455 -2.388152   \n",
      "...        ...       ...       ...       ...       ...       ...       ...   \n",
      "2476 -2.723494 -2.484139 -3.627327 -2.393340 -2.478316 -2.889290 -2.478326   \n",
      "33   -3.627326 -2.484139 -2.227802 -2.393340 -2.478316 -9.408375 -2.478326   \n",
      "1075 -2.733502 -2.484139 -2.227802 -2.393340 -2.478316 -2.755752 -7.740694   \n",
      "3566 -2.385950 -2.484139 -2.740116 -2.393340 -2.478316 -2.385952 -2.478326   \n",
      "3677 -2.385950 -2.484139 -2.589539 -2.393340 -2.478316 -2.385952 -2.478326   \n",
      "\n",
      "        fea_16    fea_17    fea_19  ...  month26_ret  month27_ret  \\\n",
      "2705 -1.788831 -2.294570 -2.382994  ...    -2.337165    -1.662063   \n",
      "1128 -1.788831 -2.294570 -2.382994  ...    -2.203685    -2.255805   \n",
      "3829 -1.788831 -2.294570 -2.382994  ...    -1.864528    -1.662063   \n",
      "4883 -1.788831 -4.075820 -2.382994  ...    -2.203884    -2.755337   \n",
      "1066 -1.788831 -2.294570 -2.382994  ...    -2.392918    -1.662063   \n",
      "...        ...       ...       ...  ...          ...          ...   \n",
      "2476 -2.951302 -2.394208 -2.474582  ...    -2.437264    -2.215449   \n",
      "33   -4.714159 -2.394208 -2.474582  ...    -2.692878    -2.590022   \n",
      "1075 -2.012747 -2.394208 -7.635341  ...    -2.437264    -2.215449   \n",
      "3566 -2.529676 -2.394208 -2.474582  ...    -2.484178    -2.215449   \n",
      "3677 -2.049832 -2.394208 -2.474582  ...    -2.437264    -2.590022   \n",
      "\n",
      "      month28_ret  month29_ret  month30_ret  month31_ret  ret_non0_month  \\\n",
      "2705    -1.646648    -1.742503    -1.724904    -1.810880       -1.698833   \n",
      "1128    -2.484851    -2.780297    -2.369013    -2.377693       -3.143089   \n",
      "3829    -1.646648    -1.742503    -1.724904    -1.810880       -1.698833   \n",
      "4883    -3.583394    -2.989967    -2.655834    -3.993174       -3.143089   \n",
      "1066    -1.646648    -1.742503    -1.724904    -1.810880       -1.698833   \n",
      "...           ...          ...          ...          ...             ...   \n",
      "2476    -2.223122    -2.681534    -2.508124    -2.002313       -3.162872   \n",
      "33      -2.771718    -2.934900    -3.043896    -3.134407       -3.162872   \n",
      "1075    -2.223122    -2.681534    -2.596133    -2.002313       -3.162872   \n",
      "3566    -2.223122    -2.681534    -2.508124    -2.002313       -3.162872   \n",
      "3677    -2.771718    -3.051704    -3.388578    -2.761396       -3.162872   \n",
      "\n",
      "      pay_non0_month  max_tax_pay  label  \n",
      "2705       -2.890200    -2.135313      0  \n",
      "1128       -1.821530    -2.135313      0  \n",
      "3829       -1.687620    -1.582172      0  \n",
      "4883       -2.000979    -3.177801      0  \n",
      "1066       -2.000979    -2.823212      0  \n",
      "...              ...          ...    ...  \n",
      "2476       -2.867033    -2.564517      0  \n",
      "33         -2.484039    -4.416671      0  \n",
      "1075       -1.712108    -2.052872      0  \n",
      "3566       -2.270265    -2.343927      0  \n",
      "3677       -3.125970    -2.564517      0  \n",
      "\n",
      "[5000 rows x 199 columns]\n"
     ]
    }
   ],
   "source": [
    "# pre 把woe编码转化后的所有特征存起来\n",
    "out_fea = pd.concat([new_data, new_data_test], axis=0)\n",
    "if 'train_pred' in list(out_fea):\n",
    "    out_fea.pop('train_pred')\n",
    "out_fea.to_csv('../data_final/woe_encode_ok_fea0802.csv')\n",
    "print(out_fea)"
   ]
  },
  {
   "cell_type": "code",
   "execution_count": 400,
   "id": "56790711",
   "metadata": {
    "scrolled": true
   },
   "outputs": [
    {
     "name": "stdout",
     "output_type": "stream",
     "text": [
      "R2=0.5114283530176202,continue! fea_155\n",
      "R2=0.5217919526485058,continue! stage_1_pay_rate\n",
      "R2=0.5256796675785324,continue! fea_89\n",
      "R2=0.5278910784586739,continue! fea_30\n",
      "R2=0.5287838332213977,continue! fea_50\n",
      "R2=0.5314074947717877,continue! stage_2_pay_rate\n",
      "for selection over!\n",
      "['stage_3_ret_rate', 'fea_234', 'fea_341', 'fea_12', 'fea_179', 'fea_94', 'fea_56', 'fea_39', 'stage_0_ret_rate', 'fea_71', 'fea_177', 'fea_28', 'inv_mean', 'month7_pay', 'fea_190', 'fea_188', 'sum_tax_pay', 'fea_8', 'fea_330', 'month13_ret', 'item6_sum']\n",
      "R2=0.797652325633798,continue! inv_mean\n",
      "R2=0.7984775321395102,continue! fea_234\n",
      "R2=0.7995642079025209,continue! fea_8\n",
      "for selection over!\n",
      "['stage_3_ret_rate', 'fea_341', 'fea_12', 'fea_179', 'fea_94', 'fea_56', 'fea_39', 'stage_0_ret_rate', 'fea_71', 'fea_177', 'fea_28', 'month7_pay', 'fea_190', 'fea_188', 'sum_tax_pay', 'fea_330', 'month13_ret', 'item6_sum']\n",
      "前选 选出来了21个特征 18\n",
      "R2=0.007540719117066309,continue! fea_341\n",
      "R2=0.006455615152170533,continue! fea_71\n",
      "for selection over!\n",
      "['month7_pay', 'stage_3_ret_rate', 'fea_190', 'month13_ret', 'fea_179', 'fea_94', 'fea_56', 'fea_188', 'fea_330', 'fea_39', 'stage_0_ret_rate', 'fea_177', 'fea_28', 'sum_tax_pay', 'fea_12', 'item6_sum']\n",
      "后选出来了16个特征\n"
     ]
    }
   ],
   "source": [
    "# 第二步，通过前向选择选出较优的20个特征\n",
    "not_fea = ['fea_139', 'fea_29', 'fea_241', 'fea_195']\n",
    "# use_fea = ['fea_%d'%i for i in range(32*11)]\n",
    "# use_fea.extend(['sum_inv', 'sum_ret', 'sum_pay'])\n",
    "use_fea = ['stage_3_ret_rate', 'stage_1_pay_rate', 'fea_234', 'fea_341', 'fea_12', 'fea_30', 'fea_179', 'fea_94', 'fea_56', 'fea_39', 'stage_0_ret_rate', 'fea_71', 'fea_177', 'fea_28', 'inv_mean', 'month7_pay', 'fea_190', 'stage_2_pay_rate', 'fea_188', 'fea_50', 'sum_tax_pay', 'fea_8', 'fea_89', 'fea_330', 'fea_155', 'month13_ret', 'item6_sum']\n",
    "\n",
    "# use_fea = list(set(iv_ok_fea_name).intersection(set(use_fea)))\n",
    "# for i in use_fea:\n",
    "#     if i not in iv_ok_fea_name:\n",
    "#         use_fea.remove(i)\n",
    "# for i in not_fea:\n",
    "#     use_fea.remove(i)\n",
    "# for_sel_fea1 = ['item9_sum', 'month1_ret', 'stage_5_ret_rate', 'fea_144', 'fea_17', 'fea_179', 'fea_80', 'fea_56', 'fea_100', 'fea_71', 'stage_6_ret_rate', 'fea_190', 'item3_sum', 'fea_45', 'fea_253', 'fea_231', 'fea_184', 'sum_tax_pay', 'fea_137', 'month15_pay', 'month16_ret']\n",
    "# print(\"all fea\", use_fea, len(use_fea))\n",
    "for_sel_fea1 = back_selection_ks(new_data, use_fea, 'label')\n",
    "for_sel_fea2 = back_selection_auc(new_data, for_sel_fea1, 'label')\n",
    "print(\"前选 选出来了%d个特征\" % len(for_sel_fea1), len(for_sel_fea2))\n",
    "# for_sel_fea1.extend(for_sel_fea2)\n",
    "# for_sel_fea1 = ['fea_286', 'stage_3_ret_rate', 'month1_ret', 'fea_72', 'fea_138', 'fea_12', 'fea_199', 'max_tax_pay', 'fea_94', 'fea_39', 'stage_0_ret_rate', 'fea_177', 'sum_inv', 'stage_7_ret_rate', 'stage_6_ret_rate', 'fea_319', 'stage_2_pay_rate', 'fea_253', 'fea_188', 'fea_137', 'sum_tax_pay', 'fea_276', 'month13_ret']\n",
    "back_sel_fea = back_selection(new_data, for_sel_fea2, 'label')\n",
    "print(\"后选出来了%d个特征\" % len(back_sel_fea))\n"
   ]
  },
  {
   "cell_type": "markdown",
   "id": "85b1932a",
   "metadata": {},
   "source": [
    "第一次选择：['fea_176', 'fea_16', 'stage_2_ret_rate', 'fea_140', 'stage_1_ret_rate', 'fea_167', 'fea_14', 'fea_174', 'fea_175', 'month18_pay', 'fea_97', 'fea_47', 'fea_3', 'fea_80', 'fea_310', 'fea_186']\n",
    "选出来了16个特征\n",
    "第二次选择 ['month16_ret', 'month1_pay', 'month8_ret', 'fea_89', 'fea_23', 'month1_ret', 'fea_199', 'fea_146', 'fea_187', 'month2_pay', 'fea_100']\n",
    "选出来了11个特征\n",
    "使用woe编码和全部的数据 ['month16_ret', 'stage_3_pay_rate', 'stage_3_ret_rate', 'stage_5_ret_rate', 'fea_28', 'max_tax_pay', 'fea_78', 'fea_82', 'fea_23', 'stage_0_ret_rate', 'inv_mean', 'fea_90', 'item9_sum', 'fea_155', 'ratal_rate', 'fea_67', 'fea_69', 'fea_344', 'fea_190' # 前20个\n",
    ", 'month27_ret', 'fea_210', 'month8_pay', 'month23_ret', 'fea_56', 'fea_177', 'fea_221', 'fea_199', 'fea_188', 'fea_343', 'fea_86', 'month21_ret', 'fea_332', 'fea_153', 'sum_inv', 'fea_41', 'fea_300', 'fea_76', 'fea_311', 'month12_ret', 'fea_94', 'fea_30', 'month7_pay', 'fea_178', 'fea_160', 'fea_107', 'fea_162', 'fea_170', 'sum_ratal_32month', 'fea_89', 'fea_181', 'fea_333', 'fea_108', 'item5_sum', 'fea_45', 'month6_pay', 'fea_203', 'fea_267', 'fea_58', 'fea_164', 'fea_116', 'fea_142', 'fea_112', 'fea_101', 'fea_119', 'fea_146', 'fea_43']\n",
    "选出来了66个特征\n",
    "\n",
    "使用70%的数据，选出\n",
    "['stage_5_ret_rate', 'fea_287', 'stage_6_ret_rate', 'month6_pay', 'stage_0_ret_rate', 'fea_56', 'fea_149', 'item9_sum', 'month28_ret', 'stage_7_ret_rate', 'item3_sum', 'month22_ret', 'fea_82', 'stage_3_ret_rate', 'fea_83', 'month12_ret', 'month0_ret', 'max_tax_pay', 'fea_221', 'fea_198', 'fea_341', 'fea_188', 'fea_14', 'inv_mean', 'fea_19', 'fea_94', 'fea_232', 'fea_190', 'fea_118', 'fea_254', 'fea_138', 'fea_105', 'fea_25', 'fea_151', 'fea_63', 'fea_6', 'month16_ret', 'item8_sum', 'fea_333', 'fea_122', 'fea_253', 'month23_ret', 'fea_111', 'fea_297', 'fea_72', 'fea_322', 'month7_pay', 'fea_166', 'fea_140', 'fea_124', 'month20_ret', 'fea_181', 'fea_135', 'fea_162', 'fea_69', 'fea_137', 'fea_129', 'fea_58']\n",
    "选出来了58个特征\n",
    "\n",
    "两次相交，得22个特征：['fea_162', 'max_tax_pay', 'fea_56', 'stage_5_ret_rate', 'item9_sum', 'month7_pay', 'fea_58', 'fea_188', 'fea_190', 'stage_3_ret_rate', 'fea_94', 'fea_181', 'month23_ret', 'stage_0_ret_rate', 'month12_ret', 'fea_221', 'month16_ret', 'inv_mean', 'fea_69', 'fea_82', 'month6_pay', 'fea_333']\n",
    "\n",
    "使用70%的数据，在7月31日选出了\n",
    "['month17_ret', 'stage_2_ret_rate', 'max_tax_pay', 'stage_0_ret_rate', 'stage_1_pay_rate', 'stage_3_ret_rate', 'fea_23', 'month30_ret', 'inv_mean', 'stage_2_pay_rate', 'fea_155', 'month13_ret', 'fea_72', 'fea_56', 'fea_253', 'fea_39', 'month1_ret', 'fea_12', 'fea_330', 'month31_ret', 'fea_160', 'fea_177', 'sum_tax_pay', 'fea_38', 'fea_170', 'month21_ret', 'pay_non0_month', 'stage_7_ret_rate', 'fea_137', 'fea_45', 'stage_6_ret_rate', 'month2_pay', 'fea_187', 'fea_50', 'fea_265', 'fea_71', 'fea_1', 'month26_ret', 'fea_5', 'fea_199', 'month16_ret', 'fea_286', 'fea_159', 'fea_188', 'fea_28', 'fea_94', 'fea_27', 'month15_pay', 'month13_pay', 'month5_pay', 'stage_4_ret_rate', 'fea_60', 'fea_341', 'item5_sum', 'sum_inv', 'fea_264', 'month24_ret', 'item6_sum', 'fea_61', 'fea_17', 'month29_ret', 'month9_pay', 'fea_3', 'fea_14', 'fea_126', 'fea_16', 'fea_104', 'fea_75', 'month7_pay', 'month6_pay', 'month12_pay', 'fea_19', 'fea_115', 'month14_pay', 'stage_5_ret_rate', 'fea_148', 'fea_243', 'fea_89', 'fea_232', 'fea_221', 'fea_276', 'month25_ret', 'fea_144', 'fea_133', 'fea_25', 'fea_320', 'fea_287', 'fea_6', 'month3_pay']\n",
    "选出来了89个特征\n",
    "再从89个中选20个，达到test0.802 / train 0.841的roc, ks_auc_psi = (0.5444673775943125, 0.8411059511523908, 0.40852980730048377)\n",
    "['month17_ret', 'stage_2_ret_rate', 'max_tax_pay', 'stage_0_ret_rate', 'stage_1_pay_rate', 'stage_3_ret_rate', 'fea_23', 'month30_ret', 'inv_mean', 'stage_2_pay_rate', 'fea_155', 'month13_ret', 'fea_72', 'fea_56', 'fea_253', 'fea_39', 'month1_ret', 'fea_12', 'sum_tax_pay', 'fea_38']\n",
    "\n",
    "使用train数据集 ks+auc-psi选出来的特征为： (0.5584565990138746, 0.8145717234262125, 0.34342115492447944)\n",
    "['month17_ret', 'stage_3_pay_rate', 'stage_3_ret_rate', 'max_tax_pay', 'stage_0_ret_rate', 'stage_6_ret_rate', 'fea_144', 'month24_ret', 'fea_28', 'fea_17', 'fea_137', 'fea_5', 'fea_72', 'fea_67', 'pay_non0_month', 'month22_ret', 'stage_5_ret_rate', 'fea_175', 'fea_198', 'month23_ret', 'fea_105']\n",
    "选出来了21个特征\n",
    "\n",
    "ks+auc/psi 13个  (0.36100217864923745, 0.7434588923288614, 0.2065044191655907)\n",
    "['fea_170', 'item1_sum', 'fea_221', 'fea_94', 'fea_72', 'fea_166', 'fea_74', 'fea_91', 'fea_168', 'fea_41', 'fea_65', 'fea_30', 'fea_152']\n",
    "ks+auc-psi\\*3 c=1.5 (0.5584909987386768, 0.8184095860566448, 0.3905972511107553)\n",
    "['month17_ret', 'stage_3_pay_rate', 'stage_3_ret_rate', 'max_tax_pay', 'stage_0_ret_rate', 'stage_6_ret_rate', 'fea_144', 'inv_mean', 'stage_2_pay_rate', 'fea_160', 'fea_16', 'month28_ret', 'fea_72', 'fea_308', 'fea_19']\n",
    "\n",
    "ks+auc-psi\\*3 但是网络c=1.0 (0.554443297786951, 0.8096462561632841, 0.2904959180958802)\n",
    "['month17_ret', 'stage_3_pay_rate', 'stage_6_ret_rate', 'fea_144', 'stage_0_ret_rate', 'max_tax_pay', 'fea_16', 'stage_4_ret_rate', 'fea_160', 'fea_72', 'sum_inv', 'month12_pay', 'stage_5_ret_rate', 'item9_sum', 'month20_ret', 'fea_75']\n",
    "\n",
    "ks+auc-psi\\*3 但是网络c=1.0 max_iter = 1e5? (0.5572296754959294, 0.8128299506937278, 0.36778882602012275)\n",
    "['month17_ret', 'stage_3_pay_rate', 'stage_3_ret_rate', 'max_tax_pay', 'stage_0_ret_rate', 'stage_6_ret_rate', 'fea_155', 'month1_pay', 'fea_137', 'fea_94', 'pay_non0_month', 'fea_72', 'fea_160', 'sum_inv', 'fea_199', 'item9_sum', 'fea_41', 'fea_75']\n",
    "\n",
    "ks+auc-psi\\*3 但是网络c=1.0 max_iter = 3e5 25ge  (0.5688682490540076, 0.8242208462332301, 0.3502208787665926)\n",
    "['month17_ret', 'stage_0_ret_rate', 'stage_1_pay_rate', 'stage_3_ret_rate', 'fea_137', 'max_tax_pay', 'month2_pay', 'fea_308', 'sum_inv', 'fea_138', 'fea_17', 'month13_ret', 'fea_56', 'fea_253', 'month1_ret', 'item5_sum', 'fea_72', 'stage_5_ret_rate', 'fea_39', 'fea_1', 'fea_105', 'sum_tax_ret', 'pay_non0_month', 'fea_27', 'month5_pay']\n",
    "\n",
    "ks+auc-psi\\*4 但是网络c=1.0 max_iter = 3e5 (0.5169590643274853, 0.8132163742690058, 0.2942416066977703)\n",
    "['fea_330', 'stage_0_ret_rate', 'fea_137', 'fea_89', 'month6_pay', 'max_tax_pay', 'fea_39', 'fea_23', 'item5_sum', 'fea_50', 'fea_17', 'month26_ret', 'fea_138', 'fea_104', 'stage_3_ret_rate', 'fea_56', 'fea_71', 'fea_3', 'pay_non0_month', 'fea_187', 'month14_pay', 'month20_ret'] 删掉fea_330 选出的['month15_pay', 'fea_56', 'stage_6_ret_rate', 'month1_pay', 'fea_71', 'month21_ret', 'fea_23', 'fea_170', 'fea_50', 'fea_254', 'fea_181', 'sum_tax_ret', 'fea_320'] 合并 (0.5135878912968697, 0.8213243894048847, 0.22445088580423211)\n",
    "\n",
    "['fea_286', 'stage_3_ret_rate', 'max_tax_pay', 'stage_0_ret_rate', 'month15_pay', 'fea_5', 'fea_50', 'month29_ret', 'fea_160', 'fea_138', 'inv_mean', 'fea_319', 'fea_16', 'month25_ret', 'fea_105']\n",
    "前选 选出来了15个特征['fea_286', 'stage_3_ret_rate', 'month15_pay', 'fea_5', 'fea_319', 'fea_160', 'fea_105', 'max_tax_pay', 'month25_ret', 'month29_ret', 'fea_16', 'inv_mean', 'stage_0_ret_rate', 'fea_138']\n",
    "后选出来了14个特征"
   ]
  },
  {
   "cell_type": "code",
   "execution_count": 158,
   "id": "3c204a1c",
   "metadata": {},
   "outputs": [
    {
     "name": "stdout",
     "output_type": "stream",
     "text": [
      "['month18_ret', 'fea_160', 'ratal_rate', 'stage_1_pay_rate', 'fea_60', 'fea_6', 'fea_181', 'month16_ret', 'fea_72', 'fea_144', 'fea_159', 'fea_12', 'fea_5', 'fea_56', 'stage_0_ret_rate', 'fea_100', 'month13_pay', 'fea_71', 'fea_1', 'stage_3_pay_rate', 'stage_6_ret_rate', 'fea_23', 'item3_sum', 'month12_pay', 'fea_319', 'fea_45', 'fea_253', 'fea_50', 'fea_137', 'sum_tax_pay', 'month21_ret', 'month15_pay', 'month17_ret', 'fea_155', 'month23_ret', 'fea_264'] 36\n"
     ]
    }
   ],
   "source": [
    "a_fea = ['month18_ret', 'stage_6_ret_rate', 'month15_pay', 'stage_0_ret_rate', 'fea_137', 'fea_56', 'stage_1_pay_rate', 'fea_23', 'fea_253', 'fea_264', 'sum_tax_pay', 'fea_160', 'month21_ret', 'month23_ret', 'fea_181', 'fea_100', 'fea_6', 'item3_sum', 'ratal_rate']\n",
    "b_fea = ['month17_ret', 'fea_60', 'stage_0_ret_rate', 'stage_6_ret_rate', 'fea_71', 'fea_12', 'month13_pay', 'fea_5', 'month12_pay', 'fea_72', 'fea_50', 'month16_ret', 'fea_253', 'fea_160', 'fea_155', 'stage_3_pay_rate', 'fea_159', 'fea_1', 'fea_144', 'fea_45', 'fea_319']\n",
    "sel_fea = list(set(a_fea).union(set(b_fea)))\n",
    "print(sel_fea, len(sel_fea))"
   ]
  },
  {
   "cell_type": "code",
   "execution_count": 438,
   "id": "49f3ff48",
   "metadata": {},
   "outputs": [
    {
     "name": "stdout",
     "output_type": "stream",
     "text": [
      "20\n",
      "train:  0.80663068356506\n",
      "test:  0.7781604143776487\n"
     ]
    }
   ],
   "source": [
    "# 第三步，编码转换与逻辑回归预测\n",
    "sel_fea = ['fea_1', 'fea_12', 'fea_23', 'fea_38', 'fea_56', 'fea_144', 'fea_149', \\\n",
    "       'fea_253', 'fea_330', 'sum_tax_pay', 'stage_0_ret_rate', \\\n",
    "       'stage_3_ret_rate', 'stage_7_ret_rate', 'month3_pay', 'month13_ret', \\\n",
    "       'month15_pay', 'month30_ret', 'month31_ret', 'max_tax_pay', 'month0_pay' ]\n",
    "\n",
    "del_fea = ['stage_0_ret_rate','fea_330','month20_ret','month1_pay',]\n",
    "print(len(sel_fea))\n",
    "data_test = new_data_test.astype('float64')\n",
    "data_test = data_test.fillna(0)\n",
    "print('train: ', cal_auc(new_data, sel_fea, 'label')[0]) # train的auc\n",
    "print('test: ', cal_auc(new_data, sel_fea, 'label', test_data = data_test)[0])"
   ]
  },
  {
   "cell_type": "code",
   "execution_count": 439,
   "id": "2c1ba282",
   "metadata": {},
   "outputs": [
    {
     "data": {
      "image/png": "[encoded data removed]",
      "text/plain": [
       "<Figure size 640x480 with 4 Axes>"
      ]
     },
     "metadata": {
      "needs_background": "light"
     },
     "output_type": "display_data"
    },
    {
     "name": "stdout",
     "output_type": "stream",
     "text": [
      "   actual  predict  actual_rate  predict_rate       psi\n",
      "0    2387     1155     0.682029      0.770067  0.010688\n",
      "1     463      158     0.132314      0.105400  0.006121\n",
      "2     250       90     0.071457      0.060067  0.001978\n",
      "3     167       50     0.047743      0.033400  0.005124\n",
      "4      93       22     0.026600      0.014733  0.007011\n",
      "5      69       20     0.019743      0.013400  0.002458\n",
      "6      38        2     0.010886      0.001400  0.019455\n",
      "7      32        1     0.009171      0.000733  0.021317\n",
      "8       1        2     0.000314      0.001400  0.001622\n"
     ]
    },
    {
     "data": {
      "text/plain": [
       "(0.45480961773787487, 0.7887586120632006, 0.0757738897358962)"
      ]
     },
     "execution_count": 439,
     "metadata": {},
     "output_type": "execute_result"
    }
   ],
   "source": [
    "\n",
    "cal_ks_psi_auc(new_data, sel_fea, 'label', data_test, draw=True)"
   ]
  },
  {
   "cell_type": "code",
   "execution_count": 104,
   "id": "e4ce70b6",
   "metadata": {},
   "outputs": [
    {
     "data": {
      "text/plain": [
       "(0.5135878912968697, 0.8213243894048847, 0.22445088580423211)"
      ]
     },
     "execution_count": 104,
     "metadata": {},
     "output_type": "execute_result"
    }
   ],
   "source": [
    "(0.5135878912968697, 0.8213243894048847, 0.22445088580423211)\n",
    "(0.5006535947712418, 0.8125862859763789, 0.2171790211354662)\n",
    "(0.5021327829377366, 0.8122010090585942, 0.20516903487974628)\n",
    "(0.5063868822382754, 0.8107917669991974, 0.19293952127815575)"
   ]
  },
  {
   "cell_type": "markdown",
   "id": "464a98d7",
   "metadata": {},
   "source": [
    "2022-08-01下午log\n",
    "['fea_286', 'stage_3_ret_rate', 'month1_ret', 'fea_72', 'fea_138', 'fea_12', 'fea_199', 'max_tax_pay', 'fea_94', 'fea_39', 'stage_0_ret_rate', 'fea_177', 'sum_inv', 'stage_7_ret_rate', 'stage_6_ret_rate', 'fea_319', 'stage_2_pay_rate', 'fea_253', 'fea_188', 'fea_137', 'sum_tax_pay', 'fea_276', 'month13_ret'] 23个(0.5195098504096749, 0.8079887310475682, 0.2295955044038141)\n",
    "['month1_ret', 'max_tax_pay', 'fea_39', 'stage_0_ret_rate', 'stage_7_ret_rate', 'stage_6_ret_rate', 'fea_319', 'stage_2_pay_rate', 'sum_tax_pay', 'fea_137', 'fea_276', 'month13_ret'] 13个？(0.4638863063749582, 0.7888059239106247, 0.20146243704637998)\n",
    "['sum_inv', 'fea_199', 'fea_286', 'stage_3_ret_rate', 'fea_72', 'fea_12', 'fea_138', 'max_tax_pay', 'fea_39', 'stage_0_ret_rate', 'fea_177', 'stage_6_ret_rate', 'fea_319', 'stage_2_pay_rate', 'fea_253', 'fea_188', 'fea_137', 'sum_tax_pay', 'fea_276', 'month13_ret']\n",
    " (0.5014112664366519, 0.8035762124274788, 0.23763951077992085) 20个\n",
    "\n",
    "\n",
    "['month1_ret', 'max_tax_pay', 'fea_39', 'stage_0_ret_rate', 'stage_7_ret_rate', 'stage_6_ret_rate', 'fea_319', 'stage_2_pay_rate', 'sum_tax_pay', 'fea_137', 'fea_276', 'month13_ret', 'fea_72', 'fea_253', 'fea_188', 'fea_12', 'stage_3_ret_rate', 'sum_inv', 'fea_94'] 19个(0.505113161890884, 0.8028685725140194, 0.23647111998067277)\n",
    "\n",
    "\n",
    "\n",
    "['item9_sum', 'month1_ret', 'month18_ret', 'stage_5_ret_rate', 'fea_60', 'fea_181', 'fea_72', 'fea_144', 'fea_159', 'fea_17', 'fea_179', 'fea_80', 'fea_56', 'fea_100', 'fea_71', 'stage_6_ret_rate', 'fea_190', 'month12_pay', 'item3_sum', 'fea_45', 'fea_253', 'fea_231', 'fea_184', 'sum_tax_pay', 'month21_ret', 'fea_137', 'month15_pay', 'fea_105', 'fea_155', 'pay_non0_month', 'month16_ret'] (0.4660360294238388, 0.7910965610308474, 0.07775736058543012)\n",
    "['item9_sum', 'month1_ret', 'month18_ret', 'stage_5_ret_rate', 'fea_181', 'fea_144', 'fea_159', 'fea_17', 'fea_179', 'fea_80', 'fea_56', 'fea_100', 'fea_71', 'stage_6_ret_rate', 'fea_190', 'month12_pay', 'item3_sum', 'fea_45', 'fea_253', 'fea_231', 'fea_184', 'sum_tax_pay', 'fea_137', 'month15_pay', 'fea_105', 'fea_155', 'pay_non0_month', 'month16_ret'] (0.4665096403998624, 0.7870835613118842, 0.07720681317548989)\n",
    "['item9_sum', 'month1_ret', 'month18_ret', 'stage_5_ret_rate', 'fea_181', 'fea_144', 'fea_17', 'fea_179', 'fea_80', 'fea_56', 'fea_100', 'fea_71', 'stage_6_ret_rate', 'fea_190', 'month12_pay', 'item3_sum', 'fea_45', 'fea_253', 'fea_231', 'fea_184', 'sum_tax_pay', 'fea_137', 'month15_pay', 'month16_ret'] (0.4642438183335054, 0.7847639851536719, 0.07178157063590852)\n",
    "['item9_sum', 'month1_ret', 'stage_5_ret_rate', 'fea_144', 'fea_17', 'fea_179', 'fea_80', 'fea_56', 'fea_100', 'fea_71', 'stage_6_ret_rate', 'fea_190', 'item3_sum', 'fea_45', 'fea_253', 'fea_231', 'fea_184', 'sum_tax_pay', 'fea_137', 'month15_pay', 'month16_ret']  (0.4607367038991723, 0.7848499540539019, 0.07889308326348295)\n",
    "['item9_sum', 'month1_ret', 'stage_5_ret_rate', 'fea_144', 'fea_17', 'fea_179', 'fea_80', 'fea_56', 'fea_71', 'stage_6_ret_rate', 'fea_190', 'item3_sum', 'fea_45', 'fea_253', 'fea_231', 'fea_184', 'sum_tax_pay', 'fea_137', 'month15_pay', 'month16_ret']  (0.46000302818383854, 0.7845242576175362, 0.082043116178343) 20个！！！！！##############\n",
    "\n",
    "\n",
    "\n",
    "['item9_sum', 'month1_ret', 'stage_5_ret_rate', 'fea_72', 'fea_38', 'fea_17', 'fea_221', 'fea_5', 'max_tax_pay', 'fea_56', 'stage_0_ret_rate', 'fea_100', 'fea_69', 'stage_6_ret_rate', 'fea_190', 'month12_pay', 'fea_23', 'fea_231', 'fea_41', 'fea_184', 'fea_50', 'fea_19', 'fea_61', 'fea_276', 'fea_198', 'fea_105', 'fea_75', 'fea_122', 'fea_146', 'pay_non0_month']  (0.46026473997946443, 0.7911319708687233, 0.1283868877521325)\n",
    "['item9_sum', 'month1_ret', 'stage_5_ret_rate', 'fea_72', 'fea_38', 'fea_17', 'fea_221', 'fea_5', 'max_tax_pay', 'fea_56', 'stage_0_ret_rate', 'fea_100', 'fea_69', 'stage_6_ret_rate', 'fea_190', 'month12_pay', 'fea_23', 'fea_231', 'fea_184', 'fea_50', 'fea_19', 'fea_61', 'fea_276', 'fea_105', 'fea_75', 'fea_122', 'fea_146', 'pay_non0_month'] (0.46103691248907264, 0.791085342245103, 0.12885635657592437)\n",
    "['item9_sum', 'month1_ret', 'stage_5_ret_rate', 'fea_72', 'fea_38', 'fea_17', 'fea_221', 'fea_5', 'max_tax_pay', 'fea_56', 'stage_0_ret_rate', 'fea_100', 'stage_6_ret_rate', 'fea_190', 'month12_pay', 'fea_23', 'fea_231', 'fea_184', 'fea_50', 'fea_19', 'fea_61', 'fea_276', 'fea_105', 'fea_75', 'fea_122', 'fea_146', 'pay_non0_month'] (0.4611917112506825, 0.791074795272518, 0.12875081407558106)\n",
    "\n",
    "['month1_ret', 'stage_5_ret_rate', 'fea_72', 'fea_38', 'fea_17', 'fea_221', 'fea_5', 'max_tax_pay', 'fea_56', 'stage_0_ret_rate', 'stage_6_ret_rate', 'fea_190', 'month12_pay', 'fea_23', 'fea_231', 'fea_184', 'fea_50', 'fea_19', 'fea_276', 'fea_105', 'fea_75', 'fea_122', 'fea_146'] (0.46120327036583986, 0.7904591821805607, 0.12838928843436145)\n",
    "\n",
    "['month1_ret', 'stage_5_ret_rate', 'fea_72', 'fea_38', 'fea_17', 'fea_221', 'fea_5', 'max_tax_pay', 'fea_56', 'stage_0_ret_rate', 'stage_6_ret_rate', 'fea_190', 'month12_pay', 'fea_23', 'fea_231', 'fea_184', 'fea_50', 'fea_19', 'fea_276', 'fea_105', 'fea_122'] (0.4587996855973241, 0.7902479003699503, 0.1285127722219696)\n",
    "\n",
    "['stage_5_ret_rate', 'fea_72', 'fea_38', 'fea_17', 'fea_221', 'fea_5', 'max_tax_pay', 'fea_56', 'stage_0_ret_rate', 'stage_6_ret_rate', 'fea_190', 'month12_pay', 'fea_23', 'fea_231', 'fea_184', 'fea_50', 'fea_276', 'fea_105', 'fea_122'] (0.45155415578734914, 0.7904622094555769, 0.12579316725798)\n",
    "\n",
    "['stage_5_ret_rate', 'fea_72', 'fea_38', 'fea_17', 'fea_221', 'fea_5', 'max_tax_pay', 'fea_56', 'stage_0_ret_rate', 'stage_6_ret_rate', 'fea_190', 'month12_pay', 'fea_23', 'fea_231', 'fea_184', 'fea_50', 'fea_276', 'fea_105', 'fea_122', 'pay_non0_month']  (0.4529700001710367, 0.7907515058598615, 0.12814063882439797)\n",
    "\n",
    "\n",
    "\n",
    "['fea_198', 'fea_56', 'fea_38', 'fea_23', 'fea_5', 'fea_61', 'fea_148', 'fea_276', 'fea_50', 'fea_122', 'fea_221', 'fea_80', 'fea_75', 'fea_146', 'fea_187'] (0.4164956376885714, 0.7636145318816485, 0.1715044637000866)\n",
    "前选 选出来了15个特征\n",
    "R2=0.17012800105735776,continue! fea_50\n",
    "R2=0.1637024834815443,continue! fea_75\n",
    "R2=0.14857246715295208,continue! fea_5\n",
    "for selection over!\n",
    "['fea_221', 'fea_23', 'fea_198', 'fea_187', 'fea_122', 'fea_80', 'fea_56', 'fea_146', 'fea_276', 'fea_148', 'fea_61', 'fea_38']\n",
    "后选出来了12个特征 (0.3990811835980031, 0.7561583884681014, 0.14857246715295208)\n",
    "\n",
    "\n",
    "['month13_ret', 'month14_pay', 'stage_6_ret_rate', 'stage_0_ret_rate', 'month21_ret', 'stage_1_pay_rate', 'stage_2_ret_rate', 'month29_ret', 'stage_4_ret_rate', 'stage_7_ret_rate', 'item6_sum', 'month22_ret', 'month16_ret']\n",
    "前选 选出来了13个特征\n",
    "R2=0.21145229698894333,continue! month13_ret\n",
    "R2=0.19375672431599003,continue! stage_7_ret_rate\n",
    "R2=0.18307060539515738,continue! item6_sum\n",
    "for selection over!\n",
    "['stage_6_ret_rate', 'stage_1_pay_rate', 'stage_2_ret_rate', 'month29_ret', 'month22_ret', 'stage_0_ret_rate', 'month21_ret', 'stage_4_ret_rate', 'month16_ret', 'month14_pay']\n",
    "后选出来了10个特征\n",
    "\n",
    "\n",
    "['month17_ret', 'stage_3_pay_rate', 'stage_0_ret_rate', 'stage_6_ret_rate', 'item1_sum', 'month16_pay', 'stage_5_ret_rate', 'month22_ret', 'month20_ret']\n",
    "前选 选出来了9个特征\n",
    "R2=0.14068414676513336,continue! month22_ret\n",
    "R2=0.13064974102925228,continue! month17_ret\n",
    "for selection over!\n",
    "['stage_3_pay_rate', 'month16_pay', 'stage_6_ret_rate', 'month20_ret', 'stage_5_ret_rate', 'item1_sum', 'stage_0_ret_rate']\n",
    "后选出来了7个特征 (0.43516882549221636, 0.7731132229321224, 0.13064974102925228)\n",
    "\n",
    "\n",
    "['pay_non0_month', 'fea_56', 'stage_0_ret_rate', 'stage_6_ret_rate', 'max_tax_pay', 'fea_137', 'stage_5_ret_rate', 'fea_160', 'fea_72', 'fea_231', 'month1_ret', 'item9_sum', 'fea_179', 'fea_69', 'inv_mean', 'fea_190', 'fea_184', 'month12_pay', 'fea_80', 'fea_19', 'item3_sum', 'fea_100', 'fea_105', 'fea_41', 'fea_17'] (0.47184461463531024, 0.7843152052541138, 0.22063084524128368)\n",
    "前选 选出来了25个特征 \n",
    "R2=0.17557556999006568,continue! max_tax_pay (0.4735213214955609, 0.7811636146142666, 0.17557556999006568)\n",
    "R2=0.1745947451982613,continue! fea_19\n",
    "R2=0.15237121739842574,continue! stage_0_ret_rate\n",
    "R2=0.1430832422873635,continue! fea_69\n",
    "R2=0.13447088073370514,continue! fea_160\n",
    "R2=0.13026535210332812,continue! fea_41\n",
    "for selection over!\n",
    "['item9_sum', 'month1_ret', 'stage_5_ret_rate', 'fea_72', 'fea_17', 'fea_179', 'fea_80', 'fea_56', 'fea_100', 'inv_mean', 'stage_6_ret_rate', 'fea_190', 'month12_pay', 'item3_sum', 'fea_231', 'fea_184', 'fea_137', 'fea_105', 'pay_non0_month']\n",
    "后选出来了19个特征  (0.4516713666998634, 0.7722624694958763, 0.13026535210332812)\n",
    "\n",
    "\n",
    "['month1_pay', 'fea_56', 'month14_pay', 'stage_0_ret_rate', 'max_tax_pay', 'stage_3_ret_rate', 'month16_pay', 'inv_mean', 'fea_94', 'month7_pay', 'fea_160', 'fea_181', 'sum_tax_pay', 'fea_177', 'fea_72', 'stage_4_pay_rate', 'month0_pay']\n",
    "前选 选出来了17个特征\n",
    "R2=0.2969517477949592,continue! stage_3_ret_rate\n",
    "R2=0.2886729905927072,continue! fea_94\n",
    "R2=0.27417128060269996,continue! fea_160\n",
    "for selection over!\n",
    "['month16_pay', 'month7_pay', 'month1_pay', 'stage_4_pay_rate', 'max_tax_pay', 'month0_pay', 'fea_56', 'stage_0_ret_rate', 'sum_tax_pay', 'fea_181', 'fea_177', 'fea_72', 'inv_mean', 'month14_pay']\n",
    "后选出来了14个特征 (0.4578076369646379, 0.785430872093703, 0.27417128060269996)\n",
    "\n",
    "\n",
    "['month17_ret', 'stage_3_pay_rate', 'stage_3_ret_rate', 'max_tax_pay', 'fea_144', 'stage_2_pay_rate', 'stage_0_ret_rate', 'month2_pay', 'month1_ret', 'stage_1_pay_rate', 'fea_160', 'stage_4_ret_rate', 'month22_ret', 'fea_140', 'month25_ret', 'stage_5_ret_rate', 'month31_ret', 'month15_pay', 'fea_50', 'fea_311', 'fea_28', 'item9_sum', 'fea_155', 'month9_pay', 'month16_pay', 'fea_129', 'sum_inv', 'month1_pay']\n",
    "前选 选出来了28个特征 (0.4801712644859016, 0.7892507640744417, 0.3694990265932195)\n",
    "['month1_ret', 'month25_ret', 'fea_311', 'fea_144', 'month1_pay', 'month2_pay', 'stage_4_ret_rate', 'fea_155', 'fea_129']\n",
    "后选出来了9个特征 (0.4044463876294745, 0.747210769575912, 0.19967836926708898)\n",
    "\n",
    "['month16_pay', 'item9_sum', 'month1_ret', 'month2_pay', 'month25_ret', 'fea_311', 'fea_129', 'fea_155', 'stage_4_ret_rate', 'fea_144', 'month1_pay', 'month9_pay']\n",
    "后选出来了12个特征(0.4067788758998584, 0.7541480535547846, 0.15970636946074127)\n",
    "['sum_inv', 'month9_pay', 'fea_140', 'item9_sum', 'month16_pay', 'month1_ret', 'month25_ret', 'fea_311', 'fea_144', 'month1_pay', 'month2_pay', 'stage_4_ret_rate', 'fea_155', 'fea_129'] (0.41546012459557935, 0.7561621956831108, 0.17845194285033728)\n",
    "\n",
    "2022-08-01前后选择的Log --- 由于psi计算错误，所以全无效\n",
    "\n",
    "['fea_231', 'max_tax_pay', 'stage_3_pay_rate', 'stage_3_ret_rate', 'fea_144', 'stage_0_ret_rate', 'month13_ret', 'fea_177', 'month1_pay', 'pay_non0_month', 'fea_60', 'month13_pay', 'fea_140', 'fea_199', 'inv_mean', 'item9_sum', 'fea_17']\n",
    "前选 选出来了17个特征\n",
    "R2=0.26451594873570683,continue! stage_3_ret_rate\n",
    "R2=0.22142738164394085,continue! inv_mean\n",
    "R2=0.212474088484084,continue! fea_199\n",
    "R2=0.17985598979983014,continue! stage_3_pay_rate\n",
    "R2=0.161425567029292,continue! fea_231\n",
    "R2=0.14540869633636178,continue! stage_0_ret_rate\n",
    "R2=0.12278547248058752,continue! month13_ret\n",
    "R2=0.12129875253642398,continue! month13_pay\n",
    "R2=0.12051372226144144,continue! item9_sum\n",
    "R2=0.11415502905185937,continue! fea_60\n",
    "for selection over!\n",
    "['max_tax_pay', 'fea_140', 'fea_177', 'pay_non0_month', 'fea_144', 'month1_pay', 'fea_17']\n",
    "后选出来了7个特征\n",
    "\n",
    "['month18_ret', 'stage_6_ret_rate', 'month15_pay', 'stage_0_ret_rate', 'fea_137', 'fea_56', 'stage_1_pay_rate', 'fea_23', 'fea_253', 'fea_264', 'sum_tax_pay', 'fea_160', 'month21_ret', 'month23_ret', 'fea_181', 'fea_100', 'fea_6', 'item3_sum', 'ratal_rate']\n",
    "前选 选出来了19个特征\n",
    "R2=0.252364582589445,continue! fea_56\n",
    "R2=0.2510391646448202,continue! month23_ret\n",
    "for selection over!\n",
    "['month18_ret', 'fea_160', 'ratal_rate', 'stage_1_pay_rate', 'fea_6', 'fea_181', 'stage_0_ret_rate', 'fea_100', 'stage_6_ret_rate', 'fea_23', 'item3_sum', 'fea_253', 'fea_137', 'sum_tax_pay', 'month21_ret', 'month15_pay', 'fea_264']\n",
    "后选出来了17个特征\n",
    "\n",
    "['month17_ret', 'fea_60', 'stage_0_ret_rate', 'stage_6_ret_rate', 'fea_71', 'fea_12', 'month13_pay', 'fea_5', 'month12_pay', 'fea_72', 'fea_50', 'month16_ret', 'fea_253', 'fea_160', 'fea_155', 'stage_3_pay_rate', 'fea_159', 'fea_1', 'fea_144', 'fea_45', 'fea_319']\n",
    "前选 选出来了21个特征\n",
    "R2=0.20884971193567337,continue! fea_160\n",
    "R2=0.2070467540998261,continue! fea_50\n",
    "R2=0.17779886542935364,continue! stage_3_pay_rate\n",
    "R2=0.17055564470242746,continue! stage_0_ret_rate\n",
    "R2=0.15926437236989294,continue! fea_12\n",
    "R2=0.13873828591632076,continue! stage_6_ret_rate\n",
    "R2=0.1234144343963709,continue! fea_72\n",
    "R2=0.11752538173608362,continue! fea_144\n",
    "R2=0.10940438167701423,continue! fea_5\n",
    "R2=0.09959698953770252,continue! fea_159\n",
    "R2=0.0875606443427961,continue! month17_ret\n",
    "R2=0.08660816863432477,continue! month12_pay\n",
    "R2=0.08188828696191966,continue! fea_155\n",
    "R2=0.07707172236078805,continue! month13_pay\n",
    "R2=0.0752699921228404,continue! fea_319\n",
    "for selection over!\n",
    "['fea_60', 'fea_71', 'fea_1', 'fea_45', 'fea_253', 'month16_ret']\n",
    "后选出来了6个特征\n",
    "\n",
    "将上面2次合并，重新后选\n",
    "R2=0.10890901980904649,continue! month12_pay\n",
    "for selection over!\n",
    "['month18_ret', 'fea_60', 'fea_6', 'fea_181', 'fea_144', 'fea_159', 'fea_100', 'fea_71', 'fea_1', 'stage_3_pay_rate', 'fea_319', 'fea_45', 'fea_253', 'sum_tax_pay', 'month21_ret', 'month15_pay', 'month17_ret', 'fea_155', 'month16_ret']\n",
    "后选出来了19个特征  (0.411216297873889, 0.7673174551372168, 0.10890901980904649)"
   ]
  },
  {
   "cell_type": "code",
   "execution_count": null,
   "id": "e8a22eb9",
   "metadata": {},
   "outputs": [],
   "source": []
  }
 ],
 "metadata": {
  "kernelspec": {
   "display_name": "Python 3 (ipykernel)",
   "language": "python",
   "name": "python3"
  },
  "language_info": {
   "codemirror_mode": {
    "name": "ipython",
    "version": 3
   },
   "file_extension": ".py",
   "mimetype": "text/x-python",
   "name": "python",
   "nbconvert_exporter": "python",
   "pygments_lexer": "ipython3",
   "version": "3.9.7"
  }
 },
 "nbformat": 4,
 "nbformat_minor": 5
}
