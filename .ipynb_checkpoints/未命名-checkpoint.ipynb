{
 "cells": [
  {
   "cell_type": "code",
   "execution_count": 2,
   "id": "c267b0be",
   "metadata": {},
   "outputs": [
    {
     "ename": "NameError",
     "evalue": "name 'dst_csv' is not defined",
     "output_type": "error",
     "traceback": [
      "\u001b[1;31m---------------------------------------------------------------------------\u001b[0m",
      "\u001b[1;31mNameError\u001b[0m                                 Traceback (most recent call last)",
      "\u001b[1;32m~\\AppData\\Local\\Temp/ipykernel_26064/2525811482.py\u001b[0m in \u001b[0;36m<module>\u001b[1;34m\u001b[0m\n\u001b[0;32m     19\u001b[0m \u001b[0museful_file_name\u001b[0m \u001b[1;33m=\u001b[0m \u001b[1;34m\"123\"\u001b[0m\u001b[1;33m\u001b[0m\u001b[1;33m\u001b[0m\u001b[0m\n\u001b[0;32m     20\u001b[0m \u001b[0mall_data\u001b[0m \u001b[1;33m=\u001b[0m \u001b[1;33m[\u001b[0m\u001b[1;33m]\u001b[0m\u001b[1;33m\u001b[0m\u001b[1;33m\u001b[0m\u001b[0m\n\u001b[1;32m---> 21\u001b[1;33m \u001b[0mfout\u001b[0m \u001b[1;33m=\u001b[0m \u001b[0mopen\u001b[0m\u001b[1;33m(\u001b[0m\u001b[0mdst_csv\u001b[0m\u001b[1;33m,\u001b[0m \u001b[1;34m'w'\u001b[0m\u001b[1;33m)\u001b[0m\u001b[1;33m\u001b[0m\u001b[1;33m\u001b[0m\u001b[0m\n\u001b[0m\u001b[0;32m     22\u001b[0m \u001b[1;32mfor\u001b[0m \u001b[0mf\u001b[0m \u001b[1;32min\u001b[0m \u001b[0mos\u001b[0m\u001b[1;33m.\u001b[0m\u001b[0mlistdir\u001b[0m\u001b[1;33m(\u001b[0m\u001b[0minput_dir\u001b[0m\u001b[1;33m)\u001b[0m\u001b[1;33m:\u001b[0m\u001b[1;33m\u001b[0m\u001b[1;33m\u001b[0m\u001b[0m\n\u001b[0;32m     23\u001b[0m     \u001b[1;32mif\u001b[0m \u001b[0museful_file_name\u001b[0m \u001b[1;32min\u001b[0m \u001b[0mf\u001b[0m\u001b[1;33m:\u001b[0m\u001b[1;33m\u001b[0m\u001b[1;33m\u001b[0m\u001b[0m\n",
      "\u001b[1;31mNameError\u001b[0m: name 'dst_csv' is not defined"
     ]
    }
   ],
   "source": [
    "import os\n",
    "import pandas as pd\n",
    "\n",
    "info_list = ['numAccess', 'numLLCHit', 'numLLCShadowHit', 'numLLCMiss', 'numDramAccess', 'numDramHit', 'numDramMiss']\n",
    "def get_info(f):\n",
    "    name = f\n",
    "    out_info = {}\n",
    "    with open(f, 'r') as fin:\n",
    "        for line in fin.readlines():\n",
    "            for info in info_list:\n",
    "                if info in line:\n",
    "                    line = line.strip('\\n').split('#')[0].split(':')\n",
    "                    print(\"debug:\", line)\n",
    "                    assert line[0] == info, '输出这样的格式才能被识别：info: value [# ...]'\n",
    "                    out_info[info] = line[1].strip()\n",
    "    return out_info\n",
    "                \n",
    "input_dir = \"./\"\n",
    "useful_file_name = \"123\"\n",
    "all_data = []\n",
    "for f in os.listdir(input_dir):\n",
    "    if useful_file_name in f:\n",
    "        item = get_info(f)\n",
    "        item['file_name'] = f\n",
    "        all_data.append(item)\n",
    "print(\"扫描结束\")\n",
    "df = pd.DataFrame(all_data)\n",
    "df.to_csv('ltt.csv')"
   ]
  },
  {
   "cell_type": "code",
   "execution_count": null,
   "id": "8fb8e87b",
   "metadata": {},
   "outputs": [],
   "source": []
  }
 ],
 "metadata": {
  "kernelspec": {
   "display_name": "Python 3 (ipykernel)",
   "language": "python",
   "name": "python3"
  },
  "language_info": {
   "codemirror_mode": {
    "name": "ipython",
    "version": 3
   },
   "file_extension": ".py",
   "mimetype": "text/x-python",
   "name": "python",
   "nbconvert_exporter": "python",
   "pygments_lexer": "ipython3",
   "version": "3.9.7"
  }
 },
 "nbformat": 4,
 "nbformat_minor": 5
}
